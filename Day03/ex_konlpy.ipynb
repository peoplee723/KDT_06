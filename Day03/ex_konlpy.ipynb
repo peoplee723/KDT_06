{
 "cells": [
  {
   "cell_type": "markdown",
   "metadata": {},
   "source": [
    "##### 한국어 형태소 분석\n",
    "- konlpy 패키지 활용\n",
    "    - 내부에 5가지 형태소 분석 패키지 포함\n",
    "    - 5가지 형태소 분석기 사용법 동일(쉬움)"
   ]
  },
  {
   "cell_type": "markdown",
   "metadata": {},
   "source": [
    "[1] 모듈 로딩<hr>"
   ]
  },
  {
   "cell_type": "code",
   "execution_count": 1,
   "metadata": {},
   "outputs": [],
   "source": [
    "from konlpy.tag import *"
   ]
  },
  {
   "cell_type": "markdown",
   "metadata": {},
   "source": [
    "[2] 다양한 형태소 분석기 활용<hr>"
   ]
  },
  {
   "cell_type": "code",
   "execution_count": 4,
   "metadata": {},
   "outputs": [],
   "source": [
    "##한나눔 형태소 분석기\n",
    "han=Hannanum()\n",
    "\n",
    "text= '이런 짓은 하지말아야 했는데, 난 그 사실을 몰랐어'"
   ]
  },
  {
   "cell_type": "code",
   "execution_count": 5,
   "metadata": {},
   "outputs": [
    {
     "name": "stdout",
     "output_type": "stream",
     "text": [
      "['이런', '짓', '은', '하', '지', '말', '아', '하', '었는데', ',', '나', 'ㄴ', '그', '사실', '을', '모르', '아아']\n"
     ]
    }
   ],
   "source": [
    "# 형태소 분리\n",
    "result= han.morphs(text)\n",
    "\n",
    "print(result)"
   ]
  },
  {
   "cell_type": "code",
   "execution_count": 6,
   "metadata": {},
   "outputs": [
    {
     "name": "stdout",
     "output_type": "stream",
     "text": [
      "['짓', '사실']\n"
     ]
    }
   ],
   "source": [
    "# 명사 추출\n",
    "result= han.nouns(text)\n",
    "\n",
    "print(result)"
   ]
  },
  {
   "cell_type": "code",
   "execution_count": 7,
   "metadata": {},
   "outputs": [
    {
     "data": {
      "text/plain": [
       "[('이런', 'M'),\n",
       " ('짓', 'N'),\n",
       " ('은', 'J'),\n",
       " ('하', 'P'),\n",
       " ('지', 'E'),\n",
       " ('말', 'P'),\n",
       " ('아', 'E'),\n",
       " ('하', 'P'),\n",
       " ('었는데', 'E'),\n",
       " (',', 'S'),\n",
       " ('나', 'P'),\n",
       " ('ㄴ', 'E'),\n",
       " ('그', 'M'),\n",
       " ('사실', 'N'),\n",
       " ('을', 'J'),\n",
       " ('모르', 'P'),\n",
       " ('아아', 'E')]"
      ]
     },
     "execution_count": 7,
     "metadata": {},
     "output_type": "execute_result"
    }
   ],
   "source": [
    "# 품사태깅 추출 분리\n",
    "result=han.pos(text)\n",
    "\n",
    "result"
   ]
  },
  {
   "cell_type": "code",
   "execution_count": 8,
   "metadata": {},
   "outputs": [],
   "source": [
    "#  꼬꼬마 형태소 분석기\n",
    "kkma=Kkma()"
   ]
  },
  {
   "cell_type": "code",
   "execution_count": 9,
   "metadata": {},
   "outputs": [
    {
     "data": {
      "text/plain": [
       "['이런',\n",
       " '짓',\n",
       " '은',\n",
       " '하',\n",
       " '지',\n",
       " '말',\n",
       " '아야',\n",
       " '하',\n",
       " '었',\n",
       " '는데',\n",
       " ',',\n",
       " '나',\n",
       " '는',\n",
       " '그',\n",
       " '사실',\n",
       " '을',\n",
       " '모르',\n",
       " '았',\n",
       " '어']"
      ]
     },
     "execution_count": 9,
     "metadata": {},
     "output_type": "execute_result"
    }
   ],
   "source": [
    "kkma.morphs(text)"
   ]
  },
  {
   "cell_type": "code",
   "execution_count": 10,
   "metadata": {},
   "outputs": [
    {
     "data": {
      "text/plain": [
       "['짓', '나', '사실']"
      ]
     },
     "execution_count": 10,
     "metadata": {},
     "output_type": "execute_result"
    }
   ],
   "source": [
    "kkma.nouns(text)"
   ]
  },
  {
   "cell_type": "code",
   "execution_count": 11,
   "metadata": {},
   "outputs": [
    {
     "data": {
      "text/plain": [
       "[('이런', 'MDT'),\n",
       " ('짓', 'NNG'),\n",
       " ('은', 'JX'),\n",
       " ('하', 'VV'),\n",
       " ('지', 'ECD'),\n",
       " ('말', 'VXV'),\n",
       " ('아야', 'ECD'),\n",
       " ('하', 'VV'),\n",
       " ('었', 'EPT'),\n",
       " ('는데', 'ECD'),\n",
       " (',', 'SP'),\n",
       " ('나', 'NP'),\n",
       " ('는', 'JX'),\n",
       " ('그', 'MDT'),\n",
       " ('사실', 'NNG'),\n",
       " ('을', 'JKO'),\n",
       " ('모르', 'VV'),\n",
       " ('았', 'EPT'),\n",
       " ('어', 'EFN')]"
      ]
     },
     "execution_count": 11,
     "metadata": {},
     "output_type": "execute_result"
    }
   ],
   "source": [
    "kkma.pos(text)"
   ]
  },
  {
   "cell_type": "code",
   "execution_count": 12,
   "metadata": {},
   "outputs": [],
   "source": [
    "# 코모란 형태소 분석기\n",
    "komoran=Komoran()"
   ]
  },
  {
   "cell_type": "code",
   "execution_count": 13,
   "metadata": {},
   "outputs": [
    {
     "data": {
      "text/plain": [
       "['이런',\n",
       " '짓',\n",
       " '은',\n",
       " '하',\n",
       " '지',\n",
       " '말',\n",
       " '아야',\n",
       " '하',\n",
       " '았',\n",
       " '는데',\n",
       " ',',\n",
       " '나',\n",
       " 'ㄴ',\n",
       " '그',\n",
       " '사실',\n",
       " '을',\n",
       " '모르',\n",
       " '았',\n",
       " '어']"
      ]
     },
     "execution_count": 13,
     "metadata": {},
     "output_type": "execute_result"
    }
   ],
   "source": [
    "komoran.morphs(text)"
   ]
  },
  {
   "cell_type": "code",
   "execution_count": 14,
   "metadata": {},
   "outputs": [
    {
     "data": {
      "text/plain": [
       "['사실']"
      ]
     },
     "execution_count": 14,
     "metadata": {},
     "output_type": "execute_result"
    }
   ],
   "source": [
    "komoran.nouns(text)"
   ]
  },
  {
   "cell_type": "code",
   "execution_count": 15,
   "metadata": {},
   "outputs": [
    {
     "data": {
      "text/plain": [
       "[('이런', 'MM'),\n",
       " ('짓', 'VV'),\n",
       " ('은', 'ETM'),\n",
       " ('하', 'VV'),\n",
       " ('지', 'EC'),\n",
       " ('말', 'VX'),\n",
       " ('아야', 'EC'),\n",
       " ('하', 'VV'),\n",
       " ('았', 'EP'),\n",
       " ('는데', 'EC'),\n",
       " (',', 'SP'),\n",
       " ('나', 'VV'),\n",
       " ('ㄴ', 'ETM'),\n",
       " ('그', 'MM'),\n",
       " ('사실', 'NNG'),\n",
       " ('을', 'JKO'),\n",
       " ('모르', 'VV'),\n",
       " ('았', 'EP'),\n",
       " ('어', 'EC')]"
      ]
     },
     "execution_count": 15,
     "metadata": {},
     "output_type": "execute_result"
    }
   ],
   "source": [
    "komoran.pos(text)"
   ]
  },
  {
   "cell_type": "code",
   "execution_count": 16,
   "metadata": {},
   "outputs": [],
   "source": [
    "# okt 형태소 분석기\n",
    "okt=Okt()"
   ]
  },
  {
   "cell_type": "code",
   "execution_count": 17,
   "metadata": {},
   "outputs": [
    {
     "data": {
      "text/plain": [
       "['이런', '짓은', '하지말아야', '했는데', ',', '난', '그', '사실', '을', '몰랐어']"
      ]
     },
     "execution_count": 17,
     "metadata": {},
     "output_type": "execute_result"
    }
   ],
   "source": [
    "okt.morphs(text)"
   ]
  },
  {
   "cell_type": "code",
   "execution_count": 18,
   "metadata": {},
   "outputs": [
    {
     "data": {
      "text/plain": [
       "['난', '그', '사실']"
      ]
     },
     "execution_count": 18,
     "metadata": {},
     "output_type": "execute_result"
    }
   ],
   "source": [
    "okt.nouns(text)"
   ]
  },
  {
   "cell_type": "code",
   "execution_count": 19,
   "metadata": {},
   "outputs": [
    {
     "data": {
      "text/plain": [
       "[('이런', 'Adjective'),\n",
       " ('짓은', 'Verb'),\n",
       " ('하지말아야', 'Verb'),\n",
       " ('했는데', 'Verb'),\n",
       " (',', 'Punctuation'),\n",
       " ('난', 'Noun'),\n",
       " ('그', 'Noun'),\n",
       " ('사실', 'Noun'),\n",
       " ('을', 'Josa'),\n",
       " ('몰랐어', 'Verb')]"
      ]
     },
     "execution_count": 19,
     "metadata": {},
     "output_type": "execute_result"
    }
   ],
   "source": [
    "okt.pos(text)"
   ]
  },
  {
   "cell_type": "code",
   "execution_count": null,
   "metadata": {},
   "outputs": [],
   "source": [
    "\n",
    "# ++ Mecab== 리눅스만 사용가능"
   ]
  }
 ],
 "metadata": {
  "kernelspec": {
   "display_name": "NLP",
   "language": "python",
   "name": "python3"
  },
  "language_info": {
   "codemirror_mode": {
    "name": "ipython",
    "version": 3
   },
   "file_extension": ".py",
   "mimetype": "text/x-python",
   "name": "python",
   "nbconvert_exporter": "python",
   "pygments_lexer": "ipython3",
   "version": "3.8.19"
  }
 },
 "nbformat": 4,
 "nbformat_minor": 2
}
