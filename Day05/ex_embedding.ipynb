{
 "cells": [
  {
   "cell_type": "code",
   "execution_count": null,
   "metadata": {},
   "outputs": [],
   "source": []
  },
  {
   "cell_type": "code",
   "execution_count": 9,
   "metadata": {},
   "outputs": [],
   "source": [
    "## 단어 사전 생성\n",
    "train_data= 'you need to know how to code'\n",
    "\n",
    "# 중복 제거 단어 집합 생성\n",
    "word_set= set(train_data.split())\n",
    "\n",
    "#단어 집합의 각 단어에 고유한 정수 맵핑.\n",
    "vocab= {word: i+2 for i, word in enumerate(word_set)}\n",
    "vocab['<UNK>']=1\n",
    "vocab['<PAD>']=0"
   ]
  },
  {
   "cell_type": "code",
   "execution_count": null,
   "metadata": {},
   "outputs": [],
   "source": []
  },
  {
   "cell_type": "code",
   "execution_count": 13,
   "metadata": {},
   "outputs": [],
   "source": [
    "import torch\n",
    "import torch.nn as nn"
   ]
  },
  {
   "cell_type": "code",
   "execution_count": 11,
   "metadata": {},
   "outputs": [],
   "source": [
    "#임의의 임베딩의 룩업테이블\n",
    "embedding_table=torch.FloatTensor([\n",
    "    [0.0,0.0,0.0],\n",
    "    [0.0,0.0,0.0],\n",
    "    [0.2,0.9,0.3],\n",
    "    [0.1,0.5,0.7],\n",
    "    [0.2,0.1,0.8],\n",
    "    [0.4,0.1,0.1],\n",
    "    [0.1,0.8,0.9],\n",
    "    [0.6,0.1,0.1]\n",
    "])"
   ]
  },
  {
   "cell_type": "code",
   "execution_count": 12,
   "metadata": {},
   "outputs": [
    {
     "name": "stdout",
     "output_type": "stream",
     "text": [
      "tensor([[0.6000, 0.1000, 0.1000],\n",
      "        [0.1000, 0.5000, 0.7000],\n",
      "        [0.2000, 0.1000, 0.8000],\n",
      "        [0.0000, 0.0000, 0.0000]])\n"
     ]
    }
   ],
   "source": [
    "#토큰 정수 ==> 임베딩 벡터 변환\n",
    "sample= 'you need to run'.split()\n",
    "idxes=[]\n",
    "\n",
    "#각 단어를 정수로 변환\n",
    "for word in sample:\n",
    "    try:\n",
    "        idxes.append(vocab[word])\n",
    "    except KeyError:\n",
    "        idxes.append(vocab['<UNK>'])\n",
    "\n",
    "#텐서화 진행\n",
    "idxes= torch.LongTensor(idxes)\n",
    "\n",
    "#각 정수를 인덱스로 임베딩 테이블에서 값 가져오기\n",
    "lookup_result= embedding_table[idxes, :]\n",
    "print(lookup_result)"
   ]
  },
  {
   "cell_type": "code",
   "execution_count": 14,
   "metadata": {},
   "outputs": [],
   "source": [
    "# embedding 층\n",
    "embedding_layer= nn.Embedding(num_embeddings=len(vocab),\n",
    "                              embedding_dim=3,\n",
    "                              padding_idx=0)"
   ]
  },
  {
   "cell_type": "code",
   "execution_count": null,
   "metadata": {},
   "outputs": [],
   "source": []
  }
 ],
 "metadata": {
  "kernelspec": {
   "display_name": "NLP",
   "language": "python",
   "name": "python3"
  },
  "language_info": {
   "codemirror_mode": {
    "name": "ipython",
    "version": 3
   },
   "file_extension": ".py",
   "mimetype": "text/x-python",
   "name": "python",
   "nbconvert_exporter": "python",
   "pygments_lexer": "ipython3",
   "version": "3.8.19"
  }
 },
 "nbformat": 4,
 "nbformat_minor": 2
}
