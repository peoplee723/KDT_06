{
 "cells": [
  {
   "cell_type": "markdown",
   "metadata": {},
   "source": [
    "#### 문장 분류 모델 생성 및 학습 <hr>"
   ]
  },
  {
   "cell_type": "code",
   "execution_count": 27,
   "metadata": {},
   "outputs": [],
   "source": [
    "import torch.nn as nn\n",
    "from typing import Literal"
   ]
  },
  {
   "cell_type": "markdown",
   "metadata": {},
   "source": [
    "[1] 커스텀 모델 생성<hr>"
   ]
  },
  {
   "cell_type": "code",
   "execution_count": 28,
   "metadata": {},
   "outputs": [],
   "source": [
    "# 모델 흐름\n",
    "# 1. 입력받은 값을 통해 임베딩 값 얻음\n",
    "# 2. 임베딩 값을 통해 출력값 얻음\n",
    "# 3. 출력값의 마지막 시점만을 활용하여 분류\n",
    "\n",
    "class textCLF(nn.Module):\n",
    "    def __init__(self, n_vocab, hidden_dim, embedding_dim, n_layers,\n",
    "                 model_type: Literal['lstm', 'rnn'], dropout=0.5, bidirectional=True):\n",
    "        super().__init__()\n",
    "\n",
    "        # 임베딩 층\n",
    "        # num-> 단어사전의 크기\n",
    "        self.embedding= nn.Embedding(\n",
    "            num_embeddings=n_vocab,\n",
    "            embedding_dim=embedding_dim,\n",
    "            padding_idx=0\n",
    "        )\n",
    "        if model_type =='rnn':\n",
    "            self.model=nn.RNN(\n",
    "                input_size=embedding_dim,\n",
    "                hidden_size=hidden_dim,\n",
    "                num_layers=n_layers,\n",
    "                bidirectional=bidirectional,\n",
    "                dropout=dropout,\n",
    "                batch_first=True\n",
    "            )\n",
    "        elif model_type =='lstm':\n",
    "            self.model= nn.LSTM(\n",
    "                input_size=embedding_dim,\n",
    "                hidden_size=hidden_dim,\n",
    "                num_layers=n_layers,\n",
    "                bidirectional=bidirectional,\n",
    "                dropout=dropout,\n",
    "                batch_first=True\n",
    "            )\n",
    "        # 양방향 여부\n",
    "        if bidirectional:\n",
    "            self.classifier= nn.Linear(hidden_dim*2, 1)\n",
    "        else:\n",
    "            self.classifier= nn.Linear(hidden_dim, 1)\n",
    "        self.dropout=nn.Dropout(dropout)\n",
    "\n",
    "        #포워딩\n",
    "        def forward(self, input):\n",
    "            embeddings= self.embedding(input)\n",
    "            output,_= self.model(embeddings)\n",
    "            last_output=output[:,-1,:]\n",
    "            last_output=self.dropout(last_output)\n",
    "            logits=self.classifier(last_output)\n",
    "            return logits"
   ]
  },
  {
   "cell_type": "markdown",
   "metadata": {},
   "source": [
    "[2] 데이터 불러오기<hr>"
   ]
  },
  {
   "cell_type": "code",
   "execution_count": 29,
   "metadata": {},
   "outputs": [],
   "source": [
    "import pandas as pd\n",
    "from Korpora import Korpora\n",
    "from torch.utils.data import Dataset, DataLoader"
   ]
  },
  {
   "cell_type": "code",
   "execution_count": 30,
   "metadata": {},
   "outputs": [
    {
     "name": "stdout",
     "output_type": "stream",
     "text": [
      "\n",
      "    Korpora 는 다른 분들이 연구 목적으로 공유해주신 말뭉치들을\n",
      "    손쉽게 다운로드, 사용할 수 있는 기능만을 제공합니다.\n",
      "\n",
      "    말뭉치들을 공유해 주신 분들에게 감사드리며, 각 말뭉치 별 설명과 라이센스를 공유 드립니다.\n",
      "    해당 말뭉치에 대해 자세히 알고 싶으신 분은 아래의 description 을 참고,\n",
      "    해당 말뭉치를 연구/상용의 목적으로 이용하실 때에는 아래의 라이센스를 참고해 주시기 바랍니다.\n",
      "\n",
      "    # Description\n",
      "    Author : e9t@github\n",
      "    Repository : https://github.com/e9t/nsmc\n",
      "    References : www.lucypark.kr/docs/2015-pyconkr/#39\n",
      "\n",
      "    Naver sentiment movie corpus v1.0\n",
      "    This is a movie review dataset in the Korean language.\n",
      "    Reviews were scraped from Naver Movies.\n",
      "\n",
      "    The dataset construction is based on the method noted in\n",
      "    [Large movie review dataset][^1] from Maas et al., 2011.\n",
      "\n",
      "    [^1]: http://ai.stanford.edu/~amaas/data/sentiment/\n",
      "\n",
      "    # License\n",
      "    CC0 1.0 Universal (CC0 1.0) Public Domain Dedication\n",
      "    Details in https://creativecommons.org/publicdomain/zero/1.0/\n",
      "\n",
      "[Korpora] Corpus `nsmc` is already installed at C:\\Users\\KDP-25\\Korpora\\nsmc\\ratings_train.txt\n",
      "[Korpora] Corpus `nsmc` is already installed at C:\\Users\\KDP-25\\Korpora\\nsmc\\ratings_test.txt\n"
     ]
    },
    {
     "data": {
      "text/plain": [
       "(45000, 5000)"
      ]
     },
     "execution_count": 30,
     "metadata": {},
     "output_type": "execute_result"
    }
   ],
   "source": [
    "# 데이터 불러오기\n",
    "corpus= Korpora.load('nsmc')\n",
    "corpusDF=pd.DataFrame(corpus.test)\n",
    "\n",
    "# 학습/ 테스트로 분할\n",
    "train=corpusDF.sample(frac=0.9, random_state=42)\n",
    "test=corpusDF.drop(train.index)\n",
    "\n",
    "len(train), len(test)\n"
   ]
  },
  {
   "cell_type": "code",
   "execution_count": 38,
   "metadata": {},
   "outputs": [],
   "source": [
    "# 토큰화 및 단어사전 구축\n",
    "from collections import Counter\n",
    "import re\n",
    "from konlpy.tag import Okt\n",
    "\n",
    "def build_vocab(corpus, n_vocab, special_tokens):\n",
    "    counter=Counter()\n",
    "    for tokens in corpus:\n",
    "        counter.update(tokens)\n",
    "    vocab= special_tokens\n",
    "    for token, count in counter.most_common(n_vocab):\n",
    "        vocab.append(token)\n",
    "    return vocab\n",
    "tokenizer=Okt()\n",
    "# 토큰화\n",
    "train_tokens=[tokenizer.morphs(review) for review in train.text]\n",
    "test_tokens=[tokenizer.morphs(review for review in test.text)]\n",
    "\n",
    "vocab= build_vocab(corpus=train_tokens, n_vocab=5000, special_tokens=['<PAD>', '<UNK>'])\n",
    "token_to_id= {token:idx for idx, token in enumerate(vocab)}\n",
    "id_to_token= {idx: token for idx, token in enumerate(vocab)}\n"
   ]
  },
  {
   "cell_type": "code",
   "execution_count": null,
   "metadata": {},
   "outputs": [],
   "source": [
    "# 정수 인코딩 및 패딩\n",
    "import numpt as np\n",
    "\n",
    "def padding(sequences, max_length, pad_value):\n",
    "    result=[]\n",
    "    for s in sequences:\n",
    "        s=s[:max_length]\n",
    "        pad_length=max_length-len(s)\n",
    "        padded_s=s+[pad_value]*pad_length\n",
    "        result.append(padded_s)\n",
    "    return np.asarray(result)\n",
    "\n",
    "unk_id= token_to_id['<UNK>']\n",
    "train_ids=[\n",
    "    [token_to_id.get(token, unk_id) for token in review] for review in train_tokens\n",
    "]\n",
    "test_ids= [\n",
    "    [token_to_id.get(token, unk_id) for token in review] for review in test_tokens\n",
    "]\n",
    "\n",
    "max_length=32\n",
    "pad_id=token_to_id['<PAD>']\n",
    "train_ids= padding(train_ids, max_length, pad_id)\n",
    "test_ids=padding(test_ids, max_length, pad_id)\n"
   ]
  },
  {
   "cell_type": "code",
   "execution_count": null,
   "metadata": {},
   "outputs": [],
   "source": [
    "import torch\n",
    "from torch.uitls.data import TensorDataset, DataLoader\n",
    "\n",
    "train_ids=torch.tensor(train_ids)\n",
    "test_ids=torch.tensor(test_ids)\n",
    "\n",
    "train_labels=torch.tensor(train_label.values, dtype=torch.float32)\n",
    "test_labels= torch.tensor(test_label.values, dtype= torch.fl)"
   ]
  }
 ],
 "metadata": {
  "kernelspec": {
   "display_name": "NLP",
   "language": "python",
   "name": "python3"
  },
  "language_info": {
   "codemirror_mode": {
    "name": "ipython",
    "version": 3
   },
   "file_extension": ".py",
   "mimetype": "text/x-python",
   "name": "python",
   "nbconvert_exporter": "python",
   "pygments_lexer": "ipython3",
   "version": "3.8.19"
  }
 },
 "nbformat": 4,
 "nbformat_minor": 2
}
