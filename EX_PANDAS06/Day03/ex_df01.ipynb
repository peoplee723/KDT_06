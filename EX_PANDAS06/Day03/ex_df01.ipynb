{
 "cells": [
  {
   "cell_type": "markdown",
   "metadata": {},
   "source": [
    "### 데이터 활용 방법 - 전치\n",
    "- 행과 열을 서로 바꾸는 것\n",
    "- 방법\n",
    "    - (1) 메서드: 변수명.transpose()\n",
    "    - (2) 속성: 변수명.T"
   ]
  },
  {
   "cell_type": "code",
   "execution_count": 1,
   "metadata": {},
   "outputs": [],
   "source": [
    "import pandas as pd"
   ]
  },
  {
   "cell_type": "code",
   "execution_count": 2,
   "metadata": {},
   "outputs": [],
   "source": [
    "file_name= 'data.csv'"
   ]
  },
  {
   "cell_type": "code",
   "execution_count": 4,
   "metadata": {},
   "outputs": [],
   "source": [
    "csv_DF= pd.read_csv(file_name)"
   ]
  },
  {
   "cell_type": "code",
   "execution_count": 9,
   "metadata": {},
   "outputs": [
    {
     "name": "stdout",
     "output_type": "stream",
     "text": [
      "변경전\n",
      "RangeIndex(start=0, stop=5, step=1)\n",
      "Index(['no ', 'name', 'age', 'gender'], dtype='object')\n",
      "  no   name age gender\n",
      "0   1  Hong  15      남\n",
      "1   2  Park  20      여\n",
      "2   3   Lee  56      남\n",
      "3   4   Kim  40      남\n",
      "4   5   Han  30      여\n",
      "변경후\n",
      "Index(['no ', 'name', 'age', 'gender'], dtype='object')\n",
      "RangeIndex(start=0, stop=5, step=1)\n",
      "           0     1    2    3    4\n",
      "no         1     2    3    4    5\n",
      "name    Hong  Park  Lee  Kim  Han\n",
      "age       15    20   56   40   30\n",
      "gender     남     여    남    남    여\n"
     ]
    }
   ],
   "source": [
    "# 형태 변경: 행과 열 변경\n",
    "print('변경전', csv_DF.index, csv_DF.columns, sep='\\n')\n",
    "print(csv_DF)\n",
    "\n",
    "# 속성 사용\n",
    "csv_DF= csv_DF.T  #->변경 후 저장 필수!\n",
    "print('변경후', csv_DF.index, csv_DF.columns, sep='\\n')\n",
    "print(csv_DF)"
   ]
  },
  {
   "cell_type": "code",
   "execution_count": null,
   "metadata": {},
   "outputs": [],
   "source": [
    "# 메서드 transpose() 사용\n",
    "csv_DF=csv_DF.transpose()\n",
    "print('변경후', csv_DF.index, csv_DF.columns, sep='\\n')\n",
    "print(csv_DF)"
   ]
  },
  {
   "cell_type": "code",
   "execution_count": null,
   "metadata": {},
   "outputs": [],
   "source": []
  }
 ],
 "metadata": {
  "kernelspec": {
   "display_name": "PY_39",
   "language": "python",
   "name": "python3"
  },
  "language_info": {
   "codemirror_mode": {
    "name": "ipython",
    "version": 3
   },
   "file_extension": ".py",
   "mimetype": "text/x-python",
   "name": "python",
   "nbconvert_exporter": "python",
   "pygments_lexer": "ipython3",
   "version": "3.9.19"
  }
 },
 "nbformat": 4,
 "nbformat_minor": 2
}
