{
 "cells": [
  {
   "cell_type": "markdown",
   "metadata": {},
   "source": [
    "### 시리즈 연산  - 3\n",
    "- 원소값이 비어 있는 경우\n",
    "- 인덱스가 서로 다른 Series의 경우"
   ]
  },
  {
   "cell_type": "code",
   "execution_count": 3,
   "metadata": {},
   "outputs": [],
   "source": [
    "#[1] 모듈 로딩\n",
    "import pandas as pd\n",
    "import math \n",
    "import numpy as np"
   ]
  },
  {
   "cell_type": "code",
   "execution_count": 4,
   "metadata": {},
   "outputs": [
    {
     "data": {
      "text/plain": [
       "(nan, nan)"
      ]
     },
     "execution_count": 4,
     "metadata": {},
     "output_type": "execute_result"
    }
   ],
   "source": [
    "#빈칸, 즉 비어있다는 의미를 나타내는 문자 ->pandas에는 없음\n",
    "# math모듈과 numpy패키지를 사용\n",
    "math.nan, np.NaN     #->np많이씀"
   ]
  },
  {
   "cell_type": "code",
   "execution_count": 5,
   "metadata": {},
   "outputs": [],
   "source": [
    "#[2] 데이터 준비\n",
    "bibibig=[13,600,np.NaN,1500]\n",
    "merona=[32,700,1200,1500]\n"
   ]
  },
  {
   "cell_type": "code",
   "execution_count": 6,
   "metadata": {},
   "outputs": [
    {
     "name": "stdout",
     "output_type": "stream",
     "text": [
      "0      13.0\n",
      "1     600.0\n",
      "2       NaN\n",
      "3    1500.0\n",
      "dtype: float64\n",
      "0      32\n",
      "1     700\n",
      "2    1200\n",
      "3    1500\n",
      "dtype: int16\n"
     ]
    }
   ],
   "source": [
    "# [3] Series 형태로 저장\n",
    "sr1= pd.Series(bibibig)\n",
    "sr2= pd.Series(merona, dtype='int16')\n",
    "print(sr1)\n",
    "print(sr2)"
   ]
  },
  {
   "cell_type": "code",
   "execution_count": 7,
   "metadata": {},
   "outputs": [
    {
     "data": {
      "text/plain": [
       "0      18.0\n",
       "1     605.0\n",
       "2       NaN\n",
       "3    1505.0\n",
       "dtype: float64"
      ]
     },
     "execution_count": 7,
     "metadata": {},
     "output_type": "execute_result"
    }
   ],
   "source": [
    "#[4-1] 연산 수행: Series+숫자   ->계산 안함\n",
    "sr1+5"
   ]
  },
  {
   "cell_type": "code",
   "execution_count": 8,
   "metadata": {},
   "outputs": [
    {
     "data": {
      "text/plain": [
       "0     True\n",
       "1     True\n",
       "2    False\n",
       "3    False\n",
       "dtype: bool"
      ]
     },
     "execution_count": 8,
     "metadata": {},
     "output_type": "execute_result"
    }
   ],
   "source": [
    "#비교연산              ->False처리\n",
    "sr1<sr2"
   ]
  },
  {
   "cell_type": "code",
   "execution_count": 9,
   "metadata": {},
   "outputs": [
    {
     "data": {
      "text/plain": [
       "0        416.0\n",
       "1     420000.0\n",
       "2          NaN\n",
       "3    2250000.0\n",
       "dtype: float64"
      ]
     },
     "execution_count": 9,
     "metadata": {},
     "output_type": "execute_result"
    }
   ],
   "source": [
    "#[4-1] 연산 수행: Series+Series   \n",
    "sr1*sr2"
   ]
  },
  {
   "cell_type": "code",
   "execution_count": 10,
   "metadata": {},
   "outputs": [
    {
     "data": {
      "text/plain": [
       "(0     True\n",
       " 1     True\n",
       " 2     True\n",
       " 3    False\n",
       " dtype: bool,\n",
       " 0    False\n",
       " 1    False\n",
       " 2    False\n",
       " 3    False\n",
       " dtype: bool)"
      ]
     },
     "execution_count": 10,
     "metadata": {},
     "output_type": "execute_result"
    }
   ],
   "source": [
    "sr1!=sr2, sr1>sr2   #비교 연산 수행시 False"
   ]
  },
  {
   "cell_type": "code",
   "execution_count": 13,
   "metadata": {},
   "outputs": [
    {
     "data": {
      "text/plain": [
       "0      32\n",
       "2     700\n",
       "3    1200\n",
       "4    1500\n",
       "dtype: int16"
      ]
     },
     "execution_count": 13,
     "metadata": {},
     "output_type": "execute_result"
    }
   ],
   "source": [
    "#[5] 인덱스가 다른 Series끼리 연산 수행\n",
    "# sr3 생성: sr2에서 인덱스 변경[0, 1, 2, 3]->[0, 2, 3 ,4]\n",
    "sr3=sr2.rename(index={1:2,2:3,3:4})\n",
    "sr3"
   ]
  },
  {
   "cell_type": "code",
   "execution_count": 15,
   "metadata": {},
   "outputs": [
    {
     "data": {
      "text/plain": [
       "0      64.0\n",
       "1       NaN\n",
       "2    1900.0\n",
       "3    2700.0\n",
       "4       NaN\n",
       "dtype: float64"
      ]
     },
     "execution_count": 15,
     "metadata": {},
     "output_type": "execute_result"
    }
   ],
   "source": [
    "sr2+sr3 #인덱스 기준으로 연산 -> 없는 값=NaN\n",
    "# sr2>sr3 --->Error!\n"
   ]
  },
  {
   "cell_type": "code",
   "execution_count": 16,
   "metadata": {},
   "outputs": [],
   "source": [
    "# 인덱스 맞추기 위해 reset.index(drop=true)\n",
    "sr3=sr3.reset_index(drop=True)"
   ]
  },
  {
   "cell_type": "code",
   "execution_count": 19,
   "metadata": {},
   "outputs": [
    {
     "data": {
      "text/plain": [
       "0    False\n",
       "1    False\n",
       "2    False\n",
       "3    False\n",
       "dtype: bool"
      ]
     },
     "execution_count": 19,
     "metadata": {},
     "output_type": "execute_result"
    }
   ],
   "source": [
    "sr2>sr3"
   ]
  },
  {
   "cell_type": "code",
   "execution_count": 21,
   "metadata": {},
   "outputs": [
    {
     "data": {
      "text/plain": [
       "0      45.0\n",
       "1    1300.0\n",
       "2    1200.0\n",
       "3    3000.0\n",
       "dtype: float64"
      ]
     },
     "execution_count": 21,
     "metadata": {},
     "output_type": "execute_result"
    }
   ],
   "source": [
    "# [6] NaN에 대한 연산 수행을 못하는 것 해결 위한 메서드 제공\n",
    "# - fill_value: 빈칸 즉, NaN에 값을 지정\n",
    "sr1.add(sr2, fill_value=0)"
   ]
  },
  {
   "cell_type": "code",
   "execution_count": 22,
   "metadata": {},
   "outputs": [
    {
     "data": {
      "text/plain": [
       "0      64.0\n",
       "1     700.0\n",
       "2    1900.0\n",
       "3    2700.0\n",
       "4    1500.0\n",
       "dtype: float64"
      ]
     },
     "execution_count": 22,
     "metadata": {},
     "output_type": "execute_result"
    }
   ],
   "source": [
    "# 인덱스가 다른 Series 연산에서 메서드 사용\n",
    "sr3=sr2.rename(index={1:2,2:3,3:4})\n",
    "sr2.add(sr3, fill_value=0.0)"
   ]
  },
  {
   "cell_type": "code",
   "execution_count": null,
   "metadata": {},
   "outputs": [],
   "source": []
  }
 ],
 "metadata": {
  "kernelspec": {
   "display_name": "PY_39",
   "language": "python",
   "name": "python3"
  },
  "language_info": {
   "codemirror_mode": {
    "name": "ipython",
    "version": 3
   },
   "file_extension": ".py",
   "mimetype": "text/x-python",
   "name": "python",
   "nbconvert_exporter": "python",
   "pygments_lexer": "ipython3",
   "version": "3.9.19"
  }
 },
 "nbformat": 4,
 "nbformat_minor": 2
}
