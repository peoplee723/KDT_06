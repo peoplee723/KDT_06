{
 "cells": [
  {
   "cell_type": "markdown",
   "metadata": {},
   "source": [
    "### DataFrame의 인덱스 다루기 -3\n",
    "- 행 인덱스를 정수형 인덱스 초기화\n",
    "- 기존의 행 인덱스는 컬럼으로 추가 (기본값)\n",
    "- 메서드: 변수명.reset_index()"
   ]
  },
  {
   "cell_type": "code",
   "execution_count": 33,
   "metadata": {},
   "outputs": [],
   "source": [
    "# [1] 모듈 로딩\n",
    "import pandas as pd"
   ]
  },
  {
   "cell_type": "code",
   "execution_count": 34,
   "metadata": {},
   "outputs": [],
   "source": [
    "# [2] 데이터 준비\n",
    "jumsu={'name': ['마징가', '태권V','원더우먼'],\n",
    "       'kor': [98, 90, 80],\n",
    "       'eng': [90,70,88],\n",
    "       'math': [80, 70, 87]}\n"
   ]
  },
  {
   "cell_type": "code",
   "execution_count": 35,
   "metadata": {},
   "outputs": [
    {
     "data": {
      "text/html": [
       "<div>\n",
       "<style scoped>\n",
       "    .dataframe tbody tr th:only-of-type {\n",
       "        vertical-align: middle;\n",
       "    }\n",
       "\n",
       "    .dataframe tbody tr th {\n",
       "        vertical-align: top;\n",
       "    }\n",
       "\n",
       "    .dataframe thead th {\n",
       "        text-align: right;\n",
       "    }\n",
       "</style>\n",
       "<table border=\"1\" class=\"dataframe\">\n",
       "  <thead>\n",
       "    <tr style=\"text-align: right;\">\n",
       "      <th></th>\n",
       "      <th>name</th>\n",
       "      <th>kor</th>\n",
       "      <th>eng</th>\n",
       "      <th>math</th>\n",
       "    </tr>\n",
       "  </thead>\n",
       "  <tbody>\n",
       "    <tr>\n",
       "      <th>0</th>\n",
       "      <td>마징가</td>\n",
       "      <td>98</td>\n",
       "      <td>90</td>\n",
       "      <td>80</td>\n",
       "    </tr>\n",
       "    <tr>\n",
       "      <th>1</th>\n",
       "      <td>태권V</td>\n",
       "      <td>90</td>\n",
       "      <td>70</td>\n",
       "      <td>70</td>\n",
       "    </tr>\n",
       "    <tr>\n",
       "      <th>2</th>\n",
       "      <td>원더우먼</td>\n",
       "      <td>80</td>\n",
       "      <td>88</td>\n",
       "      <td>87</td>\n",
       "    </tr>\n",
       "  </tbody>\n",
       "</table>\n",
       "</div>"
      ],
      "text/plain": [
       "   name  kor  eng  math\n",
       "0   마징가   98   90    80\n",
       "1   태권V   90   70    70\n",
       "2  원더우먼   80   88    87"
      ]
     },
     "execution_count": 35,
     "metadata": {},
     "output_type": "execute_result"
    }
   ],
   "source": [
    "#[3] DataFrame형태로 저장\n",
    "jumsu_DF= pd.DataFrame(jumsu)\n",
    "jumsu_DF"
   ]
  },
  {
   "cell_type": "code",
   "execution_count": 36,
   "metadata": {},
   "outputs": [
    {
     "name": "stdout",
     "output_type": "stream",
     "text": [
      "   index  name  kor  eng  math\n",
      "0      0   마징가   98   90    80\n",
      "1      1   태권V   90   70    70\n",
      "2      2  원더우먼   80   88    87\n"
     ]
    }
   ],
   "source": [
    "# [4] 행 인덱스 초기화\n",
    "DF2= jumsu_DF.reset_index()\n",
    "print(DF2)"
   ]
  },
  {
   "cell_type": "code",
   "execution_count": 38,
   "metadata": {},
   "outputs": [
    {
     "name": "stdout",
     "output_type": "stream",
     "text": [
      "   name  kor  eng  math\n",
      "0   마징가   98   90    80\n",
      "1   태권V   90   70    70\n",
      "2  원더우먼   80   88    87\n",
      "   name  kor  eng  math\n",
      "0   마징가   98   90    80\n",
      "1   태권V   90   70    70\n",
      "2  원더우먼   80   88    87\n"
     ]
    }
   ],
   "source": [
    "print(DF2.drop('index', axis=1))\n",
    "print('\\n')\n",
    "print(DF2.drop(columns='index'))"
   ]
  },
  {
   "cell_type": "code",
   "execution_count": 40,
   "metadata": {},
   "outputs": [
    {
     "name": "stdout",
     "output_type": "stream",
     "text": [
      "   name  kor  eng  math\n",
      "0   마징가   98   90    80\n",
      "1   태권V   90   70    70\n",
      "2  원더우먼   80   88    87\n"
     ]
    }
   ],
   "source": [
    "# [5] 행 인덱스 초기화  ->기존 행 칼럼 추가x (일일이 삭제 안해도 됨)\n",
    "DF2= jumsu_DF.reset_index(drop=True)\n",
    "print(DF2)"
   ]
  },
  {
   "cell_type": "code",
   "execution_count": null,
   "metadata": {},
   "outputs": [],
   "source": []
  }
 ],
 "metadata": {
  "kernelspec": {
   "display_name": "PY_39",
   "language": "python",
   "name": "python3"
  },
  "language_info": {
   "codemirror_mode": {
    "name": "ipython",
    "version": 3
   },
   "file_extension": ".py",
   "mimetype": "text/x-python",
   "name": "python",
   "nbconvert_exporter": "python",
   "pygments_lexer": "ipython3",
   "version": "3.9.19"
  }
 },
 "nbformat": 4,
 "nbformat_minor": 2
}
