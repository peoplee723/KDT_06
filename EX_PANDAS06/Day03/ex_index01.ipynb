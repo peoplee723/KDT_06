{
 "cells": [
  {
   "cell_type": "markdown",
   "metadata": {},
   "source": [
    "### [DataFrame의 인덱스 다루기 -1 ]\n",
    "- 인덱스 종류: 행,열 인덱스\n",
    "- 특정 열을 행 인덱스 설정하는 방법\n",
    "- 메서드: df.set_index(열 인덱스, inplace=False)"
   ]
  },
  {
   "cell_type": "code",
   "execution_count": 26,
   "metadata": {},
   "outputs": [],
   "source": [
    "# [1] 모듈 로딩\n",
    "import pandas as pd"
   ]
  },
  {
   "cell_type": "code",
   "execution_count": 27,
   "metadata": {},
   "outputs": [],
   "source": [
    "# [2] 데이터 준비\n",
    "jumsu={'name': ['마징가', '태권V','원더우먼'],\n",
    "       'kor': [98, 90, 80],\n",
    "       'eng': [90,70,88],\n",
    "       'math': [80, 70, 87]}\n"
   ]
  },
  {
   "cell_type": "code",
   "execution_count": 31,
   "metadata": {},
   "outputs": [
    {
     "data": {
      "text/html": [
       "<div>\n",
       "<style scoped>\n",
       "    .dataframe tbody tr th:only-of-type {\n",
       "        vertical-align: middle;\n",
       "    }\n",
       "\n",
       "    .dataframe tbody tr th {\n",
       "        vertical-align: top;\n",
       "    }\n",
       "\n",
       "    .dataframe thead th {\n",
       "        text-align: right;\n",
       "    }\n",
       "</style>\n",
       "<table border=\"1\" class=\"dataframe\">\n",
       "  <thead>\n",
       "    <tr style=\"text-align: right;\">\n",
       "      <th></th>\n",
       "      <th>name</th>\n",
       "      <th>kor</th>\n",
       "      <th>eng</th>\n",
       "      <th>math</th>\n",
       "    </tr>\n",
       "  </thead>\n",
       "  <tbody>\n",
       "    <tr>\n",
       "      <th>0</th>\n",
       "      <td>마징가</td>\n",
       "      <td>98</td>\n",
       "      <td>90</td>\n",
       "      <td>80</td>\n",
       "    </tr>\n",
       "    <tr>\n",
       "      <th>1</th>\n",
       "      <td>태권V</td>\n",
       "      <td>90</td>\n",
       "      <td>70</td>\n",
       "      <td>70</td>\n",
       "    </tr>\n",
       "    <tr>\n",
       "      <th>2</th>\n",
       "      <td>원더우먼</td>\n",
       "      <td>80</td>\n",
       "      <td>88</td>\n",
       "      <td>87</td>\n",
       "    </tr>\n",
       "  </tbody>\n",
       "</table>\n",
       "</div>"
      ],
      "text/plain": [
       "   name  kor  eng  math\n",
       "0   마징가   98   90    80\n",
       "1   태권V   90   70    70\n",
       "2  원더우먼   80   88    87"
      ]
     },
     "execution_count": 31,
     "metadata": {},
     "output_type": "execute_result"
    }
   ],
   "source": [
    "#[3] DataFrame 형태로 저장\n",
    "jumsu_DF= pd.DataFrame(jumsu)\n",
    "jumsu_DF                                #->행인덱스=0,1,2"
   ]
  },
  {
   "cell_type": "code",
   "execution_count": 33,
   "metadata": {},
   "outputs": [
    {
     "name": "stdout",
     "output_type": "stream",
     "text": [
      "      kor  eng  math\n",
      "name                \n",
      "마징가    98   90    80\n",
      "태권V    90   70    70\n",
      "원더우먼   80   88    87 <class 'pandas.core.frame.DataFrame'>\n"
     ]
    }
   ],
   "source": [
    "# [4] name 컬럼을 행 인덱스로 설정\n",
    "DF2= jumsu_DF.set_index('name') #변경후 저장\n",
    "# DF2= pd.DataFrame(DF2)\n",
    "print(DF2, type(DF2))"
   ]
  },
  {
   "cell_type": "code",
   "execution_count": null,
   "metadata": {},
   "outputs": [],
   "source": [
    "# DF2 행/열 인덱스 확인\n",
    "print(DF2.index, DF2.columns, sep= '\\n')"
   ]
  },
  {
   "cell_type": "code",
   "execution_count": null,
   "metadata": {},
   "outputs": [],
   "source": [
    "# [5] 데이터 추출\n",
    "# - 마징가 성적 추출-> 행 추출(loc, iloc)\n",
    "DF2.loc['마징가'], DF2.iloc[0]"
   ]
  },
  {
   "cell_type": "code",
   "execution_count": null,
   "metadata": {},
   "outputs": [],
   "source": [
    "# [5] 데이터 추출\n",
    "# - 마징가, 원더우먼 성적 추출-> 행 추출(loc, iloc)\n",
    "DF2.loc['마징가'], DF2.iloc[0]"
   ]
  },
  {
   "cell_type": "code",
   "execution_count": 29,
   "metadata": {},
   "outputs": [
    {
     "name": "stdout",
     "output_type": "stream",
     "text": [
      "     name  kor  math\n",
      "eng                 \n",
      "90    마징가   98    80\n",
      "70    태권V   90    70\n",
      "88   원더우먼   80    87 <class 'pandas.core.frame.DataFrame'>\n"
     ]
    }
   ],
   "source": [
    "## [6] 영어 점수 컬럼을 행 인덱스 설정\n",
    "DF3= jumsu_DF.set_index('eng')\n",
    "print(DF3, type(DF3))\n"
   ]
  },
  {
   "cell_type": "code",
   "execution_count": 36,
   "metadata": {},
   "outputs": [
    {
     "data": {
      "text/plain": [
       "(          kor  math\n",
       " eng name           \n",
       " 90  마징가    98    80\n",
       " 70  태권V    90    70\n",
       " 88  원더우먼   80    87,\n",
       " MultiIndex([(90,  '마징가'),\n",
       "             (70,  '태권V'),\n",
       "             (88, '원더우먼')],\n",
       "            names=['eng', 'name']))"
      ]
     },
     "execution_count": 36,
     "metadata": {},
     "output_type": "execute_result"
    }
   ],
   "source": [
    "## [6] 이름이랑 영어 컬럼을 행 인덱스로 설정   ->리스트로 묶어서 넣기\n",
    "DF4= jumsu_DF.set_index(['eng', 'name'])  #multi index\n",
    "DF4, DF4.index"
   ]
  },
  {
   "cell_type": "code",
   "execution_count": 39,
   "metadata": {},
   "outputs": [
    {
     "data": {
      "text/plain": [
       "kor     98\n",
       "math    80\n",
       "Name: (90, 마징가), dtype: int64"
      ]
     },
     "execution_count": 39,
     "metadata": {},
     "output_type": "execute_result"
    }
   ],
   "source": [
    "# 멀티인덱스에서 행 추출\n",
    "DF4.loc[(90, '마징가')]        #둘다 맞아야 추출 가능!"
   ]
  },
  {
   "cell_type": "code",
   "execution_count": null,
   "metadata": {},
   "outputs": [],
   "source": []
  }
 ],
 "metadata": {
  "kernelspec": {
   "display_name": "PY_39",
   "language": "python",
   "name": "python3"
  },
  "language_info": {
   "codemirror_mode": {
    "name": "ipython",
    "version": 3
   },
   "file_extension": ".py",
   "mimetype": "text/x-python",
   "name": "python",
   "nbconvert_exporter": "python",
   "pygments_lexer": "ipython3",
   "version": "3.9.19"
  }
 },
 "nbformat": 4,
 "nbformat_minor": 2
}
