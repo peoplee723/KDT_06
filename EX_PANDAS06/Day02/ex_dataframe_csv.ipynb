{
 "cells": [
  {
   "cell_type": "markdown",
   "metadata": {},
   "source": [
    "### csv파일 DF로 저장\n",
    "- pandas.read_csv()함수 사용"
   ]
  },
  {
   "cell_type": "code",
   "execution_count": 1,
   "metadata": {},
   "outputs": [],
   "source": [
    "import pandas as pd "
   ]
  },
  {
   "cell_type": "code",
   "execution_count": 6,
   "metadata": {},
   "outputs": [],
   "source": [
    "# 데이터 준비 - 파일\n",
    "data_file=r'C:\\Users\\KDP-25\\Desktop\\EX_PANDAS06\\Day02\\data.csv'\n",
    "data_file1=r'C:\\Users\\KDP-25\\Desktop\\EX_PANDAS06\\Day02\\data1.csv'"
   ]
  },
  {
   "cell_type": "code",
   "execution_count": 4,
   "metadata": {},
   "outputs": [],
   "source": [
    "# csv파일 -->DataFrame로 저장\n",
    "csvDF=pd.read_csv(data_file)"
   ]
  },
  {
   "cell_type": "code",
   "execution_count": 12,
   "metadata": {},
   "outputs": [
    {
     "data": {
      "text/plain": [
       "(   no   name  age gender\n",
       " 0    1  Hong   15      남\n",
       " 1    2  Park   20      여\n",
       " 2    3   Lee   56      남\n",
       " 3    4   Kim   40      남\n",
       " 4    5   Han   30      여,\n",
       " Index(['no ', 'name', 'age', 'gender'], dtype='object'),\n",
       " RangeIndex(start=0, stop=5, step=1))"
      ]
     },
     "execution_count": 12,
     "metadata": {},
     "output_type": "execute_result"
    }
   ],
   "source": [
    "csvDF, csvDF.columns, csvDF.index\n"
   ]
  },
  {
   "cell_type": "code",
   "execution_count": 14,
   "metadata": {},
   "outputs": [
    {
     "data": {
      "text/plain": [
       "(   0     1   2  3\n",
       " 0  1  Hong  15  남\n",
       " 1  2  Park  20  여\n",
       " 2  3   Lee  56  남\n",
       " 3  4   Kim  40  남\n",
       " 4  5   Han  30  여,\n",
       " Index([0, 1, 2, 3], dtype='int64'),\n",
       " RangeIndex(start=0, stop=5, step=1))"
      ]
     },
     "execution_count": 14,
     "metadata": {},
     "output_type": "execute_result"
    }
   ],
   "source": [
    "csvDF1=pd.read_csv(data_file1, sep=' ', header=None)  #파일을 열어봐어 어떻게 되있는지 확인해야함!\n",
    "csvDF1, csvDF1.columns, csvDF1.index"
   ]
  },
  {
   "cell_type": "code",
   "execution_count": null,
   "metadata": {},
   "outputs": [],
   "source": []
  }
 ],
 "metadata": {
  "kernelspec": {
   "display_name": "PY_39",
   "language": "python",
   "name": "python3"
  },
  "language_info": {
   "codemirror_mode": {
    "name": "ipython",
    "version": 3
   },
   "file_extension": ".py",
   "mimetype": "text/x-python",
   "name": "python",
   "nbconvert_exporter": "python",
   "pygments_lexer": "ipython3",
   "version": "3.9.19"
  }
 },
 "nbformat": 4,
 "nbformat_minor": 2
}
