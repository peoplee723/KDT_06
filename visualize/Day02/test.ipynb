{
 "cells": [
  {
   "cell_type": "code",
   "execution_count": 14,
   "metadata": {},
   "outputs": [
    {
     "data": {
      "text/plain": [
       "'Asia'"
      ]
     },
     "execution_count": 14,
     "metadata": {},
     "output_type": "execute_result"
    }
   ],
   "source": [
    "dic_file={'Seoul': ['South Korea', 'Asia', 9655000],\n",
    "          'Tokyo': ['Japan', \"Asia\", 14110000],\n",
    "          'Beijing': ['China', 'Asia', 21540000],\n",
    "          'London': ['United Kingdom', 'Europe', 14800000],\n",
    "          'Berlin': ['Germany', 'Europe', 3426000],\n",
    "          'Mexico City': ['Mexico', 'America', 21200000]}\n",
    "\n",
    "dic_file['Seoul'][1]\n"
   ]
  }
 ],
 "metadata": {
  "kernelspec": {
   "display_name": "PY_39",
   "language": "python",
   "name": "python3"
  },
  "language_info": {
   "codemirror_mode": {
    "name": "ipython",
    "version": 3
   },
   "file_extension": ".py",
   "mimetype": "text/x-python",
   "name": "python",
   "nbconvert_exporter": "python",
   "pygments_lexer": "ipython3",
   "version": "3.9.19"
  }
 },
 "nbformat": 4,
 "nbformat_minor": 2
}
