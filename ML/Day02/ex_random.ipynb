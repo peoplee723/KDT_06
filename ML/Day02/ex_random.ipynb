{
 "cells": [
  {
   "cell_type": "code",
   "execution_count": 13,
   "metadata": {},
   "outputs": [],
   "source": [
    "import random"
   ]
  },
  {
   "cell_type": "markdown",
   "metadata": {},
   "source": [
    "#### 임의의 숫자, 즉 난수 추출\n",
    "- random 모듈 뿐 아니라 랜덤숫자를 추출하는 모든(대부분?) 모듈\n",
    "- 0~1 사이 실수 추출\n",
    "- 정수 추출\n",
    "- random값 고정==> seed"
   ]
  },
  {
   "cell_type": "code",
   "execution_count": 14,
   "metadata": {},
   "outputs": [
    {
     "name": "stdout",
     "output_type": "stream",
     "text": [
      "1\n",
      "1\n",
      "1\n",
      "2\n",
      "2\n",
      "2\n",
      "1\n",
      "1\n",
      "2\n",
      "1\n"
     ]
    }
   ],
   "source": [
    "for _ in range(10):\n",
    "    print(random.randint(1,2))"
   ]
  },
  {
   "cell_type": "code",
   "execution_count": 405,
   "metadata": {},
   "outputs": [
    {
     "ename": "TypeError",
     "evalue": "'int' object is not callable",
     "output_type": "error",
     "traceback": [
      "\u001b[1;31m---------------------------------------------------------------------------\u001b[0m",
      "\u001b[1;31mTypeError\u001b[0m                                 Traceback (most recent call last)",
      "Cell \u001b[1;32mIn[405], line 1\u001b[0m\n\u001b[1;32m----> 1\u001b[0m \u001b[43mrandom\u001b[49m\u001b[38;5;241;43m.\u001b[39;49m\u001b[43mseed\u001b[49m\u001b[43m(\u001b[49m\u001b[38;5;241;43m1\u001b[39;49m\u001b[43m)\u001b[49m\n",
      "\u001b[1;31mTypeError\u001b[0m: 'int' object is not callable"
     ]
    }
   ],
   "source": [
    "random.seed(1)"
   ]
  },
  {
   "cell_type": "code",
   "execution_count": 406,
   "metadata": {},
   "outputs": [
    {
     "name": "stdout",
     "output_type": "stream",
     "text": [
      "0.8262113238714622\n",
      "0.9781413442495492\n",
      "0.09923152045116068\n",
      "0.9573877986592456\n",
      "0.09148848312873625\n",
      "0.47946246055014063\n",
      "0.6965990275183283\n",
      "0.522759386114781\n",
      "0.7420798065875058\n",
      "0.6649791295081506\n"
     ]
    }
   ],
   "source": [
    "\n",
    "for _ in range(10):\n",
    "    print( random.random())"
   ]
  },
  {
   "cell_type": "code",
   "execution_count": 37,
   "metadata": {},
   "outputs": [],
   "source": [
    "x=[[10],[3],[9],[5],[7],[12],[67],[91],[45],[2],[17]]\n",
    "y=[1,2,3,4,5,6,7,8,9,10,11]"
   ]
  },
  {
   "cell_type": "code",
   "execution_count": 38,
   "metadata": {},
   "outputs": [],
   "source": [
    "from sklearn.model_selection import train_test_split"
   ]
  },
  {
   "cell_type": "code",
   "execution_count": 608,
   "metadata": {},
   "outputs": [],
   "source": [
    "X_train, X_test, Y_train, Y_test= train_test_split(x,y, shuffle=False)"
   ]
  },
  {
   "cell_type": "code",
   "execution_count": 609,
   "metadata": {},
   "outputs": [
    {
     "name": "stdout",
     "output_type": "stream",
     "text": [
      "x: [[10], [3], [9], [5], [7], [12], [67], [91], [45], [2], [17]]\n",
      "X_train: [[10], [3], [9], [5], [7], [12], [67], [91]]\n",
      "X_test: [[45], [2], [17]]\n"
     ]
    }
   ],
   "source": [
    "print(f'x: {x}')\n",
    "print(f'X_train: {X_train}')\n",
    "print(f'X_test: {X_test}')"
   ]
  },
  {
   "cell_type": "code",
   "execution_count": 664,
   "metadata": {},
   "outputs": [
    {
     "name": "stdout",
     "output_type": "stream",
     "text": [
      "x: [[10], [3], [9], [5], [7], [12], [67], [91], [45], [2], [17]]\n",
      "X_train: [[10], [3], [9], [5], [7], [12], [67], [91]]\n",
      "X_test: [[2], [17], [45]]\n",
      "1636789\n"
     ]
    }
   ],
   "source": [
    "num=0\n",
    "while True:\n",
    "    X_train, X_test, Y_train, Y_test= train_test_split(x,y) \n",
    "    if (x[0] is X_train[0]) and (x[1] is X_train[1]) and (x[2] is X_train[2]) and (x[3] is X_train[3]) and (x[4] is X_train[4]) and (x[5] is X_train[5]) and (x[6] is X_train[6]) and (x[7] is X_train[7]):\n",
    "        break\n",
    "    else: num+=1\n",
    "print(f'x: {x}')\n",
    "print(f'X_train: {X_train}')\n",
    "print(f'X_test: {X_test}')\n",
    "print(num)"
   ]
  },
  {
   "cell_type": "code",
   "execution_count": 613,
   "metadata": {},
   "outputs": [
    {
     "name": "stdout",
     "output_type": "stream",
     "text": [
      "<class 'list'> <class 'list'>\n"
     ]
    }
   ],
   "source": []
  },
  {
   "cell_type": "code",
   "execution_count": 523,
   "metadata": {},
   "outputs": [
    {
     "name": "stdout",
     "output_type": "stream",
     "text": [
      "x: [[10], [3], [9], [5], [7], [12], [67], [91], [45], [2], [17]]\n",
      "X_train: [[67], [3], [5], [45], [12], [10], [9], [2]]\n",
      "X_test: [[17], [7], [91]]\n"
     ]
    }
   ],
   "source": [
    "X_train, X_test, Y_train, Y_test= train_test_split(x,y) #실행할 때 마다 계속 바뀜\n",
    "\n",
    "print(f'x: {x}')\n",
    "print(f'X_train: {X_train}')\n",
    "print(f'X_test: {X_test}')"
   ]
  },
  {
   "cell_type": "code",
   "execution_count": 610,
   "metadata": {},
   "outputs": [
    {
     "name": "stdout",
     "output_type": "stream",
     "text": [
      "x: [[10], [3], [9], [5], [7], [12], [67], [91], [45], [2], [17]]\n",
      "X_train: [[12], [91], [17], [5], [3], [10], [7], [2]]\n",
      "X_test: [[9], [67], [45]]\n"
     ]
    }
   ],
   "source": [
    "X_train, X_test, Y_train, Y_test= train_test_split(x,y, random_state=10) #random.seed와 같은 역할\n",
    "\n",
    "print(f'x: {x}')\n",
    "print(f'X_train: {X_train}')\n",
    "print(f'X_test: {X_test}')"
   ]
  }
 ],
 "metadata": {
  "kernelspec": {
   "display_name": "ML_38",
   "language": "python",
   "name": "python3"
  },
  "language_info": {
   "codemirror_mode": {
    "name": "ipython",
    "version": 3
   },
   "file_extension": ".py",
   "mimetype": "text/x-python",
   "name": "python",
   "nbconvert_exporter": "python",
   "pygments_lexer": "ipython3",
   "version": "3.8.19"
  }
 },
 "nbformat": 4,
 "nbformat_minor": 2
}
