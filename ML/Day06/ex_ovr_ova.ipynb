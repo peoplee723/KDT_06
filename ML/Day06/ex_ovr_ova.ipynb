{
 "cells": [
  {
   "cell_type": "markdown",
   "metadata": {},
   "source": [
    "#### 다중 분류를 위한 OvR(OvA)\n",
    "- 분류 클래스 수 만큼 2진 분류기를 생성하여 다중 분류를 진행\n"
   ]
  },
  {
   "cell_type": "code",
   "execution_count": 15,
   "metadata": {},
   "outputs": [],
   "source": [
    "from sklearn.datasets import load_digits\n",
    "from sklearn.model_selection import train_test_split\n",
    "\n",
    "import pandas as pd\n",
    "pd.options.display.float_format= '{:.5f}'.format"
   ]
  },
  {
   "cell_type": "markdown",
   "metadata": {},
   "source": [
    "- 데이터셋: load_digits\n",
    "    - 내장 데이터셋\n",
    "    - 이미지 데이터셋-> 8*8 크기 이미지\n",
    "    - 이미지 라벨/타겟-> 숫자 0~9 (10개 클래스)\n",
    "    - 흑백 이미지"
   ]
  },
  {
   "cell_type": "code",
   "execution_count": 9,
   "metadata": {},
   "outputs": [],
   "source": [
    "# 데이터 로딩\n",
    "featureDF, targetSR= load_digits(as_frame=True, return_X_y=True)\n",
    "\n",
    "featureDF=featureDF/255"
   ]
  },
  {
   "cell_type": "code",
   "execution_count": 6,
   "metadata": {},
   "outputs": [
    {
     "data": {
      "image/png": "[encoded data removed]",
      "text/plain": [
       "<Figure size 640x480 with 1 Axes>"
      ]
     },
     "metadata": {},
     "output_type": "display_data"
    }
   ],
   "source": [
    "# 이미지 데이터 시각화\n",
    "import matplotlib.pyplot as plt\n",
    "\n",
    "# 1d-> 2d로 형태로 변환\n",
    "imgData= featureDF.iloc[0].to_numpy().reshape(-1, 8)\n",
    "\n",
    "# 시각화\n",
    "plt.imshow(imgData, cmap= 'binary')\n",
    "plt.title(targetSR[0])\n",
    "plt.show()"
   ]
  },
  {
   "cell_type": "markdown",
   "metadata": {},
   "source": [
    "- 학습용 데이터셋 준비"
   ]
  },
  {
   "cell_type": "code",
   "execution_count": 8,
   "metadata": {},
   "outputs": [],
   "source": [
    "X_train, X_test, Y_train, Y_test= train_test_split(featureDF, targetSR, stratify=targetSR, random_state=10)"
   ]
  },
  {
   "cell_type": "code",
   "execution_count": 10,
   "metadata": {},
   "outputs": [
    {
     "data": {
      "text/html": [
       "<style>#sk-container-id-1 {color: black;}#sk-container-id-1 pre{padding: 0;}#sk-container-id-1 div.sk-toggleable {background-color: white;}#sk-container-id-1 label.sk-toggleable__label {cursor: pointer;display: block;width: 100%;margin-bottom: 0;padding: 0.3em;box-sizing: border-box;text-align: center;}#sk-container-id-1 label.sk-toggleable__label-arrow:before {content: \"▸\";float: left;margin-right: 0.25em;color: #696969;}#sk-container-id-1 label.sk-toggleable__label-arrow:hover:before {color: black;}#sk-container-id-1 div.sk-estimator:hover label.sk-toggleable__label-arrow:before {color: black;}#sk-container-id-1 div.sk-toggleable__content {max-height: 0;max-width: 0;overflow: hidden;text-align: left;background-color: #f0f8ff;}#sk-container-id-1 div.sk-toggleable__content pre {margin: 0.2em;color: black;border-radius: 0.25em;background-color: #f0f8ff;}#sk-container-id-1 input.sk-toggleable__control:checked~div.sk-toggleable__content {max-height: 200px;max-width: 100%;overflow: auto;}#sk-container-id-1 input.sk-toggleable__control:checked~label.sk-toggleable__label-arrow:before {content: \"▾\";}#sk-container-id-1 div.sk-estimator input.sk-toggleable__control:checked~label.sk-toggleable__label {background-color: #d4ebff;}#sk-container-id-1 div.sk-label input.sk-toggleable__control:checked~label.sk-toggleable__label {background-color: #d4ebff;}#sk-container-id-1 input.sk-hidden--visually {border: 0;clip: rect(1px 1px 1px 1px);clip: rect(1px, 1px, 1px, 1px);height: 1px;margin: -1px;overflow: hidden;padding: 0;position: absolute;width: 1px;}#sk-container-id-1 div.sk-estimator {font-family: monospace;background-color: #f0f8ff;border: 1px dotted black;border-radius: 0.25em;box-sizing: border-box;margin-bottom: 0.5em;}#sk-container-id-1 div.sk-estimator:hover {background-color: #d4ebff;}#sk-container-id-1 div.sk-parallel-item::after {content: \"\";width: 100%;border-bottom: 1px solid gray;flex-grow: 1;}#sk-container-id-1 div.sk-label:hover label.sk-toggleable__label {background-color: #d4ebff;}#sk-container-id-1 div.sk-serial::before {content: \"\";position: absolute;border-left: 1px solid gray;box-sizing: border-box;top: 0;bottom: 0;left: 50%;z-index: 0;}#sk-container-id-1 div.sk-serial {display: flex;flex-direction: column;align-items: center;background-color: white;padding-right: 0.2em;padding-left: 0.2em;position: relative;}#sk-container-id-1 div.sk-item {position: relative;z-index: 1;}#sk-container-id-1 div.sk-parallel {display: flex;align-items: stretch;justify-content: center;background-color: white;position: relative;}#sk-container-id-1 div.sk-item::before, #sk-container-id-1 div.sk-parallel-item::before {content: \"\";position: absolute;border-left: 1px solid gray;box-sizing: border-box;top: 0;bottom: 0;left: 50%;z-index: -1;}#sk-container-id-1 div.sk-parallel-item {display: flex;flex-direction: column;z-index: 1;position: relative;background-color: white;}#sk-container-id-1 div.sk-parallel-item:first-child::after {align-self: flex-end;width: 50%;}#sk-container-id-1 div.sk-parallel-item:last-child::after {align-self: flex-start;width: 50%;}#sk-container-id-1 div.sk-parallel-item:only-child::after {width: 0;}#sk-container-id-1 div.sk-dashed-wrapped {border: 1px dashed gray;margin: 0 0.4em 0.5em 0.4em;box-sizing: border-box;padding-bottom: 0.4em;background-color: white;}#sk-container-id-1 div.sk-label label {font-family: monospace;font-weight: bold;display: inline-block;line-height: 1.2em;}#sk-container-id-1 div.sk-label-container {text-align: center;}#sk-container-id-1 div.sk-container {/* jupyter's `normalize.less` sets `[hidden] { display: none; }` but bootstrap.min.css set `[hidden] { display: none !important; }` so we also need the `!important` here to be able to override the default hidden behavior on the sphinx rendered scikit-learn.org. See: https://github.com/scikit-learn/scikit-learn/issues/21755 */display: inline-block !important;position: relative;}#sk-container-id-1 div.sk-text-repr-fallback {display: none;}</style><div id=\"sk-container-id-1\" class=\"sk-top-container\"><div class=\"sk-text-repr-fallback\"><pre>OneVsRestClassifier(estimator=LogisticRegression(max_iter=1000))</pre><b>In a Jupyter environment, please rerun this cell to show the HTML representation or trust the notebook. <br />On GitHub, the HTML representation is unable to render, please try loading this page with nbviewer.org.</b></div><div class=\"sk-container\" hidden><div class=\"sk-item sk-dashed-wrapped\"><div class=\"sk-label-container\"><div class=\"sk-label sk-toggleable\"><input class=\"sk-toggleable__control sk-hidden--visually\" id=\"sk-estimator-id-1\" type=\"checkbox\" ><label for=\"sk-estimator-id-1\" class=\"sk-toggleable__label sk-toggleable__label-arrow\">OneVsRestClassifier</label><div class=\"sk-toggleable__content\"><pre>OneVsRestClassifier(estimator=LogisticRegression(max_iter=1000))</pre></div></div></div><div class=\"sk-parallel\"><div class=\"sk-parallel-item\"><div class=\"sk-item\"><div class=\"sk-label-container\"><div class=\"sk-label sk-toggleable\"><input class=\"sk-toggleable__control sk-hidden--visually\" id=\"sk-estimator-id-2\" type=\"checkbox\" ><label for=\"sk-estimator-id-2\" class=\"sk-toggleable__label sk-toggleable__label-arrow\">estimator: LogisticRegression</label><div class=\"sk-toggleable__content\"><pre>LogisticRegression(max_iter=1000)</pre></div></div></div><div class=\"sk-serial\"><div class=\"sk-item\"><div class=\"sk-estimator sk-toggleable\"><input class=\"sk-toggleable__control sk-hidden--visually\" id=\"sk-estimator-id-3\" type=\"checkbox\" ><label for=\"sk-estimator-id-3\" class=\"sk-toggleable__label sk-toggleable__label-arrow\">LogisticRegression</label><div class=\"sk-toggleable__content\"><pre>LogisticRegression(max_iter=1000)</pre></div></div></div></div></div></div></div></div></div></div>"
      ],
      "text/plain": [
       "OneVsRestClassifier(estimator=LogisticRegression(max_iter=1000))"
      ]
     },
     "execution_count": 10,
     "metadata": {},
     "output_type": "execute_result"
    }
   ],
   "source": [
    "# 모듈 로딩\n",
    "from sklearn.multiclass import OneVsRestClassifier\n",
    "from sklearn.linear_model import LogisticRegression\n",
    "\n",
    "ovr_clf= OneVsRestClassifier(LogisticRegression(max_iter=1000))\n",
    "ovr_clf.fit(X_train, Y_train)"
   ]
  },
  {
   "cell_type": "code",
   "execution_count": 11,
   "metadata": {},
   "outputs": [
    {
     "data": {
      "text/plain": [
       "(10,\n",
       " array([0, 1, 2, 3, 4, 5, 6, 7, 8, 9]),\n",
       " 10,\n",
       " LabelBinarizer(sparse_output=True))"
      ]
     },
     "execution_count": 11,
     "metadata": {},
     "output_type": "execute_result"
    }
   ],
   "source": [
    "# 모델 파라미터\n",
    "len(ovr_clf.estimators_), ovr_clf.classes_, ovr_clf.n_classes_, ovr_clf.label_binarizer_"
   ]
  },
  {
   "cell_type": "code",
   "execution_count": 19,
   "metadata": {},
   "outputs": [
    {
     "name": "stdout",
     "output_type": "stream",
     "text": [
      "0분류기 [[ 0.       -0.033946  0.014408  0.092165 -0.006277 -0.222099 -0.093206\n",
      "  -0.001569 -0.       -0.144863  0.046299  0.213335  0.156151  0.360977\n",
      "  -0.005929 -0.002593 -0.        0.060953  0.119662 -0.00103  -0.26573\n",
      "   0.262702  0.043749 -0.003472 -0.        0.191514  0.042121 -0.117639\n",
      "  -0.512239  0.015493  0.045302 -0.        0.        0.181614  0.183802\n",
      "  -0.267606 -0.434738 -0.006182  0.032878  0.       -0.000424 -0.039147\n",
      "   0.338275 -0.109578 -0.313111  0.049864  0.063712 -0.000012 -0.00001\n",
      "  -0.09187   0.081923 -0.061373  0.060609  0.108396 -0.089169 -0.009418\n",
      "  -0.       -0.041526 -0.188578  0.195525 -0.044307 -0.052047 -0.100777\n",
      "  -0.028288]] [-16.666987] 3\n",
      "1분류기 [[ 0.        0.310494  0.43686   0.409931 -1.168552  0.990732 -1.120979\n",
      "  -0.001399  0.       -1.432996 -0.572021 -0.304265  0.354575  0.21714\n",
      "  -0.437867 -0.04159   0.        0.551254  0.302843  0.891108  0.81568\n",
      "  -0.40179   0.815217 -0.123036 -0.343778 -0.039338 -0.057648  0.377584\n",
      "  -0.08298   0.428851 -0.454326  0.        0.       -0.541528  0.264391\n",
      "  -0.074387  0.397225 -0.244586 -0.516932  0.       -0.000002 -0.591632\n",
      "  -0.158482  0.120285 -0.193253 -0.180937 -0.334934 -0.065628 -0.000014\n",
      "  -0.204059 -0.34662   0.429529  0.017425 -0.003362 -0.225042  0.589373\n",
      "  -0.000005 -0.058819 -0.469913 -0.298044  0.482812  0.112465  0.029187\n",
      "   0.211646]] [-28.037021] 3\n",
      "2분류기 [[ 0.        0.048854 -0.07399   0.020456  0.020604 -0.247545 -0.075289\n",
      "  -0.00159  -0.000293  0.148751  0.194665 -0.053598  0.273544 -0.006635\n",
      "   0.050552 -0.000812  0.000253 -0.043576  0.077449 -0.201816  0.194814\n",
      "  -0.082536  0.15473   0.000027 -0.       -0.313855 -0.506674 -0.484154\n",
      "  -0.284864  0.282486 -0.004448  0.000001  0.       -0.257989 -0.356786\n",
      "  -0.10161  -0.128704 -0.27896  -0.391254  0.        0.000003  0.045227\n",
      "   0.105027  0.464345 -0.382198 -0.413896 -0.317289  0.001109  0.006595\n",
      "   0.22219   0.088692  0.434532  0.283605  0.198099  0.21298  -0.114142\n",
      "   0.002198  0.134071  0.089984  0.091052 -0.00307   0.273409  0.405741\n",
      "   0.08914 ]] [-12.159603] 3\n",
      "3분류기 [[ 0.        0.797096 -0.770982 -0.185573  0.733614 -0.185544 -0.269829\n",
      "  -0.00139  -0.021838 -0.373663  0.255911  0.079786  0.096574  0.472126\n",
      "   0.812256 -0.237385 -0.000026  0.163154 -0.696944 -0.417441  0.171598\n",
      "  -0.411425 -0.182195  0.000386  0.       -0.308285 -0.457356  0.023877\n",
      "   0.098103 -0.280779 -1.995277  0.        0.       -0.492436 -0.370322\n",
      "  -0.117019  0.001441  0.012019  0.131699  0.        0.000002  0.172039\n",
      "  -0.107666 -0.744896  0.485952  0.443813  0.337924  0.000034  0.000002\n",
      "  -0.37061  -0.007328 -0.391108 -0.055078  0.145924  0.61829  -0.421834\n",
      "   0.        0.067226  0.695961 -0.087795  0.30859  -0.156666 -0.075366\n",
      "  -0.697707]] [-10.918661] 3\n",
      "4분류기 [[ 0.       -0.02202  -0.148495 -0.539258 -0.440006 -0.311591 -0.462771\n",
      "   0.148245 -0.       -0.122491 -0.169863 -0.229813 -0.394385 -0.354889\n",
      "  -0.281243  0.142958  0.        0.263106  0.272862  0.215598  0.023042\n",
      "   0.102954 -0.013366  0.088836  0.049505 -0.173845  0.333979 -0.043767\n",
      "  -0.117172  0.113277  0.351299  0.004882  0.        0.117396  0.134026\n",
      "   0.039183  0.223592  0.074934  0.36482   0.        0.000267  0.317193\n",
      "  -0.192823  0.381414  0.276381  0.159679  0.040209 -0.003869 -0.000032\n",
      "   0.276247 -0.144122  0.116742  0.095777 -0.336176 -0.455247 -0.01256\n",
      "  -0.000013 -0.010275 -0.077269 -0.341992 -0.266448 -0.375267 -0.09687\n",
      "  -0.001881]] [2.637533] 3\n",
      "5분류기 [[ 0.        0.024804  0.606777 -0.395686 -0.029887  0.562852  0.155822\n",
      "  -0.121072  0.000008 -0.077482  0.328908  0.213226  0.080651 -0.227132\n",
      "  -0.148266 -0.044954  0.000003 -0.158029  0.349027  0.104815 -0.482006\n",
      "  -0.595245 -0.476345 -0.016408 -0.004632 -0.09774   0.519532 -0.197574\n",
      "   0.429009 -0.385628 -0.48368   0.000006  0.        0.09169   0.063674\n",
      "  -0.180392 -0.285982  0.182832  0.254297  0.        0.000005 -0.211166\n",
      "  -0.478655 -0.212275 -0.150969  0.100937  0.098899 -0.000467  0.000001\n",
      "  -0.223054 -0.219351  0.017386  0.024643 -0.275738 -0.512262 -0.028227\n",
      "   0.        0.038136  0.307541  0.448034  0.005878  0.140787 -0.433828\n",
      "  -0.188973]] [-15.147124] 3\n",
      "6분류기 [[ 0.       -0.05091  -0.140282 -0.303451  0.044953 -0.265468 -0.021411\n",
      "   0.000021  0.000002 -0.286927  0.034293 -0.073766 -0.463601  0.066118\n",
      "   0.160136  0.000015  0.       -0.178144  0.257299  0.26561  -0.419644\n",
      "  -0.838022 -0.216894  0.000027 -0.000001  0.341793  0.023357  0.336573\n",
      "  -0.126578  0.098098 -0.579917  0.        0.        0.304963  0.21304\n",
      "   0.309414  0.085046 -0.208375  0.024298  0.       -0.011626 -0.403897\n",
      "   0.646751 -0.066888  0.023074 -0.072725  0.510483  0.015491 -0.002604\n",
      "  -0.229907  0.406877  0.388239 -0.210895  0.434238  0.233128 -0.528658\n",
      "   0.       -0.050124 -0.328117 -0.246996 -0.007524  0.078853 -0.152518\n",
      "  -0.192306]] [-21.068866] 3\n",
      "7분류기 [[ 0.       -0.050659 -0.012511  0.479767  0.257871  0.2       0.138447\n",
      "   0.224851 -0.        0.014436  0.073127 -0.039491  0.692527 -0.095767\n",
      "   0.012643  0.389774  0.       -0.172575 -0.258556 -0.387249 -0.140103\n",
      "   0.149437  0.217498 -0.026767  0.       -0.583186 -0.044847 -0.270425\n",
      "   0.048136  0.20648   0.084392 -0.032013  0.        0.427432  0.037175\n",
      "   0.153015  0.047972  0.269088  0.221583  0.       -0.000016 -0.197646\n",
      "  -0.129021 -0.010744  0.239877  0.10948  -0.07725   0.000001 -0.000045\n",
      "  -0.092521  0.218843  0.024069 -0.598243 -0.616704 -0.18987   0.000005\n",
      "   0.       -0.064107 -0.114305 -0.238614 -0.370494 -0.39054  -0.168191\n",
      "  -0.010434]] [-13.200065] 3\n",
      "8분류기 [[ 0.       -0.246667  0.198979 -0.229614  0.026243  0.000688 -0.473478\n",
      "  -0.165094  1.068126 -0.21318   0.26631  -0.036766 -0.090409  0.162022\n",
      "   0.189877 -0.10044   0.46759   0.160778  0.179664  0.13877   0.003075\n",
      "   0.156576  0.144673 -0.111247 -0.00179  -0.018462 -0.01527   0.099551\n",
      "  -0.107526 -0.05457   0.06637  -0.00654   0.       -0.636835 -0.165487\n",
      "   0.428007 -0.014913  0.024178 -1.09388   0.       -0.001294  0.266064\n",
      "   0.181898  0.048334  0.154406  0.016307 -0.011994 -0.020241 -0.127314\n",
      "   0.039114  0.160179 -0.241121 -0.34137   0.145185  0.006822 -0.484144\n",
      "  -0.042433  0.422391 -0.47848   0.066926  0.164852 -0.240176 -0.000793\n",
      "   0.097038]] [-10.498994] 3\n",
      "9분류기 [[ 0.       -0.61837  -0.317133  0.67673  -0.026159 -0.130193  0.220505\n",
      "  -0.498779 -0.002789  0.182213  0.27824  -0.004109  0.06144   0.202713\n",
      "   0.231411 -0.485727 -0.000321  0.065717  0.369769  0.39512   0.176704\n",
      "   0.679636  0.181668 -0.098375  0.       -0.19647   0.311115  0.334472\n",
      "   0.029461  0.507196 -0.116408 -0.002321  0.       -0.794882 -0.289088\n",
      "   0.711463 -0.468257 -0.108284 -0.352887  0.        0.       -0.023448\n",
      "  -0.619432 -1.31132  -0.580086 -0.612847 -0.178717  0.000008  0.\n",
      "  -0.152082 -0.085751 -0.002613 -0.119162 -0.214912 -0.205139  0.482144\n",
      "   0.       -0.278636 -0.12228  -0.224145  0.341255 -0.047794  0.063417\n",
      "  -0.239913]] [-21.644947] 3\n"
     ]
    }
   ],
   "source": [
    "for idx in range(ovr_clf.n_classes_):\n",
    "    print(f'{idx}분류기', ovr_clf.estimators_[idx].coef_, ovr_clf.estimators_[idx].intercept_, ovr_clf.predict_proba(X_test.iloc[:1]).argmax())"
   ]
  },
  {
   "cell_type": "code",
   "execution_count": 14,
   "metadata": {},
   "outputs": [],
   "source": [
    "import numpy as np\n",
    "np.set_printoptions(precision=6, suppress=True)"
   ]
  },
  {
   "cell_type": "code",
   "execution_count": 17,
   "metadata": {},
   "outputs": [
    {
     "ename": "TypeError",
     "evalue": "predict_proba() takes 2 positional arguments but 3 were given",
     "output_type": "error",
     "traceback": [
      "\u001b[1;31m---------------------------------------------------------------------------\u001b[0m",
      "\u001b[1;31mTypeError\u001b[0m                                 Traceback (most recent call last)",
      "Cell \u001b[1;32mIn[17], line 1\u001b[0m\n\u001b[1;32m----> 1\u001b[0m \u001b[43movr_clf\u001b[49m\u001b[38;5;241;43m.\u001b[39;49m\u001b[43mpredict_proba\u001b[49m\u001b[43m(\u001b[49m\u001b[43mX_test\u001b[49m\u001b[38;5;241;43m.\u001b[39;49m\u001b[43miloc\u001b[49m\u001b[43m[\u001b[49m\u001b[43m:\u001b[49m\u001b[38;5;241;43m1\u001b[39;49m\u001b[43m]\u001b[49m\u001b[43m,\u001b[49m\u001b[43m \u001b[49m\u001b[43mY_train\u001b[49m\u001b[38;5;241;43m.\u001b[39;49m\u001b[43mindex\u001b[49m\u001b[43m[\u001b[49m\u001b[43m:\u001b[49m\u001b[38;5;241;43m0\u001b[39;49m\u001b[43m]\u001b[49m\u001b[43m)\u001b[49m\n",
      "\u001b[1;31mTypeError\u001b[0m: predict_proba() takes 2 positional arguments but 3 were given"
     ]
    }
   ],
   "source": [
    "for idx in range(ovr_clf.n_classes_):\n",
    "    "
   ]
  }
 ],
 "metadata": {
  "kernelspec": {
   "display_name": "ML_38",
   "language": "python",
   "name": "python3"
  },
  "language_info": {
   "codemirror_mode": {
    "name": "ipython",
    "version": 3
   },
   "file_extension": ".py",
   "mimetype": "text/x-python",
   "name": "python",
   "nbconvert_exporter": "python",
   "pygments_lexer": "ipython3",
   "version": "3.8.19"
  }
 },
 "nbformat": 4,
 "nbformat_minor": 2
}
