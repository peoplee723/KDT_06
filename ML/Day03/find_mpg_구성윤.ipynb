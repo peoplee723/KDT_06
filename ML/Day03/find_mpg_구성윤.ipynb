{
 "cells": [
  {
   "cell_type": "code",
   "execution_count": 3,
   "metadata": {},
   "outputs": [],
   "source": [
    "import numpy as np\n",
    "import pandas as pd\n",
    "from sklearn.linear_model import LinearRegression\n",
    "from sklearn.model_selection import train_test_split\n",
    "import matplotlib.pyplot as plt\n",
    "import koreanize_matplotlib\n",
    "from sklearn.preprocessing import MinMaxScaler\n",
    "from sklearn.metrics import r2_score, mean_squared_error, mean_absolute_error"
   ]
  },
  {
   "cell_type": "code",
   "execution_count": 4,
   "metadata": {},
   "outputs": [],
   "source": [
    "# autompg데이터를 사용해서 연비 예측\n",
    "# 선형회귀\n",
    "# 1mpg= 0.425144km/l"
   ]
  },
  {
   "cell_type": "code",
   "execution_count": 5,
   "metadata": {},
   "outputs": [
    {
     "name": "stdout",
     "output_type": "stream",
     "text": [
      "<class 'pandas.core.frame.DataFrame'>\n",
      "RangeIndex: 398 entries, 0 to 397\n",
      "Data columns (total 9 columns):\n",
      " #   Column        Non-Null Count  Dtype  \n",
      "---  ------        --------------  -----  \n",
      " 0   mpg           398 non-null    float64\n",
      " 1   cylinders     398 non-null    int64  \n",
      " 2   displacement  398 non-null    float64\n",
      " 3   horsepower    398 non-null    object \n",
      " 4   weight        398 non-null    int64  \n",
      " 5   acceleration  398 non-null    float64\n",
      " 6   model year    398 non-null    int64  \n",
      " 7   origin        398 non-null    int64  \n",
      " 8   car name      398 non-null    object \n",
      "dtypes: float64(3), int64(4), object(2)\n",
      "memory usage: 28.1+ KB\n"
     ]
    },
    {
     "data": {
      "text/plain": [
       "(    mpg  cylinders  displacement horsepower  weight  acceleration  model year  \\\n",
       " 0  18.0          8         307.0        130    3504          12.0          70   \n",
       " 1  15.0          8         350.0        165    3693          11.5          70   \n",
       " 2  18.0          8         318.0        150    3436          11.0          70   \n",
       " 3  16.0          8         304.0        150    3433          12.0          70   \n",
       " 4  17.0          8         302.0        140    3449          10.5          70   \n",
       " \n",
       "    origin                   car name  \n",
       " 0       1  chevrolet chevelle malibu  \n",
       " 1       1          buick skylark 320  \n",
       " 2       1         plymouth satellite  \n",
       " 3       1              amc rebel sst  \n",
       " 4       1                ford torino  ,\n",
       " None)"
      ]
     },
     "execution_count": 5,
     "metadata": {},
     "output_type": "execute_result"
    }
   ],
   "source": [
    "# [1] 데이터 전처리\n",
    "# 데이터 불러오기\n",
    "DATA_FILE= '../data/auto_mpg.csv'\n",
    "autoDF=pd.read_csv(DATA_FILE)\n",
    "autoDF.head(), autoDF.info()"
   ]
  },
  {
   "cell_type": "code",
   "execution_count": 6,
   "metadata": {},
   "outputs": [],
   "source": [
    "search=autoDF['horsepower'].str.isdecimal()==False\n",
    "drop_list= autoDF[search].index\n"
   ]
  },
  {
   "cell_type": "code",
   "execution_count": 7,
   "metadata": {},
   "outputs": [
    {
     "data": {
      "text/html": [
       "<div>\n",
       "<style scoped>\n",
       "    .dataframe tbody tr th:only-of-type {\n",
       "        vertical-align: middle;\n",
       "    }\n",
       "\n",
       "    .dataframe tbody tr th {\n",
       "        vertical-align: top;\n",
       "    }\n",
       "\n",
       "    .dataframe thead th {\n",
       "        text-align: right;\n",
       "    }\n",
       "</style>\n",
       "<table border=\"1\" class=\"dataframe\">\n",
       "  <thead>\n",
       "    <tr style=\"text-align: right;\">\n",
       "      <th></th>\n",
       "      <th>mpg</th>\n",
       "      <th>cylinders</th>\n",
       "      <th>displacement</th>\n",
       "      <th>horsepower</th>\n",
       "      <th>weight</th>\n",
       "      <th>acceleration</th>\n",
       "      <th>model year</th>\n",
       "      <th>origin</th>\n",
       "      <th>car name</th>\n",
       "    </tr>\n",
       "  </thead>\n",
       "  <tbody>\n",
       "    <tr>\n",
       "      <th>32</th>\n",
       "      <td>25.0</td>\n",
       "      <td>4</td>\n",
       "      <td>98.0</td>\n",
       "      <td>?</td>\n",
       "      <td>2046</td>\n",
       "      <td>19.0</td>\n",
       "      <td>71</td>\n",
       "      <td>1</td>\n",
       "      <td>ford pinto</td>\n",
       "    </tr>\n",
       "    <tr>\n",
       "      <th>126</th>\n",
       "      <td>21.0</td>\n",
       "      <td>6</td>\n",
       "      <td>200.0</td>\n",
       "      <td>?</td>\n",
       "      <td>2875</td>\n",
       "      <td>17.0</td>\n",
       "      <td>74</td>\n",
       "      <td>1</td>\n",
       "      <td>ford maverick</td>\n",
       "    </tr>\n",
       "    <tr>\n",
       "      <th>330</th>\n",
       "      <td>40.9</td>\n",
       "      <td>4</td>\n",
       "      <td>85.0</td>\n",
       "      <td>?</td>\n",
       "      <td>1835</td>\n",
       "      <td>17.3</td>\n",
       "      <td>80</td>\n",
       "      <td>2</td>\n",
       "      <td>renault lecar deluxe</td>\n",
       "    </tr>\n",
       "    <tr>\n",
       "      <th>336</th>\n",
       "      <td>23.6</td>\n",
       "      <td>4</td>\n",
       "      <td>140.0</td>\n",
       "      <td>?</td>\n",
       "      <td>2905</td>\n",
       "      <td>14.3</td>\n",
       "      <td>80</td>\n",
       "      <td>1</td>\n",
       "      <td>ford mustang cobra</td>\n",
       "    </tr>\n",
       "    <tr>\n",
       "      <th>354</th>\n",
       "      <td>34.5</td>\n",
       "      <td>4</td>\n",
       "      <td>100.0</td>\n",
       "      <td>?</td>\n",
       "      <td>2320</td>\n",
       "      <td>15.8</td>\n",
       "      <td>81</td>\n",
       "      <td>2</td>\n",
       "      <td>renault 18i</td>\n",
       "    </tr>\n",
       "    <tr>\n",
       "      <th>374</th>\n",
       "      <td>23.0</td>\n",
       "      <td>4</td>\n",
       "      <td>151.0</td>\n",
       "      <td>?</td>\n",
       "      <td>3035</td>\n",
       "      <td>20.5</td>\n",
       "      <td>82</td>\n",
       "      <td>1</td>\n",
       "      <td>amc concord dl</td>\n",
       "    </tr>\n",
       "  </tbody>\n",
       "</table>\n",
       "</div>"
      ],
      "text/plain": [
       "      mpg  cylinders  displacement horsepower  weight  acceleration  \\\n",
       "32   25.0          4          98.0          ?    2046          19.0   \n",
       "126  21.0          6         200.0          ?    2875          17.0   \n",
       "330  40.9          4          85.0          ?    1835          17.3   \n",
       "336  23.6          4         140.0          ?    2905          14.3   \n",
       "354  34.5          4         100.0          ?    2320          15.8   \n",
       "374  23.0          4         151.0          ?    3035          20.5   \n",
       "\n",
       "     model year  origin              car name  \n",
       "32           71       1            ford pinto  \n",
       "126          74       1         ford maverick  \n",
       "330          80       2  renault lecar deluxe  \n",
       "336          80       1    ford mustang cobra  \n",
       "354          81       2           renault 18i  \n",
       "374          82       1        amc concord dl  "
      ]
     },
     "execution_count": 7,
     "metadata": {},
     "output_type": "execute_result"
    }
   ],
   "source": [
    "# horsepower, carname이 object-> 인트변환+ carname 번호 컬럼 추가\n",
    "# 1. horsepower\n",
    "#데이터 확인\n",
    "autoDF['horsepower'].str.isdecimal().value_counts()\n",
    "search=autoDF['horsepower'].str.isdecimal()==False\n",
    "autoDF[search]"
   ]
  },
  {
   "cell_type": "code",
   "execution_count": 8,
   "metadata": {},
   "outputs": [
    {
     "name": "stdout",
     "output_type": "stream",
     "text": [
      "<class 'pandas.core.frame.DataFrame'>\n",
      "Index: 392 entries, 0 to 397\n",
      "Data columns (total 9 columns):\n",
      " #   Column        Non-Null Count  Dtype  \n",
      "---  ------        --------------  -----  \n",
      " 0   mpg           392 non-null    float64\n",
      " 1   cylinders     392 non-null    int64  \n",
      " 2   displacement  392 non-null    float64\n",
      " 3   horsepower    392 non-null    object \n",
      " 4   weight        392 non-null    int64  \n",
      " 5   acceleration  392 non-null    float64\n",
      " 6   model year    392 non-null    int64  \n",
      " 7   origin        392 non-null    int64  \n",
      " 8   car name      392 non-null    object \n",
      "dtypes: float64(3), int64(4), object(2)\n",
      "memory usage: 30.6+ KB\n"
     ]
    }
   ],
   "source": [
    "# ? 로 되어있는 행 제거\n",
    "drop_list= autoDF[search].index #인덱스 추출\n",
    "autoDF.drop(index=drop_list,inplace=True)\n",
    "autoDF.info()"
   ]
  },
  {
   "cell_type": "code",
   "execution_count": 9,
   "metadata": {},
   "outputs": [],
   "source": [
    "# horsepower 타입 변환\n",
    "autoDF['horsepower']= autoDF['horsepower'].astype(int)"
   ]
  },
  {
   "cell_type": "code",
   "execution_count": 10,
   "metadata": {},
   "outputs": [
    {
     "name": "stdout",
     "output_type": "stream",
     "text": [
      "301\n",
      "{'amc matador': 0, 'ford pinto': 1, 'toyota corolla': 2, 'toyota corona': 3, 'amc hornet': 4, 'chevrolet chevette': 5, 'chevrolet impala': 6, 'amc gremlin': 7, 'peugeot 504': 8, 'ford maverick': 9, 'ford gran torino': 10, 'honda civic': 11, 'chevrolet caprice classic': 12, 'dodge colt': 13, 'volkswagen dasher': 14, 'plymouth duster': 15, 'chevrolet citation': 16, 'chevrolet nova': 17, 'pontiac catalina': 18, 'plymouth fury iii': 19, 'ford galaxie 500': 20, 'chevrolet vega': 21, 'buick century': 22, 'volkswagen rabbit': 23, 'amc matador (sw)': 24, 'honda civic cvcc': 25, 'ford gran torino (sw)': 26, 'plymouth reliant': 27, 'honda accord': 28, 'saab 99le': 29, 'chevrolet chevelle malibu': 30, 'mazda 626': 31, 'chevrolet malibu': 32, 'subaru': 33, 'ford ltd': 34, 'vw rabbit': 35, 'datsun 710': 36, 'plymouth valiant': 37, 'pontiac phoenix': 38, 'chevrolet chevelle malibu classic': 39, 'datsun 210': 40, 'fiat 128': 41, 'opel manta': 42, 'audi 100ls': 43, 'toyota corolla 1200': 44, 'toyota mark ii': 45, 'ford country squire (sw)': 46, 'buick skylark': 47, 'opel 1900': 48, 'datsun pl510': 49, 'oldsmobile cutlass salon brougham': 50, 'chevrolet monte carlo landau': 51, 'amc concord': 52, 'subaru dl': 53, 'dodge aspen': 54, 'buick estate wagon (sw)': 55, 'volkswagen rabbit custom diesel': 56, 'datsun 510': 57, 'ford fiesta': 58, 'chevrolet malibu classic (sw)': 59, 'datsun b210 gx': 60, 'dodge st. regis': 61, 'dodge diplomat': 62, 'mazda glc deluxe': 63, 'mazda rx-4': 64, 'chrysler lebaron town @ country (sw)': 65, 'vw rabbit custom': 66, 'pontiac phoenix lj': 67, 'maxda glc deluxe': 68, 'bmw 320i': 69, 'dodge colt hatchback custom': 70, 'datsun 810': 71, 'amc spirit dl': 72, 'dodge colt m/m': 73, 'ford mustang ii 2+2': 74, 'mercury monarch ghia': 75, 'mercury grand marquis': 76, 'ford fairmont (auto)': 77, 'ford fairmont (man)': 78, 'toyota celica gt liftback': 79, 'plymouth sapporo': 80, 'dodge magnum xe': 81, 'datsun 200-sx': 82, 'ford futura': 83, 'buick regal sport coupe (turbo)': 84, 'audi 5000': 85, 'volvo 264gl': 86, 'amc concord d/l': 87, 'saab 99gle': 88, 'peugeot 604sl': 89, 'mercury zephyr': 90, 'volkswagen scirocco': 91, 'honda accord lx': 92, 'pontiac lemans v6': 93, 'buick century special': 94, 'mercury zephyr 6': 95, 'plymouth volare': 96, 'ford fairmont 4': 97, 'amc concord dl 6': 98, 'dodge aspen 6': 99, 'ford ltd landau': 100, 'dodge omni': 101, 'oldsmobile starfire sx': 102, 'audi 4000': 103, 'mercedes benz 300d': 104, 'chevrolet cavalier wagon': 105, 'mazda glc custom l': 106, 'volkswagen rabbit l': 107, 'ford fairmont futura': 108, 'dodge aries se': 109, 'pontiac j2000 se hatchback': 110, 'chevrolet cavalier 2-door': 111, 'chevrolet cavalier': 112, 'datsun 200sx': 113, 'chrysler lebaron salon': 114, 'ford granada gl': 115, 'oldsmobile cutlass ls': 116, 'datsun 810 maxima': 117, 'toyota cressida': 118, 'volvo diesel': 119, 'mazda glc custom': 120, 'plymouth horizon miser': 121, 'mercury lynx l': 122, 'nissan stanza xe': 123, 'honda civic (auto)': 124, 'datsun 310 gx': 125, 'buick century limited': 126, 'oldsmobile cutlass ciera (diesel)': 127, 'chrysler lebaron medallion': 128, 'ford granada l': 129, 'toyota celica gt': 130, 'dodge charger 2.2': 131, 'chevrolet camaro': 132, 'ford mustang gl': 133, 'vw pickup': 134, 'dodge rampage': 135, 'ford ranger': 136, 'peugeot 505s turbo diesel': 137, 'honda prelude': 138, 'cadillac eldorado': 139, 'ford fairmont': 140, 'vw dasher (diesel)': 141, 'vw rabbit c (diesel)': 142, 'mazda glc': 143, 'datsun 510 hatchback': 144, 'toyota corona liftback': 145, 'pontiac sunbird coupe': 146, 'datsun 310': 147, 'volkswagen jetta': 148, 'toyota corolla tercel': 149, 'oldsmobile omega brougham': 150, 'buick skylark limited': 151, 'fiat strada custom': 152, 'plymouth horizon tc3': 153, 'plymouth horizon': 154, 'audi 5000s (diesel)': 155, 'mercedes-benz 240d': 156, 'honda civic 1500 gl': 157, 'vokswagen rabbit': 158, 'datsun 280-zx': 159, 'mazda rx-7 gs': 160, 'triumph tr7 coupe': 161, 'dodge aries wagon (sw)': 162, 'toyota starlet': 163, 'plymouth champ': 164, 'honda civic 1300': 165, 'datsun 210 mpg': 166, 'toyota tercel': 167, 'mazda glc 4': 168, 'plymouth horizon 4': 169, 'ford escort 4w': 170, 'ford escort 2h': 171, 'toyota corolla liftback': 172, 'plymouth volare premier v8': 173, 'volkswagen rabbit custom': 174, 'volkswagen 411 (sw)': 175, 'toyota corona hardtop': 176, 'dodge colt hardtop': 177, 'volkswagen type 3': 178, 'ford pinto runabout': 179, 'amc ambassador sst': 180, 'mercury marquis': 181, 'buick lesabre custom': 182, 'oldsmobile delta 88 royale': 183, 'chrysler newport royal': 184, 'mazda rx2 coupe': 185, 'chevrolet chevelle concours (sw)': 186, 'plymouth satellite custom (sw)': 187, 'volvo 145e (sw)': 188, 'peugeot 504 (sw)': 189, 'volkswagen model 111': 190, 'renault 12 (sw)': 191, 'ford pinto (sw)': 192, 'datsun 510 (sw)': 193, 'toyouta corona mark ii (sw)': 194, 'dodge colt (sw)': 195, 'toyota corolla 1600 (sw)': 196, 'buick century 350': 197, 'dodge coronet custom': 198, 'mercury marquis brougham': 199, 'plymouth fury gran sedan': 200, 'chrysler new yorker brougham': 201, 'buick electra 225 custom': 202, 'amc ambassador brougham': 203, 'plymouth cricket': 204, 'datsun 1200': 205, 'volkswagen super beetle': 206, 'chevy c20': 207, 'plymouth satellite': 208, 'amc rebel sst': 209, 'ford torino': 210, 'amc ambassador dpl': 211, 'dodge challenger se': 212, \"plymouth 'cuda 340\": 213, 'chevrolet monte carlo': 214, 'toyota corona mark ii': 215, 'volkswagen 1131 deluxe sedan': 216, 'audi 100 ls': 217, 'saab 99e': 218, 'bmw 2002': 219, 'ford f250': 220, 'dodge d200': 221, 'fiat 124b': 222, 'hi 1200d': 223, 'chevrolet vega 2300': 224, 'plymouth satellite custom': 225, 'ford torino 500': 226, 'pontiac catalina brougham': 227, 'dodge monaco (sw)': 228, 'pontiac safari (sw)': 229, 'amc hornet sportabout (sw)': 230, 'chevrolet vega (sw)': 231, 'pontiac firebird': 232, 'ford mustang': 233, 'mercury capri 2000': 234, 'peugeot 304': 235, 'chevrolet nova custom': 236, 'ford country': 237, 'ford thunderbird': 238, 'ford f108': 239, 'renault 12tl': 240, 'dodge coronet brougham': 241, 'chevrolet woody': 242, 'dodge aspen se': 243, 'ford granada ghia': 244, 'pontiac ventura sj': 245, 'amc pacer d/l': 246, 'datsun b-210': 247, 'volvo 245': 248, 'buick skylark 320': 249, 'mercedes-benz 280s': 250, 'cadillac seville': 251, 'chevy c10': 252, 'dodge d100': 253, 'fiat 131': 254, 'honda accord cvcc': 255, 'buick opel isuzu deluxe': 256, 'renault 5 gtl': 257, 'plymouth arrow gs': 258, 'datsun f-10 hatchback': 259, 'oldsmobile cutlass supreme': 260, 'dodge monaco brougham': 261, 'mercury cougar brougham': 262, 'chevrolet concours': 263, 'plymouth volare custom': 264, 'ford granada': 265, 'pontiac grand prix lj': 266, 'chrysler cordoba': 267, 'capri ii': 268, 'volvo 244dl': 269, 'plymouth custom suburb': 270, 'buick century luxus (sw)': 271, 'oldsmobile vista cruiser': 272, 'toyota carina': 273, 'datsun 610': 274, 'maxda rx3': 275, 'mercury capri v6': 276, 'fiat 124 sport coupe': 277, 'chevrolet monte carlo s': 278, 'pontiac grand prix': 279, 'volvo 144ea': 280, 'dodge dart custom': 281, 'oldsmobile omega': 282, 'datsun b210': 283, 'plymouth satellite sebring': 284, 'dodge coronet custom (sw)': 285, 'amc pacer': 286, 'audi fox': 287, 'fiat 124 tc': 288, 'fiat x1.9': 289, 'plymouth valiant custom': 290, 'mercury monarch': 291, 'chevrolet bel air': 292, 'plymouth grand fury': 293, 'chevroelt chevelle malibu': 294, 'plymouth fury': 295, 'buick skyhawk': 296, 'chevrolet monza 2+2': 297, 'ford mustang ii': 298, 'pontiac astro': 299, 'chevy s-10': 300}\n"
     ]
    }
   ],
   "source": [
    "# 2. carname 번호 컬럼 추가\n",
    "# 차 종류에 따른 번호 매기기\n",
    "car_dict=(autoDF['car name'].value_counts().to_dict())\n",
    "a=len(car_dict.keys())\n",
    "print(a)\n",
    "car_code={}\n",
    "for i in range(a):\n",
    "    name=list(car_dict.keys())\n",
    "    car_code[name[i]]=i\n",
    "print(car_code)"
   ]
  },
  {
   "cell_type": "code",
   "execution_count": 11,
   "metadata": {},
   "outputs": [
    {
     "data": {
      "text/plain": [
       "0       30\n",
       "1      249\n",
       "2      208\n",
       "3      209\n",
       "4      210\n",
       "      ... \n",
       "393    133\n",
       "394    134\n",
       "395    135\n",
       "396    136\n",
       "397    300\n",
       "Name: car_code, Length: 392, dtype: int64"
      ]
     },
     "execution_count": 11,
     "metadata": {},
     "output_type": "execute_result"
    }
   ],
   "source": [
    "# 컬럼 추가\n",
    "autoDF['car_code']=autoDF['car name'].replace(car_code)\n",
    "autoDF['car_code']"
   ]
  },
  {
   "cell_type": "code",
   "execution_count": 12,
   "metadata": {},
   "outputs": [
    {
     "name": "stdout",
     "output_type": "stream",
     "text": [
      "0       7.652592\n",
      "1       6.377160\n",
      "2       7.652592\n",
      "3       6.802304\n",
      "4       7.227448\n",
      "         ...    \n",
      "393    11.478888\n",
      "394    18.706336\n",
      "395    13.604608\n",
      "396    11.904032\n",
      "397    13.179464\n",
      "Name: KMpL, Length: 392, dtype: float64\n"
     ]
    }
   ],
   "source": [
    "# 3. mpg km/l로 변환 (0.425144)\n",
    "# KMpL 컬럼 추가\n",
    "autoDF['KMpL']=autoDF['mpg']*0.425144\n",
    "autoDF.drop(columns='mpg', inplace=True)\n",
    "print(autoDF['KMpL'])"
   ]
  },
  {
   "cell_type": "code",
   "execution_count": 13,
   "metadata": {},
   "outputs": [
    {
     "name": "stdout",
     "output_type": "stream",
     "text": [
      "<class 'pandas.core.frame.DataFrame'>\n",
      "Index: 392 entries, 0 to 397\n",
      "Data columns (total 10 columns):\n",
      " #   Column        Non-Null Count  Dtype  \n",
      "---  ------        --------------  -----  \n",
      " 0   cylinders     392 non-null    int64  \n",
      " 1   displacement  392 non-null    float64\n",
      " 2   horsepower    392 non-null    int32  \n",
      " 3   weight        392 non-null    int64  \n",
      " 4   acceleration  392 non-null    float64\n",
      " 5   model year    392 non-null    int64  \n",
      " 6   origin        392 non-null    int64  \n",
      " 7   car name      392 non-null    object \n",
      " 8   car_code      392 non-null    int64  \n",
      " 9   KMpL          392 non-null    float64\n",
      "dtypes: float64(3), int32(1), int64(5), object(1)\n",
      "memory usage: 32.2+ KB\n"
     ]
    },
    {
     "data": {
      "text/plain": [
       "(Index(['cylinders', 'displacement', 'horsepower', 'weight', 'acceleration',\n",
       "        'model year', 'origin', 'car name', 'car_code', 'KMpL'],\n",
       "       dtype='object'),\n",
       " None)"
      ]
     },
     "execution_count": 13,
     "metadata": {},
     "output_type": "execute_result"
    }
   ],
   "source": [
    "autoDF.columns, autoDF.info()"
   ]
  },
  {
   "cell_type": "code",
   "execution_count": 14,
   "metadata": {},
   "outputs": [],
   "source": [
    "# [2] 데이터 분리 및 스케일링, 학습"
   ]
  },
  {
   "cell_type": "code",
   "execution_count": 15,
   "metadata": {},
   "outputs": [
    {
     "data": {
      "text/html": [
       "<div>\n",
       "<style scoped>\n",
       "    .dataframe tbody tr th:only-of-type {\n",
       "        vertical-align: middle;\n",
       "    }\n",
       "\n",
       "    .dataframe tbody tr th {\n",
       "        vertical-align: top;\n",
       "    }\n",
       "\n",
       "    .dataframe thead th {\n",
       "        text-align: right;\n",
       "    }\n",
       "</style>\n",
       "<table border=\"1\" class=\"dataframe\">\n",
       "  <thead>\n",
       "    <tr style=\"text-align: right;\">\n",
       "      <th></th>\n",
       "      <th>cylinders</th>\n",
       "      <th>displacement</th>\n",
       "      <th>horsepower</th>\n",
       "      <th>weight</th>\n",
       "      <th>acceleration</th>\n",
       "      <th>model year</th>\n",
       "      <th>origin</th>\n",
       "      <th>car_code</th>\n",
       "      <th>KMpL</th>\n",
       "    </tr>\n",
       "  </thead>\n",
       "  <tbody>\n",
       "    <tr>\n",
       "      <th>cylinders</th>\n",
       "      <td>1.000000</td>\n",
       "      <td>0.950823</td>\n",
       "      <td>0.842983</td>\n",
       "      <td>0.897527</td>\n",
       "      <td>-0.504683</td>\n",
       "      <td>-0.345647</td>\n",
       "      <td>-0.568932</td>\n",
       "      <td>0.096252</td>\n",
       "      <td>-0.777618</td>\n",
       "    </tr>\n",
       "    <tr>\n",
       "      <th>displacement</th>\n",
       "      <td>0.950823</td>\n",
       "      <td>1.000000</td>\n",
       "      <td>0.897257</td>\n",
       "      <td>0.932994</td>\n",
       "      <td>-0.543800</td>\n",
       "      <td>-0.369855</td>\n",
       "      <td>-0.614535</td>\n",
       "      <td>0.099932</td>\n",
       "      <td>-0.805127</td>\n",
       "    </tr>\n",
       "    <tr>\n",
       "      <th>horsepower</th>\n",
       "      <td>0.842983</td>\n",
       "      <td>0.897257</td>\n",
       "      <td>1.000000</td>\n",
       "      <td>0.864538</td>\n",
       "      <td>-0.689196</td>\n",
       "      <td>-0.416361</td>\n",
       "      <td>-0.455171</td>\n",
       "      <td>0.138952</td>\n",
       "      <td>-0.778427</td>\n",
       "    </tr>\n",
       "    <tr>\n",
       "      <th>weight</th>\n",
       "      <td>0.897527</td>\n",
       "      <td>0.932994</td>\n",
       "      <td>0.864538</td>\n",
       "      <td>1.000000</td>\n",
       "      <td>-0.416839</td>\n",
       "      <td>-0.309120</td>\n",
       "      <td>-0.585005</td>\n",
       "      <td>0.120450</td>\n",
       "      <td>-0.832244</td>\n",
       "    </tr>\n",
       "    <tr>\n",
       "      <th>acceleration</th>\n",
       "      <td>-0.504683</td>\n",
       "      <td>-0.543800</td>\n",
       "      <td>-0.689196</td>\n",
       "      <td>-0.416839</td>\n",
       "      <td>1.000000</td>\n",
       "      <td>0.290316</td>\n",
       "      <td>0.212746</td>\n",
       "      <td>-0.041094</td>\n",
       "      <td>0.423329</td>\n",
       "    </tr>\n",
       "    <tr>\n",
       "      <th>model year</th>\n",
       "      <td>-0.345647</td>\n",
       "      <td>-0.369855</td>\n",
       "      <td>-0.416361</td>\n",
       "      <td>-0.309120</td>\n",
       "      <td>0.290316</td>\n",
       "      <td>1.000000</td>\n",
       "      <td>0.181528</td>\n",
       "      <td>-0.148323</td>\n",
       "      <td>0.580541</td>\n",
       "    </tr>\n",
       "    <tr>\n",
       "      <th>origin</th>\n",
       "      <td>-0.568932</td>\n",
       "      <td>-0.614535</td>\n",
       "      <td>-0.455171</td>\n",
       "      <td>-0.585005</td>\n",
       "      <td>0.212746</td>\n",
       "      <td>0.181528</td>\n",
       "      <td>1.000000</td>\n",
       "      <td>-0.066087</td>\n",
       "      <td>0.565209</td>\n",
       "    </tr>\n",
       "    <tr>\n",
       "      <th>car_code</th>\n",
       "      <td>0.096252</td>\n",
       "      <td>0.099932</td>\n",
       "      <td>0.138952</td>\n",
       "      <td>0.120450</td>\n",
       "      <td>-0.041094</td>\n",
       "      <td>-0.148323</td>\n",
       "      <td>-0.066087</td>\n",
       "      <td>1.000000</td>\n",
       "      <td>-0.122835</td>\n",
       "    </tr>\n",
       "    <tr>\n",
       "      <th>KMpL</th>\n",
       "      <td>-0.777618</td>\n",
       "      <td>-0.805127</td>\n",
       "      <td>-0.778427</td>\n",
       "      <td>-0.832244</td>\n",
       "      <td>0.423329</td>\n",
       "      <td>0.580541</td>\n",
       "      <td>0.565209</td>\n",
       "      <td>-0.122835</td>\n",
       "      <td>1.000000</td>\n",
       "    </tr>\n",
       "  </tbody>\n",
       "</table>\n",
       "</div>"
      ],
      "text/plain": [
       "              cylinders  displacement  horsepower    weight  acceleration  \\\n",
       "cylinders      1.000000      0.950823    0.842983  0.897527     -0.504683   \n",
       "displacement   0.950823      1.000000    0.897257  0.932994     -0.543800   \n",
       "horsepower     0.842983      0.897257    1.000000  0.864538     -0.689196   \n",
       "weight         0.897527      0.932994    0.864538  1.000000     -0.416839   \n",
       "acceleration  -0.504683     -0.543800   -0.689196 -0.416839      1.000000   \n",
       "model year    -0.345647     -0.369855   -0.416361 -0.309120      0.290316   \n",
       "origin        -0.568932     -0.614535   -0.455171 -0.585005      0.212746   \n",
       "car_code       0.096252      0.099932    0.138952  0.120450     -0.041094   \n",
       "KMpL          -0.777618     -0.805127   -0.778427 -0.832244      0.423329   \n",
       "\n",
       "              model year    origin  car_code      KMpL  \n",
       "cylinders      -0.345647 -0.568932  0.096252 -0.777618  \n",
       "displacement   -0.369855 -0.614535  0.099932 -0.805127  \n",
       "horsepower     -0.416361 -0.455171  0.138952 -0.778427  \n",
       "weight         -0.309120 -0.585005  0.120450 -0.832244  \n",
       "acceleration    0.290316  0.212746 -0.041094  0.423329  \n",
       "model year      1.000000  0.181528 -0.148323  0.580541  \n",
       "origin          0.181528  1.000000 -0.066087  0.565209  \n",
       "car_code       -0.148323 -0.066087  1.000000 -0.122835  \n",
       "KMpL            0.580541  0.565209 -0.122835  1.000000  "
      ]
     },
     "execution_count": 15,
     "metadata": {},
     "output_type": "execute_result"
    }
   ],
   "source": [
    "# 사용할 피쳐 확인\n",
    "autoDF.corr(numeric_only=True)"
   ]
  },
  {
   "cell_type": "code",
   "execution_count": 16,
   "metadata": {},
   "outputs": [],
   "source": [
    "# 피쳐와 타겟 불리\n",
    "x_train, X_test, Y_train, Y_test= train_test_split(autoDF[['cylinders', 'displacement', 'horsepower', 'weight',\n",
    "       'acceleration', 'model year', 'origin', 'car_code']], autoDF['KMpL'],test_size=0.2 ,random_state=10)\n",
    "# 피쳐는 2차원 -> 데이터 프레임으로 나오는데?"
   ]
  },
  {
   "cell_type": "code",
   "execution_count": 17,
   "metadata": {},
   "outputs": [
    {
     "data": {
      "text/html": [
       "<style>#sk-container-id-1 {color: black;}#sk-container-id-1 pre{padding: 0;}#sk-container-id-1 div.sk-toggleable {background-color: white;}#sk-container-id-1 label.sk-toggleable__label {cursor: pointer;display: block;width: 100%;margin-bottom: 0;padding: 0.3em;box-sizing: border-box;text-align: center;}#sk-container-id-1 label.sk-toggleable__label-arrow:before {content: \"▸\";float: left;margin-right: 0.25em;color: #696969;}#sk-container-id-1 label.sk-toggleable__label-arrow:hover:before {color: black;}#sk-container-id-1 div.sk-estimator:hover label.sk-toggleable__label-arrow:before {color: black;}#sk-container-id-1 div.sk-toggleable__content {max-height: 0;max-width: 0;overflow: hidden;text-align: left;background-color: #f0f8ff;}#sk-container-id-1 div.sk-toggleable__content pre {margin: 0.2em;color: black;border-radius: 0.25em;background-color: #f0f8ff;}#sk-container-id-1 input.sk-toggleable__control:checked~div.sk-toggleable__content {max-height: 200px;max-width: 100%;overflow: auto;}#sk-container-id-1 input.sk-toggleable__control:checked~label.sk-toggleable__label-arrow:before {content: \"▾\";}#sk-container-id-1 div.sk-estimator input.sk-toggleable__control:checked~label.sk-toggleable__label {background-color: #d4ebff;}#sk-container-id-1 div.sk-label input.sk-toggleable__control:checked~label.sk-toggleable__label {background-color: #d4ebff;}#sk-container-id-1 input.sk-hidden--visually {border: 0;clip: rect(1px 1px 1px 1px);clip: rect(1px, 1px, 1px, 1px);height: 1px;margin: -1px;overflow: hidden;padding: 0;position: absolute;width: 1px;}#sk-container-id-1 div.sk-estimator {font-family: monospace;background-color: #f0f8ff;border: 1px dotted black;border-radius: 0.25em;box-sizing: border-box;margin-bottom: 0.5em;}#sk-container-id-1 div.sk-estimator:hover {background-color: #d4ebff;}#sk-container-id-1 div.sk-parallel-item::after {content: \"\";width: 100%;border-bottom: 1px solid gray;flex-grow: 1;}#sk-container-id-1 div.sk-label:hover label.sk-toggleable__label {background-color: #d4ebff;}#sk-container-id-1 div.sk-serial::before {content: \"\";position: absolute;border-left: 1px solid gray;box-sizing: border-box;top: 0;bottom: 0;left: 50%;z-index: 0;}#sk-container-id-1 div.sk-serial {display: flex;flex-direction: column;align-items: center;background-color: white;padding-right: 0.2em;padding-left: 0.2em;position: relative;}#sk-container-id-1 div.sk-item {position: relative;z-index: 1;}#sk-container-id-1 div.sk-parallel {display: flex;align-items: stretch;justify-content: center;background-color: white;position: relative;}#sk-container-id-1 div.sk-item::before, #sk-container-id-1 div.sk-parallel-item::before {content: \"\";position: absolute;border-left: 1px solid gray;box-sizing: border-box;top: 0;bottom: 0;left: 50%;z-index: -1;}#sk-container-id-1 div.sk-parallel-item {display: flex;flex-direction: column;z-index: 1;position: relative;background-color: white;}#sk-container-id-1 div.sk-parallel-item:first-child::after {align-self: flex-end;width: 50%;}#sk-container-id-1 div.sk-parallel-item:last-child::after {align-self: flex-start;width: 50%;}#sk-container-id-1 div.sk-parallel-item:only-child::after {width: 0;}#sk-container-id-1 div.sk-dashed-wrapped {border: 1px dashed gray;margin: 0 0.4em 0.5em 0.4em;box-sizing: border-box;padding-bottom: 0.4em;background-color: white;}#sk-container-id-1 div.sk-label label {font-family: monospace;font-weight: bold;display: inline-block;line-height: 1.2em;}#sk-container-id-1 div.sk-label-container {text-align: center;}#sk-container-id-1 div.sk-container {/* jupyter's `normalize.less` sets `[hidden] { display: none; }` but bootstrap.min.css set `[hidden] { display: none !important; }` so we also need the `!important` here to be able to override the default hidden behavior on the sphinx rendered scikit-learn.org. See: https://github.com/scikit-learn/scikit-learn/issues/21755 */display: inline-block !important;position: relative;}#sk-container-id-1 div.sk-text-repr-fallback {display: none;}</style><div id=\"sk-container-id-1\" class=\"sk-top-container\"><div class=\"sk-text-repr-fallback\"><pre>MinMaxScaler()</pre><b>In a Jupyter environment, please rerun this cell to show the HTML representation or trust the notebook. <br />On GitHub, the HTML representation is unable to render, please try loading this page with nbviewer.org.</b></div><div class=\"sk-container\" hidden><div class=\"sk-item\"><div class=\"sk-estimator sk-toggleable\"><input class=\"sk-toggleable__control sk-hidden--visually\" id=\"sk-estimator-id-1\" type=\"checkbox\" checked><label for=\"sk-estimator-id-1\" class=\"sk-toggleable__label sk-toggleable__label-arrow\">MinMaxScaler</label><div class=\"sk-toggleable__content\"><pre>MinMaxScaler()</pre></div></div></div></div></div>"
      ],
      "text/plain": [
       "MinMaxScaler()"
      ]
     },
     "execution_count": 17,
     "metadata": {},
     "output_type": "execute_result"
    }
   ],
   "source": [
    "# 훈련, 테스트 데이터 스케일링\n",
    "mmscaler= MinMaxScaler()\n",
    "mmscaler.fit(x_train)"
   ]
  },
  {
   "cell_type": "code",
   "execution_count": 18,
   "metadata": {},
   "outputs": [
    {
     "data": {
      "text/plain": [
       "0      9.140596\n",
       "1     12.329176\n",
       "2     10.160942\n",
       "3     14.922554\n",
       "4      7.440020\n",
       "        ...    \n",
       "74    14.539925\n",
       "75     8.077736\n",
       "76     6.802304\n",
       "77     6.164588\n",
       "78    11.053744\n",
       "Name: KMpL, Length: 79, dtype: float64"
      ]
     },
     "execution_count": 18,
     "metadata": {},
     "output_type": "execute_result"
    }
   ],
   "source": [
    "# 스케일링저 인데스 초기화\n",
    "Y_test.reset_index(drop=True, inplace=True)\n",
    "X_test.reset_index(drop=True, inplace=True)\n",
    "Y_train.reset_index(drop=True, inplace=True)\n",
    "x_train.reset_index(drop=True, inplace=True)\n",
    "Y_test"
   ]
  },
  {
   "cell_type": "code",
   "execution_count": 19,
   "metadata": {},
   "outputs": [],
   "source": [
    "# 변환\n",
    "x_train_scaled=mmscaler.transform(x_train)\n",
    "X_test_scaled=mmscaler.transform(X_test)"
   ]
  },
  {
   "cell_type": "code",
   "execution_count": 20,
   "metadata": {},
   "outputs": [
    {
     "data": {
      "text/html": [
       "<style>#sk-container-id-2 {color: black;}#sk-container-id-2 pre{padding: 0;}#sk-container-id-2 div.sk-toggleable {background-color: white;}#sk-container-id-2 label.sk-toggleable__label {cursor: pointer;display: block;width: 100%;margin-bottom: 0;padding: 0.3em;box-sizing: border-box;text-align: center;}#sk-container-id-2 label.sk-toggleable__label-arrow:before {content: \"▸\";float: left;margin-right: 0.25em;color: #696969;}#sk-container-id-2 label.sk-toggleable__label-arrow:hover:before {color: black;}#sk-container-id-2 div.sk-estimator:hover label.sk-toggleable__label-arrow:before {color: black;}#sk-container-id-2 div.sk-toggleable__content {max-height: 0;max-width: 0;overflow: hidden;text-align: left;background-color: #f0f8ff;}#sk-container-id-2 div.sk-toggleable__content pre {margin: 0.2em;color: black;border-radius: 0.25em;background-color: #f0f8ff;}#sk-container-id-2 input.sk-toggleable__control:checked~div.sk-toggleable__content {max-height: 200px;max-width: 100%;overflow: auto;}#sk-container-id-2 input.sk-toggleable__control:checked~label.sk-toggleable__label-arrow:before {content: \"▾\";}#sk-container-id-2 div.sk-estimator input.sk-toggleable__control:checked~label.sk-toggleable__label {background-color: #d4ebff;}#sk-container-id-2 div.sk-label input.sk-toggleable__control:checked~label.sk-toggleable__label {background-color: #d4ebff;}#sk-container-id-2 input.sk-hidden--visually {border: 0;clip: rect(1px 1px 1px 1px);clip: rect(1px, 1px, 1px, 1px);height: 1px;margin: -1px;overflow: hidden;padding: 0;position: absolute;width: 1px;}#sk-container-id-2 div.sk-estimator {font-family: monospace;background-color: #f0f8ff;border: 1px dotted black;border-radius: 0.25em;box-sizing: border-box;margin-bottom: 0.5em;}#sk-container-id-2 div.sk-estimator:hover {background-color: #d4ebff;}#sk-container-id-2 div.sk-parallel-item::after {content: \"\";width: 100%;border-bottom: 1px solid gray;flex-grow: 1;}#sk-container-id-2 div.sk-label:hover label.sk-toggleable__label {background-color: #d4ebff;}#sk-container-id-2 div.sk-serial::before {content: \"\";position: absolute;border-left: 1px solid gray;box-sizing: border-box;top: 0;bottom: 0;left: 50%;z-index: 0;}#sk-container-id-2 div.sk-serial {display: flex;flex-direction: column;align-items: center;background-color: white;padding-right: 0.2em;padding-left: 0.2em;position: relative;}#sk-container-id-2 div.sk-item {position: relative;z-index: 1;}#sk-container-id-2 div.sk-parallel {display: flex;align-items: stretch;justify-content: center;background-color: white;position: relative;}#sk-container-id-2 div.sk-item::before, #sk-container-id-2 div.sk-parallel-item::before {content: \"\";position: absolute;border-left: 1px solid gray;box-sizing: border-box;top: 0;bottom: 0;left: 50%;z-index: -1;}#sk-container-id-2 div.sk-parallel-item {display: flex;flex-direction: column;z-index: 1;position: relative;background-color: white;}#sk-container-id-2 div.sk-parallel-item:first-child::after {align-self: flex-end;width: 50%;}#sk-container-id-2 div.sk-parallel-item:last-child::after {align-self: flex-start;width: 50%;}#sk-container-id-2 div.sk-parallel-item:only-child::after {width: 0;}#sk-container-id-2 div.sk-dashed-wrapped {border: 1px dashed gray;margin: 0 0.4em 0.5em 0.4em;box-sizing: border-box;padding-bottom: 0.4em;background-color: white;}#sk-container-id-2 div.sk-label label {font-family: monospace;font-weight: bold;display: inline-block;line-height: 1.2em;}#sk-container-id-2 div.sk-label-container {text-align: center;}#sk-container-id-2 div.sk-container {/* jupyter's `normalize.less` sets `[hidden] { display: none; }` but bootstrap.min.css set `[hidden] { display: none !important; }` so we also need the `!important` here to be able to override the default hidden behavior on the sphinx rendered scikit-learn.org. See: https://github.com/scikit-learn/scikit-learn/issues/21755 */display: inline-block !important;position: relative;}#sk-container-id-2 div.sk-text-repr-fallback {display: none;}</style><div id=\"sk-container-id-2\" class=\"sk-top-container\"><div class=\"sk-text-repr-fallback\"><pre>LinearRegression()</pre><b>In a Jupyter environment, please rerun this cell to show the HTML representation or trust the notebook. <br />On GitHub, the HTML representation is unable to render, please try loading this page with nbviewer.org.</b></div><div class=\"sk-container\" hidden><div class=\"sk-item\"><div class=\"sk-estimator sk-toggleable\"><input class=\"sk-toggleable__control sk-hidden--visually\" id=\"sk-estimator-id-2\" type=\"checkbox\" checked><label for=\"sk-estimator-id-2\" class=\"sk-toggleable__label sk-toggleable__label-arrow\">LinearRegression</label><div class=\"sk-toggleable__content\"><pre>LinearRegression()</pre></div></div></div></div></div>"
      ],
      "text/plain": [
       "LinearRegression()"
      ]
     },
     "execution_count": 20,
     "metadata": {},
     "output_type": "execute_result"
    }
   ],
   "source": [
    "# 모델 생성\n",
    "model= LinearRegression()\n",
    "model.fit(x_train_scaled, Y_train)"
   ]
  },
  {
   "cell_type": "code",
   "execution_count": 21,
   "metadata": {},
   "outputs": [],
   "source": [
    "pre=model.predict(X_test_scaled)"
   ]
  },
  {
   "cell_type": "code",
   "execution_count": 37,
   "metadata": {},
   "outputs": [],
   "source": [
    "# 성능 평가\n",
    "s= model.score(X_test_scaled, Y_test)\n",
    "a=r2_score(Y_test, pre)\n",
    "b=mean_absolute_error(Y_test, pre)\n",
    "c=mean_squared_error(Y_test, pre)"
   ]
  },
  {
   "cell_type": "code",
   "execution_count": 38,
   "metadata": {},
   "outputs": [
    {
     "name": "stdout",
     "output_type": "stream",
     "text": [
      "score= 0.7790584168854972\n",
      "r2score= 0.7790584168854972\n",
      "mae= 1.1625168075953356\n",
      "mse= 2.4501589025145694\n"
     ]
    }
   ],
   "source": [
    "print(f'score= {s}')\n",
    "print(f'r2score= {a}')\n",
    "print(f'mae= {b}')\n",
    "print(f'mse= {c}')"
   ]
  },
  {
   "cell_type": "code",
   "execution_count": 23,
   "metadata": {},
   "outputs": [
    {
     "data": {
      "text/plain": [
       "<matplotlib.legend.Legend at 0x212153fa220>"
      ]
     },
     "execution_count": 23,
     "metadata": {},
     "output_type": "execute_result"
    },
    {
     "data": {
      "image/png": "[encoded data removed]",
      "text/plain": [
       "<Figure size 640x480 with 1 Axes>"
      ]
     },
     "metadata": {},
     "output_type": "display_data"
    }
   ],
   "source": [
    "# 산점도로 예상과 실제 비교 ->피쳐 개수가 많아서 불가능 (간단하게 피쳐 하나만 비교)\n",
    "plt.scatter(X_test['weight'], pre, marker='^', color='blue', label='예측')\n",
    "plt.scatter(X_test['weight'], Y_test, marker='*', color='red', label='실제')\n",
    "plt.xlabel('배기량')\n",
    "plt.ylabel('연비')\n",
    "plt.legend()"
   ]
  },
  {
   "cell_type": "code",
   "execution_count": 24,
   "metadata": {},
   "outputs": [
    {
     "data": {
      "text/html": [
       "<style>#sk-container-id-3 {color: black;}#sk-container-id-3 pre{padding: 0;}#sk-container-id-3 div.sk-toggleable {background-color: white;}#sk-container-id-3 label.sk-toggleable__label {cursor: pointer;display: block;width: 100%;margin-bottom: 0;padding: 0.3em;box-sizing: border-box;text-align: center;}#sk-container-id-3 label.sk-toggleable__label-arrow:before {content: \"▸\";float: left;margin-right: 0.25em;color: #696969;}#sk-container-id-3 label.sk-toggleable__label-arrow:hover:before {color: black;}#sk-container-id-3 div.sk-estimator:hover label.sk-toggleable__label-arrow:before {color: black;}#sk-container-id-3 div.sk-toggleable__content {max-height: 0;max-width: 0;overflow: hidden;text-align: left;background-color: #f0f8ff;}#sk-container-id-3 div.sk-toggleable__content pre {margin: 0.2em;color: black;border-radius: 0.25em;background-color: #f0f8ff;}#sk-container-id-3 input.sk-toggleable__control:checked~div.sk-toggleable__content {max-height: 200px;max-width: 100%;overflow: auto;}#sk-container-id-3 input.sk-toggleable__control:checked~label.sk-toggleable__label-arrow:before {content: \"▾\";}#sk-container-id-3 div.sk-estimator input.sk-toggleable__control:checked~label.sk-toggleable__label {background-color: #d4ebff;}#sk-container-id-3 div.sk-label input.sk-toggleable__control:checked~label.sk-toggleable__label {background-color: #d4ebff;}#sk-container-id-3 input.sk-hidden--visually {border: 0;clip: rect(1px 1px 1px 1px);clip: rect(1px, 1px, 1px, 1px);height: 1px;margin: -1px;overflow: hidden;padding: 0;position: absolute;width: 1px;}#sk-container-id-3 div.sk-estimator {font-family: monospace;background-color: #f0f8ff;border: 1px dotted black;border-radius: 0.25em;box-sizing: border-box;margin-bottom: 0.5em;}#sk-container-id-3 div.sk-estimator:hover {background-color: #d4ebff;}#sk-container-id-3 div.sk-parallel-item::after {content: \"\";width: 100%;border-bottom: 1px solid gray;flex-grow: 1;}#sk-container-id-3 div.sk-label:hover label.sk-toggleable__label {background-color: #d4ebff;}#sk-container-id-3 div.sk-serial::before {content: \"\";position: absolute;border-left: 1px solid gray;box-sizing: border-box;top: 0;bottom: 0;left: 50%;z-index: 0;}#sk-container-id-3 div.sk-serial {display: flex;flex-direction: column;align-items: center;background-color: white;padding-right: 0.2em;padding-left: 0.2em;position: relative;}#sk-container-id-3 div.sk-item {position: relative;z-index: 1;}#sk-container-id-3 div.sk-parallel {display: flex;align-items: stretch;justify-content: center;background-color: white;position: relative;}#sk-container-id-3 div.sk-item::before, #sk-container-id-3 div.sk-parallel-item::before {content: \"\";position: absolute;border-left: 1px solid gray;box-sizing: border-box;top: 0;bottom: 0;left: 50%;z-index: -1;}#sk-container-id-3 div.sk-parallel-item {display: flex;flex-direction: column;z-index: 1;position: relative;background-color: white;}#sk-container-id-3 div.sk-parallel-item:first-child::after {align-self: flex-end;width: 50%;}#sk-container-id-3 div.sk-parallel-item:last-child::after {align-self: flex-start;width: 50%;}#sk-container-id-3 div.sk-parallel-item:only-child::after {width: 0;}#sk-container-id-3 div.sk-dashed-wrapped {border: 1px dashed gray;margin: 0 0.4em 0.5em 0.4em;box-sizing: border-box;padding-bottom: 0.4em;background-color: white;}#sk-container-id-3 div.sk-label label {font-family: monospace;font-weight: bold;display: inline-block;line-height: 1.2em;}#sk-container-id-3 div.sk-label-container {text-align: center;}#sk-container-id-3 div.sk-container {/* jupyter's `normalize.less` sets `[hidden] { display: none; }` but bootstrap.min.css set `[hidden] { display: none !important; }` so we also need the `!important` here to be able to override the default hidden behavior on the sphinx rendered scikit-learn.org. See: https://github.com/scikit-learn/scikit-learn/issues/21755 */display: inline-block !important;position: relative;}#sk-container-id-3 div.sk-text-repr-fallback {display: none;}</style><div id=\"sk-container-id-3\" class=\"sk-top-container\"><div class=\"sk-text-repr-fallback\"><pre>LinearRegression()</pre><b>In a Jupyter environment, please rerun this cell to show the HTML representation or trust the notebook. <br />On GitHub, the HTML representation is unable to render, please try loading this page with nbviewer.org.</b></div><div class=\"sk-container\" hidden><div class=\"sk-item\"><div class=\"sk-estimator sk-toggleable\"><input class=\"sk-toggleable__control sk-hidden--visually\" id=\"sk-estimator-id-3\" type=\"checkbox\" checked><label for=\"sk-estimator-id-3\" class=\"sk-toggleable__label sk-toggleable__label-arrow\">LinearRegression</label><div class=\"sk-toggleable__content\"><pre>LinearRegression()</pre></div></div></div></div></div>"
      ],
      "text/plain": [
       "LinearRegression()"
      ]
     },
     "execution_count": 24,
     "metadata": {},
     "output_type": "execute_result"
    }
   ],
   "source": [
    "# ++ 스케일링 안했을떄?\n",
    "model2= LinearRegression()\n",
    "model2.fit(x_train, Y_train)"
   ]
  },
  {
   "cell_type": "code",
   "execution_count": 25,
   "metadata": {},
   "outputs": [
    {
     "data": {
      "text/plain": [
       "0.7790584168854974"
      ]
     },
     "execution_count": 25,
     "metadata": {},
     "output_type": "execute_result"
    }
   ],
   "source": [
    "model2.score(X_test,Y_test)  #거의 비슷"
   ]
  }
 ],
 "metadata": {
  "kernelspec": {
   "display_name": "ML_38",
   "language": "python",
   "name": "python3"
  },
  "language_info": {
   "codemirror_mode": {
    "name": "ipython",
    "version": 3
   },
   "file_extension": ".py",
   "mimetype": "text/x-python",
   "name": "python",
   "nbconvert_exporter": "python",
   "pygments_lexer": "ipython3",
   "version": "3.8.19"
  }
 },
 "nbformat": 4,
 "nbformat_minor": 2
}
