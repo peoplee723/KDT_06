{
 "cells": [
  {
   "cell_type": "code",
   "execution_count": 1,
   "metadata": {},
   "outputs": [],
   "source": [
    "import numpy as np"
   ]
  },
  {
   "cell_type": "code",
   "execution_count": 2,
   "metadata": {},
   "outputs": [
    {
     "name": "stdout",
     "output_type": "stream",
     "text": [
      "<module 'numpy' from 'c:\\\\Users\\\\KDP-25\\\\anaconda3\\\\envs\\\\PY_39\\\\lib\\\\site-packages\\\\numpy\\\\__init__.py'>\n"
     ]
    }
   ],
   "source": [
    "print(np)"
   ]
  },
  {
   "cell_type": "code",
   "execution_count": 4,
   "metadata": {},
   "outputs": [
    {
     "name": "stdout",
     "output_type": "stream",
     "text": [
      "T\n",
      "all\n",
      "any\n",
      "argmax\n",
      "argmin\n",
      "argpartition\n",
      "argsort\n",
      "astype\n",
      "base\n",
      "byteswap\n",
      "choose\n",
      "clip\n",
      "compress\n",
      "conj\n",
      "conjugate\n",
      "copy\n",
      "ctypes\n",
      "cumprod\n",
      "cumsum\n",
      "data\n",
      "diagonal\n",
      "dot\n",
      "dtype\n",
      "dump\n",
      "dumps\n",
      "fill\n",
      "flags\n",
      "flat\n",
      "flatten\n",
      "getfield\n",
      "imag\n",
      "item\n",
      "itemset\n",
      "itemsize\n",
      "max\n",
      "mean\n",
      "min\n",
      "nbytes\n",
      "ndim\n",
      "newbyteorder\n",
      "nonzero\n",
      "partition\n",
      "prod\n",
      "ptp\n",
      "put\n",
      "ravel\n",
      "real\n",
      "repeat\n",
      "reshape\n",
      "resize\n",
      "round\n",
      "searchsorted\n",
      "setfield\n",
      "setflags\n",
      "shape\n",
      "size\n",
      "sort\n",
      "squeeze\n",
      "std\n",
      "strides\n",
      "sum\n",
      "swapaxes\n",
      "take\n",
      "tobytes\n",
      "tofile\n",
      "tolist\n",
      "tostring\n",
      "trace\n",
      "transpose\n",
      "var\n",
      "view\n"
     ]
    }
   ],
   "source": [
    "for i in dir(np.ndarray):\n",
    "    if not i.startswith(\"_\"):\n",
    "        if type(np.ndarray.__dict__) != type(np.ndarray.var):\n",
    "            print(i)"
   ]
  },
  {
   "cell_type": "code",
   "execution_count": 6,
   "metadata": {},
   "outputs": [
    {
     "name": "stdout",
     "output_type": "stream",
     "text": [
      "[1 2 3 4]\n",
      "<class 'numpy.ndarray'>\n"
     ]
    },
    {
     "data": {
      "text/plain": [
       "numpy.ndarray"
      ]
     },
     "execution_count": 6,
     "metadata": {},
     "output_type": "execute_result"
    }
   ],
   "source": [
    "# 리스트나 튜플에 array함수 사용해서 다차원 배열 생성\n",
    "\n",
    "i= [1,2,3,4]\n",
    "a=np.array(i)\n",
    "print(a)\n",
    "print(type(a))\n",
    "\n",
    "t=(1,2,3,4)\n",
    "b=np.array(t)\n",
    "type(b)"
   ]
  },
  {
   "cell_type": "code",
   "execution_count": 7,
   "metadata": {},
   "outputs": [
    {
     "name": "stdout",
     "output_type": "stream",
     "text": [
      "<memory at 0x0000021B707DAE80>\n",
      "[1 2 3 4]\n",
      "<class 'numpy.ndarray'>\n"
     ]
    }
   ],
   "source": [
    "# 다차원배열은 메모리에서 데이터 관리-> obj속성으로 접근 가능\n",
    "\n",
    "print(a.data)\n",
    "print(a.data.obj)\n",
    "print(type(a.data.obj))"
   ]
  },
  {
   "cell_type": "code",
   "execution_count": 9,
   "metadata": {},
   "outputs": [
    {
     "name": "stdout",
     "output_type": "stream",
     "text": [
      "[1. 2. 3. 4.] float64\n"
     ]
    }
   ],
   "source": [
    "# 자료형 지정 가능, 미지정시 내부적으로 결정\n",
    "e= np.array(i, dtype=np.float64)\n",
    "print(e, e.dtype)"
   ]
  },
  {
   "cell_type": "code",
   "execution_count": 10,
   "metadata": {},
   "outputs": [
    {
     "name": "stdout",
     "output_type": "stream",
     "text": [
      "(2, 3)\n",
      "2\n",
      "int32\n",
      "4\n",
      "6\n",
      "(12, 4)\n"
     ]
    }
   ],
   "source": [
    "# 2차원 배열\n",
    "# itemsize=> 하나의 원소크기\n",
    "# strides=> 원소와 하나의 행의 바이트크기\n",
    "\n",
    "a2= np.array([[1,2,3], [4,5,6]])\n",
    "print(a2.shape, a2.ndim, a2.dtype, a2.itemsize, \n",
    "      a2.size, a2.strides, sep='\\n')\n"
   ]
  },
  {
   "cell_type": "code",
   "execution_count": 16,
   "metadata": {},
   "outputs": [
    {
     "name": "stdout",
     "output_type": "stream",
     "text": [
      "48\n",
      "swapaxes min sort trace partition \n",
      "prod take conjugate ptp conj \n",
      "__dir__ ndim cumprod compress put \n",
      "repeat __doc__ clip imag mean \n",
      "diagonal reshape transpose size shape \n",
      "real searchsorted ravel choose std \n",
      "nonzero any argmax squeeze argpartition \n",
      "argmin nbytes resize dot sum \n",
      "dtype var copy argsort cumsum \n",
      "all max round "
     ]
    }
   ],
   "source": [
    "# 같은 이름의 함수와 메소드\n",
    "np_=set(dir(np))\n",
    "nd_= set(dir(np.ndarray))\n",
    "npd_=np_&nd_\n",
    "print(len(npd_))\n",
    "\n",
    "count=0\n",
    "for i in list(npd_):\n",
    "    count+=1\n",
    "    print(i, end=' ')\n",
    "    if count% 5==0:\n",
    "        print()"
   ]
  },
  {
   "cell_type": "code",
   "execution_count": 18,
   "metadata": {},
   "outputs": [
    {
     "name": "stdout",
     "output_type": "stream",
     "text": [
      "abs absolute add arccos arccosh \n",
      "arcsin arcsinh arctan arctan2 arctanh \n",
      "bitwise_and bitwise_not bitwise_or bitwise_xor cbrt \n",
      "ceil conj conjugate copysign cos \n",
      "cosh deg2rad degrees divide divmod \n",
      "equal exp exp2 expm1 fabs \n",
      "float_power floor floor_divide fmax fmin \n",
      "fmod frexp gcd greater greater_equal \n",
      "heaviside hypot invert isfinite isinf \n",
      "isnan isnat lcm ldexp left_shift \n",
      "less less_equal log log10 log1p \n",
      "log2 logaddexp logaddexp2 logical_and logical_not \n",
      "logical_or logical_xor matmul maximum minimum \n",
      "mod modf multiply negative nextafter \n",
      "not_equal positive power rad2deg radians \n",
      "reciprocal remainder right_shift rint sign \n",
      "signbit sin sinh spacing sqrt \n",
      "square subtract tan tanh "
     ]
    },
    {
     "ename": "KeyError",
     "evalue": "'testing'",
     "output_type": "error",
     "traceback": [
      "\u001b[1;31m---------------------------------------------------------------------------\u001b[0m",
      "\u001b[1;31mKeyError\u001b[0m                                  Traceback (most recent call last)",
      "Cell \u001b[1;32mIn[18], line 8\u001b[0m\n\u001b[0;32m      6\u001b[0m \u001b[38;5;28;01mif\u001b[39;00m i\u001b[38;5;241m==\u001b[39m\u001b[38;5;124m'\u001b[39m\u001b[38;5;124mTester\u001b[39m\u001b[38;5;124m'\u001b[39m:\n\u001b[0;32m      7\u001b[0m     \u001b[38;5;28;01mcontinue\u001b[39;00m\n\u001b[1;32m----> 8\u001b[0m \u001b[38;5;28;01mif\u001b[39;00m \u001b[38;5;28mtype\u001b[39m(\u001b[43mnp\u001b[49m\u001b[38;5;241;43m.\u001b[39;49m\u001b[38;5;18;43m__dict__\u001b[39;49m\u001b[43m[\u001b[49m\u001b[43mi\u001b[49m\u001b[43m]\u001b[49m)\u001b[38;5;241m==\u001b[39m np\u001b[38;5;241m.\u001b[39mufunc:\n\u001b[0;32m      9\u001b[0m     \u001b[38;5;28mprint\u001b[39m(i, end\u001b[38;5;241m=\u001b[39m\u001b[38;5;124m'\u001b[39m\u001b[38;5;124m \u001b[39m\u001b[38;5;124m'\u001b[39m)\n\u001b[0;32m     10\u001b[0m     count\u001b[38;5;241m+\u001b[39m\u001b[38;5;241m=\u001b[39m\u001b[38;5;241m1\u001b[39m\n",
      "\u001b[1;31mKeyError\u001b[0m: 'testing'"
     ]
    }
   ],
   "source": [
    "# 특징-> 반복문을 사용하지 않는 계산(벡터화 연산)\n",
    "a= dir(np)\n",
    "np.ufunc\n",
    "count=0\n",
    "for i in a:\n",
    "    if i=='Tester':\n",
    "        continue\n",
    "    if type(np.__dict__[i])== np.ufunc:\n",
    "        print(i, end=' ')\n",
    "        count+=1\n",
    "        if count%5== 0:\n",
    "            print()"
   ]
  },
  {
   "cell_type": "code",
   "execution_count": 19,
   "metadata": {},
   "outputs": [
    {
     "name": "stdout",
     "output_type": "stream",
     "text": [
      "[6 7 8 9]\n",
      "[10 11 12 13]\n"
     ]
    },
    {
     "data": {
      "text/plain": [
       "array([ 60,  77,  96, 117])"
      ]
     },
     "execution_count": 19,
     "metadata": {},
     "output_type": "execute_result"
    }
   ],
   "source": [
    "# 벡터화 연산\n",
    "# -> 배열의 같은 위치의 원소끼리 계산을 자동으로 처리하는 기능\n",
    "a= np.arange(6,10)\n",
    "print(a)\n",
    "b= np.arange(10,14)\n",
    "print(b)\n",
    "c=a*b\n",
    "c  #알어서 일대일 대조후  계산-> 개수 불일치시 에러"
   ]
  },
  {
   "cell_type": "code",
   "execution_count": 20,
   "metadata": {},
   "outputs": [
    {
     "name": "stdout",
     "output_type": "stream",
     "text": [
      "[[999 999]\n",
      " [  3   4]]\n",
      "[[999 999]\n",
      " [  3   4]]\n"
     ]
    }
   ],
   "source": [
    "# 배열 다른 변수에 할당시 공유 (수정시 원본도 수정됨)\n",
    "a= np.array([[1,2], [3,4]])\n",
    "b=a\n",
    "b[0]=999\n",
    "print(a, b, sep='\\n')"
   ]
  },
  {
   "cell_type": "code",
   "execution_count": 21,
   "metadata": {},
   "outputs": [
    {
     "data": {
      "text/plain": [
       "False"
      ]
     },
     "execution_count": 21,
     "metadata": {},
     "output_type": "execute_result"
    }
   ],
   "source": [
    "# 다른 메모리 할당-> copy사용\n",
    "f= np.array([4,5,6,7,8])\n",
    "e=f.copy()\n",
    "np.shares_memory(f,e)"
   ]
  },
  {
   "cell_type": "code",
   "execution_count": 24,
   "metadata": {},
   "outputs": [
    {
     "name": "stdout",
     "output_type": "stream",
     "text": [
      "[2, 3]\n"
     ]
    },
    {
     "data": {
      "text/plain": [
       "[2, 3]"
      ]
     },
     "execution_count": 24,
     "metadata": {},
     "output_type": "execute_result"
    }
   ],
   "source": [
    "# 리스트검색 list[i]= list.__getitem__(i) 와 동일\n",
    "# i에는 값, 인덱스, 논리 등 가능\n",
    "# 인덱스 슬라이싱도 slice(a,b)와 동일\n",
    "i= list(range(1,10))\n",
    "print(i.__getitem__(slice(1,3)))\n",
    "i[1:3]"
   ]
  },
  {
   "cell_type": "code",
   "execution_count": 25,
   "metadata": {},
   "outputs": [
    {
     "name": "stdout",
     "output_type": "stream",
     "text": [
      "0 ()\n"
     ]
    }
   ],
   "source": [
    "# scalar-> 0차원(단일원소)\n",
    "# shape 없음\n",
    "a=np.array(43)\n",
    "print(a.ndim, a.shape)"
   ]
  },
  {
   "cell_type": "code",
   "execution_count": 27,
   "metadata": {},
   "outputs": [
    {
     "name": "stdout",
     "output_type": "stream",
     "text": [
      "1 (1,)\n"
     ]
    }
   ],
   "source": [
    "# vector-> 1차원\n",
    "v= np.array([43])\n",
    "print(v.ndim, v.shape)"
   ]
  },
  {
   "cell_type": "code",
   "execution_count": 30,
   "metadata": {},
   "outputs": [
    {
     "name": "stdout",
     "output_type": "stream",
     "text": [
      "[10.5 11.  11.5 12.  12.5 13.  13.5 14.  14.5 15.  15.5 16.  16.5 17.\n",
      " 17.5 18.  18.5 19.  19.5 20. ] float64 20\n"
     ]
    }
   ],
   "source": [
    "# np.arrage()\n",
    "# range()함수와 동일\n",
    "v1= np.arange(10.5, 20.5, 0.5)\n",
    "print(v1, v1.dtype, v1.size)"
   ]
  },
  {
   "cell_type": "code",
   "execution_count": null,
   "metadata": {},
   "outputs": [],
   "source": [
    "# np.linspace(시작, 끝, 총원소개수)\n",
    "# 총 원소의 개수에 맞춰서 배열 생성\n",
    "# endpoint= 끝 포함여부, retstep= 간격보여주기\n",
    "lal= np.linspace(1,10,10, endpoint=False, retstep=True)"
   ]
  },
  {
   "cell_type": "code",
   "execution_count": null,
   "metadata": {},
   "outputs": [],
   "source": []
  },
  {
   "cell_type": "code",
   "execution_count": 31,
   "metadata": {},
   "outputs": [
    {
     "data": {
      "text/plain": [
       "5.0"
      ]
     },
     "execution_count": 31,
     "metadata": {},
     "output_type": "execute_result"
    }
   ],
   "source": [
    "# ppt.36\n",
    "# 벡터 크기-> linalg 모듈, norm 함수 사용\n",
    "v=np.arange(3,5)\n",
    "np.linalg.norm(v)"
   ]
  },
  {
   "cell_type": "code",
   "execution_count": 33,
   "metadata": {},
   "outputs": [
    {
     "name": "stdout",
     "output_type": "stream",
     "text": [
      "1.0\n"
     ]
    },
    {
     "data": {
      "text/plain": [
       "1.0"
      ]
     },
     "execution_count": 33,
     "metadata": {},
     "output_type": "execute_result"
    }
   ],
   "source": [
    "# 표준 단위벡터-> ei => i에 해당하는 인덱스의 원소만 1로 가짐\n",
    "e1= np.array([1,0,0])\n",
    "print(np.linalg.norm(e1))\n",
    "\n",
    "e3=np.array([0,0,1])\n",
    "np.linalg.norm(e3)"
   ]
  },
  {
   "cell_type": "code",
   "execution_count": 34,
   "metadata": {},
   "outputs": [
    {
     "data": {
      "text/plain": [
       "1.0"
      ]
     },
     "execution_count": 34,
     "metadata": {},
     "output_type": "execute_result"
    }
   ],
   "source": [
    "# 단위벡터 -> 정규화벡터 크기/벡터 원소\n",
    "\n",
    "v_3= np.array([1,2,3])\n",
    "v_3_n= np.linalg.norm(v_3)\n",
    "v_3_u= v_3/ v_3_n\n",
    "\n",
    "np.linalg.norm(v_3_u)\n"
   ]
  },
  {
   "cell_type": "code",
   "execution_count": 35,
   "metadata": {},
   "outputs": [],
   "source": [
    "# 벡터의 상등-> 방향과 크기가 같다"
   ]
  },
  {
   "cell_type": "code",
   "execution_count": 37,
   "metadata": {},
   "outputs": [
    {
     "data": {
      "text/plain": [
       "17.320508075688775"
      ]
     },
     "execution_count": 37,
     "metadata": {},
     "output_type": "execute_result"
    }
   ],
   "source": [
    "# 두 벡터의 거리-> 벡터 차^2의 합의 제곱근\n",
    "\n",
    "c=np.arange(10,13)\n",
    "d=np.arange(0,3)\n",
    "np.sqrt(np.sum(np.square(c-d)))\n",
    "np.linalg.norm(c-d)\n"
   ]
  },
  {
   "cell_type": "markdown",
   "metadata": {},
   "source": [
    "### 행렬"
   ]
  },
  {
   "cell_type": "code",
   "execution_count": 39,
   "metadata": {},
   "outputs": [
    {
     "name": "stdout",
     "output_type": "stream",
     "text": [
      "2 (2, 1)\n"
     ]
    }
   ],
   "source": [
    "# 2차월 배열을 통해 생성\n",
    "A= np.array([[43], [44]])\n",
    "print(A.ndim, A.shape)"
   ]
  },
  {
   "cell_type": "code",
   "execution_count": 40,
   "metadata": {},
   "outputs": [
    {
     "data": {
      "text/plain": [
       "2"
      ]
     },
     "execution_count": 40,
     "metadata": {},
     "output_type": "execute_result"
    }
   ],
   "source": [
    "# 행렬랭크-> 내부 벡터의 조합으로 구성할 수 없는 벡터의 개수\n",
    "\n",
    "c1= np.array([[1,2,4], [2,4,8], [3,4,5]])\n",
    "np.linalg.matrix_rank(c1)"
   ]
  },
  {
   "cell_type": "code",
   "execution_count": 41,
   "metadata": {},
   "outputs": [
    {
     "name": "stdout",
     "output_type": "stream",
     "text": [
      "[[1]\n",
      " [2]]\n"
     ]
    }
   ],
   "source": [
    "# 차원 확장\n",
    "x=np.array([1,2])\n",
    "y=np.expand_dims(x, axis=1)\n",
    "print(y)"
   ]
  },
  {
   "cell_type": "code",
   "execution_count": 42,
   "metadata": {},
   "outputs": [
    {
     "name": "stdout",
     "output_type": "stream",
     "text": [
      "[1 4 5 4 5 6 7 8 9]\n",
      "[1 4 5 4 5 6 7 8 9]\n"
     ]
    }
   ],
   "source": [
    "# 차원 축소\n",
    "\n",
    "x= np.array([[1,4,5], [4,5,6], [7,8,9]])\n",
    "print(x.flatten())\n",
    "print(x.ravel())"
   ]
  },
  {
   "cell_type": "code",
   "execution_count": null,
   "metadata": {},
   "outputs": [],
   "source": [
    "# 정사각행렬\n"
   ]
  }
 ],
 "metadata": {
  "kernelspec": {
   "display_name": "PY_39",
   "language": "python",
   "name": "python3"
  },
  "language_info": {
   "codemirror_mode": {
    "name": "ipython",
    "version": 3
   },
   "file_extension": ".py",
   "mimetype": "text/x-python",
   "name": "python",
   "nbconvert_exporter": "python",
   "pygments_lexer": "ipython3",
   "version": "3.9.19"
  }
 },
 "nbformat": 4,
 "nbformat_minor": 2
}
