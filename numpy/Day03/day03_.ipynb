{
 "cells": [
  {
   "cell_type": "markdown",
   "metadata": {},
   "source": [
    "### 내부 조작 함수"
   ]
  },
  {
   "cell_type": "code",
   "execution_count": 3,
   "metadata": {},
   "outputs": [],
   "source": [
    "import numpy as np\n"
   ]
  },
  {
   "cell_type": "code",
   "execution_count": 1,
   "metadata": {},
   "outputs": [],
   "source": [
    "# 원소 기준 정렬-> sort, np.sort"
   ]
  },
  {
   "cell_type": "code",
   "execution_count": 6,
   "metadata": {},
   "outputs": [
    {
     "name": "stdout",
     "output_type": "stream",
     "text": [
      "[6 2 1 3 4 5]\n"
     ]
    },
    {
     "data": {
      "text/plain": [
       "array([2, 1, 3, 4, 5, 0], dtype=int64)"
      ]
     },
     "execution_count": 6,
     "metadata": {},
     "output_type": "execute_result"
    }
   ],
   "source": [
    "# numpy.argsort-> 원소 기준 정렬한 것을 인덱스로 보여줌\n",
    "bb= np.linspace(1,6,6, dtype=np.int32)\n",
    "np.random.shuffle(bb)\n",
    "print(bb)\n",
    "np.argsort(bb) \n",
    "#-> 기존 데이터를 바꾸지 않고 카피하는 수고를 덜어줌"
   ]
  },
  {
   "cell_type": "code",
   "execution_count": 8,
   "metadata": {},
   "outputs": [
    {
     "name": "stdout",
     "output_type": "stream",
     "text": [
      "[1. 1. 1. 1. 1. 1. 1. 1. 1. 1.]\n",
      "[100. 100. 100. 100. 100. 100. 100. 100. 100. 100.]\n"
     ]
    },
    {
     "data": {
      "text/plain": [
       "array([99., 99., 99., 99., 99., 99., 99., 99., 99., 99.])"
      ]
     },
     "execution_count": 8,
     "metadata": {},
     "output_type": "execute_result"
    }
   ],
   "source": [
    "# 배열 값 변경\n",
    "#모든 원소가 1인 배열 생성\n",
    "o= np.ones(10)\n",
    "print(o)\n",
    "\n",
    "#값 변경\n",
    "o.fill(100)\n",
    "print(o)\n",
    "\n",
    "#원하는 동일한 수로 이루어진 배열 생성\n",
    "a= np.full(o.shape, 99.)\n",
    "a"
   ]
  },
  {
   "cell_type": "code",
   "execution_count": 12,
   "metadata": {},
   "outputs": [
    {
     "name": "stdout",
     "output_type": "stream",
     "text": [
      "[[0 1]\n",
      " [2 3]]\n",
      "[[1 0]\n",
      " [3 2]]\n",
      "[[2 3]\n",
      " [0 1]]\n"
     ]
    },
    {
     "data": {
      "text/plain": [
       "array([[1, 3],\n",
       "       [0, 2]])"
      ]
     },
     "execution_count": 12,
     "metadata": {},
     "output_type": "execute_result"
    }
   ],
   "source": [
    "# 위치변경 및 이동\n",
    "array= np.arange(4).reshape((2,2))\n",
    "print(array)\n",
    "# 좌우 반전 (lr)\n",
    "print(np.fliplr(array))\n",
    "# 상하 반전 (ud)\n",
    "print(np.flipud(array))\n",
    "# 회전\n",
    "np.rot90(array,1) #반시계, 90도\n",
    "\n"
   ]
  },
  {
   "cell_type": "code",
   "execution_count": 13,
   "metadata": {},
   "outputs": [
    {
     "name": "stdout",
     "output_type": "stream",
     "text": [
      "[[-1.48453101  0.01416405 -2.47769815 -1.90545283 -0.31149176]\n",
      " [-2.43987736 -0.37562139 -0.53226058 -0.54137433 -0.1969662 ]\n",
      " [-0.16588053  0.59690686  0.41603297  0.85571745 -1.42728333]]\n"
     ]
    },
    {
     "data": {
      "text/plain": [
       "array([[False, False, False, False, False],\n",
       "       [False, False, False, False, False],\n",
       "       [False, False, False, False, False]])"
      ]
     },
     "execution_count": 13,
     "metadata": {},
     "output_type": "execute_result"
    }
   ],
   "source": [
    "# 원소 점검\n",
    "m= np.random.randn(3,5)\n",
    "print(m)\n",
    "# 실수 확인\n",
    "np.isreal(m)\n",
    "# 무한대 확인\n",
    "np.isinf(m)\n",
    "# nan 확인\n",
    "np.isnan(m)"
   ]
  },
  {
   "cell_type": "markdown",
   "metadata": {},
   "source": [
    "### padding 처리"
   ]
  },
  {
   "cell_type": "code",
   "execution_count": 16,
   "metadata": {},
   "outputs": [
    {
     "name": "stdout",
     "output_type": "stream",
     "text": [
      "[[1 2]\n",
      " [3 4]]\n",
      "[[1. 2. 0.]\n",
      " [3. 4. 0.]\n",
      " [0. 0. 0.]]\n"
     ]
    }
   ],
   "source": [
    "# 패딩\n",
    "# 기존 배열 밖에 원소 붙여서 배열 확장\n",
    "x= np.arange(1,5).reshape(2,2)\n",
    "print(x)\n",
    "z= np.zeros((3,3))\n",
    "z[:2, :2]=x\n",
    "print(z)"
   ]
  },
  {
   "cell_type": "code",
   "execution_count": 19,
   "metadata": {},
   "outputs": [
    {
     "name": "stdout",
     "output_type": "stream",
     "text": [
      "[[1 2 0]\n",
      " [3 4 0]\n",
      " [0 0 0]]\n"
     ]
    },
    {
     "data": {
      "text/plain": [
       "array([[0, 0, 0, 0],\n",
       "       [0, 1, 2, 0],\n",
       "       [0, 3, 4, 0],\n",
       "       [0, 0, 0, 0]])"
      ]
     },
     "execution_count": 19,
     "metadata": {},
     "output_type": "execute_result"
    }
   ],
   "source": [
    "# 패딩 함수-> pad\n",
    "print(np.pad(x,(0,1), 'constant')) #constant-> 상수값으로 패딩\n",
    "np.pad(x,(1,1), 'constant')"
   ]
  },
  {
   "cell_type": "code",
   "execution_count": 20,
   "metadata": {},
   "outputs": [
    {
     "data": {
      "text/plain": [
       "array([[1, 1, 2, 2],\n",
       "       [1, 1, 2, 2],\n",
       "       [3, 3, 4, 4],\n",
       "       [3, 3, 4, 4]])"
      ]
     },
     "execution_count": 20,
     "metadata": {},
     "output_type": "execute_result"
    }
   ],
   "source": [
    "# 'edge'-> 기존 배열 값으로 패딩\n",
    "\n",
    "np.pad(x, (1,1), 'edge')"
   ]
  },
  {
   "cell_type": "code",
   "execution_count": null,
   "metadata": {},
   "outputs": [],
   "source": [
    "# 그외 최대, 최소, 평균, 중앙값도 사용 가능"
   ]
  },
  {
   "cell_type": "markdown",
   "metadata": {},
   "source": [
    "### 자료형 이해\n",
    "chap.6"
   ]
  },
  {
   "cell_type": "code",
   "execution_count": 22,
   "metadata": {},
   "outputs": [
    {
     "name": "stdout",
     "output_type": "stream",
     "text": [
      "[1 2 3 4] int32\n"
     ]
    }
   ],
   "source": [
    "# dtype 클래스 알아보기\n",
    "d= np.dtype(np.int32)\n",
    "\n",
    "a= np.array([1,2,3,4], dtype=d)\n",
    "print(a, a.dtype)\n",
    "# 그외 다양한 자료형 클래스명 존재"
   ]
  },
  {
   "cell_type": "markdown",
   "metadata": {},
   "source": [
    "### 날짜 자료형"
   ]
  },
  {
   "cell_type": "code",
   "execution_count": 23,
   "metadata": {},
   "outputs": [
    {
     "name": "stdout",
     "output_type": "stream",
     "text": [
      "2018-11 datetime64[M]\n",
      "2018-11-15 datetime64[D]\n"
     ]
    }
   ],
   "source": [
    "# np.datetime64\n",
    "ym=np.datetime64('2018-11')\n",
    "print(ym, ym.dtype)\n",
    "ymd= np.datetime64('2018-11-15')\n",
    "print(ymd, ymd.dtype)"
   ]
  },
  {
   "cell_type": "code",
   "execution_count": 24,
   "metadata": {},
   "outputs": [
    {
     "name": "stdout",
     "output_type": "stream",
     "text": [
      "730 days timedelta64[D]\n"
     ]
    }
   ],
   "source": [
    "# 배열로 변경 및 날짜간 연산도 가능\n",
    "\n",
    "a= np.array(['1018-11-15', '2018-12-15', '2010-01-15'],\n",
    "            dtype= np.datetime64)\n",
    "delta= np.datetime64('2018-11-15')-np.datetime64('2016-11-15')\n",
    "print( delta, delta.dtype)"
   ]
  },
  {
   "cell_type": "code",
   "execution_count": 25,
   "metadata": {},
   "outputs": [
    {
     "name": "stderr",
     "output_type": "stream",
     "text": [
      "C:\\Users\\KDP-25\\AppData\\Local\\Temp\\ipykernel_14920\\2742972441.py:3: FutureWarning: In the future `np.str` will be defined as the corresponding NumPy scalar.\n",
      "  np.str is str, np.unicode is str\n"
     ]
    },
    {
     "ename": "AttributeError",
     "evalue": "module 'numpy' has no attribute 'str'.\n`np.str` was a deprecated alias for the builtin `str`. To avoid this error in existing code, use `str` by itself. Doing this will not modify any behavior and is safe. If you specifically wanted the numpy scalar type, use `np.str_` here.\nThe aliases was originally deprecated in NumPy 1.20; for more details and guidance see the original release note at:\n    https://numpy.org/devdocs/release/1.20.0-notes.html#deprecations",
     "output_type": "error",
     "traceback": [
      "\u001b[1;31m---------------------------------------------------------------------------\u001b[0m",
      "\u001b[1;31mAttributeError\u001b[0m                            Traceback (most recent call last)",
      "Cell \u001b[1;32mIn[25], line 3\u001b[0m\n\u001b[0;32m      1\u001b[0m \u001b[38;5;66;03m# 문자 자료형\u001b[39;00m\n\u001b[0;32m      2\u001b[0m \u001b[38;5;66;03m# 유니코드와 바이트\u001b[39;00m\n\u001b[1;32m----> 3\u001b[0m \u001b[43mnp\u001b[49m\u001b[38;5;241;43m.\u001b[39;49m\u001b[43mstr\u001b[49m \u001b[38;5;129;01mis\u001b[39;00m \u001b[38;5;28mstr\u001b[39m, np\u001b[38;5;241m.\u001b[39municode \u001b[38;5;129;01mis\u001b[39;00m \u001b[38;5;28mstr\u001b[39m\n\u001b[0;32m      5\u001b[0m np\u001b[38;5;241m.\u001b[39mstr_ \u001b[38;5;129;01mis\u001b[39;00m \u001b[38;5;28mstr\u001b[39m, np\u001b[38;5;241m.\u001b[39municode_ \u001b[38;5;129;01mis\u001b[39;00m \u001b[38;5;28mstr\u001b[39m\n\u001b[0;32m      7\u001b[0m np\u001b[38;5;241m.\u001b[39mstr_ \u001b[38;5;129;01mis\u001b[39;00m \u001b[38;5;28mbytes\u001b[39m, np\u001b[38;5;241m.\u001b[39municode_ \u001b[38;5;129;01mis\u001b[39;00m \u001b[38;5;28mbytes\u001b[39m\n",
      "File \u001b[1;32mc:\\Users\\KDP-25\\anaconda3\\envs\\PY_39\\lib\\site-packages\\numpy\\__init__.py:324\u001b[0m, in \u001b[0;36m__getattr__\u001b[1;34m(attr)\u001b[0m\n\u001b[0;32m    319\u001b[0m     warnings\u001b[38;5;241m.\u001b[39mwarn(\n\u001b[0;32m    320\u001b[0m         \u001b[38;5;124mf\u001b[39m\u001b[38;5;124m\"\u001b[39m\u001b[38;5;124mIn the future `np.\u001b[39m\u001b[38;5;132;01m{\u001b[39;00mattr\u001b[38;5;132;01m}\u001b[39;00m\u001b[38;5;124m` will be defined as the \u001b[39m\u001b[38;5;124m\"\u001b[39m\n\u001b[0;32m    321\u001b[0m         \u001b[38;5;124m\"\u001b[39m\u001b[38;5;124mcorresponding NumPy scalar.\u001b[39m\u001b[38;5;124m\"\u001b[39m, \u001b[38;5;167;01mFutureWarning\u001b[39;00m, stacklevel\u001b[38;5;241m=\u001b[39m\u001b[38;5;241m2\u001b[39m)\n\u001b[0;32m    323\u001b[0m \u001b[38;5;28;01mif\u001b[39;00m attr \u001b[38;5;129;01min\u001b[39;00m __former_attrs__:\n\u001b[1;32m--> 324\u001b[0m     \u001b[38;5;28;01mraise\u001b[39;00m \u001b[38;5;167;01mAttributeError\u001b[39;00m(__former_attrs__[attr])\n\u001b[0;32m    326\u001b[0m \u001b[38;5;28;01mif\u001b[39;00m attr \u001b[38;5;241m==\u001b[39m \u001b[38;5;124m'\u001b[39m\u001b[38;5;124mtesting\u001b[39m\u001b[38;5;124m'\u001b[39m:\n\u001b[0;32m    327\u001b[0m     \u001b[38;5;28;01mimport\u001b[39;00m \u001b[38;5;21;01mnumpy\u001b[39;00m\u001b[38;5;21;01m.\u001b[39;00m\u001b[38;5;21;01mtesting\u001b[39;00m \u001b[38;5;28;01mas\u001b[39;00m \u001b[38;5;21;01mtesting\u001b[39;00m\n",
      "\u001b[1;31mAttributeError\u001b[0m: module 'numpy' has no attribute 'str'.\n`np.str` was a deprecated alias for the builtin `str`. To avoid this error in existing code, use `str` by itself. Doing this will not modify any behavior and is safe. If you specifically wanted the numpy scalar type, use `np.str_` here.\nThe aliases was originally deprecated in NumPy 1.20; for more details and guidance see the original release note at:\n    https://numpy.org/devdocs/release/1.20.0-notes.html#deprecations"
     ]
    }
   ],
   "source": [
    "# 문자 자료형\n",
    "# 유니코드와 바이트\n",
    "np.str is str, np.unicode is str\n",
    "\n",
    "np.str_ is str, np.unicode_ is str\n",
    "\n",
    "np.str_ is bytes, np.unicode_ is bytes\n",
    "#future warning"
   ]
  },
  {
   "cell_type": "code",
   "execution_count": 26,
   "metadata": {},
   "outputs": [
    {
     "name": "stdout",
     "output_type": "stream",
     "text": [
      "[[b'a' b'b']\n",
      " [b'c' b'd']] b'a'\n"
     ]
    }
   ],
   "source": [
    "# 바이트 문자열 처리\n",
    "# dtype= 'S'\n",
    "\n",
    "a= np.array([['a', 'b'], ['c', 'd']], dtype='S')\n",
    "print(a, a[0,0])\n"
   ]
  },
  {
   "cell_type": "code",
   "execution_count": null,
   "metadata": {},
   "outputs": [],
   "source": [
    "# 문자열 처리-> dtype=>  'U', np_str_ 등으로 처리 가능\n",
    "\n"
   ]
  },
  {
   "cell_type": "markdown",
   "metadata": {},
   "source": [
    "### 시각화와 수학 함수\n",
    "Chap.7"
   ]
  },
  {
   "cell_type": "markdown",
   "metadata": {},
   "source": [
    "### 활성화 함수 그래프로 그리기"
   ]
  },
  {
   "cell_type": "code",
   "execution_count": 27,
   "metadata": {},
   "outputs": [],
   "source": [
    "# 항등함수( y=x)\n"
   ]
  },
  {
   "cell_type": "code",
   "execution_count": 28,
   "metadata": {},
   "outputs": [],
   "source": [
    "# 계단 함수 -> 결과가 0 또는 1(x가 0보다 클때 1)"
   ]
  },
  {
   "cell_type": "code",
   "execution_count": 29,
   "metadata": {},
   "outputs": [],
   "source": [
    "# 하이퍼볼릭 탄젠트 함수\n",
    "# 0 중심으로 대칭\n",
    "# y= (e^x - e^-x)/ (e^x + e^-x)"
   ]
  },
  {
   "cell_type": "code",
   "execution_count": 30,
   "metadata": {},
   "outputs": [],
   "source": [
    "# 시그모이드 함수\n",
    "# y= 1/(1 + e^x)"
   ]
  },
  {
   "cell_type": "code",
   "execution_count": null,
   "metadata": {},
   "outputs": [],
   "source": [
    "# 렐루 함수\n",
    "# y=  0 (x<=0)\n",
    "#     x (x>0)"
   ]
  },
  {
   "cell_type": "code",
   "execution_count": null,
   "metadata": {},
   "outputs": [],
   "source": [
    "# 소프트맥스 함수\n",
    "# y= exp(x)/ sum(exp(x))"
   ]
  },
  {
   "cell_type": "markdown",
   "metadata": {},
   "source": [
    "### 수학 함수\n",
    "chap.8"
   ]
  },
  {
   "cell_type": "code",
   "execution_count": 62,
   "metadata": {},
   "outputs": [
    {
     "name": "stdout",
     "output_type": "stream",
     "text": [
      "[3. 4.]\n",
      "[4. 5.]\n",
      "[3. 4.]\n",
      "[3. 5.]\n",
      "[3. 5.]\n"
     ]
    }
   ],
   "source": [
    "# 소수점 처리\n",
    "# 버리기-> fix, trunc\n",
    "a=np.array([3.14, 4.52])\n",
    "print(np.fix(a))\n",
    "# 올림, 버림->ceil, floor\n",
    "print(np.ceil(a))\n",
    "print(np.floor(a))\n",
    "# 올림, 내림  (반올림)-> round, around\n",
    "print(np.round(a,0))\n",
    "print(np.around(a,0))"
   ]
  },
  {
   "cell_type": "code",
   "execution_count": 32,
   "metadata": {},
   "outputs": [],
   "source": [
    "# mod, remainder-> 나머지\n",
    "# divmod -> 몫과 나머지"
   ]
  },
  {
   "cell_type": "code",
   "execution_count": 33,
   "metadata": {},
   "outputs": [],
   "source": [
    "# 부호, 절대값\n",
    "# sign-> 부호 표시\n",
    "# negative-> -곱하기\n",
    "# abs, absolute ->절대값 "
   ]
  },
  {
   "cell_type": "code",
   "execution_count": null,
   "metadata": {},
   "outputs": [],
   "source": [
    "# power-> 제곱\n",
    "# sqrt-> 제곱근"
   ]
  },
  {
   "cell_type": "markdown",
   "metadata": {},
   "source": [
    "### 논리 및 비교연산"
   ]
  },
  {
   "cell_type": "code",
   "execution_count": 34,
   "metadata": {},
   "outputs": [],
   "source": [
    "# 논리 연산\n",
    "# and, or, xor, ~, ^..."
   ]
  },
  {
   "cell_type": "code",
   "execution_count": 35,
   "metadata": {},
   "outputs": [],
   "source": [
    "# 비교연산\n",
    "# 당연한 것들"
   ]
  },
  {
   "cell_type": "code",
   "execution_count": 63,
   "metadata": {},
   "outputs": [
    {
     "name": "stdout",
     "output_type": "stream",
     "text": [
      "55\n",
      "[ 1  3  6 10 15 21 28 36 45 55]\n"
     ]
    }
   ],
   "source": [
    "# 수열 합\n",
    "# sum, cumsum(누적합)\n",
    "a= np.arange(1,11)\n",
    "print(np.sum(a))\n",
    "print(np.cumsum(a))"
   ]
  },
  {
   "cell_type": "code",
   "execution_count": 37,
   "metadata": {},
   "outputs": [
    {
     "data": {
      "text/plain": [
       "array([ 6, 14, 24, 36, 50])"
      ]
     },
     "execution_count": 37,
     "metadata": {},
     "output_type": "execute_result"
    }
   ],
   "source": [
    "# 수열 곱\n",
    "# pord(수열, 축)-> 축에 따라 행 또는 열끼리 곱함\n",
    "b= np.arange(1,11).reshape(2,5)\n",
    "np.prod(b, axis=0)"
   ]
  },
  {
   "cell_type": "code",
   "execution_count": 38,
   "metadata": {},
   "outputs": [
    {
     "data": {
      "text/plain": [
       "array([[ 1,  2,  3,  4,  5],\n",
       "       [ 6, 14, 24, 36, 50]])"
      ]
     },
     "execution_count": 38,
     "metadata": {},
     "output_type": "execute_result"
    }
   ],
   "source": [
    "# cumprod(누적곱)\n",
    "np.cumprod(b, axis=0)"
   ]
  },
  {
   "cell_type": "code",
   "execution_count": null,
   "metadata": {},
   "outputs": [],
   "source": [
    "# 결측값 제외 계산\n",
    "# nansum, nancumsum, nanprod, nancumprod\n",
    "# -> nan을 합일때는 0, 곱일때는 1로 처리"
   ]
  },
  {
   "cell_type": "code",
   "execution_count": 64,
   "metadata": {},
   "outputs": [
    {
     "data": {
      "text/plain": [
       "0.1353352832366127"
      ]
     },
     "execution_count": 64,
     "metadata": {},
     "output_type": "execute_result"
    }
   ],
   "source": [
    "# 자연 상수의 지수\n",
    "# e, exp()\n",
    "np.exp(0)\n",
    "np.exp(-2)"
   ]
  },
  {
   "cell_type": "code",
   "execution_count": 65,
   "metadata": {},
   "outputs": [
    {
     "data": {
      "text/plain": [
       "array([ 1.        ,  2.71828183,  7.3890561 , 20.08553692, 54.59815003])"
      ]
     },
     "execution_count": 65,
     "metadata": {},
     "output_type": "execute_result"
    }
   ],
   "source": [
    "# 지수함수\n",
    "x= np.arange(5)\n",
    "np.exp(x)"
   ]
  },
  {
   "cell_type": "code",
   "execution_count": 68,
   "metadata": {},
   "outputs": [
    {
     "data": {
      "text/plain": [
       "array([10., 12., 13., 13., 13., 14., 14., 14., 14., 14.])"
      ]
     },
     "execution_count": 68,
     "metadata": {},
     "output_type": "execute_result"
    }
   ],
   "source": [
    "# 로그함수 np.log()\n",
    "x= np.arange(10000, 1000000, 100000)\n",
    "np.ceil(np.log(x))"
   ]
  },
  {
   "cell_type": "code",
   "execution_count": 69,
   "metadata": {},
   "outputs": [
    {
     "name": "stdout",
     "output_type": "stream",
     "text": [
      "[1 2 3 4 5 6]\n",
      "[False] [ True]\n"
     ]
    }
   ],
   "source": [
    "# unique-> 유일한 원소 확인(중복된 원소는 제거)\n",
    "x= np.array([[1,2,3], [4,5,6], [3,4,5]])\n",
    "print(np.unique(x))\n",
    "# np.in1d(원소, 배열) -> 원소 여부 확인\n",
    "x= np.arange(5)\n",
    "print(np.in1d(5,x), np.in1d(4,x))"
   ]
  },
  {
   "cell_type": "code",
   "execution_count": 41,
   "metadata": {},
   "outputs": [],
   "source": [
    "# 합집합-> unionid()\n",
    "# 교집합-> intersectid()\n",
    "# 차집합-> unique()\n",
    "# 대칭차집합 -> setdiffid()"
   ]
  },
  {
   "cell_type": "code",
   "execution_count": 42,
   "metadata": {},
   "outputs": [],
   "source": [
    "# 삼각함수\n",
    "# pi=180, sin, cos, tan"
   ]
  },
  {
   "cell_type": "markdown",
   "metadata": {},
   "source": [
    "### 확률\n"
   ]
  },
  {
   "cell_type": "code",
   "execution_count": null,
   "metadata": {},
   "outputs": [],
   "source": [
    "# 평균, 최대, 최소, 분산, 표편.... ddof=자유도 ->불편분산 구하기\n",
    "\n",
    "# 표본-> 자유도=1"
   ]
  },
  {
   "cell_type": "code",
   "execution_count": 43,
   "metadata": {},
   "outputs": [],
   "source": [
    "# 상관계수-> corr\n",
    "\n",
    "# 공분산-> cov"
   ]
  },
  {
   "cell_type": "markdown",
   "metadata": {},
   "source": [
    "### 방정식, 미적분, 합성곱\n",
    "chap.10"
   ]
  },
  {
   "cell_type": "code",
   "execution_count": 44,
   "metadata": {},
   "outputs": [],
   "source": [
    "# 다항식 -> poly1d 클래스로 객체 생성\n",
    "# variable= 변수\n",
    "# order= n"
   ]
  },
  {
   "cell_type": "code",
   "execution_count": 45,
   "metadata": {},
   "outputs": [],
   "source": [
    "# 연립 방정식\n",
    "# 행렬로 변환-> \n",
    "# ax+by=p =>a-b, x=p\n",
    "# cx+dy=g =>d-d, y=g\n",
    "# 를 행렬곱으로 계산\n",
    "# 또는 역행렬 사용???\n",
    "\n",
    "# 함수사용-> np.linalg.solve(a,b)\n",
    "# lstsq -> pass"
   ]
  },
  {
   "cell_type": "code",
   "execution_count": null,
   "metadata": {},
   "outputs": [],
   "source": [
    "# 배열 간의 차(이전항과 이후항의 차)\n",
    "# np.diff(배열, 반복횟수(기본=1))"
   ]
  },
  {
   "cell_type": "code",
   "execution_count": 46,
   "metadata": {},
   "outputs": [],
   "source": [
    "#diff로 미분\n",
    "# 다항식 미분-> polyder "
   ]
  },
  {
   "cell_type": "code",
   "execution_count": 47,
   "metadata": {},
   "outputs": [],
   "source": [
    "# 중앙 차분으로 미분\n",
    "# f(x)= (f(x+dx)-f(x-dx))/2dx\n",
    "# 함수-> gradient()"
   ]
  },
  {
   "cell_type": "code",
   "execution_count": 48,
   "metadata": {},
   "outputs": [],
   "source": [
    "# 적분 ->trapz\n",
    "\n"
   ]
  },
  {
   "cell_type": "code",
   "execution_count": 50,
   "metadata": {},
   "outputs": [],
   "source": [
    "# 1차원 합성곱-> convovle(데이터, 필터, mode=)\n",
    "# 2차원 합성곱-> scipy.sigmal-> signal.convolve2d()"
   ]
  },
  {
   "cell_type": "code",
   "execution_count": 51,
   "metadata": {},
   "outputs": [],
   "source": [
    "# 필터링-> 항상 같은 배열 만듦"
   ]
  },
  {
   "cell_type": "code",
   "execution_count": 52,
   "metadata": {},
   "outputs": [],
   "source": [
    "# 풀링-> 차원을 증가시켜 행과 열을 줄임"
   ]
  },
  {
   "cell_type": "markdown",
   "metadata": {},
   "source": [
    "### 넘파이 특화 함수\n",
    "chap.11"
   ]
  },
  {
   "cell_type": "code",
   "execution_count": 54,
   "metadata": {},
   "outputs": [
    {
     "name": "stdout",
     "output_type": "stream",
     "text": [
      "45\n",
      "45\n",
      "[ 6 39]\n",
      "6\n",
      "39\n"
     ]
    }
   ],
   "source": [
    "# 유니버설 함수 클래스 unfunc  ex)add\n",
    "a=np.arange(10)\n",
    "print(np.add.reduce(a))\n",
    "print(a.sum())\n",
    "print(np.add.reduceat(a, [0,4])) #시작점 부여\n",
    "print(np.add.reduce(a[:4]))\n",
    "print(np.add.reduce(a[4:]))\n",
    "# + 직접 함수를 정의해서 사용도 가능"
   ]
  },
  {
   "cell_type": "code",
   "execution_count": 55,
   "metadata": {},
   "outputs": [],
   "source": [
    "# vectorize 함수-> 다차원 배열 계산"
   ]
  },
  {
   "cell_type": "code",
   "execution_count": 56,
   "metadata": {},
   "outputs": [],
   "source": [
    "# 함수를 전달받아서 배열 생성\n",
    "# fromfunction(lambda...)"
   ]
  },
  {
   "cell_type": "code",
   "execution_count": 57,
   "metadata": {},
   "outputs": [],
   "source": [
    "# 파일 처리\n",
    "# .tofile() = np.save()\n",
    "# .fromfile() = np.load()\n",
    "\n",
    "# savetxt, loadtxt"
   ]
  },
  {
   "cell_type": "code",
   "execution_count": null,
   "metadata": {},
   "outputs": [],
   "source": [
    "# 직렬화 처리 -> 객체를 그대로 저장"
   ]
  }
 ],
 "metadata": {
  "kernelspec": {
   "display_name": "PY_39",
   "language": "python",
   "name": "python3"
  },
  "language_info": {
   "codemirror_mode": {
    "name": "ipython",
    "version": 3
   },
   "file_extension": ".py",
   "mimetype": "text/x-python",
   "name": "python",
   "nbconvert_exporter": "python",
   "pygments_lexer": "ipython3",
   "version": "3.9.19"
  }
 },
 "nbformat": 4,
 "nbformat_minor": 2
}
