{
 "cells": [
  {
   "cell_type": "markdown",
   "metadata": {},
   "source": [
    "#### OpenCV 기본 사용법\n"
   ]
  },
  {
   "cell_type": "code",
   "execution_count": 1,
   "metadata": {},
   "outputs": [],
   "source": [
    "import cv2\n",
    "import numpy as np\n",
    "import os\n",
    "import time"
   ]
  },
  {
   "cell_type": "code",
   "execution_count": 2,
   "metadata": {},
   "outputs": [],
   "source": [
    "# 공통 변수\n",
    "IMG_DIR= '../img/'"
   ]
  },
  {
   "cell_type": "markdown",
   "metadata": {},
   "source": [
    "[1] 이미지 읽기==> ndarray"
   ]
  },
  {
   "cell_type": "code",
   "execution_count": 3,
   "metadata": {},
   "outputs": [],
   "source": [
    "IMG_FILE= IMG_DIR+'logo.png'\n",
    "\n",
    "# flags 속성을 통해 컬러, 흑백 등 설정가능 \n",
    "# 상수를 나타내기 위해 대문자가 사용됨\n",
    "im_data= cv2.imread(IMG_FILE)\n",
    "im_data2=cv2.imread(IMG_FILE, flags=cv2.IMREAD_GRAYSCALE)"
   ]
  },
  {
   "cell_type": "code",
   "execution_count": 4,
   "metadata": {},
   "outputs": [
    {
     "name": "stdout",
     "output_type": "stream",
     "text": [
      "im_data\n",
      "im_data.shape: (184, 544, 3)\n",
      "im_data.ndim: 3\n",
      "im_data2\n",
      "im_data2.shape: (184, 544)\n",
      "im_data2.ndim: 2\n"
     ]
    }
   ],
   "source": [
    "# 이미지 데이터 속성\n",
    "print('im_data')\n",
    "print(f'im_data.shape: {im_data.shape}')\n",
    "print(f'im_data.ndim: {im_data.ndim}') #색을 위한 차원?\n",
    "\n",
    "print('im_data2')\n",
    "print(f'im_data2.shape: {im_data2.shape}')\n",
    "print(f'im_data2.ndim: {im_data2.ndim}')"
   ]
  },
  {
   "cell_type": "markdown",
   "metadata": {},
   "source": [
    "[2] 이미지 화면 출력"
   ]
  },
  {
   "cell_type": "code",
   "execution_count": 5,
   "metadata": {},
   "outputs": [],
   "source": [
    "# 이미지 창 띄우기\n",
    "cv2.imshow('[im_data]', im_data)\n",
    "cv2.imshow('[im_data2]', im_data2)\n",
    "# 이미지 창 위에서 이벤트 대기\n",
    "cv2.waitKey()\n",
    "# cv2.destroyAllWindows()\n",
    "cv2.destroyWindow('[im_data]')\n",
    "# 1초 일시정지\n",
    "time.sleep(1)\n",
    "cv2.destroyWindow('[im_data2]')\n"
   ]
  },
  {
   "cell_type": "code",
   "execution_count": 6,
   "metadata": {},
   "outputs": [
    {
     "name": "stdout",
     "output_type": "stream",
     "text": [
      "-1\n"
     ]
    },
    {
     "ename": "ValueError",
     "evalue": "chr() arg not in range(0x110000)",
     "output_type": "error",
     "traceback": [
      "\u001b[1;31m---------------------------------------------------------------------------\u001b[0m",
      "\u001b[1;31mValueError\u001b[0m                                Traceback (most recent call last)",
      "Cell \u001b[1;32mIn[6], line 10\u001b[0m\n\u001b[0;32m      8\u001b[0m \u001b[38;5;28mprint\u001b[39m(key_code)\n\u001b[0;32m      9\u001b[0m \u001b[38;5;28;01mif\u001b[39;00m key_code\u001b[38;5;241m!=\u001b[39m\u001b[38;5;124m'\u001b[39m\u001b[38;5;124m'\u001b[39m:\n\u001b[1;32m---> 10\u001b[0m     \u001b[38;5;28;01mif\u001b[39;00m \u001b[38;5;28;43mchr\u001b[39;49m\u001b[43m(\u001b[49m\u001b[43mkey_code\u001b[49m\u001b[43m)\u001b[49m \u001b[38;5;129;01min\u001b[39;00m [\u001b[38;5;124m'\u001b[39m\u001b[38;5;124mx\u001b[39m\u001b[38;5;124m'\u001b[39m,\u001b[38;5;124m'\u001b[39m\u001b[38;5;124mX\u001b[39m\u001b[38;5;124m'\u001b[39m]:\n\u001b[0;32m     11\u001b[0m         cv2\u001b[38;5;241m.\u001b[39mdestroyAllWindows() \n",
      "\u001b[1;31mValueError\u001b[0m: chr() arg not in range(0x110000)"
     ]
    }
   ],
   "source": [
    "# 특정 키 입력시 모든 이미지 창 닫기\n",
    "# X, x==> 120, 88 (ascii 코드값)\n",
    "cv2.imshow('[im_data]', im_data)\n",
    "cv2.imshow('[im_data2]', im_data2)\n",
    "\n",
    "# 키보드 이벤트 대기함수\n",
    "key_code=cv2.waitKey()\n",
    "print(key_code)\n",
    "if key_code!='':\n",
    "    if chr(key_code) in ['x','X']:\n",
    "        cv2.destroyAllWindows() "
   ]
  },
  {
   "cell_type": "code",
   "execution_count": 6,
   "metadata": {},
   "outputs": [
    {
     "name": "stdout",
     "output_type": "stream",
     "text": [
      "key: 115- 0x73\n",
      "key: -1- -0x1\n"
     ]
    },
    {
     "ename": "ValueError",
     "evalue": "chr() arg not in range(0x110000)",
     "output_type": "error",
     "traceback": [
      "\u001b[1;31m---------------------------------------------------------------------------\u001b[0m",
      "\u001b[1;31mValueError\u001b[0m                                Traceback (most recent call last)",
      "Cell \u001b[1;32mIn[6], line 8\u001b[0m\n\u001b[0;32m      5\u001b[0m key\u001b[38;5;241m=\u001b[39mcv2\u001b[38;5;241m.\u001b[39mwaitKey()\n\u001b[0;32m      6\u001b[0m \u001b[38;5;28mprint\u001b[39m(\u001b[38;5;124mf\u001b[39m\u001b[38;5;124m'\u001b[39m\u001b[38;5;124mkey: \u001b[39m\u001b[38;5;132;01m{\u001b[39;00mkey\u001b[38;5;132;01m}\u001b[39;00m\u001b[38;5;124m- \u001b[39m\u001b[38;5;132;01m{\u001b[39;00m\u001b[38;5;28mhex\u001b[39m(key)\u001b[38;5;132;01m}\u001b[39;00m\u001b[38;5;124m'\u001b[39m)\n\u001b[1;32m----> 8\u001b[0m \u001b[38;5;28;01mif\u001b[39;00m \u001b[38;5;28;43mchr\u001b[39;49m\u001b[43m(\u001b[49m\u001b[43mkey\u001b[49m\u001b[43m)\u001b[49m \u001b[38;5;129;01min\u001b[39;00m [\u001b[38;5;124m'\u001b[39m\u001b[38;5;124mx\u001b[39m\u001b[38;5;124m'\u001b[39m, \u001b[38;5;124m'\u001b[39m\u001b[38;5;124mX\u001b[39m\u001b[38;5;124m'\u001b[39m]:\n\u001b[0;32m      9\u001b[0m     cv2\u001b[38;5;241m.\u001b[39mdestroyAllWindows()\n\u001b[0;32m     10\u001b[0m     \u001b[38;5;28;01mbreak\u001b[39;00m\n",
      "\u001b[1;31mValueError\u001b[0m: chr() arg not in range(0x110000)"
     ]
    }
   ],
   "source": [
    "img=im_data\n",
    "if img is not None:\n",
    "    cv2.imshow('IMG', img)\n",
    "    while True:\n",
    "        key=cv2.waitKey()\n",
    "        print(f'key: {key}- {hex(key)}')\n",
    "\n",
    "        if chr(key) in ['x', 'X']:\n",
    "            cv2.destroyAllWindows()\n",
    "            break\n",
    "        elif chr(key) in ['s', 'S']:\n",
    "            cv2.imwrite('copy.jpg', im_data)\n",
    "            cv2.destroyAllWindows()\n",
    "else:\n",
    "    print('No image file')"
   ]
  }
 ],
 "metadata": {
  "kernelspec": {
   "display_name": "TORCH_CV_38",
   "language": "python",
   "name": "python3"
  },
  "language_info": {
   "codemirror_mode": {
    "name": "ipython",
    "version": 3
   },
   "file_extension": ".py",
   "mimetype": "text/x-python",
   "name": "python",
   "nbconvert_exporter": "python",
   "pygments_lexer": "ipython3",
   "version": "3.8.19"
  }
 },
 "nbformat": 4,
 "nbformat_minor": 2
}
