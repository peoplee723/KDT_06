{
 "cells": [
  {
   "cell_type": "markdown",
   "metadata": {},
   "source": [
    "#### CNN 이미지 분류 모델\n",
    "- 이미지 데이터셋 준비\n",
    "    - torchvision의 내장 데이터셋 활용 CIFAR10\n",
    "- 이미지 분류 모델\n",
    "    - 커스텀 CNN 구현\n",
    "    "
   ]
  },
  {
   "cell_type": "markdown",
   "metadata": {},
   "source": [
    "[1] 모듈 로딩 및 데이터 준비 <hr>"
   ]
  },
  {
   "cell_type": "code",
   "execution_count": 35,
   "metadata": {},
   "outputs": [],
   "source": [
    "# 모듈 로딩\n",
    "import torch\n",
    "import torch.nn as nn\n",
    "import torch.nn.functional as F\n",
    "from torchvision.datasets import CIFAR10\n",
    "from torchvision.transforms import ToTensor\n",
    "\n",
    "from torch.utils.data import DataLoader\n",
    "from torchinfo import summary\n",
    "\n",
    "import matplotlib.pyplot as plt\n"
   ]
  },
  {
   "cell_type": "code",
   "execution_count": 4,
   "metadata": {},
   "outputs": [
    {
     "name": "stdout",
     "output_type": "stream",
     "text": [
      "Using downloaded and verified file: ../data/cifar-10-python.tar.gz\n",
      "Extracting ../data/cifar-10-python.tar.gz to ../data/\n"
     ]
    }
   ],
   "source": [
    "# 데이터 불러오기\n",
    "\n",
    "# 파이토치의 데이터셋 형태로 로딩 + 텐서화\n",
    "cifarDS=CIFAR10('../data/', train=True, download=True, \n",
    "                transform=ToTensor())"
   ]
  },
  {
   "cell_type": "code",
   "execution_count": 67,
   "metadata": {},
   "outputs": [
    {
     "data": {
      "text/plain": [
       "(50000, 32, 32, 3)"
      ]
     },
     "execution_count": 67,
     "metadata": {},
     "output_type": "execute_result"
    }
   ],
   "source": [
    "cifarDS.data.shape"
   ]
  },
  {
   "cell_type": "code",
   "execution_count": 10,
   "metadata": {},
   "outputs": [
    {
     "data": {
      "text/plain": [
       "(['airplane',\n",
       "  'automobile',\n",
       "  'bird',\n",
       "  'cat',\n",
       "  'deer',\n",
       "  'dog',\n",
       "  'frog',\n",
       "  'horse',\n",
       "  'ship',\n",
       "  'truck'],\n",
       " (50000, 32, 32, 3),\n",
       " 50000,\n",
       " {'airplane': 0,\n",
       "  'automobile': 1,\n",
       "  'bird': 2,\n",
       "  'cat': 3,\n",
       "  'deer': 4,\n",
       "  'dog': 5,\n",
       "  'frog': 6,\n",
       "  'horse': 7,\n",
       "  'ship': 8,\n",
       "  'truck': 9})"
      ]
     },
     "execution_count": 10,
     "metadata": {},
     "output_type": "execute_result"
    }
   ],
   "source": [
    "cifarDS.classes, cifarDS.data.shape, len(cifarDS.targets), cifarDS.class_to_idx"
   ]
  },
  {
   "cell_type": "markdown",
   "metadata": {},
   "source": [
    "[2] 데이터 로더<hr>\n",
    "- 학습시 배치크기만큼 데이터와 라벨/타겟을 로딩"
   ]
  },
  {
   "cell_type": "code",
   "execution_count": 13,
   "metadata": {},
   "outputs": [],
   "source": [
    "BATCH_SIZE=50\n",
    "cifarDL= DataLoader(cifarDS)"
   ]
  },
  {
   "cell_type": "code",
   "execution_count": 25,
   "metadata": {},
   "outputs": [
    {
     "name": "stdout",
     "output_type": "stream",
     "text": [
      "torch.Size([1, 3, 32, 32]) torch.Size([1]) (32, 32, 3)\n",
      "(32, 32, 3)\n"
     ]
    }
   ],
   "source": [
    "for f, t in cifarDL:\n",
    "    print(f.shape, t.shape, f.numpy().squeeze().reshape((32,32,3)).shape)\n",
    "    print(f.numpy().squeeze().T.shape)\n",
    "    break\n",
    "# 채널이 앞에 있네? -> conv2d 위해 shape 자동 변경해줌"
   ]
  },
  {
   "cell_type": "code",
   "execution_count": 30,
   "metadata": {},
   "outputs": [
    {
     "name": "stdout",
     "output_type": "stream",
     "text": [
      "torch.Size([1, 3, 32, 32]) torch.Size([1]) (32, 32, 3)\n"
     ]
    },
    {
     "data": {
      "image/png": "[encoded data removed]",
      "text/plain": [
       "<Figure size 640x480 with 1 Axes>"
      ]
     },
     "metadata": {},
     "output_type": "display_data"
    }
   ],
   "source": [
    "# 이미지 시각화 -> shape 변경이 필요함 (행,열,채널)\n",
    "for f, t in cifarDL:\n",
    "    print(f.shape, t.shape, f.numpy().squeeze().reshape((32,32,3)).shape)\n",
    "    data=f.numpy().squeeze().T\n",
    "    plt.imshow(data)\n",
    "    plt.title(cifarDS.classes[t.item()])\n",
    "    break"
   ]
  },
  {
   "cell_type": "markdown",
   "metadata": {},
   "source": [
    "[3] 커스텀 모델 설계 및 정의<hr>\n",
    "- 모델 목적: 이미지 분류 모델\n",
    "- 학습 방법: 지도학습-> 분류 -> 다중분류 (10개)\n",
    "- 클래스 이름: imgMCF\n",
    "- 부모 클래스: nn.Module\n",
    "- 클래스 구조: 특징추출(CNN) + 학습(FC)"
   ]
  },
  {
   "cell_type": "code",
   "execution_count": 53,
   "metadata": {},
   "outputs": [],
   "source": [
    "class ImgMCF(nn.Module):\n",
    "    def __init__(self) -> None:\n",
    "        super().__init__()\n",
    "        # 특징 추출                  채널 수            사용자지정\n",
    "        self.in_layer= nn.Conv2d(in_channels=3, out_channels=10,\n",
    "                                 kernel_size=3)\n",
    "        self.p_layer=nn.MaxPool2d(2, stride=2)\n",
    "        # 학습\n",
    "        self.hd_layer=nn.Linear(10*15*15,50)\n",
    "        self.out_layer=nn.Linear(50,10)\n",
    "\n",
    "    # 순방향 학습 메서드\n",
    "    def forward(self, input):\n",
    "        out=self.in_layer(input)\n",
    "\n",
    "        out=F.relu(out)\n",
    "\n",
    "        out=self.p_layer(out)\n",
    "\n",
    "        out=out.view(out.shape[0], -1)\n",
    "\n",
    "        out=self.hd_layer(out)\n",
    "        out=F.relu(out)\n",
    "\n",
    "        out=self.out_layer(out)\n",
    "        return out"
   ]
  },
  {
   "cell_type": "code",
   "execution_count": 60,
   "metadata": {},
   "outputs": [],
   "source": [
    "class ImgMCF2(nn.Module):\n",
    "    def __init__(self) -> None:\n",
    "        super().__init__()\n",
    "        # 특징 추출 \n",
    "        self.cnn_layer=nn.Sequential(\n",
    "            nn.Conv2d(in_channels=3, out_channels=10,\n",
    "                                    kernel_size=3),\n",
    "            nn.ReLU(),\n",
    "            nn.MaxPool2d(2, stride=2)\n",
    "        )\n",
    "        self.cnn_layer2=nn.Sequential(\n",
    "            nn.Conv2d(10,30,3),\n",
    "            nn.ReLU(),\n",
    "            nn.MaxPool2d(2, stride=2)\n",
    "        )\n",
    "        # 학습\n",
    "        \n",
    "        self.hd_layer=nn.Linear(30*6*6,50)\n",
    "        self.out_layer=nn.Linear(50,10)\n",
    "\n",
    "    # 순방향 학습 메서드\n",
    "    def forward(self, input):\n",
    "        self.cnn_layer(input)\n",
    "\n",
    "        out=out.view(out.shape[0], -1)\n",
    "\n",
    "        out=self.hd_layer(out)\n",
    "        out=F.relu(out)\n",
    "\n",
    "        out=self.out_layer(out)\n",
    "        return out"
   ]
  },
  {
   "cell_type": "code",
   "execution_count": null,
   "metadata": {},
   "outputs": [],
   "source": []
  },
  {
   "cell_type": "code",
   "execution_count": 64,
   "metadata": {},
   "outputs": [],
   "source": [
    "m=ImgMCF()        "
   ]
  },
  {
   "cell_type": "code",
   "execution_count": 65,
   "metadata": {},
   "outputs": [
    {
     "name": "stdout",
     "output_type": "stream",
     "text": [
      "==========================================================================================\n",
      "Layer (type:depth-idx)                   Output Shape              Param #\n",
      "==========================================================================================\n",
      "ImgMCF                                   [1, 10]                   --\n",
      "├─Conv2d: 1-1                            [1, 10, 30, 30]           280\n",
      "│    └─weight                                                      ├─270\n",
      "│    └─bias                                                        └─10\n",
      "├─MaxPool2d: 1-2                         [1, 10, 15, 15]           --\n",
      "├─Linear: 1-3                            [1, 50]                   112,550\n",
      "│    └─weight                                                      ├─112,500\n",
      "│    └─bias                                                        └─50\n",
      "├─Linear: 1-4                            [1, 10]                   510\n",
      "│    └─weight                                                      ├─500\n",
      "│    └─bias                                                        └─10\n",
      "==========================================================================================\n",
      "Total params: 113,340\n",
      "Trainable params: 113,340\n",
      "Non-trainable params: 0\n",
      "Total mult-adds (M): 0.37\n",
      "==========================================================================================\n",
      "Input size (MB): 0.01\n",
      "Forward/backward pass size (MB): 0.07\n",
      "Params size (MB): 0.45\n",
      "Estimated Total Size (MB): 0.54\n",
      "==========================================================================================\n"
     ]
    },
    {
     "data": {
      "text/plain": [
       "==========================================================================================\n",
       "Layer (type:depth-idx)                   Output Shape              Param #\n",
       "==========================================================================================\n",
       "ImgMCF                                   [1, 10]                   --\n",
       "├─Conv2d: 1-1                            [1, 10, 30, 30]           280\n",
       "│    └─weight                                                      ├─270\n",
       "│    └─bias                                                        └─10\n",
       "├─MaxPool2d: 1-2                         [1, 10, 15, 15]           --\n",
       "├─Linear: 1-3                            [1, 50]                   112,550\n",
       "│    └─weight                                                      ├─112,500\n",
       "│    └─bias                                                        └─50\n",
       "├─Linear: 1-4                            [1, 10]                   510\n",
       "│    └─weight                                                      ├─500\n",
       "│    └─bias                                                        └─10\n",
       "==========================================================================================\n",
       "Total params: 113,340\n",
       "Trainable params: 113,340\n",
       "Non-trainable params: 0\n",
       "Total mult-adds (M): 0.37\n",
       "==========================================================================================\n",
       "Input size (MB): 0.01\n",
       "Forward/backward pass size (MB): 0.07\n",
       "Params size (MB): 0.45\n",
       "Estimated Total Size (MB): 0.54\n",
       "=========================================================================================="
      ]
     },
     "execution_count": 65,
     "metadata": {},
     "output_type": "execute_result"
    }
   ],
   "source": [
    "summary(m, input_size=(1,3,32,32), verbose=2)"
   ]
  },
  {
   "cell_type": "code",
   "execution_count": 58,
   "metadata": {},
   "outputs": [
    {
     "name": "stdout",
     "output_type": "stream",
     "text": [
      "None\n"
     ]
    }
   ],
   "source": [
    "# test\n",
    "for f, t in cifarDL:\n",
    "    f.shape\n",
    "\n",
    "    pre=m(f)\n",
    "    print(pre)\n",
    "    # pre.argmax(dim=1)\n",
    "    break"
   ]
  },
  {
   "cell_type": "code",
   "execution_count": 50,
   "metadata": {},
   "outputs": [
    {
     "name": "stdout",
     "output_type": "stream",
     "text": [
      "name: in_layer.weight, param: torch.Size([10, 3, 3, 3])\n",
      "name: in_layer.bias, param: torch.Size([10])\n",
      "name: hd_layer.weight, param: torch.Size([50, 2250])\n",
      "name: hd_layer.bias, param: torch.Size([50])\n",
      "name: out_layer.weight, param: torch.Size([10, 50])\n",
      "name: out_layer.bias, param: torch.Size([10])\n"
     ]
    }
   ],
   "source": [
    "for name, param in m.named_parameters():\n",
    "    print(f'name: {name}, param: {param.shape}')"
   ]
  }
 ],
 "metadata": {
  "kernelspec": {
   "display_name": "TORCH_CV_38",
   "language": "python",
   "name": "python3"
  },
  "language_info": {
   "codemirror_mode": {
    "name": "ipython",
    "version": 3
   },
   "file_extension": ".py",
   "mimetype": "text/x-python",
   "name": "python",
   "nbconvert_exporter": "python",
   "pygments_lexer": "ipython3",
   "version": "3.8.19"
  }
 },
 "nbformat": 4,
 "nbformat_minor": 2
}
