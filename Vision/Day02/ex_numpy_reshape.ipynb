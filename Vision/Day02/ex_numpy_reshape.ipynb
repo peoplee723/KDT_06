{
 "cells": [
  {
   "cell_type": "markdown",
   "metadata": {},
   "source": [
    "#### ndarray & tensor의 차원 축소 및 차원 추가\n",
    "- 모델에 입출력 시에 shape 설정을 위해서 필요함"
   ]
  },
  {
   "cell_type": "code",
   "execution_count": 81,
   "metadata": {},
   "outputs": [],
   "source": [
    "import cv2\n",
    "import numpy as np\n",
    "import torch"
   ]
  },
  {
   "cell_type": "code",
   "execution_count": 82,
   "metadata": {},
   "outputs": [
    {
     "data": {
      "text/plain": [
       "((200, 100), 2)"
      ]
     },
     "execution_count": 82,
     "metadata": {},
     "output_type": "execute_result"
    }
   ],
   "source": [
    "# 임의의 데이터 생성\n",
    "data=np.full((200,100), 7)\n",
    "data.shape, data.ndim"
   ]
  },
  {
   "cell_type": "markdown",
   "metadata": {},
   "source": [
    "#### 차원 추가<hr>\n",
    "- numpy: reshape(), expand_dims(), newaxis"
   ]
  },
  {
   "cell_type": "code",
   "execution_count": 83,
   "metadata": {},
   "outputs": [
    {
     "data": {
      "text/plain": [
       "((200, 100, 1), 3)"
      ]
     },
     "execution_count": 83,
     "metadata": {},
     "output_type": "execute_result"
    }
   ],
   "source": [
    "# numpy 기반\n",
    "# -> reshape\n",
    "n_data= data.reshape((200,100,1))\n",
    "n_data.shape, n_data.ndim"
   ]
  },
  {
   "cell_type": "code",
   "execution_count": 84,
   "metadata": {},
   "outputs": [
    {
     "data": {
      "text/plain": [
       "((200, 100, 1), (1, 200, 100))"
      ]
     },
     "execution_count": 84,
     "metadata": {},
     "output_type": "execute_result"
    }
   ],
   "source": [
    "# numpy 기반\n",
    "# -> expand_dims (axis= 위치)\n",
    "n_data= np.expand_dims(data, 2) \n",
    "n_data2=np.expand_dims(data,0)\n",
    "n_data.shape, n_data2.shape"
   ]
  },
  {
   "cell_type": "code",
   "execution_count": 85,
   "metadata": {},
   "outputs": [
    {
     "data": {
      "text/plain": [
       "((200, 100, 1), (200, 1, 100))"
      ]
     },
     "execution_count": 85,
     "metadata": {},
     "output_type": "execute_result"
    }
   ],
   "source": [
    "# numpy 기반\n",
    "# -> newaxis (속성)\n",
    "n_data= data[:,:,np.newaxis]\n",
    "n_data2=data[:,np.newaxis,:]\n",
    "n_data.shape, n_data2.shape"
   ]
  },
  {
   "cell_type": "markdown",
   "metadata": {},
   "source": [
    "- pytorch"
   ]
  },
  {
   "cell_type": "code",
   "execution_count": 86,
   "metadata": {},
   "outputs": [
    {
     "data": {
      "text/plain": [
       "torch.Size([200, 100])"
      ]
     },
     "execution_count": 86,
     "metadata": {},
     "output_type": "execute_result"
    }
   ],
   "source": [
    "dataTS=torch.IntTensor(data)\n",
    "dataTS.shape"
   ]
  },
  {
   "cell_type": "code",
   "execution_count": 87,
   "metadata": {},
   "outputs": [
    {
     "data": {
      "text/plain": [
       "torch.Size([200, 100, 1])"
      ]
     },
     "execution_count": 87,
     "metadata": {},
     "output_type": "execute_result"
    }
   ],
   "source": [
    "# torch기반\n",
    "# -> reshape\n",
    "dataTS1=dataTS.reshape((200,100,1))\n",
    "dataTS1.shape"
   ]
  },
  {
   "cell_type": "code",
   "execution_count": 88,
   "metadata": {},
   "outputs": [
    {
     "data": {
      "text/plain": [
       "(torch.Size([1, 200, 100]), torch.Size([200, 100, 1]))"
      ]
     },
     "execution_count": 88,
     "metadata": {},
     "output_type": "execute_result"
    }
   ],
   "source": [
    "# torch기반\n",
    "# -> unsqueeze (dim=위치)\n",
    "dataTS1=dataTS.unsqueeze(dim=0)\n",
    "dataTS2=dataTS.unsqueeze(dim=2)\n",
    "dataTS1.shape, dataTS2.shape"
   ]
  },
  {
   "cell_type": "markdown",
   "metadata": {},
   "source": [
    "#### shape 변경 <hr> \n",
    "- numpy: T, transpose()\n",
    "- torch: T, transpose(), permute()\n",
    "\n"
   ]
  },
  {
   "cell_type": "code",
   "execution_count": 89,
   "metadata": {},
   "outputs": [
    {
     "data": {
      "text/plain": [
       "(torch.Size([200, 100, 1, 1]), torch.Size([1, 1, 100, 200]))"
      ]
     },
     "execution_count": 89,
     "metadata": {},
     "output_type": "execute_result"
    }
   ],
   "source": [
    "# T: axis를 역순으로 정렬 \n",
    "dataTS3=dataTS2.unsqueeze(dim=3)\n",
    "dataTS3.shape, dataTS3.T.shape"
   ]
  },
  {
   "cell_type": "code",
   "execution_count": 90,
   "metadata": {},
   "outputs": [
    {
     "data": {
      "text/plain": [
       "(torch.Size([200, 100, 1, 1]), torch.Size([200, 1, 100, 1]))"
      ]
     },
     "execution_count": 90,
     "metadata": {},
     "output_type": "execute_result"
    }
   ],
   "source": [
    "# transpose() -> 두 축 위치 교체\n",
    "dataTS3.shape, dataTS3.transpose(1,2).shape\n"
   ]
  },
  {
   "cell_type": "code",
   "execution_count": 91,
   "metadata": {},
   "outputs": [
    {
     "data": {
      "text/plain": [
       "(torch.Size([200, 100, 1, 1]), torch.Size([1, 1, 200, 100]))"
      ]
     },
     "execution_count": 91,
     "metadata": {},
     "output_type": "execute_result"
    }
   ],
   "source": [
    "# permute() -> 축 순서 재정렬렬\n",
    "dataTS3.shape, dataTS3.permute(3,2,0,1).shape"
   ]
  },
  {
   "cell_type": "markdown",
   "metadata": {},
   "source": [
    "#### 차원 축소(제거)<hr>\n",
    "- numpy, torch: reshape(), squeeze()"
   ]
  },
  {
   "cell_type": "code",
   "execution_count": 92,
   "metadata": {},
   "outputs": [
    {
     "name": "stdout",
     "output_type": "stream",
     "text": [
      "(200, 1, 100, 1) (200, 100)\n"
     ]
    }
   ],
   "source": [
    "# numpy, torch -> reshape 1인 차원 제거\n",
    "n_data2=np.expand_dims(n_data2, 3)\n",
    "print(n_data2.shape, n_data2.reshape(200,-1).shape)"
   ]
  },
  {
   "cell_type": "code",
   "execution_count": 93,
   "metadata": {},
   "outputs": [
    {
     "name": "stdout",
     "output_type": "stream",
     "text": [
      "(200, 1, 100, 1) (200, 100) (200, 100, 1)\n"
     ]
    },
    {
     "data": {
      "text/plain": [
       "(torch.Size([200, 100, 1, 1]),\n",
       " torch.Size([200, 100]),\n",
       " torch.Size([200, 100, 1, 1]))"
      ]
     },
     "execution_count": 93,
     "metadata": {},
     "output_type": "execute_result"
    }
   ],
   "source": [
    "# numpy, torch -> squeeze() 1인 차원 축 모두 제거\n",
    "# axis 지정시 지정된 1인 차원 축만 제거 (np-> 1인 차원 아니면 error)\n",
    "print(n_data2.shape, n_data2.squeeze().shape, n_data2.squeeze(1).shape)\n",
    "dataTS3.shape, dataTS3.squeeze().shape, dataTS3.squeeze(0).shape"
   ]
  },
  {
   "cell_type": "code",
   "execution_count": 94,
   "metadata": {},
   "outputs": [
    {
     "data": {
      "text/plain": [
       "(torch.Size([200, 100, 1, 1]), torch.Size([200, 100]), torch.Size([200, 100]))"
      ]
     },
     "execution_count": 94,
     "metadata": {},
     "output_type": "execute_result"
    }
   ],
   "source": [
    "# torch -> squeeze_ (_가 붙어있는 메서드-> 원본에 적용\n",
    "#                                          inplace=True와 동일)\n",
    "dataTS3.shape, dataTS3.squeeze_().shape, dataTS3.shape "
   ]
  }
 ],
 "metadata": {
  "kernelspec": {
   "display_name": "TORCH_CV_38",
   "language": "python",
   "name": "python3"
  },
  "language_info": {
   "codemirror_mode": {
    "name": "ipython",
    "version": 3
   },
   "file_extension": ".py",
   "mimetype": "text/x-python",
   "name": "python",
   "nbconvert_exporter": "python",
   "pygments_lexer": "ipython3",
   "version": "3.8.19"
  }
 },
 "nbformat": 4,
 "nbformat_minor": 2
}
