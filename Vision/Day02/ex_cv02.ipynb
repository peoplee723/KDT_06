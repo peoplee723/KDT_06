{
 "cells": [
  {
   "cell_type": "markdown",
   "metadata": {},
   "source": [
    "#### Video 처리\n",
    "- cv2.VideoCapture(동영상 또는 카메라_번호) 함수"
   ]
  },
  {
   "cell_type": "code",
   "execution_count": 5,
   "metadata": {},
   "outputs": [],
   "source": [
    "# 모듈 로딩\n",
    "import cv2\n",
    "import numpy\n",
    "import time"
   ]
  },
  {
   "cell_type": "code",
   "execution_count": 3,
   "metadata": {},
   "outputs": [],
   "source": [
    "# 데이터 및 디바이스 설정\n",
    "DIR_PATH= '../img/'\n",
    "CAM_DEVICE=0"
   ]
  },
  {
   "cell_type": "markdown",
   "metadata": {},
   "source": [
    "[카메라 관련 영상 처리]"
   ]
  },
  {
   "cell_type": "code",
   "execution_count": 646,
   "metadata": {},
   "outputs": [
    {
     "data": {
      "text/plain": [
       "'capture_10-15.jpg'"
      ]
     },
     "execution_count": 646,
     "metadata": {},
     "output_type": "execute_result"
    }
   ],
   "source": [
    "time.ctime()\n",
    "t=time.strftime('%M-%S')\n",
    "SAVE_FILE=f'capture_{t}.jpg'\n",
    "SAVE_FILE\n",
    "#### 파일 이름으로 사용할 수 없는 특수기호\n",
    "# /, |, :, *, ?, \", <, >, \\"
   ]
  },
  {
   "cell_type": "code",
   "execution_count": 647,
   "metadata": {},
   "outputs": [
    {
     "name": "stdout",
     "output_type": "stream",
     "text": [
      "영상 재생 정지\n"
     ]
    }
   ],
   "source": [
    "# 카메라와 연결 여부 채크\n",
    "camera=cv2.VideoCapture(CAM_DEVICE)\n",
    "\n",
    "if camera.isOpened():\n",
    "    while True:\n",
    "        ret, img=camera.read()\n",
    "        if ret:\n",
    "            cv2.imshow('video', img)\n",
    "            if cv2.waitKey(10) != -1:\n",
    "                print('영상 재생 정지')\n",
    "                cv2.imwrite(SAVE_FILE, img)\n",
    "                cv2.destroyAllWindows()\n",
    "                break\n",
    "        else: \n",
    "            print('영상 읽기 실패')\n",
    "            break\n",
    "else: print('카메라 연결 여부 체크 바랍니다.')"
   ]
  },
  {
   "cell_type": "code",
   "execution_count": null,
   "metadata": {},
   "outputs": [],
   "source": []
  }
 ],
 "metadata": {
  "kernelspec": {
   "display_name": "TORCH_CV_38",
   "language": "python",
   "name": "python3"
  },
  "language_info": {
   "codemirror_mode": {
    "name": "ipython",
    "version": 3
   },
   "file_extension": ".py",
   "mimetype": "text/x-python",
   "name": "python",
   "nbconvert_exporter": "python",
   "pygments_lexer": "ipython3",
   "version": "3.8.19"
  }
 },
 "nbformat": 4,
 "nbformat_minor": 2
}
