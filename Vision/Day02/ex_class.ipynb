{
 "cells": [
  {
   "cell_type": "markdown",
   "metadata": {},
   "source": [
    "#### 클래스 속성들\n",
    "- OOP(객체지향언어) 특징\n",
    "    - 상속\n",
    "    - 다형성\n",
    "    - 캐슐화 -> 속성이 외부에 비공개  \n",
    "                (직접 속성 접근 불가, 간접 속성 접근 가능)\n",
    "        - 간접속성 접근 방법: getter/setter ,메서드\n",
    "        "
   ]
  },
  {
   "cell_type": "code",
   "execution_count": 33,
   "metadata": {},
   "outputs": [],
   "source": [
    "class person:\n",
    "    # 클래스 변수: person 클래스로 생성된 인스턴스들의 공유 변수\n",
    "    # 인스턴스 생성 없이 사용 가능한 변수\n",
    "    loc='Korea'\n",
    "    # 인스턴스 생성 메서드 즉, 생성자 메서드\n",
    "    def __init__(self, name, age, gender):\n",
    "        self.name=name\n",
    "        self.age=age\n",
    "        self.__gender=gender  \n",
    "                ##속성 비공개처리(인스턴스 변수명으로 직접 접근 안됨)\n",
    "    # 비공개 인스턴스 간접 접근 메서드=> get속성명(), set속성명(새로운값)\n",
    "    # ==> getter, setter 메서드\n",
    "    def getGender(self):\n",
    "        return self.__gender\n",
    "    def setGender(self, gender):\n",
    "        self.__gender= gender"
   ]
  },
  {
   "cell_type": "code",
   "execution_count": 34,
   "metadata": {},
   "outputs": [
    {
     "data": {
      "text/plain": [
       "'Korea'"
      ]
     },
     "execution_count": 34,
     "metadata": {},
     "output_type": "execute_result"
    }
   ],
   "source": [
    "person.loc"
   ]
  },
  {
   "cell_type": "code",
   "execution_count": 35,
   "metadata": {},
   "outputs": [
    {
     "data": {
      "text/plain": [
       "('Korea', 21)"
      ]
     },
     "execution_count": 35,
     "metadata": {},
     "output_type": "execute_result"
    }
   ],
   "source": [
    "p1=person('마징가', 21,'남자')\n",
    "p1.loc, p1.age"
   ]
  },
  {
   "cell_type": "code",
   "execution_count": 36,
   "metadata": {},
   "outputs": [
    {
     "data": {
      "text/plain": [
       "('홍길동',)"
      ]
     },
     "execution_count": 36,
     "metadata": {},
     "output_type": "execute_result"
    }
   ],
   "source": [
    "# 인스턴스 속성 변경\n",
    "p1.name='홍길동'\n",
    "p1.name,# p1.__gender"
   ]
  },
  {
   "cell_type": "code",
   "execution_count": 37,
   "metadata": {},
   "outputs": [
    {
     "data": {
      "text/plain": [
       "'남자'"
      ]
     },
     "execution_count": 37,
     "metadata": {},
     "output_type": "execute_result"
    }
   ],
   "source": [
    "p1.getGender()"
   ]
  },
  {
   "cell_type": "code",
   "execution_count": 39,
   "metadata": {},
   "outputs": [
    {
     "data": {
      "text/plain": [
       "'female'"
      ]
     },
     "execution_count": 39,
     "metadata": {},
     "output_type": "execute_result"
    }
   ],
   "source": [
    "p1.setGender('female'); p1.getGender()"
   ]
  }
 ],
 "metadata": {
  "kernelspec": {
   "display_name": "TORCH_CV_38",
   "language": "python",
   "name": "python3"
  },
  "language_info": {
   "codemirror_mode": {
    "name": "ipython",
    "version": 3
   },
   "file_extension": ".py",
   "mimetype": "text/x-python",
   "name": "python",
   "nbconvert_exporter": "python",
   "pygments_lexer": "ipython3",
   "version": "3.8.19"
  }
 },
 "nbformat": 4,
 "nbformat_minor": 2
}
