{
 "cells": [
  {
   "cell_type": "markdown",
   "metadata": {},
   "source": [
    "##### torchvision 제공 이미지 전처리 관련 기능\n",
    "- torchvision.transforms 서브 모듈\n",
    "    - 이미지 크기 조절\n",
    "    - 이미지 정규화\n",
    "    - 이미지 자르기\n",
    "    - 이미지 회전 등등 다양한 기능 제공\n",
    "    - 이미지 데이터 타입-> PIL IMAGE"
   ]
  },
  {
   "cell_type": "markdown",
   "metadata": {},
   "source": [
    "[1] 모듈 로딩<hr>"
   ]
  },
  {
   "cell_type": "code",
   "execution_count": 2,
   "metadata": {},
   "outputs": [],
   "source": [
    "import cv2\n",
    "from torchvision import transforms      #pytorch 지원 이미지 변환 관련 모듈\n",
    "from torchvision.transforms import v2\n",
    "from PIL import Image\n",
    "import torch\n",
    "\n",
    "import numpy as np\n",
    "import matplotlib.pyplot as plt"
   ]
  },
  {
   "cell_type": "code",
   "execution_count": 3,
   "metadata": {},
   "outputs": [],
   "source": [
    "IMG_PATH='../img/'\n",
    "IMG_FILE=IMG_PATH+'me.jpg'"
   ]
  },
  {
   "cell_type": "code",
   "execution_count": 4,
   "metadata": {},
   "outputs": [],
   "source": [
    "# cv일때\n",
    "cv_img= cv2.imread(IMG_FILE)\n",
    "cv_img=cv2.cvtColor(cv_img, cv2.COLOR_BGR2RGB)   #cv는 BGR 로 읽음으로 바꿔야함\n",
    "\n",
    "# pil일때\n",
    "pil_img=Image.open(IMG_FILE)"
   ]
  },
  {
   "cell_type": "code",
   "execution_count": 5,
   "metadata": {},
   "outputs": [],
   "source": [
    "cvTensor1= torch.tensor(np.array(cv_img))         #일반적 텐서 생성\n",
    "\n",
    "# 이미지용 텐서 생성 -> 순서/위치 자동 처리\n",
    "# cv\n",
    "cvTensor2= transforms.ToTensor()(np.array(cv_img))\n",
    "# pil\n",
    "pilTensor= transforms.PILToTensor()(pil_img)\n",
    "pilTensor2= transforms.ToTensor()(np.array(pil_img))\n"
   ]
  },
  {
   "cell_type": "markdown",
   "metadata": {},
   "source": [
    "- 인스턴스와 메서드<hr>\n",
    "- 인스턴스: 메모리(힙)에 존재하는(저장된) 데이터\n",
    "    - ex) 정수 인스턴스, vgg인스턴스\n",
    "- 속성: 클래스가 가지는 특징, 외형, 성격....\n",
    "- 메서드: 클래스가 가지는 기능, 역할 => 문법 구조는 함수와 동일\n",
    "    - 클래스에서 사용하는 함수\n"
   ]
  },
  {
   "cell_type": "code",
   "execution_count": 6,
   "metadata": {},
   "outputs": [],
   "source": [
    "from typing import Any\n",
    "\n",
    "\n",
    "class A:\n",
    "    # 매직메서드 (인스턴스를 생성해주는 메서드)\n",
    "    def __init__(self, num, loc) -> None:\n",
    "        self.num=num\n",
    "        self.loc=loc\n",
    "\n",
    "    # 연산자 기능과 연결된 매직 메서드 +,-,*,/,%,//,**\n",
    "    def __add__(self, other):\n",
    "        print('__add__')\n",
    "        return self.num+other.num\n",
    "    \n",
    "    # 인스턴스 변수명으로 호출되는 메서드\n",
    "    def __call__(self, value) -> Any:\n",
    "        print('__call__')\n",
    "    # def __에서 나오는 메서드들 전부 가능능\n",
    "\n",
    "    # 인스턴스 전용 메서드\n",
    "    def test(self, food):\n",
    "        print(self.loc, food)"
   ]
  },
  {
   "cell_type": "code",
   "execution_count": 7,
   "metadata": {},
   "outputs": [
    {
     "name": "stdout",
     "output_type": "stream",
     "text": [
      "대구 삼각김밥\n"
     ]
    }
   ],
   "source": [
    "# 인스턴스 생성\n",
    "a=A(10, '대구')\n",
    "a.num\n",
    "a.test('삼각김밥')"
   ]
  },
  {
   "cell_type": "code",
   "execution_count": 8,
   "metadata": {},
   "outputs": [
    {
     "name": "stdout",
     "output_type": "stream",
     "text": [
      "__add__\n"
     ]
    },
    {
     "data": {
      "text/plain": [
       "30"
      ]
     },
     "execution_count": 8,
     "metadata": {},
     "output_type": "execute_result"
    }
   ],
   "source": [
    "a2=A(20,'부산')\n",
    "a+a2"
   ]
  },
  {
   "cell_type": "code",
   "execution_count": 9,
   "metadata": {},
   "outputs": [
    {
     "name": "stdout",
     "output_type": "stream",
     "text": [
      "__call__\n"
     ]
    }
   ],
   "source": [
    "a2(1242312431243)"
   ]
  },
  {
   "cell_type": "code",
   "execution_count": 10,
   "metadata": {},
   "outputs": [
    {
     "data": {
      "text/plain": [
       "torch.Size([3, 40, 20])"
      ]
     },
     "execution_count": 10,
     "metadata": {},
     "output_type": "execute_result"
    }
   ],
   "source": [
    "# img tensor화\n",
    "# imgTS=v2.ToTensor()(cv_img) #deprecated-> 나중에 사라짐\n",
    "imgTS=v2.ToImage()(cv_img)\n",
    "\n",
    "# resize 이미지 크기 변경\n",
    "# v2.Resize() 클래스\n",
    "imgTS2=v2.Resize(size=(40,20), interpolation=v2.InterpolationMode.BILINEAR)(imgTS)\n",
    "\n",
    "imgTS2.shape"
   ]
  },
  {
   "cell_type": "code",
   "execution_count": 11,
   "metadata": {},
   "outputs": [
    {
     "data": {
      "text/plain": [
       "torch.Size([640, 40, 20])"
      ]
     },
     "execution_count": 11,
     "metadata": {},
     "output_type": "execute_result"
    }
   ],
   "source": [
    "\n",
    "# v2.Compose() 클래스\n",
    "# - 이미지에 진행할 여러가지 전처리를 하나로 묶음 처리 즉, pipline 설정\n",
    "trans=v2.Compose(\n",
    "    [\n",
    "        v2.ToImage(),\n",
    "        v2.Resize(size=(40,20), interpolation=v2.InterpolationMode.BILINEAR)\n",
    "    ]\n",
    ")\n",
    "imgTS2=trans(imgTS)\n",
    "imgTS2.shape"
   ]
  }
 ],
 "metadata": {
  "kernelspec": {
   "display_name": "TORCH_CV_38",
   "language": "python",
   "name": "python3"
  },
  "language_info": {
   "codemirror_mode": {
    "name": "ipython",
    "version": 3
   },
   "file_extension": ".py",
   "mimetype": "text/x-python",
   "name": "python",
   "nbconvert_exporter": "python",
   "pygments_lexer": "ipython3",
   "version": "3.8.19"
  }
 },
 "nbformat": 4,
 "nbformat_minor": 2
}
