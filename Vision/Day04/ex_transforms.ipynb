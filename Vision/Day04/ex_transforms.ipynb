{
 "cells": [
  {
   "cell_type": "markdown",
   "metadata": {},
   "source": [
    "##### torchvision 제공 이미지 전처리 관련 기능\n",
    "- torchvision.transforms 서브 모듈\n",
    "    - 이미지 크기 조절\n",
    "    - 이미지 정규화\n",
    "    - 이미지 자르기\n",
    "    - 이미지 회전 등등 다양한 기능 제공\n",
    "    - 이미지 데이터 타입-> PIL IMAGE"
   ]
  },
  {
   "cell_type": "markdown",
   "metadata": {},
   "source": [
    "[1] 모듈 로딩<hr>"
   ]
  },
  {
   "cell_type": "code",
   "execution_count": 25,
   "metadata": {},
   "outputs": [],
   "source": [
    "import cv2\n",
    "from torchvision import transforms      #pytorch 지원 이미지 변환 관련 모듈\n",
    "from PIL import Image\n",
    "import torch\n",
    "\n",
    "import numpy as np\n",
    "import matplotlib.pyplot as plt"
   ]
  },
  {
   "cell_type": "code",
   "execution_count": 26,
   "metadata": {},
   "outputs": [],
   "source": [
    "IMG_PATH='../img/'\n",
    "IMG_FILE=IMG_PATH+'me.jpg'"
   ]
  },
  {
   "cell_type": "code",
   "execution_count": 27,
   "metadata": {},
   "outputs": [],
   "source": [
    "# cv일때\n",
    "cv_img= cv2.imread(IMG_FILE)\n",
    "cv_img=cv2.cvtColor(cv_img, cv2.COLOR_BGR2RGB)   #cv는 BGR 로 읽음으로 바꿔야함\n",
    "\n",
    "# pil일때\n",
    "pil_img=Image.open(IMG_FILE)"
   ]
  },
  {
   "cell_type": "code",
   "execution_count": 48,
   "metadata": {},
   "outputs": [],
   "source": [
    "cvTensor1= torch.tensor(np.array(cv_img))         #일반적 텐서 생성\n",
    "\n",
    "# 이미지용 텐서 생성 -> 순서/위치 자동 처리\n",
    "# cv\n",
    "cvTensor2= transforms.ToTensor()(np.array(cv_img))\n",
    "# pil\n",
    "pilTensor= transforms.PILToTensor()(pil_img)\n",
    "pilTensor2= transforms.ToTensor()(np.array(pil_img))\n"
   ]
  },
  {
   "cell_type": "code",
   "execution_count": 33,
   "metadata": {},
   "outputs": [
    {
     "data": {
      "text/plain": [
       "(480, 640, 3)"
      ]
     },
     "execution_count": 33,
     "metadata": {},
     "output_type": "execute_result"
    }
   ],
   "source": [
    "cvNP=cvTensor1.numpy()\n",
    "cvNP.shape\n",
    "\n",
    "# plt.imshow(cvNP)"
   ]
  },
  {
   "cell_type": "code",
   "execution_count": 34,
   "metadata": {},
   "outputs": [],
   "source": [
    "pilNP=pilTensor.numpy()"
   ]
  },
  {
   "cell_type": "code",
   "execution_count": 36,
   "metadata": {},
   "outputs": [],
   "source": [
    "from torchvision.transforms import v2"
   ]
  },
  {
   "cell_type": "code",
   "execution_count": 40,
   "metadata": {},
   "outputs": [
    {
     "data": {
      "text/plain": [
       "torch.Size([3, 480, 640])"
      ]
     },
     "execution_count": 40,
     "metadata": {},
     "output_type": "execute_result"
    }
   ],
   "source": [
    "# 어레이 형태의 Image 타입을 생성함\n",
    "v2.ToImage()(cv_img).shape"
   ]
  },
  {
   "cell_type": "code",
   "execution_count": 49,
   "metadata": {},
   "outputs": [
    {
     "ename": "TypeError",
     "evalue": "pic should be PIL Image. Got <class 'torch.Tensor'>",
     "output_type": "error",
     "traceback": [
      "\u001b[1;31m---------------------------------------------------------------------------\u001b[0m",
      "\u001b[1;31mTypeError\u001b[0m                                 Traceback (most recent call last)",
      "Cell \u001b[1;32mIn[49], line 1\u001b[0m\n\u001b[1;32m----> 1\u001b[0m pilIMG1\u001b[38;5;241m=\u001b[39m \u001b[43mtransforms\u001b[49m\u001b[38;5;241;43m.\u001b[39;49m\u001b[43mPILToTensor\u001b[49m\u001b[43m(\u001b[49m\u001b[43m)\u001b[49m\u001b[43m(\u001b[49m\u001b[43mpilTensor2\u001b[49m\u001b[43m)\u001b[49m\n\u001b[0;32m      2\u001b[0m pilIMG1\u001b[38;5;241m.\u001b[39mshow()\n",
      "File \u001b[1;32mc:\\Users\\KDP-25\\anaconda3\\envs\\TORCH_CV_38\\lib\\site-packages\\torchvision\\transforms\\transforms.py:166\u001b[0m, in \u001b[0;36mPILToTensor.__call__\u001b[1;34m(self, pic)\u001b[0m\n\u001b[0;32m    154\u001b[0m \u001b[38;5;28;01mdef\u001b[39;00m \u001b[38;5;21m__call__\u001b[39m(\u001b[38;5;28mself\u001b[39m, pic):\n\u001b[0;32m    155\u001b[0m \u001b[38;5;250m    \u001b[39m\u001b[38;5;124;03m\"\"\"\u001b[39;00m\n\u001b[0;32m    156\u001b[0m \u001b[38;5;124;03m    .. note::\u001b[39;00m\n\u001b[0;32m    157\u001b[0m \n\u001b[1;32m   (...)\u001b[0m\n\u001b[0;32m    164\u001b[0m \u001b[38;5;124;03m        Tensor: Converted image.\u001b[39;00m\n\u001b[0;32m    165\u001b[0m \u001b[38;5;124;03m    \"\"\"\u001b[39;00m\n\u001b[1;32m--> 166\u001b[0m     \u001b[38;5;28;01mreturn\u001b[39;00m \u001b[43mF\u001b[49m\u001b[38;5;241;43m.\u001b[39;49m\u001b[43mpil_to_tensor\u001b[49m\u001b[43m(\u001b[49m\u001b[43mpic\u001b[49m\u001b[43m)\u001b[49m\n",
      "File \u001b[1;32mc:\\Users\\KDP-25\\anaconda3\\envs\\TORCH_CV_38\\lib\\site-packages\\torchvision\\transforms\\functional.py:200\u001b[0m, in \u001b[0;36mpil_to_tensor\u001b[1;34m(pic)\u001b[0m\n\u001b[0;32m    198\u001b[0m     _log_api_usage_once(pil_to_tensor)\n\u001b[0;32m    199\u001b[0m \u001b[38;5;28;01mif\u001b[39;00m \u001b[38;5;129;01mnot\u001b[39;00m F_pil\u001b[38;5;241m.\u001b[39m_is_pil_image(pic):\n\u001b[1;32m--> 200\u001b[0m     \u001b[38;5;28;01mraise\u001b[39;00m \u001b[38;5;167;01mTypeError\u001b[39;00m(\u001b[38;5;124mf\u001b[39m\u001b[38;5;124m\"\u001b[39m\u001b[38;5;124mpic should be PIL Image. Got \u001b[39m\u001b[38;5;132;01m{\u001b[39;00m\u001b[38;5;28mtype\u001b[39m(pic)\u001b[38;5;132;01m}\u001b[39;00m\u001b[38;5;124m\"\u001b[39m)\n\u001b[0;32m    202\u001b[0m \u001b[38;5;28;01mif\u001b[39;00m accimage \u001b[38;5;129;01mis\u001b[39;00m \u001b[38;5;129;01mnot\u001b[39;00m \u001b[38;5;28;01mNone\u001b[39;00m \u001b[38;5;129;01mand\u001b[39;00m \u001b[38;5;28misinstance\u001b[39m(pic, accimage\u001b[38;5;241m.\u001b[39mImage):\n\u001b[0;32m    203\u001b[0m     \u001b[38;5;66;03m# accimage format is always uint8 internally, so always return uint8 here\u001b[39;00m\n\u001b[0;32m    204\u001b[0m     nppic \u001b[38;5;241m=\u001b[39m np\u001b[38;5;241m.\u001b[39mzeros([pic\u001b[38;5;241m.\u001b[39mchannels, pic\u001b[38;5;241m.\u001b[39mheight, pic\u001b[38;5;241m.\u001b[39mwidth], dtype\u001b[38;5;241m=\u001b[39mnp\u001b[38;5;241m.\u001b[39muint8)\n",
      "\u001b[1;31mTypeError\u001b[0m: pic should be PIL Image. Got <class 'torch.Tensor'>"
     ]
    }
   ],
   "source": [
    "pilIMG1= transforms.PILToTensor()(pilTensor2)\n",
    "pilIMG1.show()"
   ]
  }
 ],
 "metadata": {
  "kernelspec": {
   "display_name": "TORCH_CV_38",
   "language": "python",
   "name": "python3"
  },
  "language_info": {
   "codemirror_mode": {
    "name": "ipython",
    "version": 3
   },
   "file_extension": ".py",
   "mimetype": "text/x-python",
   "name": "python",
   "nbconvert_exporter": "python",
   "pygments_lexer": "ipython3",
   "version": "3.8.19"
  }
 },
 "nbformat": 4,
 "nbformat_minor": 2
}
