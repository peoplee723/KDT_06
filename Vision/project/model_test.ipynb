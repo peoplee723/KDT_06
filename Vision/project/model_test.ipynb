{
 "cells": [
  {
   "cell_type": "code",
   "execution_count": 319,
   "metadata": {},
   "outputs": [],
   "source": [
    "# 모델 테스트\n"
   ]
  },
  {
   "cell_type": "code",
   "execution_count": 320,
   "metadata": {},
   "outputs": [
    {
     "data": {
      "text/plain": [
       "device(type='cpu')"
      ]
     },
     "execution_count": 320,
     "metadata": {},
     "output_type": "execute_result"
    }
   ],
   "source": [
    "import torch\n",
    "import torch.nn as nn\n",
    "DEVICE='cuda' if torch.cuda.is_available() else 'cpu'\n",
    "torch.device('cpu')"
   ]
  },
  {
   "cell_type": "code",
   "execution_count": 321,
   "metadata": {},
   "outputs": [],
   "source": [
    "model=torch.load('overwatch.pth', weights_only=False,\n",
    "                 map_location=torch.device('cpu'))"
   ]
  },
  {
   "cell_type": "code",
   "execution_count": 322,
   "metadata": {},
   "outputs": [],
   "source": [
    "from get_train_model import predicting\n",
    "from torchvision.transforms import v2\n",
    "from torchvision import transforms\n",
    "from torchvision.datasets import ImageFolder\n",
    "from PIL import Image\n",
    "import numpy as np\n",
    "import cv2\n",
    "import io"
   ]
  },
  {
   "cell_type": "code",
   "execution_count": 323,
   "metadata": {},
   "outputs": [],
   "source": [
    "# # 이미지 불러오기\n",
    "test_img='./sample/TRACER.jpg'\n",
    "\n",
    "# # 이미지 전처리\n",
    "# preprocess = v2.Compose([\n",
    "#     transforms.ToTensor(),\n",
    "#     v2.Resize(size=(342), interpolation=v2.InterpolationMode.BILINEAR),\n",
    "#     v2.CenterCrop(299),\n",
    "#     v2.Normalize(mean=[0.485, 0.456, 0.406], std=[0.229, 0.224, 0.225])\n",
    "# ])\n",
    "# test_img= Image.open(test_img)\n",
    "# scaled_img=preprocess(test_img)\n",
    "# scaled_img= scaled_img.unsqueeze(0)\n",
    "# print(scaled_img.shape)\n",
    "# # scaled_img=scaled_img.permute(1,2,0)\n",
    "# scaled_img.shape"
   ]
  },
  {
   "cell_type": "code",
   "execution_count": 324,
   "metadata": {},
   "outputs": [
    {
     "ename": "AttributeError",
     "evalue": "'JpegImageFile' object has no attribute 'read'",
     "output_type": "error",
     "traceback": [
      "\u001b[1;31m---------------------------------------------------------------------------\u001b[0m",
      "\u001b[1;31mAttributeError\u001b[0m                            Traceback (most recent call last)",
      "Cell \u001b[1;32mIn[324], line 13\u001b[0m\n\u001b[0;32m      6\u001b[0m preprocess \u001b[38;5;241m=\u001b[39m v2\u001b[38;5;241m.\u001b[39mCompose([\n\u001b[0;32m      7\u001b[0m     transforms\u001b[38;5;241m.\u001b[39mToTensor(),\n\u001b[0;32m      8\u001b[0m     v2\u001b[38;5;241m.\u001b[39mResize(size\u001b[38;5;241m=\u001b[39m(\u001b[38;5;241m342\u001b[39m), interpolation\u001b[38;5;241m=\u001b[39mv2\u001b[38;5;241m.\u001b[39mInterpolationMode\u001b[38;5;241m.\u001b[39mBILINEAR),\n\u001b[0;32m      9\u001b[0m     v2\u001b[38;5;241m.\u001b[39mCenterCrop(\u001b[38;5;241m299\u001b[39m),\n\u001b[0;32m     10\u001b[0m     v2\u001b[38;5;241m.\u001b[39mNormalize(mean\u001b[38;5;241m=\u001b[39m[\u001b[38;5;241m0.485\u001b[39m, \u001b[38;5;241m0.456\u001b[39m, \u001b[38;5;241m0.406\u001b[39m], std\u001b[38;5;241m=\u001b[39m[\u001b[38;5;241m0.229\u001b[39m, \u001b[38;5;241m0.224\u001b[39m, \u001b[38;5;241m0.225\u001b[39m])\n\u001b[0;32m     11\u001b[0m ])\n\u001b[0;32m     12\u001b[0m test_img\u001b[38;5;241m=\u001b[39mImage\u001b[38;5;241m.\u001b[39mopen(test_img)\n\u001b[1;32m---> 13\u001b[0m test_img\u001b[38;5;241m=\u001b[39m \u001b[43mImage\u001b[49m\u001b[38;5;241;43m.\u001b[39;49m\u001b[43mopen\u001b[49m\u001b[43m(\u001b[49m\u001b[43mtest_img\u001b[49m\u001b[43m)\u001b[49m\u001b[38;5;241m.\u001b[39mconvert(\u001b[38;5;124m\"\u001b[39m\u001b[38;5;124mRGB\u001b[39m\u001b[38;5;124m\"\u001b[39m)\n\u001b[0;32m     14\u001b[0m scaled_img\u001b[38;5;241m=\u001b[39mpreprocess(test_img)\n\u001b[0;32m     15\u001b[0m scaled_img\u001b[38;5;241m=\u001b[39m scaled_img\u001b[38;5;241m.\u001b[39munsqueeze(\u001b[38;5;241m0\u001b[39m)\n",
      "File \u001b[1;32mc:\\Users\\KDP-25\\anaconda3\\envs\\TORCH_CV_38\\lib\\site-packages\\PIL\\Image.py:3442\u001b[0m, in \u001b[0;36mopen\u001b[1;34m(fp, mode, formats)\u001b[0m\n\u001b[0;32m   3439\u001b[0m     fp \u001b[38;5;241m=\u001b[39m io\u001b[38;5;241m.\u001b[39mBytesIO(fp\u001b[38;5;241m.\u001b[39mread())\n\u001b[0;32m   3440\u001b[0m     exclusive_fp \u001b[38;5;241m=\u001b[39m \u001b[38;5;28;01mTrue\u001b[39;00m\n\u001b[1;32m-> 3442\u001b[0m prefix \u001b[38;5;241m=\u001b[39m \u001b[43mfp\u001b[49m\u001b[38;5;241;43m.\u001b[39;49m\u001b[43mread\u001b[49m(\u001b[38;5;241m16\u001b[39m)\n\u001b[0;32m   3444\u001b[0m preinit()\n\u001b[0;32m   3446\u001b[0m warning_messages: \u001b[38;5;28mlist\u001b[39m[\u001b[38;5;28mstr\u001b[39m] \u001b[38;5;241m=\u001b[39m []\n",
      "\u001b[1;31mAttributeError\u001b[0m: 'JpegImageFile' object has no attribute 'read'"
     ]
    }
   ],
   "source": [
    "# flask test\n",
    "with open(test_img, 'rb') as f:\n",
    "    img=f.read()\n",
    "test_img=io.BytesIO(img)\n",
    "# 이미지 전처리\n",
    "preprocess = v2.Compose([\n",
    "    transforms.ToTensor(),\n",
    "    v2.Resize(size=(342), interpolation=v2.InterpolationMode.BILINEAR),\n",
    "    v2.CenterCrop(299),\n",
    "    v2.Normalize(mean=[0.485, 0.456, 0.406], std=[0.229, 0.224, 0.225])\n",
    "])\n",
    "test_img=Image.open(test_img)\n",
    "test_img= Image.open(test_img).convert(\"RGB\")\n",
    "scaled_img=preprocess(test_img)\n",
    "scaled_img= scaled_img.unsqueeze(0)"
   ]
  },
  {
   "cell_type": "code",
   "execution_count": 286,
   "metadata": {},
   "outputs": [],
   "source": [
    "from typing import Literal\n",
    "import torch.nn.functional as F"
   ]
  },
  {
   "cell_type": "code",
   "execution_count": 287,
   "metadata": {},
   "outputs": [
    {
     "name": "stdout",
     "output_type": "stream",
     "text": [
      "Diva: 0.6820\n"
     ]
    }
   ],
   "source": [
    "\n",
    "    # 예측\n",
    "result=['Diva', 'Genji', 'Hanzo', 'Para', 'Roadhog', 'Tracer']\n",
    "data=scaled_img\n",
    "\n",
    "\n",
    "pre_val=model(data)\n",
    "pre_val=F.softmax(pre_val, dim=1)\n",
    "a= pre_val.argmax().item()\n",
    "print(f'{result[a]}: {(pre_val[0][a].item()):.4f}')"
   ]
  },
  {
   "cell_type": "code",
   "execution_count": 86,
   "metadata": {},
   "outputs": [],
   "source": []
  },
  {
   "cell_type": "code",
   "execution_count": null,
   "metadata": {},
   "outputs": [],
   "source": []
  }
 ],
 "metadata": {
  "kernelspec": {
   "display_name": "TORCH_CV_38",
   "language": "python",
   "name": "python3"
  },
  "language_info": {
   "codemirror_mode": {
    "name": "ipython",
    "version": 3
   },
   "file_extension": ".py",
   "mimetype": "text/x-python",
   "name": "python",
   "nbconvert_exporter": "python",
   "pygments_lexer": "ipython3",
   "version": "3.8.19"
  }
 },
 "nbformat": 4,
 "nbformat_minor": 2
}
