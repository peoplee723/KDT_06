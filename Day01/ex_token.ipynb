{
 "cells": [
  {
   "cell_type": "markdown",
   "metadata": {},
   "source": [
    "#### 자연어 처리를 위한 전처리\n",
    "- 토큰화(Tokenizer): 의미를 가진 최소 단위로 나누는 작업\n",
    "    - 단어 토큰화\n",
    "    - 문장 토큰화\n",
    "    - 바이트 토큰화\n",
    "    "
   ]
  },
  {
   "cell_type": "markdown",
   "metadata": {},
   "source": []
  },
  {
   "cell_type": "markdown",
   "metadata": {},
   "source": [
    "[1] 모듈 로딩 및 데이터 준비<hr>"
   ]
  },
  {
   "cell_type": "code",
   "execution_count": 1,
   "metadata": {},
   "outputs": [],
   "source": [
    "# 모듈 로딩\n",
    "from nltk.tokenize import word_tokenize, sent_tokenize, wordpunct_tokenize"
   ]
  },
  {
   "cell_type": "code",
   "execution_count": 8,
   "metadata": {},
   "outputs": [],
   "source": [
    "##임시 데이터\n",
    "text='''Happy, New Year! Don't stop.'''\n"
   ]
  },
  {
   "cell_type": "code",
   "execution_count": 9,
   "metadata": {},
   "outputs": [
    {
     "name": "stdout",
     "output_type": "stream",
     "text": [
      "['Happy', ',', 'New', 'Year', '!', 'Do', \"n't\", 'stop', '.']\n"
     ]
    }
   ],
   "source": [
    "# [1] 단어 단위 토큰화 -> word_tokenize\n",
    "\n",
    "\n",
    "result= word_tokenize(text)\n",
    "print(result)"
   ]
  },
  {
   "cell_type": "code",
   "execution_count": 10,
   "metadata": {},
   "outputs": [
    {
     "name": "stdout",
     "output_type": "stream",
     "text": [
      "['Happy, New Year!', \"Don't stop.\"]\n"
     ]
    }
   ],
   "source": [
    "# [2] 문장 단위 토큰화 -> sent_tokenize\n",
    "# 구두점 (!, ., ?, )\n",
    "result=sent_tokenize(text)\n",
    "print(result)"
   ]
  },
  {
   "cell_type": "code",
   "execution_count": 11,
   "metadata": {},
   "outputs": [
    {
     "name": "stdout",
     "output_type": "stream",
     "text": [
      "['Happy', ',', 'New', 'Year', '!', 'Don', \"'\", 't', 'stop', '.']\n"
     ]
    }
   ],
   "source": [
    "# [3] 단어와 구두점 단위 토큰화 -> wordpunct_tokenize\n",
    "\n",
    "result= wordpunct_tokenize(text)\n",
    "print(result)"
   ]
  },
  {
   "cell_type": "markdown",
   "metadata": {},
   "source": [
    "[2] 품사 태깅<hr>"
   ]
  },
  {
   "cell_type": "code",
   "execution_count": 12,
   "metadata": {},
   "outputs": [],
   "source": [
    "from nltk.tag import pos_tag"
   ]
  },
  {
   "cell_type": "code",
   "execution_count": 13,
   "metadata": {},
   "outputs": [],
   "source": [
    "text=\"I am actively looking for Ph.D. students. and you are a Ph.D student.\"\n"
   ]
  },
  {
   "cell_type": "code",
   "execution_count": 14,
   "metadata": {},
   "outputs": [
    {
     "name": "stdout",
     "output_type": "stream",
     "text": [
      "['I', 'am', 'actively', 'looking', 'for', 'Ph.D.', 'students', '.', 'and', 'you', 'are', 'a', 'Ph.D', 'student', '.']\n"
     ]
    }
   ],
   "source": [
    "# 단순 단어기반 토큰화\n",
    "result= word_tokenize(text)\n",
    "print(result)"
   ]
  },
  {
   "cell_type": "code",
   "execution_count": 16,
   "metadata": {},
   "outputs": [
    {
     "data": {
      "text/plain": [
       "[('I', 'PRON'),\n",
       " ('am', 'VERB'),\n",
       " ('actively', 'ADV'),\n",
       " ('looking', 'VERB'),\n",
       " ('for', 'ADP'),\n",
       " ('Ph.D.', 'NOUN'),\n",
       " ('students', 'NOUN'),\n",
       " ('.', '.'),\n",
       " ('and', 'CONJ'),\n",
       " ('you', 'PRON'),\n",
       " ('are', 'VERB'),\n",
       " ('a', 'DET'),\n",
       " ('Ph.D', 'NOUN'),\n",
       " ('student', 'NOUN'),\n",
       " ('.', '.')]"
      ]
     },
     "execution_count": 16,
     "metadata": {},
     "output_type": "execute_result"
    }
   ],
   "source": [
    "# 품사 태깅\n",
    "pos_tag(tokens=result, tagset='universal')\n",
    "\n",
    "# => 의미를 이해하는데 필요없는 단어들 (am, for, are, and...)   \n",
    "#    버려서 데이터를 줄일 수 있음\n"
   ]
  },
  {
   "cell_type": "markdown",
   "metadata": {},
   "source": [
    "[3] 어간 추출<hr>"
   ]
  },
  {
   "cell_type": "code",
   "execution_count": 19,
   "metadata": {},
   "outputs": [],
   "source": [
    "# 단어 사전에 존재하는 어간으로 추출, 즉 표제어 추출\n",
    "from nltk.stem import WordNetLemmatizer"
   ]
  },
  {
   "cell_type": "code",
   "execution_count": 20,
   "metadata": {},
   "outputs": [],
   "source": [
    "words = ['policy', 'doing', 'organization', 'have', 'going', 'love', 'lives', 'fly',\n",
    "'dies', 'watched', 'has', 'starting']"
   ]
  },
  {
   "cell_type": "code",
   "execution_count": 26,
   "metadata": {},
   "outputs": [
    {
     "data": {
      "text/plain": [
       "['policy',\n",
       " 'do',\n",
       " 'organization',\n",
       " 'have',\n",
       " 'go',\n",
       " 'love',\n",
       " 'live',\n",
       " 'fly',\n",
       " 'die',\n",
       " 'watch',\n",
       " 'have',\n",
       " 'start']"
      ]
     },
     "execution_count": 26,
     "metadata": {},
     "output_type": "execute_result"
    }
   ],
   "source": [
    "[WordNetLemmatizer().lemmatize(w, pos='v') for w in words]"
   ]
  },
  {
   "cell_type": "code",
   "execution_count": 27,
   "metadata": {},
   "outputs": [],
   "source": [
    "# 단어사전에 존재하지 않을 수 있는 어간추출\n",
    "# 단어의 형태학적 측면에서 어간 추출하는 방식\n",
    "from nltk.stem import PorterStemmer, LancasterStemmer"
   ]
  },
  {
   "cell_type": "code",
   "execution_count": 34,
   "metadata": {},
   "outputs": [
    {
     "name": "stdout",
     "output_type": "stream",
     "text": [
      "polici do organ have go love live fli die watch ha start "
     ]
    }
   ],
   "source": [
    "# Poster 알고리즘 기반 형태적 측면 어간추출\n",
    "for _ in [PorterStemmer().stem(w) for w in words]:\n",
    "    print(_, end=' ')"
   ]
  },
  {
   "cell_type": "code",
   "execution_count": 33,
   "metadata": {},
   "outputs": [
    {
     "name": "stdout",
     "output_type": "stream",
     "text": [
      "policy doing org hav going lov liv fly die watch has start "
     ]
    }
   ],
   "source": [
    "# Lancaster 알고리즘 기반 형태적 측면 어간추출\n",
    "for _ in[LancasterStemmer().stem(w) for w in words]: \n",
    "    print(_, end=' ' )"
   ]
  },
  {
   "cell_type": "code",
   "execution_count": null,
   "metadata": {},
   "outputs": [],
   "source": []
  },
  {
   "cell_type": "code",
   "execution_count": null,
   "metadata": {},
   "outputs": [],
   "source": []
  },
  {
   "cell_type": "code",
   "execution_count": null,
   "metadata": {},
   "outputs": [],
   "source": []
  }
 ],
 "metadata": {
  "kernelspec": {
   "display_name": "NLP",
   "language": "python",
   "name": "python3"
  },
  "language_info": {
   "codemirror_mode": {
    "name": "ipython",
    "version": 3
   },
   "file_extension": ".py",
   "mimetype": "text/x-python",
   "name": "python",
   "nbconvert_exporter": "python",
   "pygments_lexer": "ipython3",
   "version": "3.8.19"
  }
 },
 "nbformat": 4,
 "nbformat_minor": 2
}
