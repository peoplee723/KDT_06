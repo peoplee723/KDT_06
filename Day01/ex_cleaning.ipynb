{
 "cells": [
  {
   "cell_type": "markdown",
   "metadata": {},
   "source": [
    "#### 자연어 처리를 위한 전처리\n",
    "- 정제\n",
    "    - 토큰화 전/후로 진행 됨\n",
    "    - 100% 완벽 제거 어려움!!!\n",
    "    - 불용어, 빈도에 따른 제거, 길이에 따른 제거\n",
    "    "
   ]
  },
  {
   "cell_type": "code",
   "execution_count": 39,
   "metadata": {},
   "outputs": [],
   "source": [
    "# 모듈 로딩\n",
    "from nltk.corpus import stopwords\n",
    "from nltk.tokenize import word_tokenize"
   ]
  },
  {
   "cell_type": "code",
   "execution_count": 40,
   "metadata": {},
   "outputs": [
    {
     "name": "stdout",
     "output_type": "stream",
     "text": [
      "i\n",
      "me my myself we our ours ourselves you you're you've\n",
      "you'll you'd your yours yourself yourselves he him his himself\n",
      "she she's her hers herself it it's its itself they\n",
      "them their theirs themselves what which who whom this that\n",
      "that'll these those am is are was were be "
     ]
    },
    {
     "data": {
      "text/plain": [
       "180"
      ]
     },
     "execution_count": 40,
     "metadata": {},
     "output_type": "execute_result"
    }
   ],
   "source": [
    "# NLTK 제공 불용어 리스트 가져오기\n",
    "sw= stopwords.words('english')\n",
    "len(sw)\n",
    "for idx, _ in enumerate(sw[:50]):\n",
    "    print(_, end=' ' if idx%10 else '\\n')\n",
    "# 커스텀 불용어 토큰/단어 추가\n",
    "sw.append('not')\n",
    "len(sw)"
   ]
  },
  {
   "cell_type": "code",
   "execution_count": 41,
   "metadata": {},
   "outputs": [],
   "source": [
    "# 토큰에서 불용어 제거하기\n",
    "example = \"Family is not an important thing. It's everything.\"\n"
   ]
  },
  {
   "cell_type": "code",
   "execution_count": 42,
   "metadata": {},
   "outputs": [
    {
     "name": "stdout",
     "output_type": "stream",
     "text": [
      "! Family is not an important thing. It's everything.\n",
      "\" Family is not an important thing. It's everything.\n",
      "# Family is not an important thing. It's everything.\n",
      "$ Family is not an important thing. It's everything.\n",
      "% Family is not an important thing. It's everything.\n",
      "& Family is not an important thing. It's everything.\n",
      "' Family is not an important thing. Its everything.\n",
      "( Family is not an important thing. Its everything.\n",
      ") Family is not an important thing. Its everything.\n",
      "* Family is not an important thing. Its everything.\n",
      "+ Family is not an important thing. Its everything.\n",
      ", Family is not an important thing. Its everything.\n",
      "- Family is not an important thing. Its everything.\n",
      ". Family is not an important thing Its everything\n",
      "/ Family is not an important thing Its everything\n",
      ": Family is not an important thing Its everything\n",
      "; Family is not an important thing Its everything\n",
      "< Family is not an important thing Its everything\n",
      "= Family is not an important thing Its everything\n",
      "> Family is not an important thing Its everything\n",
      "? Family is not an important thing Its everything\n",
      "@ Family is not an important thing Its everything\n",
      "[ Family is not an important thing Its everything\n",
      "\\ Family is not an important thing Its everything\n",
      "] Family is not an important thing Its everything\n",
      "^ Family is not an important thing Its everything\n",
      "_ Family is not an important thing Its everything\n",
      "` Family is not an important thing Its everything\n",
      "{ Family is not an important thing Its everything\n",
      "| Family is not an important thing Its everything\n",
      "} Family is not an important thing Its everything\n",
      "~ Family is not an important thing Its everything\n"
     ]
    }
   ],
   "source": [
    "# 구두점 제거\n",
    "# - 하나 지정해서 제거\n",
    "example.replace('.','')\n",
    "# or\n",
    "# - string.puctuation for문을 통해 제거\n",
    "# 남기고 싶은건 불러와서 하나하나 빼야함\n",
    "import string\n",
    "punct= string.punctuation\n",
    "for pun in punct:\n",
    "    example=example.replace(pun, '')\n",
    "    print(pun, example)"
   ]
  },
  {
   "cell_type": "code",
   "execution_count": 46,
   "metadata": {},
   "outputs": [
    {
     "data": {
      "text/plain": [
       "['!',\n",
       " '\"',\n",
       " '#',\n",
       " '$',\n",
       " '%',\n",
       " '&',\n",
       " \"'\",\n",
       " '(',\n",
       " ')',\n",
       " '*',\n",
       " '+',\n",
       " ',',\n",
       " '-',\n",
       " '.',\n",
       " '/',\n",
       " ':',\n",
       " ';',\n",
       " '<',\n",
       " '=',\n",
       " '>',\n",
       " '?',\n",
       " '@',\n",
       " '[',\n",
       " '\\\\',\n",
       " ']',\n",
       " '^',\n",
       " '_',\n",
       " '`',\n",
       " '{',\n",
       " '|',\n",
       " '}',\n",
       " '~']"
      ]
     },
     "execution_count": 46,
     "metadata": {},
     "output_type": "execute_result"
    }
   ],
   "source": [
    "list(punct)"
   ]
  },
  {
   "cell_type": "code",
   "execution_count": 43,
   "metadata": {},
   "outputs": [
    {
     "name": "stdout",
     "output_type": "stream",
     "text": [
      "['family', 'is', 'not', 'an', 'important', 'thing', 'its', 'everything']\n"
     ]
    }
   ],
   "source": [
    "# 대소문자 통일\n",
    "text=example.lower()\n",
    "\n",
    "# 토큰화 진행\n",
    "tokens= word_tokenize(text)\n",
    "print(tokens)"
   ]
  },
  {
   "cell_type": "code",
   "execution_count": 48,
   "metadata": {},
   "outputs": [
    {
     "name": "stdout",
     "output_type": "stream",
     "text": [
      "['family', 'important', 'thing', 'everything']\n"
     ]
    }
   ],
   "source": [
    "# 불용어 제거: 분석에 의미가 없는 토큰 제거\n",
    "for token in tokens:\n",
    "    if token in sw:         #불용어 리스트에 있을시 제거\n",
    "        tokens.remove(token)\n",
    "    if token in list(punct): #punctuation또한 제거 가능\n",
    "        tokens.remove(token)\n",
    "print(tokens)\n"
   ]
  },
  {
   "cell_type": "code",
   "execution_count": 50,
   "metadata": {},
   "outputs": [],
   "source": [
    "import re"
   ]
  }
 ],
 "metadata": {
  "kernelspec": {
   "display_name": "NLP",
   "language": "python",
   "name": "python3"
  },
  "language_info": {
   "codemirror_mode": {
    "name": "ipython",
    "version": 3
   },
   "file_extension": ".py",
   "mimetype": "text/x-python",
   "name": "python",
   "nbconvert_exporter": "python",
   "pygments_lexer": "ipython3",
   "version": "3.8.19"
  }
 },
 "nbformat": 4,
 "nbformat_minor": 2
}
