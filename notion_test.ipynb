{
 "cells": [
  {
   "cell_type": "code",
   "execution_count": 19,
   "metadata": {},
   "outputs": [
    {
     "name": "stdout",
     "output_type": "stream",
     "text": [
      "[('name', '마징가'), ('age', 12), ('gender', '남')]\n",
      "{'name': '마징가', 'age': 12, 'gender': '남'}\n"
     ]
    }
   ],
   "source": [
    "l1= ['name', 'age', 'gender']\n",
    "l2= ['마징가', 12, '남']\n",
    "print(list(zip(l1,l2)))   ##class =zip\n",
    "\n",
    "ds=dict(zip(l1,l2))\n",
    "print(ds)"
   ]
  },
  {
   "cell_type": "code",
   "execution_count": 4,
   "metadata": {},
   "outputs": [
    {
     "name": "stdout",
     "output_type": "stream",
     "text": [
      "M:77 e:101 r:114 r:114 y:121 "
     ]
    }
   ],
   "source": [
    "# while 문의 경우\n",
    "msg=\"Merry christmas\"\n",
    "idx=0\n",
    "while idx<=msg.index('y'):\n",
    "\t\tprint(msg[idx],':',ord(msg[idx]) , end=' ', sep='')\n",
    "\t\tidx+=1"
   ]
  },
  {
   "cell_type": "code",
   "execution_count": 32,
   "metadata": {},
   "outputs": [
    {
     "name": "stdout",
     "output_type": "stream",
     "text": [
      "{'a': None, 'b': None, 'c': None, 'd': None}\n",
      "{'a': None, 'b': None, 'c': None, 'd': None}\n"
     ]
    }
   ],
   "source": [
    "keys=['a','b','c','d']\n",
    "x={}\n",
    "for k in keys:\n",
    "\t\tx.update({k:None})\n",
    "y={key:value for key, value in dict.fromkeys(keys).items()}\n",
    "print(x, y, sep='\\n')"
   ]
  },
  {
   "cell_type": "markdown",
   "metadata": {},
   "source": []
  }
 ],
 "metadata": {
  "kernelspec": {
   "display_name": "PY_39",
   "language": "python",
   "name": "python3"
  },
  "language_info": {
   "codemirror_mode": {
    "name": "ipython",
    "version": 3
   },
   "file_extension": ".py",
   "mimetype": "text/x-python",
   "name": "python",
   "nbconvert_exporter": "python",
   "pygments_lexer": "ipython3",
   "version": "3.9.19"
  }
 },
 "nbformat": 4,
 "nbformat_minor": 2
}
