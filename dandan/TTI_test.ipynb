{
 "cells": [
  {
   "cell_type": "markdown",
   "metadata": {},
   "source": [
    "## Text to image 파인튜닝 with hugging face\n",
    "- link: https://huggingface.co/docs/diffusers/v0.31.0/en/using-diffusers/conditional_image_generation"
   ]
  },
  {
   "cell_type": "code",
   "execution_count": null,
   "metadata": {},
   "outputs": [],
   "source": [
    "from diffusers import AutoPipelineForText2Image\n",
    "import torch\n",
    "\n",
    "# 사전학습된 파이프라인 불러오기\n",
    "pipeline = AutoPipelineForText2Image.from_pretrained(\n",
    "\t\"stable-diffusion-v1-5/stable-diffusion-v1-5\", torch_dtype=torch.float16, variant=\"fp16\"\n",
    ")\n",
    "# ++ 링크에서 소개하는 사전학습된 파이프라인\n",
    "# 1. stable diffusion v1.5\n",
    "# stable-diffusion-v1-5/stable-diffusion-v1-5\n",
    "# 2. stable diffusion XL\n",
    "# stabilityai/stable-diffusion-xl-base-1.0\n",
    "# 3.Kandinsky\n",
    "# kandinsky-community/kandinsky-2-2-decoder\n",
    "# 4. ControlNet\n",
    "# lllyasviel/control_v11p_sd15_openpose\n",
    "\n",
    "\n",
    "# 사전학숩된 파이프라인 테스트\n",
    "image = pipeline(\n",
    "\t\"stained glass of darth vader, backlight, centered composition, masterpiece, photorealistic, 8k\"\n",
    ").images[0]\n",
    "image"
   ]
  },
  {
   "cell_type": "markdown",
   "metadata": {},
   "source": [
    "### 파이프라인 파라민터 탐색<hr>"
   ]
  },
  {
   "cell_type": "code",
   "execution_count": null,
   "metadata": {},
   "outputs": [],
   "source": [
    "# 1. 높이, 너비 지정\n",
    "# height, width\n",
    "pipeline = AutoPipelineForText2Image.from_pretrained(\n",
    "\t\"stable-diffusion-v1-5/stable-diffusion-v1-5\", torch_dtype=torch.float16, variant=\"fp16\"\n",
    ").to(\"cuda\")\n",
    "image = pipeline(\n",
    "\t\"Astronaut in a jungle, cold color palette, muted colors, detailed, 8k\", height=768, width=512\n",
    ").images[0]\n",
    "image"
   ]
  },
  {
   "cell_type": "code",
   "execution_count": null,
   "metadata": {},
   "outputs": [],
   "source": [
    "# 2. Guidence\n",
    "# 창의력 지정 (낮을수록 창의적으로 만듦)\n",
    "# guidence_scale\n",
    "pipeline = AutoPipelineForText2Image.from_pretrained(\n",
    "\t\"stable-diffusion-v1-5/stable-diffusion-v1-5\", torch_dtype=torch.float16\n",
    ").to(\"cuda\")\n",
    "image = pipeline(\n",
    "\t\"Astronaut in a jungle, cold color palette, muted colors, detailed, 8k\", guidance_scale=3.5\n",
    ").images[0]\n",
    "image\n",
    "# 기타 등등...."
   ]
  },
  {
   "cell_type": "code",
   "execution_count": null,
   "metadata": {},
   "outputs": [],
   "source": [
    "# 훈련\n",
    "\n",
    "# 모델 파라미터 확인하기\n",
    "# - 사용하는 모델의 ['in_channels] 확인하기"
   ]
  }
 ],
 "metadata": {
  "kernelspec": {
   "display_name": "dandan",
   "language": "python",
   "name": "python3"
  },
  "language_info": {
   "name": "python",
   "version": "3.8.20"
  }
 },
 "nbformat": 4,
 "nbformat_minor": 2
}
