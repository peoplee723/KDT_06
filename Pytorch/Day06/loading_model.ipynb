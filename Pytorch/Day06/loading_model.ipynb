{
 "cells": [
  {
   "cell_type": "markdown",
   "metadata": {},
   "source": [
    "##### 저장된 모델 활용\n",
    "- 모델 파일 종류\n",
    "    - 가중치 및 절편 저장 파일=> 동일한 구조 모델 인스턴스 생성 후 사용 가능\n",
    "    - 모델 전체 저장 파일=> 바로 사용 가능"
   ]
  },
  {
   "cell_type": "markdown",
   "metadata": {},
   "source": [
    "[1] 모듈 로딩<hr>"
   ]
  },
  {
   "cell_type": "code",
   "execution_count": 6,
   "metadata": {},
   "outputs": [],
   "source": [
    "# 모듈 로딩\n",
    "import torch\n",
    "import torch.nn as nn\n",
    "import torch.nn.functional as F\n",
    "from torch.utils.data import Dataset, DataLoader\n",
    "\n",
    "import torch.optim as optim\n",
    "from torchmetrics.regression import R2Score, MeanSquaredError\n",
    "from torchinfo import summary\n",
    "\n",
    "# 데이터 처리\n",
    "import pandas as pd\n",
    "import matplotlib.pyplot as plt\n",
    "from sklearn.model_selection import train_test_split\n",
    "from sklearn.preprocessing import *"
   ]
  },
  {
   "cell_type": "code",
   "execution_count": 7,
   "metadata": {},
   "outputs": [],
   "source": [
    "# 모델 파라미터(가중치와 절편) 저장\n",
    "import os\n",
    "# 경로\n",
    "SAVE_PATH= '../models/iris/'\n",
    "# 이름\n",
    "SAVE_FILE='model_train_wbs.pth'\n",
    "# 모델 구조 및 파라미터 모두 저장 파일명\n",
    "SAVE_MODEL='model_all.pth'\n",
    "\n",
    "if not os.path.exists(SAVE_PATH):\n",
    "    os.makedirs(SAVE_PATH)       #하위 폴더까지 생성"
   ]
  },
  {
   "cell_type": "code",
   "execution_count": 8,
   "metadata": {},
   "outputs": [],
   "source": [
    "class IrisRegModel(nn.Module):\n",
    "    \n",
    "    # 모델 구조 구성 및 인스턴스 생성 메서드\n",
    "    def __init__(self) -> None:\n",
    "        super().__init__()\n",
    "        self.in_layer= nn.Linear(3, 10)\n",
    "        self.hidden_layer= nn.Linear(10, 30)\n",
    "        self.out_layer= nn.Linear(30, 1)\n",
    "\n",
    "    # 순방향 학습 진행 메서드\n",
    "    def forward(self, input_data):\n",
    "        # 입력층\n",
    "        y= self.in_layer(input_data)    #변수가 3개 절편이 하나인 식이 퍼셉트론당 1개씩 나옴\n",
    "        y= F.relu(y)                   #0 ~ y 사이의 값 도출\n",
    "\n",
    "        # 은닉층\n",
    "        y= self.hidden_layer(y)         #10개 입력 => 30개 출력\n",
    "        y= F.relu(y)                   # 0~ y 사이의 값\n",
    "\n",
    "        # 출력층\n",
    "        y= self.out_layer(y)            #30개 입력 => 1개 출력 (petal_width 최종 예측값)\n",
    "        return y"
   ]
  },
  {
   "cell_type": "code",
   "execution_count": 9,
   "metadata": {},
   "outputs": [],
   "source": [
    "# 학습 진행 관련 설정값\n",
    "\n",
    "EPOCH= 20\n",
    "BATCH_SIZE= 10  #버리는 데이터 없게 하려면 전체 데이터 수를 보고 조절\n",
    "DEVICE= 'cuda' if torch.cuda.is_available() else 'cpu'\n",
    "LR= 0.001"
   ]
  },
  {
   "cell_type": "markdown",
   "metadata": {},
   "source": [
    "[2] 모델 로딩 (전체 파일 사용)"
   ]
  },
  {
   "cell_type": "code",
   "execution_count": 11,
   "metadata": {},
   "outputs": [],
   "source": [
    "irisModel=torch.load(SAVE_MODEL, weights_only=False)"
   ]
  },
  {
   "cell_type": "markdown",
   "metadata": {},
   "source": [
    "[3] 예측<hr>"
   ]
  },
  {
   "cell_type": "code",
   "execution_count": 12,
   "metadata": {},
   "outputs": [
    {
     "data": {
      "text/plain": [
       "torch.Size([1, 3])"
      ]
     },
     "execution_count": 12,
     "metadata": {},
     "output_type": "execute_result"
    }
   ],
   "source": [
    "data=[float(x) for x in input(\"SL, SW, PL\").split(',')]\n",
    "data= torch.FloatTensor(data).reshape(1,-1)\n",
    "data.shape"
   ]
  },
  {
   "cell_type": "code",
   "execution_count": null,
   "metadata": {},
   "outputs": [],
   "source": [
    "class IrisDataset(Dataset):\n",
    "    def __init__(self, featureDF, targetDF) -> None:\n",
    "        super().__init__()\n",
    "        self.featureDF= featureDF\n",
    "        self.targetDF= targetDF\n",
    "        self.n_rows= featureDF.shape[0]\n",
    "        self.n_features= featureDF.shape[1]\n",
    "\n",
    "\n",
    "    def __len__(self):\n",
    "        return self.n_rows\n",
    "\n",
    "    def __getitem__(self, index):\n",
    "        # 텐서화 (전결합층=> 기본이 FloatTensor)\n",
    "        featureTS= torch.FloatTensor(self.featureDF.iloc[index].values)\n",
    "        targetTS= torch.FloatTensor(self.targetDF.iloc[index].values)\n",
    "        return featureTS, targetTS"
   ]
  },
  {
   "cell_type": "code",
   "execution_count": null,
   "metadata": {},
   "outputs": [],
   "source": [
    "# 데이터셋 인스턴스\n",
    "X_train, X_test, Y_train, Y_test= train_test_split(featureDF, targetDF, random_state=1)\n",
    "X_train, X_val, Y_train, Y_val= train_test_split(X_train, Y_train, random_state=1)\n",
    "print(X_train.shape, X_test.shape, X_val.shape)\n",
    "\n",
    "irisDS= IrisDataset(X_train, Y_train) #검증용 데이터 클래스로 만들기 싫으면 나중에 텐서로 변환후 넣으면 됨\n",
    "valDS=IrisDataset(X_val, Y_val)\n",
    "testDS= IrisDataset(X_test, Y_test)"
   ]
  },
  {
   "cell_type": "code",
   "execution_count": 13,
   "metadata": {},
   "outputs": [],
   "source": [
    "# 새로운 데이터에 대한 예측, 즉 predict\n",
    "irisModel.eval()\n",
    "with torch.no_grad():\n",
    "\n",
    "        # 학습/추론론\n",
    "        pre_val=irisModel(data)\n",
    "\n",
    "        # 손실"
   ]
  },
  {
   "cell_type": "code",
   "execution_count": 14,
   "metadata": {},
   "outputs": [
    {
     "data": {
      "text/plain": [
       "tensor([[0.6839]])"
      ]
     },
     "execution_count": 14,
     "metadata": {},
     "output_type": "execute_result"
    }
   ],
   "source": [
    "pre_val"
   ]
  }
 ],
 "metadata": {
  "kernelspec": {
   "display_name": "PYTORCH_38",
   "language": "python",
   "name": "python3"
  },
  "language_info": {
   "codemirror_mode": {
    "name": "ipython",
    "version": 3
   },
   "file_extension": ".py",
   "mimetype": "text/x-python",
   "name": "python",
   "nbconvert_exporter": "python",
   "pygments_lexer": "ipython3",
   "version": "3.8.19"
  }
 },
 "nbformat": 4,
 "nbformat_minor": 2
}
