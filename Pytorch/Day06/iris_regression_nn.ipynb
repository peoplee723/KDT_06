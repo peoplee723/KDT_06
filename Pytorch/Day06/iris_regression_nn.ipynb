{
 "cells": [
  {
   "cell_type": "markdown",
   "metadata": {},
   "source": [
    "#### DNN 기반 회귀 모델 구현 + 학습 진행 모니터링\n",
    "- 데이터셋: iris.csv\n",
    "- 피쳐/속성: 3개\n",
    "- 타겟/라벨: 1개 Petal_width\n",
    "- 학습방법: 지도학습, 회귀 \n",
    "- 알고리즘: 인공신경망(ANN) -> 심층신경망(DNN, 은닉층 많음), MLP(multi-layer perceptron)\n",
    "- 프레임워크: 파이토치\n",
    "---\n",
    "- 모니터링\n",
    "    - 기준 설정: 검증데이터셋의 loss와 score\n",
    "    - 평가: 학습 데이터셋의 loss와 score 비교해서 학습 중단여부 결정\n",
    "    - 선택: 현재까지 진행된 모델의 파라미터(가중치, 절편) 저장 여부 또는 모델 전체 저장 여부"
   ]
  },
  {
   "cell_type": "markdown",
   "metadata": {},
   "source": [
    "[1] 모듈로딩 & 데이터 준비 <hr>"
   ]
  },
  {
   "cell_type": "code",
   "execution_count": 23,
   "metadata": {},
   "outputs": [],
   "source": [
    "# 모듈 로딩\n",
    "import torch\n",
    "import torch.nn as nn\n",
    "import torch.nn.functional as F\n",
    "from torch.utils.data import Dataset, DataLoader\n",
    "\n",
    "import torch.optim as optim\n",
    "from torchmetrics.regression import R2Score, MeanSquaredError\n",
    "from torchinfo import summary\n",
    "\n",
    "# 데이터 처리\n",
    "import pandas as pd\n",
    "import matplotlib.pyplot as plt\n",
    "from sklearn.model_selection import train_test_split\n",
    "from sklearn.preprocessing import *"
   ]
  },
  {
   "cell_type": "code",
   "execution_count": 24,
   "metadata": {},
   "outputs": [
    {
     "name": "stdout",
     "output_type": "stream",
     "text": [
      " 2.4.1\n",
      " 2.0.3\n"
     ]
    }
   ],
   "source": [
    "# 패키지 버전 체크\n",
    "print(f' {torch.__version__}')\n",
    "print(f' {pd.__version__}')"
   ]
  },
  {
   "cell_type": "code",
   "execution_count": 25,
   "metadata": {},
   "outputs": [
    {
     "data": {
      "text/html": [
       "<div>\n",
       "<style scoped>\n",
       "    .dataframe tbody tr th:only-of-type {\n",
       "        vertical-align: middle;\n",
       "    }\n",
       "\n",
       "    .dataframe tbody tr th {\n",
       "        vertical-align: top;\n",
       "    }\n",
       "\n",
       "    .dataframe thead th {\n",
       "        text-align: right;\n",
       "    }\n",
       "</style>\n",
       "<table border=\"1\" class=\"dataframe\">\n",
       "  <thead>\n",
       "    <tr style=\"text-align: right;\">\n",
       "      <th></th>\n",
       "      <th>sepal.length</th>\n",
       "      <th>sepal.width</th>\n",
       "      <th>petal.length</th>\n",
       "      <th>petal.width</th>\n",
       "    </tr>\n",
       "  </thead>\n",
       "  <tbody>\n",
       "    <tr>\n",
       "      <th>0</th>\n",
       "      <td>5.1</td>\n",
       "      <td>3.5</td>\n",
       "      <td>1.4</td>\n",
       "      <td>0.2</td>\n",
       "    </tr>\n",
       "    <tr>\n",
       "      <th>1</th>\n",
       "      <td>4.9</td>\n",
       "      <td>3.0</td>\n",
       "      <td>1.4</td>\n",
       "      <td>0.2</td>\n",
       "    </tr>\n",
       "    <tr>\n",
       "      <th>2</th>\n",
       "      <td>4.7</td>\n",
       "      <td>3.2</td>\n",
       "      <td>1.3</td>\n",
       "      <td>0.2</td>\n",
       "    </tr>\n",
       "  </tbody>\n",
       "</table>\n",
       "</div>"
      ],
      "text/plain": [
       "   sepal.length  sepal.width  petal.length  petal.width\n",
       "0           5.1          3.5           1.4          0.2\n",
       "1           4.9          3.0           1.4          0.2\n",
       "2           4.7          3.2           1.3          0.2"
      ]
     },
     "execution_count": 25,
     "metadata": {},
     "output_type": "execute_result"
    }
   ],
   "source": [
    "DATAFILE= '../data/iris.csv'\n",
    "irisDF=pd.read_csv(DATAFILE, usecols=(0,1,2,3))\n",
    "irisDF.head(3)"
   ]
  },
  {
   "cell_type": "markdown",
   "metadata": {},
   "source": [
    "[2] 모델 클래스 설계 및 정의 <hr>\n",
    "- 클래스 목적: iris 데이터 학습 및 추론\n",
    "- 클래스 이름: irisReg\n",
    "- 부모 클래스: nn.Module\n",
    "- 매개변수: 필요없음(입출력 개수 고정)\n",
    "- 속성/필드: featureDF, targetDF, n_rows, n_features\n",
    "- 기능/역할: __init__() =>모델 구조 설정, forward() => 순방향 학습// 오버라이딩\n",
    "- 클래스 구조\n",
    "    - 입력층: 입력 3개(피쳐) 출력 10개\n",
    "    - 은닉층: 입력 10개 출력 30개\n",
    "    - 출력층: 입력 30개 출력 1개\n",
    "\n",
    "- 손실함수/활성화함수\n",
    "    - 클래스 형태 ==> nn.ReLU, nn.MSELoss => init()메서드\n",
    "    - 함수 형태 ==> torch.nn.funtional 아래에 forward() 메서드"
   ]
  },
  {
   "cell_type": "code",
   "execution_count": 26,
   "metadata": {},
   "outputs": [],
   "source": [
    "class IrisRegModel(nn.Module):\n",
    "    \n",
    "    # 모델 구조 구성 및 인스턴스 생성 메서드\n",
    "    def __init__(self) -> None:\n",
    "        super().__init__()\n",
    "        self.in_layer= nn.Linear(3, 10)\n",
    "        self.hidden_layer= nn.Linear(10, 30)\n",
    "        self.out_layer= nn.Linear(30, 1)\n",
    "\n",
    "    # 순방향 학습 진행 메서드\n",
    "    def forward(self, input_data):\n",
    "        # 입력층\n",
    "        y= self.in_layer(input_data)    #변수가 3개 절편이 하나인 식이 퍼셉트론당 1개씩 나옴\n",
    "        y= F.relu(y)                   #0 ~ y 사이의 값 도출\n",
    "\n",
    "        # 은닉층\n",
    "        y= self.hidden_layer(y)         #10개 입력 => 30개 출력\n",
    "        y= F.relu(y)                   # 0~ y 사이의 값\n",
    "\n",
    "        # 출력층\n",
    "        y= self.out_layer(y)            #30개 입력 => 1개 출력 (petal_width 최종 예측값)\n",
    "        return y"
   ]
  },
  {
   "cell_type": "code",
   "execution_count": 27,
   "metadata": {},
   "outputs": [
    {
     "name": "stdout",
     "output_type": "stream",
     "text": [
      "IrisRegModel(\n",
      "  (in_layer): Linear(in_features=3, out_features=10, bias=True)\n",
      "  (hidden_layer): Linear(in_features=10, out_features=30, bias=True)\n",
      "  (out_layer): Linear(in_features=30, out_features=1, bias=True)\n",
      ")\n"
     ]
    }
   ],
   "source": [
    "#  모델 인스턴스 생성\n",
    "model= IrisRegModel()\n",
    "print(model)"
   ]
  },
  {
   "cell_type": "code",
   "execution_count": 28,
   "metadata": {},
   "outputs": [
    {
     "data": {
      "text/plain": [
       "==========================================================================================\n",
       "Layer (type:depth-idx)                   Output Shape              Param #\n",
       "==========================================================================================\n",
       "IrisRegModel                             [10, 1]                   --\n",
       "├─Linear: 1-1                            [10, 10]                  40\n",
       "├─Linear: 1-2                            [10, 30]                  330\n",
       "├─Linear: 1-3                            [10, 1]                   31\n",
       "==========================================================================================\n",
       "Total params: 401\n",
       "Trainable params: 401\n",
       "Non-trainable params: 0\n",
       "Total mult-adds (M): 0.00\n",
       "==========================================================================================\n",
       "Input size (MB): 0.00\n",
       "Forward/backward pass size (MB): 0.00\n",
       "Params size (MB): 0.00\n",
       "Estimated Total Size (MB): 0.01\n",
       "=========================================================================================="
      ]
     },
     "execution_count": 28,
     "metadata": {},
     "output_type": "execute_result"
    }
   ],
   "source": [
    "# 모델 사용 메모리 정보 확인\n",
    "summary(model, input_size=(10, 3))"
   ]
  },
  {
   "cell_type": "markdown",
   "metadata": {},
   "source": [
    "[3]  데이터셋 클래스 설계 및 정의 <hr>\n",
    "- 데이터셋: iris.csv\n",
    "- 피쳐개수: 3개\n",
    "- 타겟개수: 1개\n",
    "- 클래스이름: IrisDataset\n",
    "- 부모클래스: untils.data.Dataset\n",
    "- 속성/필드: featureDF, TargetDF, n_rows, n_features\n",
    "- 필수 메서드\n",
    "    - __init__(self): 데이터셋 저장 및 전처리, 개발자가 필요한 속성 설정\n",
    "    - __len__(slef): 데이터의 개수 반환\n",
    "    - __getitem__(self, index): 특정 인덱스의 피쳐와 타겟 반환\n"
   ]
  },
  {
   "cell_type": "code",
   "execution_count": 29,
   "metadata": {},
   "outputs": [],
   "source": [
    "class IrisDataset(Dataset):\n",
    "    def __init__(self, featureDF, targetDF) -> None:\n",
    "        super().__init__()\n",
    "        self.featureDF= featureDF\n",
    "        self.targetDF= targetDF\n",
    "        self.n_rows= featureDF.shape[0]\n",
    "        self.n_features= featureDF.shape[1]\n",
    "\n",
    "\n",
    "    def __len__(self):\n",
    "        return self.n_rows\n",
    "\n",
    "    def __getitem__(self, index):\n",
    "        # 텐서화 (전결합층=> 기본이 FloatTensor)\n",
    "        featureTS= torch.FloatTensor(self.featureDF.iloc[index].values)\n",
    "        targetTS= torch.FloatTensor(self.targetDF.iloc[index].values)\n",
    "        return featureTS, targetTS"
   ]
  },
  {
   "cell_type": "code",
   "execution_count": 30,
   "metadata": {},
   "outputs": [
    {
     "name": "stdout",
     "output_type": "stream",
     "text": [
      "(150,)\n",
      "(150, 1)\n"
     ]
    }
   ],
   "source": [
    "print(irisDF[irisDF.columns[-1]].shape)  ##인덱싱으로 추출하면 series, \n",
    "print(irisDF[irisDF.columns[-1:]].shape)  # 슬라이싱으로 하면 DF"
   ]
  },
  {
   "cell_type": "code",
   "execution_count": 31,
   "metadata": {},
   "outputs": [],
   "source": [
    "# 데이터셋 인스턴스 생성\n",
    "# shape은 항상 2D로!!!\n",
    "irisDS=IrisDataset(irisDF[irisDF.columns[:-1]], irisDF[irisDF.columns[-1:]])\n",
    "featureDF= irisDF[irisDF.columns[:-1]]\n",
    "targetDF= irisDF[irisDF.columns[-1:]]"
   ]
  },
  {
   "cell_type": "code",
   "execution_count": 32,
   "metadata": {},
   "outputs": [
    {
     "data": {
      "text/plain": [
       "(150, 3)"
      ]
     },
     "execution_count": 32,
     "metadata": {},
     "output_type": "execute_result"
    }
   ],
   "source": [
    "irisDS.n_rows, irisDS.n_features"
   ]
  },
  {
   "cell_type": "markdown",
   "metadata": {},
   "source": [
    "[4] 학습준비\n",
    "- 학습 횟수: EPOCH (처음부터 끝까지 공부하는 단위)\n",
    "- 배치 크기: BATCH_SIZE (한번에 학습할 데이터셋 양)\n",
    "- 위치 지정: DEVICE 텐서 저장 및 실행 위치 (GPU, CPU)\n",
    "- 학습률: 가중치와 절편 업데이트 시 경사하강법으로 업데이트하는 간격 (0.001~0.1=>HP), learning rate\n"
   ]
  },
  {
   "cell_type": "code",
   "execution_count": 33,
   "metadata": {},
   "outputs": [],
   "source": [
    "# 학습 진행 관련 설정값\n",
    "\n",
    "EPOCH= 1\n",
    "BATCH_SIZE= 10  #버리는 데이터 없게 하려면 전체 데이터 수를 보고 조절\n",
    "DEVICE= 'cuda' if torch.cuda.is_available() else 'cpu'\n",
    "LR= 0.001"
   ]
  },
  {
   "cell_type": "markdown",
   "metadata": {},
   "source": [
    "- 인스턴스/객체: 모델, 데이터셋, 최적화, (손실함수, 성능지표)"
   ]
  },
  {
   "cell_type": "code",
   "execution_count": 34,
   "metadata": {},
   "outputs": [
    {
     "name": "stdout",
     "output_type": "stream",
     "text": [
      "(84, 3) (38, 3) (28, 3)\n"
     ]
    }
   ],
   "source": [
    "# 모델 인스턴스\n",
    "model= IrisRegModel()\n",
    "# 데이터셋 인스턴스\n",
    "X_train, X_test, Y_train, Y_test= train_test_split(featureDF, targetDF, random_state=1)\n",
    "X_train, X_val, Y_train, Y_val= train_test_split(X_train, Y_train, random_state=1)\n",
    "print(X_train.shape, X_test.shape, X_val.shape)\n",
    "irisDS= IrisDataset(X_train, Y_train) #검증용 데이터 클래스로 만들기 싫으면 나중에 텐서로 변환후 넣으면 됨\n",
    "valDS=IrisDataset(X_val, Y_val)\n",
    "testDS= IrisDataset(X_test, Y_test)\n",
    "# 데이터로더 인스턴스 \n",
    "irisDL= DataLoader(irisDS, batch_size= BATCH_SIZE)"
   ]
  },
  {
   "cell_type": "code",
   "execution_count": 35,
   "metadata": {},
   "outputs": [
    {
     "name": "stdout",
     "output_type": "stream",
     "text": [
      "torch.Size([10, 3]) torch.Size([10, 1])\n",
      "torch.Size([10, 3]) torch.Size([10, 1])\n",
      "torch.Size([10, 3]) torch.Size([10, 1])\n",
      "torch.Size([10, 3]) torch.Size([10, 1])\n",
      "torch.Size([10, 3]) torch.Size([10, 1])\n",
      "torch.Size([10, 3]) torch.Size([10, 1])\n",
      "torch.Size([10, 3]) torch.Size([10, 1])\n",
      "torch.Size([10, 3]) torch.Size([10, 1])\n",
      "torch.Size([4, 3]) torch.Size([4, 1])\n"
     ]
    }
   ],
   "source": [
    "# 데이터로더 테스트\n",
    "for feature, target in irisDL:\n",
    "    print(feature.shape, target.shape)"
   ]
  },
  {
   "cell_type": "code",
   "execution_count": 36,
   "metadata": {},
   "outputs": [],
   "source": [
    "# 최적화 인스턴스\n",
    "# => w, b, model.parameters 전달\n",
    "optimizer= optim.Adam(model.parameters(), lr=LR)\n",
    "\n",
    "\n",
    "# 손실함수 인스턴스\n",
    "# => MSE, MAE, RMSE\n",
    "RegLoss=nn.MSELoss()\n"
   ]
  },
  {
   "cell_type": "markdown",
   "metadata": {},
   "source": [
    "[5] 학습진행"
   ]
  },
  {
   "cell_type": "code",
   "execution_count": 37,
   "metadata": {},
   "outputs": [
    {
     "name": "stdout",
     "output_type": "stream",
     "text": [
      "1/1\n"
     ]
    }
   ],
   "source": [
    "# 손실과 성능지표값 저장 => 학습의 효과 확인\n",
    "LOSS_HISTORY, SCORE_HISTORY= [[],[]], [[],[]]\n",
    "\n",
    "\n",
    "# 학습 모니터링/스케쥴링 설정 -> 두 HISTORY 활용\n",
    "# 임계기준: 10번 (사용자지정)\n",
    "BREAK_CNT=0\n",
    "LIMIT=10\n",
    "\n",
    "\n",
    "\n",
    "# 학습 모드로 모델 설정 (코딩 스타일에 따라 위치 상이)\n",
    "model.train()\n",
    "\n",
    "for epoch in range(EPOCH):                      #만약 검증을 한다면 Custom Dataset 만들어야함\n",
    "    print(f'{epoch+1}/{EPOCH}')\n",
    "    # 배치크기 만큼 데이터 로딩에서 학습 진행\n",
    "    loss_total, score_total= 0,0\n",
    "    for featureTS, targetTS in irisDL:\n",
    "        # 학습 진행\n",
    "        pre_y= model(featureTS)\n",
    "\n",
    "        # 손실 계산\n",
    "        loss= RegLoss(pre_y, targetTS)\n",
    "        loss_total+=loss\n",
    "        # 성능 평가\n",
    "        score= R2Score()(pre_y, targetTS)\n",
    "        score_total+= score\n",
    "\n",
    "        # 최적화 진행\n",
    "        optimizer.zero_grad()\n",
    "        loss.backward()\n",
    "        optimizer.step()\n",
    "    \n",
    "    # 에포크당 검증기능\n",
    "    # 검증 모드\n",
    "    model.eval()\n",
    "    with torch.no_grad():\n",
    "        # 검증 데이터 셋\n",
    "        val_featureTS=torch.FloatTensor(valDS.featureDF.values) #values -> array로 변경\n",
    "        val_targetTS=torch.FloatTensor(valDS.targetDF.values)\n",
    "\n",
    "        # 학습/추론론\n",
    "        pre_val=model(val_featureTS)\n",
    "\n",
    "        # 손실\n",
    "        loss_val=RegLoss(pre_val, val_targetTS)\n",
    "\n",
    "        # 평가\n",
    "        score_val=R2Score()(pre_val, val_targetTS)\n",
    "\n",
    "\n",
    "\n",
    "    # 손실값과 성능평가값 저장\n",
    "    # 학습\n",
    "    LOSS_HISTORY[0].append(loss_total/len(irisDL))\n",
    "    SCORE_HISTORY[0].append(score_total/len(irisDL))\n",
    "    # 검증\n",
    "    LOSS_HISTORY[1].append(loss_val)\n",
    "    LOSS_HISTORY[1].append(score_val)\n",
    "\n",
    "    # 학습 진행 모니터링 (검증 데이터 개선이 되지 않았을때 누적 ->  평가, 손실 중 지표 하나 선택)\n",
    "    if len(LOSS_HISTORY[0])>1:  #비교를 위해 데이터가 2개 이상 있어야함\n",
    "        if LOSS_HISTORY[1][-1] >= LOSS_HISTORY[1][-2]: BREAK_CNT+=1   #개선이 되지 않았을때 카운딩\n",
    "\n",
    "    # if len(SCORE_HISTORY[0])>1:  #비교를 위해 데이터가 2개 이상 있어야함\n",
    "    #     if SCORE_HISTORY[1][-1] <= SCORE_HISTORY[1][-2]: BREAK_CNT+=1\n",
    "\n",
    "    # 학습 중단 여부 설정\n",
    "    if BREAK_CNT>LIMIT:\n",
    "        print('성능 및 손실 개선이 없어서 학습 중단')\n",
    "        break"
   ]
  },
  {
   "cell_type": "code",
   "execution_count": 38,
   "metadata": {},
   "outputs": [],
   "source": [
    "# 테스트 데이터 성능과 비교"
   ]
  },
  {
   "cell_type": "markdown",
   "metadata": {},
   "source": [
    "- 모델 저장 방법 <hr>\n",
    "- 방법 1: 모델 파라미터만 저장\n",
    "- 방법 2: 모델 설계 구조및 파라미터 모두 저장"
   ]
  },
  {
   "cell_type": "code",
   "execution_count": 41,
   "metadata": {},
   "outputs": [
    {
     "data": {
      "text/plain": [
       "OrderedDict([('in_layer.weight',\n",
       "              tensor([[ 0.1950, -0.2190,  0.1329],\n",
       "                      [-0.5426, -0.2733, -0.3677],\n",
       "                      [-0.4602,  0.4384,  0.5361],\n",
       "                      [-0.0330, -0.5658,  0.5054],\n",
       "                      [-0.5198,  0.4622,  0.2054],\n",
       "                      [-0.1280,  0.3009,  0.5548],\n",
       "                      [ 0.5456,  0.5184, -0.2616],\n",
       "                      [-0.0491, -0.4580, -0.4825],\n",
       "                      [ 0.3946, -0.1219,  0.5425],\n",
       "                      [ 0.2463, -0.1758,  0.5641]])),\n",
       "             ('in_layer.bias',\n",
       "              tensor([-0.2556,  0.2666,  0.0948,  0.5771, -0.0114, -0.2722, -0.0461, -0.3468,\n",
       "                       0.1026, -0.2245])),\n",
       "             ('hidden_layer.weight',\n",
       "              tensor([[ 2.0142e-01,  2.1317e-01, -9.7066e-02, -2.8697e-01,  2.1732e-01,\n",
       "                        2.3609e-01,  1.1551e-01,  1.2587e-01, -1.0235e-01,  2.2934e-01],\n",
       "                      [-1.2785e-01, -1.2928e-01,  1.5111e-01, -2.5707e-01,  1.4784e-02,\n",
       "                       -2.3349e-01,  2.8791e-02, -3.1468e-01,  2.9905e-01,  1.1620e-01],\n",
       "                      [ 2.4742e-01, -6.7142e-02, -1.8599e-01,  2.3291e-01, -4.7371e-02,\n",
       "                       -9.3299e-02, -1.8367e-01, -6.7613e-02, -2.2459e-01,  2.7194e-02],\n",
       "                      [-4.1701e-02, -9.5320e-02, -2.2208e-02,  7.1293e-03,  1.5734e-02,\n",
       "                        2.6886e-01, -2.7950e-01, -8.6644e-02, -2.0145e-01,  8.8586e-02],\n",
       "                      [ 1.4009e-01,  6.9256e-02,  1.4451e-01,  6.9131e-02, -1.5518e-01,\n",
       "                       -2.8400e-01, -9.3099e-02,  2.9333e-01, -3.0327e-01, -3.1617e-04],\n",
       "                      [ 1.3921e-01,  1.5889e-01,  1.7799e-01,  2.0454e-01,  7.6416e-02,\n",
       "                       -1.9070e-01, -1.8082e-01, -9.6110e-02, -2.0069e-02, -3.5047e-02],\n",
       "                      [ 3.4732e-02,  2.4136e-01, -1.8227e-01, -4.5290e-02,  2.5543e-01,\n",
       "                        3.2180e-02, -2.6460e-01, -2.2917e-01,  2.9324e-01,  1.7155e-01],\n",
       "                      [ 3.9129e-02, -2.6686e-01, -2.2652e-01, -4.4370e-02,  1.7551e-01,\n",
       "                        1.7398e-01,  7.6494e-02,  1.1627e-01, -6.2434e-02,  2.9900e-01],\n",
       "                      [-2.0782e-01,  2.0182e-01,  5.5272e-02,  2.9697e-01, -1.8973e-01,\n",
       "                       -2.3612e-02, -9.4987e-02, -1.8516e-01, -1.5010e-01,  1.5977e-01],\n",
       "                      [ 2.3523e-01, -6.2294e-02,  5.0824e-02,  2.5756e-01,  3.0429e-01,\n",
       "                       -8.1737e-02, -5.9776e-02, -2.2434e-01,  2.6484e-01,  8.7098e-02],\n",
       "                      [ 2.3570e-01,  2.2914e-01,  1.8791e-01, -1.8225e-01, -2.9180e-01,\n",
       "                       -2.9355e-01,  1.6950e-01,  3.2194e-02, -8.6482e-02,  2.1884e-01],\n",
       "                      [-1.1500e-01, -1.5405e-01, -1.2766e-01,  2.5873e-02,  1.0044e-01,\n",
       "                        1.8894e-01, -2.1289e-01, -2.6294e-01,  1.1979e-01,  1.6280e-01],\n",
       "                      [ 2.2175e-01, -2.3819e-02, -2.1811e-01, -3.5028e-02,  8.9446e-02,\n",
       "                       -1.3347e-01, -5.0662e-02,  1.7488e-01, -8.2483e-02, -3.0120e-01],\n",
       "                      [ 2.8384e-01, -1.7750e-01, -1.9900e-01,  1.3948e-01, -2.6893e-01,\n",
       "                       -9.9919e-02,  9.7073e-02, -2.2581e-01,  5.1987e-02,  3.3754e-02],\n",
       "                      [ 7.1394e-02,  5.3614e-02, -3.0414e-01, -1.7416e-01, -3.2222e-02,\n",
       "                        9.7951e-02,  2.8261e-01,  6.1353e-03,  1.4857e-01, -1.6213e-01],\n",
       "                      [-9.9253e-02, -2.4515e-01, -2.2478e-01,  4.7069e-02, -3.1171e-01,\n",
       "                       -2.0875e-01, -1.0738e-01,  2.6248e-01,  2.8434e-01,  1.4106e-01],\n",
       "                      [-1.7071e-01,  1.6723e-01,  2.3059e-01,  3.0880e-01, -2.3754e-01,\n",
       "                        2.2908e-01,  1.9763e-01, -3.0151e-01, -2.0353e-01,  8.6791e-02],\n",
       "                      [ 1.6354e-01, -1.6925e-01, -3.0966e-01, -1.8271e-01, -1.4847e-01,\n",
       "                       -1.2029e-01, -2.8286e-01,  3.7905e-02,  5.0393e-02, -1.9590e-01],\n",
       "                      [-7.3765e-02, -1.9940e-01, -2.2068e-01,  3.0031e-01,  9.0147e-02,\n",
       "                        1.0948e-01, -2.8753e-01,  2.0875e-01, -2.8059e-01, -1.4335e-01],\n",
       "                      [-8.0786e-02, -1.3066e-01, -3.0452e-01,  4.3121e-02,  2.0444e-01,\n",
       "                       -1.5678e-01, -2.1532e-01, -9.2531e-02, -2.8146e-01,  2.0289e-01],\n",
       "                      [-1.0715e-01,  1.5538e-01,  2.3512e-01, -2.3537e-01,  2.7232e-02,\n",
       "                        7.7435e-02,  2.7818e-01,  2.0805e-01, -2.8879e-01,  3.8641e-02],\n",
       "                      [ 7.2719e-02, -3.4831e-02,  2.5112e-01,  7.3954e-02,  6.5445e-02,\n",
       "                        1.2001e-01, -9.5902e-02, -1.7554e-01, -2.6151e-01,  1.6369e-01],\n",
       "                      [-1.3031e-01, -1.9697e-02, -7.3033e-02,  2.7841e-01,  2.6833e-02,\n",
       "                        5.9902e-02,  2.7220e-01, -1.8605e-01,  2.5808e-01,  2.2598e-01],\n",
       "                      [-2.8706e-01,  2.6507e-01, -2.1582e-01, -2.8496e-01, -1.5361e-02,\n",
       "                       -2.3598e-01,  1.7692e-02,  1.6453e-01,  2.7486e-01,  1.3443e-01],\n",
       "                      [-1.7854e-01, -1.6480e-01,  2.5084e-01,  1.9825e-01,  2.9176e-05,\n",
       "                       -2.8023e-03,  3.7511e-02,  2.6356e-01,  2.2671e-01,  1.1075e-01],\n",
       "                      [ 2.4602e-01,  1.9265e-02, -2.2257e-01,  1.5752e-01,  2.9264e-01,\n",
       "                        7.1531e-02,  9.0771e-02, -4.1074e-02, -2.9639e-01, -6.5022e-02],\n",
       "                      [-2.0588e-01, -2.8484e-01, -1.5798e-01,  1.6297e-01,  3.1522e-01,\n",
       "                        1.0597e-01,  1.5854e-01,  2.2035e-01,  2.8728e-01, -2.3185e-02],\n",
       "                      [-2.4525e-01, -1.7016e-01,  2.7564e-01,  2.1935e-01, -2.9736e-01,\n",
       "                        1.9107e-01, -4.6967e-02, -9.9701e-02, -9.6913e-02,  2.4310e-01],\n",
       "                      [-1.2969e-02,  1.5003e-01,  4.8866e-02,  1.3422e-02,  9.4550e-02,\n",
       "                       -1.3636e-01,  1.1388e-01, -2.9008e-01, -4.7085e-02,  1.7708e-01],\n",
       "                      [-2.6502e-01,  2.1530e-01,  1.9974e-01,  1.2555e-01, -5.9864e-02,\n",
       "                       -8.0060e-02, -2.6617e-01,  2.9224e-02, -1.5825e-01,  2.3994e-01]])),\n",
       "             ('hidden_layer.bias',\n",
       "              tensor([ 4.4399e-02, -3.0450e-01,  1.5114e-01, -1.0097e-01, -1.8617e-01,\n",
       "                      -2.4087e-01, -1.9315e-05,  2.8398e-01,  2.0633e-01, -3.2236e-01,\n",
       "                      -8.6704e-02, -1.4261e-01,  2.3792e-01, -1.9891e-01,  2.9630e-01,\n",
       "                      -2.0304e-01,  1.4473e-01, -3.1087e-01, -1.2201e-01, -3.4564e-02,\n",
       "                      -1.1098e-01, -1.0485e-01,  1.2671e-01,  1.4498e-01,  4.4776e-02,\n",
       "                      -2.4376e-01, -3.0310e-02,  3.4820e-02,  1.8511e-01, -1.3788e-02])),\n",
       "             ('out_layer.weight',\n",
       "              tensor([[-0.0709, -0.0517, -0.1295,  0.1006, -0.1132,  0.0988,  0.1699,  0.0286,\n",
       "                       -0.1359, -0.0716,  0.1194, -0.1356, -0.0171,  0.0833,  0.0452,  0.0182,\n",
       "                        0.0732, -0.1666,  0.0784,  0.1127, -0.1574, -0.1414,  0.0714, -0.0035,\n",
       "                        0.0415,  0.0815,  0.0367,  0.0009,  0.1874,  0.1038]])),\n",
       "             ('out_layer.bias', tensor([0.0670]))])"
      ]
     },
     "execution_count": 41,
     "metadata": {},
     "output_type": "execute_result"
    }
   ],
   "source": [
    "# 학습된 모델 파라미터값 확인\n",
    "model.state_dict()"
   ]
  },
  {
   "cell_type": "code",
   "execution_count": 43,
   "metadata": {},
   "outputs": [],
   "source": [
    "# [1] 모델 파라미터(가중치와 절편) 저장\n",
    "import os\n",
    "# 경로\n",
    "SAVE_PATH= '../models/iris/'\n",
    "# 이름\n",
    "SAVE_FILE='model_train_wbs.pth'"
   ]
  },
  {
   "cell_type": "code",
   "execution_count": 45,
   "metadata": {},
   "outputs": [],
   "source": [
    "if not os.path.exists(SAVE_PATH):\n",
    "    os.makedirs(SAVE_PATH)       #하위 폴더까지 생성"
   ]
  },
  {
   "cell_type": "code",
   "execution_count": 47,
   "metadata": {},
   "outputs": [],
   "source": [
    "# 모델 저장\n",
    "torch.save(model.state_dict(), SAVE_PATH+SAVE_FILE)"
   ]
  },
  {
   "cell_type": "code",
   "execution_count": 49,
   "metadata": {},
   "outputs": [
    {
     "name": "stdout",
     "output_type": "stream",
     "text": [
      "<class 'collections.OrderedDict'>\n"
     ]
    }
   ],
   "source": [
    "# 모델 즉, 가중치와 절편 로딩\n",
    "# [1] 가중치와 절편 객체로 로딩\n",
    "#  [2] 모델의 state_dict 속성에 저장\n",
    "\n",
    "# 읽기\n",
    "wbTS= torch.load(SAVE_PATH+SAVE_FILE, weights_only=True)\n",
    "print(type(wbTS))"
   ]
  },
  {
   "cell_type": "code",
   "execution_count": 51,
   "metadata": {},
   "outputs": [
    {
     "data": {
      "text/plain": [
       "<All keys matched successfully>"
      ]
     },
     "execution_count": 51,
     "metadata": {},
     "output_type": "execute_result"
    }
   ],
   "source": [
    "# 모델 인스턴스에 저장\n",
    "model.load_state_dict(wbTS)\n",
    "model2=IrisRegModel()\n",
    "model2.load_state_dict(wbTS)"
   ]
  }
 ],
 "metadata": {
  "kernelspec": {
   "display_name": "PYTORCH_38",
   "language": "python",
   "name": "python3"
  },
  "language_info": {
   "codemirror_mode": {
    "name": "ipython",
    "version": 3
   },
   "file_extension": ".py",
   "mimetype": "text/x-python",
   "name": "python",
   "nbconvert_exporter": "python",
   "pygments_lexer": "ipython3",
   "version": "3.8.19"
  }
 },
 "nbformat": 4,
 "nbformat_minor": 2
}
