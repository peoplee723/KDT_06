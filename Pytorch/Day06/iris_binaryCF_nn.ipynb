{
 "cells": [
  {
   "cell_type": "markdown",
   "metadata": {},
   "source": [
    "- iris  \n",
    " => feature 4개\n",
    " => target 1개\n",
    " => 이진(setosa와 나머지)\n",
    "- 학습방법: 지도학습, 회귀 \n",
    "- 알고리즘: 인공신경망(ANN) -> 심층신경망(DNN, 은닉층 많음), MLP(multi-layer perceptron)\n",
    "- 프레임워크: 파이토치\n"
   ]
  },
  {
   "cell_type": "code",
   "execution_count": 2,
   "metadata": {},
   "outputs": [],
   "source": [
    "# 모듈 로딩\n",
    "import torch\n",
    "import torch.nn as nn\n",
    "import torch.nn.functional as F\n",
    "from torch.utils.data import Dataset, DataLoader\n",
    "import torch.optim as optim\n",
    "from torchmetrics.classification import F1Score, BinaryF1Score, BinaryConfusionMatrix\n",
    "from torchinfo import summary\n",
    "\n",
    "# 데이터 처리\n",
    "import pandas as pd\n",
    "import matplotlib.pyplot as plt\n",
    "from sklearn.model_selection import train_test_split\n",
    "from sklearn.preprocessing import *"
   ]
  },
  {
   "cell_type": "code",
   "execution_count": 3,
   "metadata": {},
   "outputs": [
    {
     "name": "stdout",
     "output_type": "stream",
     "text": [
      " 2.4.1\n",
      " 2.0.3\n"
     ]
    }
   ],
   "source": [
    "# 패키지 버전 체크\n",
    "print(f' {torch.__version__}')\n",
    "print(f' {pd.__version__}')\n"
   ]
  },
  {
   "cell_type": "code",
   "execution_count": 4,
   "metadata": {},
   "outputs": [
    {
     "data": {
      "text/html": [
       "<div>\n",
       "<style scoped>\n",
       "    .dataframe tbody tr th:only-of-type {\n",
       "        vertical-align: middle;\n",
       "    }\n",
       "\n",
       "    .dataframe tbody tr th {\n",
       "        vertical-align: top;\n",
       "    }\n",
       "\n",
       "    .dataframe thead th {\n",
       "        text-align: right;\n",
       "    }\n",
       "</style>\n",
       "<table border=\"1\" class=\"dataframe\">\n",
       "  <thead>\n",
       "    <tr style=\"text-align: right;\">\n",
       "      <th></th>\n",
       "      <th>sepal.length</th>\n",
       "      <th>sepal.width</th>\n",
       "      <th>petal.length</th>\n",
       "      <th>petal.width</th>\n",
       "      <th>variety</th>\n",
       "    </tr>\n",
       "  </thead>\n",
       "  <tbody>\n",
       "    <tr>\n",
       "      <th>0</th>\n",
       "      <td>5.1</td>\n",
       "      <td>3.5</td>\n",
       "      <td>1.4</td>\n",
       "      <td>0.2</td>\n",
       "      <td>Setosa</td>\n",
       "    </tr>\n",
       "    <tr>\n",
       "      <th>1</th>\n",
       "      <td>4.9</td>\n",
       "      <td>3.0</td>\n",
       "      <td>1.4</td>\n",
       "      <td>0.2</td>\n",
       "      <td>Setosa</td>\n",
       "    </tr>\n",
       "    <tr>\n",
       "      <th>2</th>\n",
       "      <td>4.7</td>\n",
       "      <td>3.2</td>\n",
       "      <td>1.3</td>\n",
       "      <td>0.2</td>\n",
       "      <td>Setosa</td>\n",
       "    </tr>\n",
       "  </tbody>\n",
       "</table>\n",
       "</div>"
      ],
      "text/plain": [
       "   sepal.length  sepal.width  petal.length  petal.width variety\n",
       "0           5.1          3.5           1.4          0.2  Setosa\n",
       "1           4.9          3.0           1.4          0.2  Setosa\n",
       "2           4.7          3.2           1.3          0.2  Setosa"
      ]
     },
     "execution_count": 4,
     "metadata": {},
     "output_type": "execute_result"
    }
   ],
   "source": [
    "DATAFILE= '../data/iris.csv'\n",
    "irisDF=pd.read_csv(DATAFILE)\n",
    "irisDF.head(3)"
   ]
  },
  {
   "cell_type": "code",
   "execution_count": 5,
   "metadata": {},
   "outputs": [
    {
     "data": {
      "text/plain": [
       "\"\\nlabels=dict(zip(irisDF['variety'].unique().tolist(), range(3)))\\n\""
      ]
     },
     "execution_count": 5,
     "metadata": {},
     "output_type": "execute_result"
    }
   ],
   "source": [
    "# 타겟 변경 => 정수화, 클래스 2개 (setosa 와 나머지)\n",
    "# ++replace나 다른 코드 써도 됨\n",
    "irisDF['variety']=(irisDF['variety']=='Setosa')    #Series 이므로 바로 DF에 저장\n",
    "irisDF['variety']=irisDF['variety'].astype('int')  \n",
    "irisDF['variety'].unique()\n",
    "\n",
    "# or\n",
    "'''\n",
    "labels=dict(zip(irisDF['variety'].unique().tolist(), range(3)))\n",
    "'''"
   ]
  },
  {
   "cell_type": "markdown",
   "metadata": {},
   "source": [
    "[2] 모델 클래스 설계 및 정의 <hr>\n",
    "- 클래스 목적: iris 데이터 학습 및 추론\n",
    "- 클래스 이름: irisClf\n",
    "- 부모 클래스: nn.Module\n",
    "- 매개변수: 필요없음(입출력 개수 고정)\n",
    "- 속성/필드: featureDF, targetDF, n_rows, n_features\n",
    "- 기능/역할: __init__() =>모델 구조 설정, forward() => 순방향 학습// 오버라이딩\n",
    "- 클래스 구조\n",
    "    - 입력층: 입력 4개(피쳐) 출력 10개\n",
    "    - 은닉층: 입력 10개 출력 30개\n",
    "    - 출력층: 입력 30개 출력 1개\n",
    "\n",
    "- 손실함수/활성화함수\n",
    "    - 클래스 형태 ==> nn.ReLU, nn.MSELoss => init()메서드\n",
    "    - 함수 형태 ==> torch.nn.funtional 아래에 forward() 메서드"
   ]
  },
  {
   "cell_type": "code",
   "execution_count": 6,
   "metadata": {},
   "outputs": [],
   "source": [
    "class IrisClfModel(nn.Module):\n",
    "    \n",
    "    # 모델 구조 구성 및 인스턴스 생성 메서드\n",
    "    def __init__(self) -> None:\n",
    "        super().__init__()\n",
    "        self.in_layer= nn.Linear(4, 10)\n",
    "        self.hidden_layer= nn.Linear(10, 5)\n",
    "        self.out_layer= nn.Linear(5, 1)\n",
    "\n",
    "    # 순방향 학습 진행 메서드\n",
    "    def forward(self, input_data):\n",
    "        # 입력층\n",
    "        y= self.in_layer(input_data)    #변수가 3개 절편이 하나인 식이 퍼셉트론당 1개씩 나옴\n",
    "        y= F.relu(y)                   #0 ~ y 사이의 값 도출\n",
    "\n",
    "        # 은닉층\n",
    "        y= self.hidden_layer(y)         #10개 입력 => 30개 출력\n",
    "        y= F.relu(y)                   # 0~ y 사이의 값\n",
    "\n",
    "        # 출력층\n",
    "        y= self.out_layer(y)            #30개 입력 => 1개 출력 (variety 값)\n",
    "        y=F.sigmoid(y)\n",
    "        return y"
   ]
  },
  {
   "cell_type": "code",
   "execution_count": 7,
   "metadata": {},
   "outputs": [
    {
     "name": "stdout",
     "output_type": "stream",
     "text": [
      "IrisClfModel(\n",
      "  (in_layer): Linear(in_features=4, out_features=10, bias=True)\n",
      "  (hidden_layer): Linear(in_features=10, out_features=5, bias=True)\n",
      "  (out_layer): Linear(in_features=5, out_features=1, bias=True)\n",
      ")\n"
     ]
    }
   ],
   "source": [
    "#  모델 인스턴스 생성\n",
    "model= IrisClfModel()\n",
    "print(model)"
   ]
  },
  {
   "cell_type": "code",
   "execution_count": 8,
   "metadata": {},
   "outputs": [
    {
     "data": {
      "text/plain": [
       "==========================================================================================\n",
       "Layer (type:depth-idx)                   Output Shape              Param #\n",
       "==========================================================================================\n",
       "IrisClfModel                             [10, 1]                   --\n",
       "├─Linear: 1-1                            [10, 10]                  50\n",
       "├─Linear: 1-2                            [10, 5]                   55\n",
       "├─Linear: 1-3                            [10, 1]                   6\n",
       "==========================================================================================\n",
       "Total params: 111\n",
       "Trainable params: 111\n",
       "Non-trainable params: 0\n",
       "Total mult-adds (M): 0.00\n",
       "==========================================================================================\n",
       "Input size (MB): 0.00\n",
       "Forward/backward pass size (MB): 0.00\n",
       "Params size (MB): 0.00\n",
       "Estimated Total Size (MB): 0.00\n",
       "=========================================================================================="
      ]
     },
     "execution_count": 8,
     "metadata": {},
     "output_type": "execute_result"
    }
   ],
   "source": [
    "# 모델 사용 메모리 정보 확인\n",
    "summary(model, input_size=(10, 4))"
   ]
  },
  {
   "cell_type": "markdown",
   "metadata": {},
   "source": [
    "[3]  데이터셋 클래스 설계 및 정의 <hr>\n",
    "- 데이터셋: iris.csv\n",
    "- 피쳐개수: 3개\n",
    "- 타겟개수: 1개\n",
    "- 클래스이름: IrisDataset\n",
    "- 부모클래스: untils.data.Dataset\n",
    "- 속성/필드: featureDF, TargetDF, n_rows, n_features\n",
    "- 필수 메서드\n",
    "    - __init__(self): 데이터셋 저장 및 전처리, 개발자가 필요한 속성 설정\n",
    "    - __len__(slef): 데이터의 개수 반환\n",
    "    - __getitem__(self, index): 특정 인덱스의 피쳐와 타겟 반환\n"
   ]
  },
  {
   "cell_type": "code",
   "execution_count": 9,
   "metadata": {},
   "outputs": [],
   "source": [
    "class IrisDataset(Dataset):\n",
    "    def __init__(self, featureDF, targetDF) -> None:\n",
    "        super().__init__()\n",
    "        self.featureDF= featureDF\n",
    "        self.targetDF= targetDF\n",
    "        self.n_rows= featureDF.shape[0]\n",
    "        self.n_features= featureDF.shape[1]\n",
    "\n",
    "\n",
    "    def __len__(self):\n",
    "        return self.n_rows\n",
    "\n",
    "    def __getitem__(self, index):\n",
    "        # 텐서화 (전결합층=> 기본이 FloatTensor)\n",
    "        featureTS= torch.FloatTensor(self.featureDF.iloc[index].values)\n",
    "        targetTS= torch.FloatTensor(self.targetDF.iloc[index].values)\n",
    "        return featureTS, targetTS"
   ]
  },
  {
   "cell_type": "code",
   "execution_count": 10,
   "metadata": {},
   "outputs": [
    {
     "name": "stdout",
     "output_type": "stream",
     "text": [
      "(150,)\n",
      "(150, 1)\n"
     ]
    }
   ],
   "source": [
    "print(irisDF[irisDF.columns[-1]].shape)  ##인덱싱으로 추출하면 series, \n",
    "print(irisDF[irisDF.columns[-1:]].shape)  # 슬라이싱으로 하면 DF"
   ]
  },
  {
   "cell_type": "code",
   "execution_count": 11,
   "metadata": {},
   "outputs": [
    {
     "name": "stdout",
     "output_type": "stream",
     "text": [
      "tensor([[5.1000, 3.5000, 1.4000, 0.2000]]) tensor([[1.]])\n"
     ]
    }
   ],
   "source": [
    "# 데이터셋 인스턴스 생성 [테스트]\n",
    "# shape은 항상 2D로!!!\n",
    "featureDF= irisDF[irisDF.columns[:-1]]\n",
    "targetDF= irisDF[irisDF.columns[-1:]]\n",
    "irisDS=IrisDataset(irisDF[irisDF.columns[:-1]], irisDF[irisDF.columns[-1:]])\n",
    "\n",
    "# 데이터로더 인스턴스 생성\n",
    "irisDL= DataLoader(irisDS)\n",
    "for feature, target in irisDL:\n",
    "    print(feature, target)\n",
    "    break"
   ]
  },
  {
   "cell_type": "markdown",
   "metadata": {},
   "source": [
    "[4] 학습 준비"
   ]
  },
  {
   "cell_type": "code",
   "execution_count": 12,
   "metadata": {},
   "outputs": [],
   "source": [
    "# 학습 진행 관련 설정값\n",
    "\n",
    "EPOCH= 100\n",
    "BATCH_SIZE= 10  #버리는 데이터 없게 하려면 전체 데이터 수를 보고 조절\n",
    "DEVICE= 'cuda' if torch.cuda.is_available() else 'cpu'\n",
    "LR= 0.001"
   ]
  },
  {
   "cell_type": "code",
   "execution_count": 13,
   "metadata": {},
   "outputs": [
    {
     "name": "stdout",
     "output_type": "stream",
     "text": [
      "(84, 4) (38, 4) (28, 4)\n"
     ]
    }
   ],
   "source": [
    "# 모델 인스턴스\n",
    "model= IrisClfModel()\n",
    "# 데이터셋 인스턴스 (데이터 분리)\n",
    "X_train, X_test, Y_train, Y_test= train_test_split(featureDF, targetDF, random_state=1)\n",
    "X_train, X_val, Y_train, Y_val= train_test_split(X_train, Y_train, random_state=1)\n",
    "print(X_train.shape, X_test.shape, X_val.shape)\n",
    "\n",
    "\n",
    "irisDS= IrisDataset(X_train, Y_train) #검증용 데이터 클래스로 만들기 싫으면 나중에 텐서로 변환후 넣으면 됨\n",
    "valDS=IrisDataset(X_val, Y_val)\n",
    "testDS= IrisDataset(X_test, Y_test)\n",
    "# 데이터로더 인스턴스 \n",
    "irisDL= DataLoader(irisDS, batch_size= BATCH_SIZE)"
   ]
  },
  {
   "cell_type": "code",
   "execution_count": 14,
   "metadata": {},
   "outputs": [
    {
     "name": "stdout",
     "output_type": "stream",
     "text": [
      "torch.Size([10, 4]) torch.Size([10, 1])\n",
      "torch.Size([10, 4]) torch.Size([10, 1])\n",
      "torch.Size([10, 4]) torch.Size([10, 1])\n",
      "torch.Size([10, 4]) torch.Size([10, 1])\n",
      "torch.Size([10, 4]) torch.Size([10, 1])\n",
      "torch.Size([10, 4]) torch.Size([10, 1])\n",
      "torch.Size([10, 4]) torch.Size([10, 1])\n",
      "torch.Size([10, 4]) torch.Size([10, 1])\n",
      "torch.Size([4, 4]) torch.Size([4, 1])\n"
     ]
    }
   ],
   "source": [
    "# 데이터로더 테스트\n",
    "for feature, target in irisDL:\n",
    "    print(feature.shape, target.shape)"
   ]
  },
  {
   "cell_type": "code",
   "execution_count": 15,
   "metadata": {},
   "outputs": [],
   "source": [
    "# 최적화 인스턴스\n",
    "# => w, b, model.parameters 전달\n",
    "optimizer= optim.Adam(model.parameters(), lr=LR)\n",
    "\n",
    "\n",
    "# 손실함수 인스턴스\n",
    "# => Binary Cross Entropy Loss -> 이진분류 (예측값을 확률값으로 전달-> sigmoid처리 해야함함)\n",
    "ClfLoss=nn.BCELoss()\n"
   ]
  },
  {
   "cell_type": "markdown",
   "metadata": {},
   "source": [
    "[5] 학습진행"
   ]
  },
  {
   "cell_type": "markdown",
   "metadata": {},
   "source": [
    "- >>> 모델 저장 관련 준비"
   ]
  },
  {
   "cell_type": "code",
   "execution_count": 16,
   "metadata": {},
   "outputs": [],
   "source": [
    "# 모델 파라미터(가중치와 절편) 저장\n",
    "import os\n",
    "# 경로\n",
    "SAVE_PATH= '../models/iris/BCF/'\n",
    "# 이름\n",
    "SAVE_FILE='model_train_wbs.pth'\n",
    "# 모델 구조 및 파라미터 모두 저장 파일명\n",
    "SAVE_MODEL='model_all.pth'\n",
    "\n",
    "if not os.path.exists(SAVE_PATH):\n",
    "    os.makedirs(SAVE_PATH)       #하위 폴더까지 생성"
   ]
  },
  {
   "cell_type": "code",
   "execution_count": 17,
   "metadata": {},
   "outputs": [
    {
     "data": {
      "text/plain": [
       "(84, 84)"
      ]
     },
     "execution_count": 17,
     "metadata": {},
     "output_type": "execute_result"
    }
   ],
   "source": [
    "len(X_train), X_train.__len__()"
   ]
  },
  {
   "cell_type": "code",
   "execution_count": 18,
   "metadata": {},
   "outputs": [
    {
     "data": {
      "text/plain": [
       "9"
      ]
     },
     "execution_count": 18,
     "metadata": {},
     "output_type": "execute_result"
    }
   ],
   "source": [
    "len(irisDL)"
   ]
  },
  {
   "cell_type": "code",
   "execution_count": 19,
   "metadata": {},
   "outputs": [
    {
     "name": "stdout",
     "output_type": "stream",
     "text": [
      " CNT: 9\n",
      "1/100\n",
      "Train\n",
      " Loss: 0.5683771371841431\n",
      " Score: 0.0\n",
      "Val\n",
      " Loss: 0.6752327084541321\n",
      " Score: 0.0\n",
      "2/100\n",
      "Train\n",
      " Loss: 0.5563027262687683\n",
      " Score: 0.0\n",
      "Val\n",
      " Loss: 0.6696463823318481\n",
      " Score: 0.0\n"
     ]
    },
    {
     "ename": "IndexError",
     "evalue": "list index out of range",
     "output_type": "error",
     "traceback": [
      "\u001b[1;31m---------------------------------------------------------------------------\u001b[0m",
      "\u001b[1;31mIndexError\u001b[0m                                Traceback (most recent call last)",
      "Cell \u001b[1;32mIn[19], line 63\u001b[0m\n\u001b[0;32m     61\u001b[0m \u001b[38;5;66;03m# 저장 -> 검증 DS의 Score\u001b[39;00m\n\u001b[0;32m     62\u001b[0m \u001b[38;5;28;01mif\u001b[39;00m \u001b[38;5;28mlen\u001b[39m(SCORE_HISTORY[\u001b[38;5;241m0\u001b[39m])\u001b[38;5;241m>\u001b[39m\u001b[38;5;241m1\u001b[39m:  \u001b[38;5;66;03m#비교를 위해 데이터가 2개 이상 있어야함\u001b[39;00m\n\u001b[1;32m---> 63\u001b[0m     \u001b[38;5;28;01mif\u001b[39;00m SCORE_HISTORY[\u001b[38;5;241m1\u001b[39m][\u001b[38;5;241m-\u001b[39m\u001b[38;5;241m1\u001b[39m] \u001b[38;5;241m<\u001b[39m\u001b[38;5;241m=\u001b[39m SCORE_HISTORY[\u001b[38;5;241m1\u001b[39m][\u001b[38;5;241m-\u001b[39m\u001b[38;5;241m2\u001b[39m]: BREAK_CNT\u001b[38;5;241m+\u001b[39m\u001b[38;5;241m=\u001b[39m\u001b[38;5;241m1\u001b[39m\n\u001b[0;32m     65\u001b[0m \u001b[38;5;66;03m# 학습 중단 여부 설정\u001b[39;00m\n\u001b[0;32m     66\u001b[0m \u001b[38;5;28;01mif\u001b[39;00m BREAK_CNT\u001b[38;5;241m>\u001b[39mLIMIT:\n",
      "\u001b[1;31mIndexError\u001b[0m: list index out of range"
     ]
    }
   ],
   "source": [
    "# 손실과 성능지표값 저장 => 학습의 효과 확인\n",
    "LOSS_HISTORY, SCORE_HISTORY= [[],[]], [[],[]]\n",
    "CNT= len(X_train)\n",
    "BREAK_CNT=0\n",
    "LIMIT=10\n",
    "print(f' CNT: {len(X_train)//BATCH_SIZE+1}')\n",
    "# 학습 모드로 모델 설정 (코딩 스타일에 따라 위치 상이)\n",
    "model.train()\n",
    "\n",
    "for epoch in range(EPOCH):                      #만약 검증을 한다면 Custom Dataset 만들어야함\n",
    "    print(f'{epoch+1}/{EPOCH}')\n",
    "    # 배치크기 만큼 데이터 로딩에서 학습 진행\n",
    "    loss_total, score_total= 0,0\n",
    "    for featureTS, targetTS in irisDL:\n",
    "        # 학습 진행\n",
    "        pre_y= model(featureTS)\n",
    "\n",
    "        # 손실 계산\n",
    "        loss= ClfLoss(pre_y, targetTS)\n",
    "        loss_total+=loss\n",
    "        # 성능 평가\n",
    "        score= F1Score(task='binary')(pre_y, targetTS)\n",
    "        score_total+= score\n",
    "\n",
    "        # 최적화 진행\n",
    "        optimizer.zero_grad()\n",
    "        loss.backward()\n",
    "        optimizer.step()\n",
    "    \n",
    "    # 에포크당 검증기능\n",
    "    # 검증 모드\n",
    "    model.eval()\n",
    "    with torch.no_grad():\n",
    "        # 검증 데이터 셋\n",
    "        val_featureTS=torch.FloatTensor(valDS.featureDF.values) #values -> array로 변경\n",
    "        val_targetTS=torch.FloatTensor(valDS.targetDF.values)\n",
    "\n",
    "        # 학습/추론론\n",
    "        pre_val=model(val_featureTS)\n",
    "\n",
    "        # 손실\n",
    "        loss_val=ClfLoss(pre_val, val_targetTS)\n",
    "\n",
    "        # 평가\n",
    "        score_val=F1Score('binary')(pre_val, val_targetTS)\n",
    "\n",
    "\n",
    "\n",
    "    # 손실값과 성능평가값 저장\n",
    "    # 학습\n",
    "    LOSS_HISTORY[0].append(loss_total/BATCH_SIZE)\n",
    "    SCORE_HISTORY[0].append(score_total/BATCH_SIZE)\n",
    "    print(f'Train\\n Loss: {loss_total/BATCH_SIZE}\\n Score: {score_total/BATCH_SIZE}')\n",
    "\n",
    "    \n",
    "    # 검증\n",
    "    LOSS_HISTORY[1].append(loss_val)\n",
    "    LOSS_HISTORY[1].append(score_val)\n",
    "    print(f'Val\\n Loss: {loss_val}\\n Score: {score_val}')\n",
    "\n",
    "    # 저장 -> 검증 DS의 Score\n",
    "    if len(SCORE_HISTORY[0])>1:  #비교를 위해 데이터가 2개 이상 있어야함\n",
    "        if SCORE_HISTORY[1][-1] <= SCORE_HISTORY[1][-2]: BREAK_CNT+=1\n",
    "\n",
    "    # 학습 중단 여부 설정\n",
    "    if BREAK_CNT>LIMIT:\n",
    "        print('성능 및 손실 개선이 없어서 학습 중단')\n",
    "        break"
   ]
  },
  {
   "cell_type": "markdown",
   "metadata": {},
   "source": [
    "- 학습결과 체크 => 학습과 검증의 loss, score 변화 확인"
   ]
  },
  {
   "cell_type": "code",
   "execution_count": 110,
   "metadata": {},
   "outputs": [
    {
     "data": {
      "text/plain": [
       "200"
      ]
     },
     "execution_count": 110,
     "metadata": {},
     "output_type": "execute_result"
    }
   ],
   "source": [
    "train_loss=[]\n",
    "val_loss=[]\n",
    "for loss in LOSS_HISTORY[0]:\n",
    "    train_loss.append(torch.detach(loss).numpy())\n",
    "for loss in LOSS_HISTORY[1]:\n",
    "    val_loss.append(torch.detach(loss).numpy())\n",
    "len(val_loss)\n"
   ]
  },
  {
   "cell_type": "code",
   "execution_count": null,
   "metadata": {},
   "outputs": [],
   "source": [
    "# 결과 예측\n",
    "# pre_val=IrisClfModel(dataTS)\n",
    "\n",
    "# pre_val 값이 양성일 확률 \n",
    "# ==> 0.5보다 크면 양성(setosa), 작으면 음성(other)으로 판별\n",
    "# "
   ]
  },
  {
   "cell_type": "code",
   "execution_count": 117,
   "metadata": {},
   "outputs": [
    {
     "data": {
      "text/plain": [
       "<matplotlib.legend.Legend at 0x1c0d60a78b0>"
      ]
     },
     "execution_count": 117,
     "metadata": {},
     "output_type": "execute_result"
    },
    {
     "data": {
      "image/png": "[encoded data removed]",
      "text/plain": [
       "<Figure size 1500x600 with 2 Axes>"
      ]
     },
     "metadata": {},
     "output_type": "display_data"
    }
   ],
   "source": [
    "# 변화 시각화\n",
    "lg=len(LOSS_HISTORY[0])   #도중 중단 설정시 그래프 길이를 에포크가 아니라 따로 길이 재서 넣어야함\n",
    "\n",
    "\n",
    "fig, (ax1, ax2)= plt.subplots(1,2, figsize=(15,6))\n",
    "ax1.plot(range(1,len(LOSS_HISTORY[0])+1), LOSS_HISTORY[0][:EPOCH], label='Train')\n",
    "ax1.plot(range(1,len(LOSS_HISTORY[1])+1), LOSS_HISTORY[1][:EPOCH], label='Val')\n",
    "ax1.set_title('Train & Val Loss')\n",
    "ax2.plot(range(len(SCORE_HISTORY[0])), SCORE_HISTORY[0][EPOCH], label='Train')\n",
    "ax2.plot(range(len(SCORE_HISTORY[1])), SCORE_HISTORY[1][EPOCH], label='Val')\n",
    "ax2.set_title('Train & Val Score')\n",
    "plt.legend()"
   ]
  },
  {
   "cell_type": "code",
   "execution_count": 152,
   "metadata": {},
   "outputs": [],
   "source": []
  }
 ],
 "metadata": {
  "kernelspec": {
   "display_name": "PYTORCH_38",
   "language": "python",
   "name": "python3"
  },
  "language_info": {
   "codemirror_mode": {
    "name": "ipython",
    "version": 3
   },
   "file_extension": ".py",
   "mimetype": "text/x-python",
   "name": "python",
   "nbconvert_exporter": "python",
   "pygments_lexer": "ipython3",
   "version": "3.8.19"
  }
 },
 "nbformat": 4,
 "nbformat_minor": 2
}
