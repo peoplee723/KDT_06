{
 "cells": [
  {
   "cell_type": "markdown",
   "metadata": {},
   "source": [
    "####  iris 데이터셋 활용 꽃잎 너비 예측 모델\n",
    "- 데이터셋: iris.csv-> feature 3\n",
    "- 구현 프레임워크: Pytorch\n"
   ]
  },
  {
   "cell_type": "markdown",
   "metadata": {},
   "source": [
    "[1] 모듈 로딩 및 데이터 준비"
   ]
  },
  {
   "cell_type": "code",
   "execution_count": 159,
   "metadata": {},
   "outputs": [],
   "source": [
    "# 모듈 로딩\n",
    "import torch                    #텐서 및 수치 계산 모듈\n",
    "import torch.nn as nn           #인공신경망\n",
    "import torch.nn.functional as F      #손실, 거리 계산 모듈\n",
    "import torch.optim as optimizer # 최적화 기법 모듈\n",
    "import pandas as pd\n",
    "from sklearn.model_selection import train_test_split\n"
   ]
  },
  {
   "cell_type": "code",
   "execution_count": 160,
   "metadata": {},
   "outputs": [
    {
     "data": {
      "text/html": [
       "<div>\n",
       "<style scoped>\n",
       "    .dataframe tbody tr th:only-of-type {\n",
       "        vertical-align: middle;\n",
       "    }\n",
       "\n",
       "    .dataframe tbody tr th {\n",
       "        vertical-align: top;\n",
       "    }\n",
       "\n",
       "    .dataframe thead th {\n",
       "        text-align: right;\n",
       "    }\n",
       "</style>\n",
       "<table border=\"1\" class=\"dataframe\">\n",
       "  <thead>\n",
       "    <tr style=\"text-align: right;\">\n",
       "      <th></th>\n",
       "      <th>sepal.length</th>\n",
       "      <th>sepal.width</th>\n",
       "      <th>petal.length</th>\n",
       "      <th>petal.width</th>\n",
       "    </tr>\n",
       "  </thead>\n",
       "  <tbody>\n",
       "    <tr>\n",
       "      <th>0</th>\n",
       "      <td>5.1</td>\n",
       "      <td>3.5</td>\n",
       "      <td>1.4</td>\n",
       "      <td>0.2</td>\n",
       "    </tr>\n",
       "    <tr>\n",
       "      <th>1</th>\n",
       "      <td>4.9</td>\n",
       "      <td>3.0</td>\n",
       "      <td>1.4</td>\n",
       "      <td>0.2</td>\n",
       "    </tr>\n",
       "    <tr>\n",
       "      <th>2</th>\n",
       "      <td>4.7</td>\n",
       "      <td>3.2</td>\n",
       "      <td>1.3</td>\n",
       "      <td>0.2</td>\n",
       "    </tr>\n",
       "    <tr>\n",
       "      <th>3</th>\n",
       "      <td>4.6</td>\n",
       "      <td>3.1</td>\n",
       "      <td>1.5</td>\n",
       "      <td>0.2</td>\n",
       "    </tr>\n",
       "    <tr>\n",
       "      <th>4</th>\n",
       "      <td>5.0</td>\n",
       "      <td>3.6</td>\n",
       "      <td>1.4</td>\n",
       "      <td>0.2</td>\n",
       "    </tr>\n",
       "  </tbody>\n",
       "</table>\n",
       "</div>"
      ],
      "text/plain": [
       "   sepal.length  sepal.width  petal.length  petal.width\n",
       "0           5.1          3.5           1.4          0.2\n",
       "1           4.9          3.0           1.4          0.2\n",
       "2           4.7          3.2           1.3          0.2\n",
       "3           4.6          3.1           1.5          0.2\n",
       "4           5.0          3.6           1.4          0.2"
      ]
     },
     "execution_count": 160,
     "metadata": {},
     "output_type": "execute_result"
    }
   ],
   "source": [
    "# 데이터 로딩\n",
    "File='../data/iris.csv'\n",
    "irisDF=pd.read_csv(File, usecols=[0,1,2,3])\n",
    "irisDF.head()"
   ]
  },
  {
   "cell_type": "markdown",
   "metadata": {},
   "source": [
    "[2] 모델 준비\n",
    "- 학습 방법: 지도학습(회귀)\n",
    "- 알고리즘: 선형관계 >> 선형모델 ==>nn.linear"
   ]
  },
  {
   "cell_type": "code",
   "execution_count": 161,
   "metadata": {},
   "outputs": [
    {
     "name": "stdout",
     "output_type": "stream",
     "text": [
      "weight Parameter containing:\n",
      "tensor([[ 0.2975, -0.2548, -0.1119]], requires_grad=True) \n",
      "\n",
      "bias Parameter containing:\n",
      "tensor([0.2710], requires_grad=True) \n",
      "\n"
     ]
    }
   ],
   "source": [
    "# in features: petal.length 3개\n",
    "# out features: petal.width 1개\n",
    "torch.manual_seed(1)\n",
    "\n",
    "model=nn.Linear(3,1)\n",
    "for name, param in model.named_parameters():\n",
    "    print(name, param, '\\n')"
   ]
  },
  {
   "cell_type": "markdown",
   "metadata": {},
   "source": [
    "[3] 최적화 인스턴스 준비\n"
   ]
  },
  {
   "cell_type": "code",
   "execution_count": 162,
   "metadata": {},
   "outputs": [],
   "source": [
    "# 모델의 가중치와 절편을 최적화-> 인스턴스에 전달\n",
    "adam_optim= optimizer.Adam(model.parameters(), lr=0.1)"
   ]
  },
  {
   "cell_type": "markdown",
   "metadata": {},
   "source": [
    "[4] 학습-> 개발자가 구현"
   ]
  },
  {
   "cell_type": "markdown",
   "metadata": {},
   "source": [
    "[4-1] 데이터셋 Tensor화 진행: 데이터준비시 진행 or 학습 전 진행"
   ]
  },
  {
   "cell_type": "code",
   "execution_count": 163,
   "metadata": {},
   "outputs": [
    {
     "data": {
      "text/plain": [
       "torch.Size([150, 3])"
      ]
     },
     "execution_count": 163,
     "metadata": {},
     "output_type": "execute_result"
    }
   ],
   "source": [
    "# 데이터 프레임 컬럼=array -> .values=ndarray -> 대괄호 한번 더(shape)-> .from_numpy-> .float()\n",
    "# ==>  n열, 1행짜리 tensor 생성\n",
    "featureTS=torch.from_numpy(irisDF[['sepal.length', 'sepal.width', 'petal.length']].values).float()\n",
    "featureTS.shape"
   ]
  },
  {
   "cell_type": "code",
   "execution_count": 164,
   "metadata": {},
   "outputs": [
    {
     "data": {
      "text/plain": [
       "torch.Size([150, 1])"
      ]
     },
     "execution_count": 164,
     "metadata": {},
     "output_type": "execute_result"
    }
   ],
   "source": [
    "targetTS=torch.from_numpy(irisDF[['petal.width']].values).float()\n",
    "targetTS.shape"
   ]
  },
  {
   "cell_type": "code",
   "execution_count": 165,
   "metadata": {},
   "outputs": [
    {
     "name": "stdout",
     "output_type": "stream",
     "text": [
      "train: torch.Size([96, 3]), val: torch.Size([24, 3]), test: torch.Size([30, 3])\n",
      "train: torch.Size([96, 1]), val: torch.Size([24, 1]), test: torch.Size([30, 1])\n"
     ]
    }
   ],
   "source": [
    "X_train, X_test, Y_train, Y_test= train_test_split(featureTS,targetTS, test_size=.2)\n",
    "X_train, X_val, Y_train, Y_val= train_test_split(X_train, Y_train, test_size=.2)\n",
    "\n",
    "print(f'train: {X_train.shape}, val: {X_val.shape}, test: {X_test.shape}')\n",
    "print(f'train: {Y_train.shape}, val: {Y_val.shape}, test: {Y_test.shape}')"
   ]
  },
  {
   "cell_type": "code",
   "execution_count": 72,
   "metadata": {},
   "outputs": [],
   "source": [
    "\n"
   ]
  },
  {
   "cell_type": "markdown",
   "metadata": {},
   "source": [
    "- [4-2] 학습 진행\n",
    "    - 학습횟수 결정 ==> 에포크 설정\n",
    "    - 학습결과 저장시 ==> 손실저장 변수 생성"
   ]
  },
  {
   "cell_type": "code",
   "execution_count": 166,
   "metadata": {},
   "outputs": [],
   "source": [
    "# 테스트/검증 함수\n",
    "# 가중치 업데이트X, 최적화 미진행\n",
    "# 현재 가중치와 절편값으로 테스트 진행\n",
    "def testing(model, X_test, Y_test, kind='Val'):\n",
    "    with torch.no_grad():   #가중치 및 절편 업데이트 진행 X\n",
    "        # (1) 학습진행  forward(순전파)\n",
    "        # - 먼저 shape과 dtype이 동일한지 확인을 위해 실행해보기!!\n",
    "        pre_y= model(X_test)\n",
    "\n",
    "        # (2) 오차계산 - 손실함수\n",
    "        loss=F.mse_loss(pre_y, Y_test)\n",
    "        \n",
    "        # (3) 최적화 - 가중치, 절편 업데이트 backward(역전파)\n",
    "        # # - 가중치 초기화 -> 가중치 계산 -> 가중치 적용\n",
    "        # adam_optim.zero_grad()\n",
    "        # loss.backward()\n",
    "        # adam_optim.step()\n",
    "         \n",
    "        # (5) 학습결과 출력 및 저장\n",
    "        print(f'[{kind}] LOSS: {loss}')\n",
    "        return loss"
   ]
  },
  {
   "cell_type": "code",
   "execution_count": 167,
   "metadata": {},
   "outputs": [],
   "source": [
    "# 모델 학습 함수\n",
    "\n",
    "\n",
    "def training(X_train, Y_train, X_test, Y_test):\n",
    "    EPOCH=100\n",
    "    loss_history=[[],[]]\n",
    "    for epch in range(1,EPOCH+1):\n",
    "        # (1) 학습진행  forward(순전파)\n",
    "        # - 먼저 shape과 dtype이 동일한지 확인을 위해 실행해보기!!\n",
    "        pre_y= model(X_train)\n",
    "\n",
    "        # (2) 오차계산 - 손실함수\n",
    "        loss=F.mse_loss(pre_y, Y_train)\n",
    "        loss_history[0].append(loss.item())\n",
    "        # (3) 최적화 - 가중치, 절편 업데이트 backward(역전파)\n",
    "        # - 가중치 초기화 -> 가중치 계산 -> 가중치 적용\n",
    "        adam_optim.zero_grad()\n",
    "        loss.backward()\n",
    "        adam_optim.step()\n",
    "\n",
    "        # (4)검증\n",
    "        val_loss=testing(model, X_test, Y_test)\n",
    "        loss_history[1].append(val_loss.item())\n",
    "        # (5) 학습결과 출력 및 저장\n",
    "        print(f'[{epch}/{EPOCH}] LOSS: {loss}')\n",
    "    return loss_history"
   ]
  },
  {
   "cell_type": "code",
   "execution_count": 168,
   "metadata": {},
   "outputs": [
    {
     "name": "stdout",
     "output_type": "stream",
     "text": [
      "[Val] LOSS: 1.2167930603027344\n",
      "[1/100] LOSS: 0.644173264503479\n",
      "[Val] LOSS: 0.5261057615280151\n",
      "[2/100] LOSS: 1.2437957525253296\n",
      "[Val] LOSS: 0.350141316652298\n",
      "[3/100] LOSS: 0.567986249923706\n",
      "[Val] LOSS: 0.6265715956687927\n",
      "[4/100] LOSS: 0.3910902738571167\n",
      "[Val] LOSS: 0.5114017128944397\n",
      "[5/100] LOSS: 0.6565454602241516\n",
      "[Val] LOSS: 0.2254083752632141\n",
      "[6/100] LOSS: 0.544243574142456\n",
      "[Val] LOSS: 0.17280565202236176\n",
      "[7/100] LOSS: 0.26625263690948486\n",
      "[Val] LOSS: 0.30294135212898254\n",
      "[8/100] LOSS: 0.21365036070346832\n",
      "[Val] LOSS: 0.3149819076061249\n",
      "[9/100] LOSS: 0.3366713225841522\n",
      "[Val] LOSS: 0.17758946120738983\n",
      "[10/100] LOSS: 0.34379443526268005\n",
      "[Val] LOSS: 0.08181893080472946\n",
      "[11/100] LOSS: 0.2056582123041153\n",
      "[Val] LOSS: 0.12452077865600586\n",
      "[12/100] LOSS: 0.10832888633012772\n",
      "[Val] LOSS: 0.19821713864803314\n",
      "[13/100] LOSS: 0.14577068388462067\n",
      "[Val] LOSS: 0.18019692599773407\n",
      "[14/100] LOSS: 0.21315012872219086\n",
      "[Val] LOSS: 0.10562393814325333\n",
      "[15/100] LOSS: 0.19082467257976532\n",
      "[Val] LOSS: 0.08242397010326385\n",
      "[16/100] LOSS: 0.11277084797620773\n",
      "[Val] LOSS: 0.13265268504619598\n",
      "[17/100] LOSS: 0.08408000320196152\n",
      "[Val] LOSS: 0.1754201054573059\n",
      "[18/100] LOSS: 0.12689898908138275\n",
      "[Val] LOSS: 0.1553758680820465\n",
      "[19/100] LOSS: 0.16355706751346588\n",
      "[Val] LOSS: 0.11328597366809845\n",
      "[20/100] LOSS: 0.14083144068717957\n",
      "[Val] LOSS: 0.11170294135808945\n",
      "[21/100] LOSS: 0.09823372215032578\n",
      "[Val] LOSS: 0.14583320915699005\n",
      "[22/100] LOSS: 0.09594527631998062\n",
      "[Val] LOSS: 0.16115303337574005\n",
      "[23/100] LOSS: 0.12852843105793\n",
      "[Val] LOSS: 0.13925093412399292\n",
      "[24/100] LOSS: 0.14238472282886505\n",
      "[Val] LOSS: 0.11759445071220398\n",
      "[25/100] LOSS: 0.11943349242210388\n",
      "[Val] LOSS: 0.12654773890972137\n",
      "[26/100] LOSS: 0.09638918191194534\n",
      "[Val] LOSS: 0.14627350866794586\n",
      "[27/100] LOSS: 0.10342895984649658\n",
      "[Val] LOSS: 0.14262762665748596\n",
      "[28/100] LOSS: 0.12200236320495605\n",
      "[Val] LOSS: 0.11937160044908524\n",
      "[29/100] LOSS: 0.11932041496038437\n",
      "[Val] LOSS: 0.1067226454615593\n",
      "[30/100] LOSS: 0.09888831526041031\n",
      "[Val] LOSS: 0.11318690329790115\n",
      "[31/100] LOSS: 0.08948168158531189\n",
      "[Val] LOSS: 0.1170797199010849\n",
      "[32/100] LOSS: 0.09861892461776733\n",
      "[Val] LOSS: 0.10494589805603027\n",
      "[33/100] LOSS: 0.10463804006576538\n",
      "[Val] LOSS: 0.09118760377168655\n",
      "[34/100] LOSS: 0.0942654237151146\n",
      "[Val] LOSS: 0.0912698358297348\n",
      "[35/100] LOSS: 0.08172851800918579\n",
      "[Val] LOSS: 0.09697820246219635\n",
      "[36/100] LOSS: 0.08256594091653824\n",
      "[Val] LOSS: 0.09246966242790222\n",
      "[37/100] LOSS: 0.08931639790534973\n",
      "[Val] LOSS: 0.08043109625577927\n",
      "[38/100] LOSS: 0.08684314042329788\n",
      "[Val] LOSS: 0.07503814995288849\n",
      "[39/100] LOSS: 0.07762516289949417\n",
      "[Val] LOSS: 0.0777946263551712\n",
      "[40/100] LOSS: 0.07499714940786362\n",
      "[Val] LOSS: 0.07763209193944931\n",
      "[41/100] LOSS: 0.07989633828401566\n",
      "[Val] LOSS: 0.07147607952356339\n",
      "[42/100] LOSS: 0.08120936900377274\n",
      "[Val] LOSS: 0.06803392618894577\n",
      "[43/100] LOSS: 0.07591211050748825\n",
      "[Val] LOSS: 0.0709177777171135\n",
      "[44/100] LOSS: 0.07274273782968521\n",
      "[Val] LOSS: 0.07271985709667206\n",
      "[45/100] LOSS: 0.07564935833215714\n",
      "[Val] LOSS: 0.06886788457632065\n",
      "[46/100] LOSS: 0.07780662924051285\n",
      "[Val] LOSS: 0.06485790759325027\n",
      "[47/100] LOSS: 0.07488707453012466\n",
      "[Val] LOSS: 0.06535370647907257\n",
      "[48/100] LOSS: 0.07204072922468185\n",
      "[Val] LOSS: 0.06663697212934494\n",
      "[49/100] LOSS: 0.0734219029545784\n",
      "[Val] LOSS: 0.06490638852119446\n",
      "[50/100] LOSS: 0.07506603747606277\n",
      "[Val] LOSS: 0.06316163390874863\n",
      "[51/100] LOSS: 0.07314486056566238\n",
      "[Val] LOSS: 0.06450794637203217\n",
      "[52/100] LOSS: 0.07072485238313675\n",
      "[Val] LOSS: 0.06606987118721008\n",
      "[53/100] LOSS: 0.07117712497711182\n",
      "[Val] LOSS: 0.0647202879190445\n",
      "[54/100] LOSS: 0.07207041233778\n",
      "[Val] LOSS: 0.06265772134065628\n",
      "[55/100] LOSS: 0.07053717970848083\n",
      "[Val] LOSS: 0.06268557161092758\n",
      "[56/100] LOSS: 0.06860491633415222\n",
      "[Val] LOSS: 0.06336309015750885\n",
      "[57/100] LOSS: 0.06868785619735718\n",
      "[Val] LOSS: 0.0628179982304573\n",
      "[58/100] LOSS: 0.06907015293836594\n",
      "[Val] LOSS: 0.062489502131938934\n",
      "[59/100] LOSS: 0.0678037628531456\n",
      "[Val] LOSS: 0.06364190578460693\n",
      "[60/100] LOSS: 0.06642355769872665\n",
      "[Val] LOSS: 0.06452673673629761\n",
      "[61/100] LOSS: 0.06647908687591553\n",
      "[Val] LOSS: 0.06380947679281235\n",
      "[62/100] LOSS: 0.06658533215522766\n",
      "[Val] LOSS: 0.06293370574712753\n",
      "[63/100] LOSS: 0.06556546688079834\n",
      "[Val] LOSS: 0.06306260824203491\n",
      "[64/100] LOSS: 0.06468486785888672\n",
      "[Val] LOSS: 0.06325986981391907\n",
      "[65/100] LOSS: 0.06477966159582138\n",
      "[Val] LOSS: 0.06301514804363251\n",
      "[66/100] LOSS: 0.06468407064676285\n",
      "[Val] LOSS: 0.06321777403354645\n",
      "[67/100] LOSS: 0.06384777277708054\n",
      "[Val] LOSS: 0.06386119872331619\n",
      "[68/100] LOSS: 0.06331136077642441\n",
      "[Val] LOSS: 0.06377912312746048\n",
      "[69/100] LOSS: 0.06335660070180893\n",
      "[Val] LOSS: 0.06289906054735184\n",
      "[70/100] LOSS: 0.06306032091379166\n",
      "[Val] LOSS: 0.062229499220848083\n",
      "[71/100] LOSS: 0.06235060468316078\n",
      "[Val] LOSS: 0.06193418800830841\n",
      "[72/100] LOSS: 0.062003765255212784\n",
      "[Val] LOSS: 0.06152534484863281\n",
      "[73/100] LOSS: 0.06191553175449371\n",
      "[Val] LOSS: 0.06118382513523102\n",
      "[74/100] LOSS: 0.061463166028261185\n",
      "[Val] LOSS: 0.06117089465260506\n",
      "[75/100] LOSS: 0.0608782060444355\n",
      "[Val] LOSS: 0.06095471605658531\n",
      "[76/100] LOSS: 0.060623664408922195\n",
      "[Val] LOSS: 0.06016118451952934\n",
      "[77/100] LOSS: 0.060393091291189194\n",
      "[Val] LOSS: 0.05926563963294029\n",
      "[78/100] LOSS: 0.05988757684826851\n",
      "[Val] LOSS: 0.05864960327744484\n",
      "[79/100] LOSS: 0.059447627514600754\n",
      "[Val] LOSS: 0.05814541503787041\n",
      "[80/100] LOSS: 0.059226274490356445\n",
      "[Val] LOSS: 0.05772978812456131\n",
      "[81/100] LOSS: 0.05889832600951195\n",
      "[Val] LOSS: 0.05753656476736069\n",
      "[82/100] LOSS: 0.05843968316912651\n",
      "[Val] LOSS: 0.0573040246963501\n",
      "[83/100] LOSS: 0.0581282377243042\n",
      "[Val] LOSS: 0.056734468787908554\n",
      "[84/100] LOSS: 0.05789187178015709\n",
      "[Val] LOSS: 0.05603593587875366\n",
      "[85/100] LOSS: 0.05752463638782501\n",
      "[Val] LOSS: 0.05550502985715866\n",
      "[86/100] LOSS: 0.05715756490826607\n",
      "[Val] LOSS: 0.055124301463365555\n",
      "[87/100] LOSS: 0.056911733001470566\n",
      "[Val] LOSS: 0.054862961173057556\n",
      "[88/100] LOSS: 0.05663174390792847\n",
      "[Val] LOSS: 0.05475025624036789\n",
      "[89/100] LOSS: 0.05627540126442909\n",
      "[Val] LOSS: 0.054605670273303986\n",
      "[90/100] LOSS: 0.05598616972565651\n",
      "[Val] LOSS: 0.05424053594470024\n",
      "[91/100] LOSS: 0.055739596486091614\n",
      "[Val] LOSS: 0.05377649888396263\n",
      "[92/100] LOSS: 0.05542642995715141\n",
      "[Val] LOSS: 0.05341152101755142\n",
      "[93/100] LOSS: 0.05511273816227913\n",
      "[Val] LOSS: 0.053170498460531235\n",
      "[94/100] LOSS: 0.054859865456819534\n",
      "[Val] LOSS: 0.053040966391563416\n",
      "[95/100] LOSS: 0.05458628013730049\n",
      "[Val] LOSS: 0.05299655720591545\n",
      "[96/100] LOSS: 0.05427883192896843\n",
      "[Val] LOSS: 0.052889637649059296\n",
      "[97/100] LOSS: 0.054011423140764236\n",
      "[Val] LOSS: 0.052619364112615585\n",
      "[98/100] LOSS: 0.05376063659787178\n",
      "[Val] LOSS: 0.05228637158870697\n",
      "[99/100] LOSS: 0.053477440029382706\n",
      "[Val] LOSS: 0.05201997980475426\n",
      "[100/100] LOSS: 0.05320581793785095\n"
     ]
    }
   ],
   "source": [
    "loss_hist= training(X_train, Y_train, X_test, Y_test)"
   ]
  },
  {
   "cell_type": "code",
   "execution_count": 169,
   "metadata": {},
   "outputs": [
    {
     "data": {
      "text/plain": [
       "(100, 100)"
      ]
     },
     "execution_count": 169,
     "metadata": {},
     "output_type": "execute_result"
    }
   ],
   "source": [
    "len(loss_hist[1]), len(loss_hist[0])"
   ]
  },
  {
   "cell_type": "code",
   "execution_count": 171,
   "metadata": {},
   "outputs": [
    {
     "data": {
      "image/png": "[encoded data removed]",
      "text/plain": [
       "<Figure size 640x480 with 1 Axes>"
      ]
     },
     "metadata": {},
     "output_type": "display_data"
    }
   ],
   "source": [
    "# 학습 후 loss 시각화\n",
    "import matplotlib.pyplot as plt\n",
    "\n",
    "plt.plot(range(1,101), loss_hist[0], label='train')\n",
    "plt.plot(range(1,101), loss_hist[1], label='Val')\n",
    "plt.title('train & valid')\n",
    "plt.grid()\n",
    "plt.legend()\n",
    "plt.show()"
   ]
  }
 ],
 "metadata": {
  "kernelspec": {
   "display_name": "PYTORCH_38",
   "language": "python",
   "name": "python3"
  },
  "language_info": {
   "codemirror_mode": {
    "name": "ipython",
    "version": 3
   },
   "file_extension": ".py",
   "mimetype": "text/x-python",
   "name": "python",
   "nbconvert_exporter": "python",
   "pygments_lexer": "ipython3",
   "version": "3.8.19"
  }
 },
 "nbformat": 4,
 "nbformat_minor": 2
}
