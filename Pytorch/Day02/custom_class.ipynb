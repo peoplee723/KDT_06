{
 "cells": [
  {
   "cell_type": "markdown",
   "metadata": {},
   "source": [
    "#### 클래스 - 연산자 오버로딩(overloading)\n",
    " - 오버로딩\n",
    "    - 함수명은 동일하지만 매개변수의 개수, 종류, 순서가 다르면 다른 함수로 인식\n",
    "    - 파이썬에서는 연산자(+-*/)에 대한 매직함수/메서드가 미리 정의되어 있음\n",
    "    - 연산자 매직함수/메서드는 클래스별로 오버로딩하도록 되어 있음"
   ]
  },
  {
   "cell_type": "code",
   "execution_count": 50,
   "metadata": {},
   "outputs": [],
   "source": [
    "# 일반적으로 클래스끼리의 연산은 unsupported\n",
    "# -> 클래스 내에 연산자 오버로딩을 통해 개발자가 원하는 연산을 가능하게 해줌\n",
    "# (연산자의 기능을 만들수 있음)"
   ]
  },
  {
   "cell_type": "code",
   "execution_count": 51,
   "metadata": {},
   "outputs": [],
   "source": [
    "# 저장 데이터: 햄버거\n",
    "# 클래스이름: buger\n",
    "# 클래스 속성: 번, 패티, 야채, 소스, 이름, 브랜드, 가격\n",
    "#           : 브랜드: 클래스 속성\n",
    "            # : 그외: 인스턴스 속성\n",
    "# 클래스 기능: X\n",
    "class Burger:\n",
    "    # 클래스 속성\n",
    "    brand='맘스터치'\n",
    "\n",
    "    # 생성자 메서드\n",
    "    # self-> 인스턴스 정보가 저장될 메모리 정보\n",
    "    def __init__(self, bun, patty, veg, source, name, price) -> None:\n",
    "        self.bun=bun\n",
    "        self.patty=patty\n",
    "        self.veg=veg\n",
    "        self.source=source\n",
    "        self.name=name\n",
    "        self.price=price\n",
    "\n",
    "    def show_burger(self):\n",
    "        print(f'[{self.name}] 정보')\n",
    "        print(f'- 가격: {self.price}')\n",
    "        print(f'- 구성: {self.bun}, {self.veg}, {self.patty}')\n",
    "\n",
    "\n",
    "    def __add__(self,other):\n",
    "        print('__add__')\n",
    "        return self.price+other.price\n",
    "    \n",
    "    def __mul__(self,other):\n",
    "        return self.price*other.price    \n",
    "\n",
    "    "
   ]
  },
  {
   "cell_type": "markdown",
   "metadata": {},
   "source": [
    "- 인스턴스/객체 생성 (힙에 생성)"
   ]
  },
  {
   "cell_type": "code",
   "execution_count": 52,
   "metadata": {},
   "outputs": [],
   "source": [
    "# 생성문법: 변수명=클래스명(속성들....)\n",
    "beef_burger=Burger('브리오슈', '소고기', '토마토', '스리라차', '소고기버거', 4900)\n",
    "shrimp_burger=Burger('참깨빵', '새우', '토마토', '갈릭', '새우버거', 5100)\n",
    "chiken_burger=Burger('브리오슈', '치킨', '양상추', '마요', '치킨버거', 6000)"
   ]
  },
  {
   "cell_type": "code",
   "execution_count": 53,
   "metadata": {},
   "outputs": [
    {
     "name": "stdout",
     "output_type": "stream",
     "text": [
      "[소고기버거] 정보\n",
      "- 가격: 4900\n",
      "- 구성: 브리오슈, 토마토, 소고기\n"
     ]
    },
    {
     "data": {
      "text/plain": [
       "(None, '소고기버거')"
      ]
     },
     "execution_count": 53,
     "metadata": {},
     "output_type": "execute_result"
    }
   ],
   "source": [
    "# 인스턴스 객체 속성 확인\n",
    "beef_burger.show_burger(), beef_burger.name"
   ]
  },
  {
   "cell_type": "code",
   "execution_count": 54,
   "metadata": {},
   "outputs": [
    {
     "data": {
      "text/plain": [
       "29400000"
      ]
     },
     "execution_count": 54,
     "metadata": {},
     "output_type": "execute_result"
    }
   ],
   "source": [
    "beef_burger*chiken_burger"
   ]
  },
  {
   "cell_type": "markdown",
   "metadata": {},
   "source": [
    "- 최상위 부모 클래스 => Object"
   ]
  },
  {
   "cell_type": "markdown",
   "metadata": {},
   "source": []
  },
  {
   "cell_type": "code",
   "execution_count": 55,
   "metadata": {},
   "outputs": [],
   "source": [
    "class A:\n",
    "    pass"
   ]
  },
  {
   "cell_type": "code",
   "execution_count": 56,
   "metadata": {},
   "outputs": [
    {
     "ename": "AttributeError",
     "evalue": "type object 'A' has no attribute '__'",
     "output_type": "error",
     "traceback": [
      "\u001b[1;31m---------------------------------------------------------------------------\u001b[0m",
      "\u001b[1;31mAttributeError\u001b[0m                            Traceback (most recent call last)",
      "Cell \u001b[1;32mIn[56], line 1\u001b[0m\n\u001b[1;32m----> 1\u001b[0m \u001b[43mA\u001b[49m\u001b[38;5;241;43m.\u001b[39;49m\u001b[43m__\u001b[49m\n",
      "\u001b[1;31mAttributeError\u001b[0m: type object 'A' has no attribute '__'"
     ]
    }
   ],
   "source": [
    "A.__"
   ]
  }
 ],
 "metadata": {
  "kernelspec": {
   "display_name": "PYTORCH_38",
   "language": "python",
   "name": "python3"
  },
  "language_info": {
   "codemirror_mode": {
    "name": "ipython",
    "version": 3
   },
   "file_extension": ".py",
   "mimetype": "text/x-python",
   "name": "python",
   "nbconvert_exporter": "python",
   "pygments_lexer": "ipython3",
   "version": "3.8.19"
  }
 },
 "nbformat": 4,
 "nbformat_minor": 2
}
