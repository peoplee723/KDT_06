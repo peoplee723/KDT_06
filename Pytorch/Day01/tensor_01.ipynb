{
 "cells": [
  {
   "cell_type": "markdown",
   "metadata": {},
   "source": [
    "#### Tensor 이해- 생성\n",
    "- Tensor란? \n",
    "    * Pytorch에서 데이터를 저장하는 객체\n",
    "    * 모델에 입력/출력 데이터 형태"
   ]
  },
  {
   "cell_type": "code",
   "execution_count": 1,
   "metadata": {},
   "outputs": [],
   "source": [
    "import torch\n",
    "# torch version= 2.4.1"
   ]
  },
  {
   "cell_type": "code",
   "execution_count": 2,
   "metadata": {},
   "outputs": [],
   "source": [
    "# Tensor 속성 정보 출력 함수\n",
    "\n",
    "def printinfo(obj, obj_name):\n",
    "    print(f'\\n[{obj_name}]')\n",
    "    print(f'shape: {obj.shape}')\n",
    "    print(f'ndim: {obj.ndim}차원')\n",
    "    print(f'dtype: {obj.dtype}')\n",
    "    print(f'device: {obj.device}')\n",
    "    print(f'data: \\n{obj.data}')"
   ]
  },
  {
   "cell_type": "markdown",
   "metadata": {},
   "source": [
    "- 텐서생성 [1] torch.tensor"
   ]
  },
  {
   "cell_type": "code",
   "execution_count": 6,
   "metadata": {},
   "outputs": [
    {
     "name": "stdout",
     "output_type": "stream",
     "text": [
      "\n",
      "[10]\n",
      "shape: torch.Size([])\n",
      "ndim: 0차원\n",
      "dtype: torch.int8\n",
      "device: cpu\n",
      "data: \n",
      "10\n",
      "\n",
      "[10]\n",
      "shape: torch.Size([])\n",
      "ndim: 0차원\n",
      "dtype: torch.int64\n",
      "device: cpu\n",
      "data: \n",
      "10\n"
     ]
    }
   ],
   "source": [
    "# 스칼라 (데이터1개)\n",
    "\n",
    "#dtype 기본=> 가장 큰 타입으로 지정됨\n",
    "dataTF=torch.tensor(10 ,dtype=torch.int8)   \n",
    "printinfo(dataTF, dataTF)\n",
    "\n",
    "dataTF=torch.tensor(10)   \n",
    "printinfo(dataTF, dataTF)"
   ]
  },
  {
   "cell_type": "code",
   "execution_count": 8,
   "metadata": {},
   "outputs": [
    {
     "name": "stdout",
     "output_type": "stream",
     "text": [
      "\n",
      "[tensor([10], dtype=torch.int8)]\n",
      "shape: torch.Size([1])\n",
      "ndim: 1차원\n",
      "dtype: torch.int8\n",
      "device: cpu\n",
      "data: \n",
      "tensor([10], dtype=torch.int8)\n",
      "\n",
      "[tensor([10])]\n",
      "shape: torch.Size([1])\n",
      "ndim: 1차원\n",
      "dtype: torch.int64\n",
      "device: cpu\n",
      "data: \n",
      "tensor([10])\n"
     ]
    }
   ],
   "source": [
    "# 벡터 (1차원)\n",
    "\n",
    "#dtype 기본=> 가장 큰 타입으로 지정됨\n",
    "dataTF=torch.tensor([10] ,dtype=torch.int8)   \n",
    "printinfo(dataTF, dataTF)\n",
    "\n",
    "dataTF=torch.tensor([10])   \n",
    "printinfo(dataTF, dataTF)"
   ]
  }
 ],
 "metadata": {
  "kernelspec": {
   "display_name": "PYTORCH_38",
   "language": "python",
   "name": "python3"
  },
  "language_info": {
   "codemirror_mode": {
    "name": "ipython",
    "version": 3
   },
   "file_extension": ".py",
   "mimetype": "text/x-python",
   "name": "python",
   "nbconvert_exporter": "python",
   "pygments_lexer": "ipython3",
   "version": "3.8.19"
  }
 },
 "nbformat": 4,
 "nbformat_minor": 2
}
