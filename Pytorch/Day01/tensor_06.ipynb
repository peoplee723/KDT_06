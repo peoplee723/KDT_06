{
 "cells": [
  {
   "cell_type": "markdown",
   "metadata": {},
   "source": [
    "#### Tensor 저장 구조 이해\n",
    "- storage 객체\n",
    "    - 텐서 객체의 메모리 저장 관련 정보 저장\n",
    "    - offset: 첫 번째 원소 인덱스\n",
    "    - stride: 원소 이동 위한 정보 저장\n",
    "        - 다음 행 이동하기 위한 메모리 칸수\n",
    "        - 다음 열 이동하기 위한 메모리 칸수\n",
    "        "
   ]
  },
  {
   "cell_type": "code",
   "execution_count": 2,
   "metadata": {},
   "outputs": [],
   "source": [
    "import torch"
   ]
  },
  {
   "cell_type": "code",
   "execution_count": 28,
   "metadata": {},
   "outputs": [
    {
     "name": "stdout",
     "output_type": "stream",
     "text": [
      "tensor([[11, 22, 33],\n",
      "        [44, 55, 66]], dtype=torch.int8) (3, 1) 2 torch.Size([2, 3]) <built-in method size of Tensor object at 0x00000256A2B2B630>\n"
     ]
    }
   ],
   "source": [
    "dataTS= torch.tensor([[11,22,33], [44,55,66]], dtype=torch.int8)\n",
    "print(dataTS, dataTS.stride(), dataTS.ndim, dataTS.shape, dataTS.size)\n"
   ]
  },
  {
   "cell_type": "code",
   "execution_count": 51,
   "metadata": {},
   "outputs": [
    {
     "name": "stdout",
     "output_type": "stream",
     "text": [
      " 11\n",
      " 22\n",
      " 33\n",
      " 44\n",
      " 55\n",
      " 66\n",
      "[torch.storage.TypedStorage(dtype=torch.int8, device=cpu) of size 6]  11\n",
      " 22\n",
      " 33\n",
      " 44\n",
      " 55\n",
      " 66\n",
      "[torch.storage.UntypedStorage(device=cpu) of size 6]\n",
      "0 3\n"
     ]
    }
   ],
   "source": [
    "# storage 정보-> 메모리에 저장된 데이터 형태 (1D)\n",
    "# deprecated-> use tensor.untyped_storage()\n",
    "print(dataTS.storage(), dataTS.untyped_storage()) #사이즈까지 알려줌\n",
    "\n",
    "# offset -> 첫번째 원소 인덱스\n",
    "print(dataTS.storage_offset(), dataTS[1:].storage_offset())"
   ]
  },
  {
   "cell_type": "code",
   "execution_count": 41,
   "metadata": {},
   "outputs": [],
   "source": [
    "mem_storage=dataTS.untyped_storage() "
   ]
  },
  {
   "cell_type": "code",
   "execution_count": 40,
   "metadata": {},
   "outputs": [
    {
     "name": "stdout",
     "output_type": "stream",
     "text": [
      "[0번째 원소] - 11: 140704073002208\n",
      "[1번째 원소] - 22: 140704073002560\n",
      "[2번째 원소] - 33: 140704073002912\n",
      "[3번째 원소] - 44: 140704073003264\n",
      "[4번째 원소] - 55: 140704073003616\n",
      "[5번째 원소] - 66: 140704073003968\n"
     ]
    }
   ],
   "source": [
    "for idx in range(6):\n",
    "    print(f'[{idx}번째 원소] - {mem_storage[idx]}: {id(mem_storage[idx])}') #주소 가지고 오기"
   ]
  },
  {
   "cell_type": "code",
   "execution_count": 35,
   "metadata": {},
   "outputs": [
    {
     "data": {
      "text/plain": [
       "2973358948608"
      ]
     },
     "execution_count": 35,
     "metadata": {},
     "output_type": "execute_result"
    }
   ],
   "source": [
    "# 실제 데이터의 시작 주소\n",
    "\n",
    "dataTS.data_ptr()"
   ]
  },
  {
   "cell_type": "code",
   "execution_count": 52,
   "metadata": {},
   "outputs": [
    {
     "data": {
      "text/plain": [
       "tensor([[11, 44],\n",
       "        [22, 55],\n",
       "        [33, 66]], dtype=torch.int8)"
      ]
     },
     "execution_count": 52,
     "metadata": {},
     "output_type": "execute_result"
    }
   ],
   "source": [
    "dataTS.T"
   ]
  },
  {
   "cell_type": "code",
   "execution_count": null,
   "metadata": {},
   "outputs": [],
   "source": []
  },
  {
   "cell_type": "code",
   "execution_count": null,
   "metadata": {},
   "outputs": [],
   "source": []
  }
 ],
 "metadata": {
  "kernelspec": {
   "display_name": "PYTORCH_38",
   "language": "python",
   "name": "python3"
  },
  "language_info": {
   "codemirror_mode": {
    "name": "ipython",
    "version": 3
   },
   "file_extension": ".py",
   "mimetype": "text/x-python",
   "name": "python",
   "nbconvert_exporter": "python",
   "pygments_lexer": "ipython3",
   "version": "3.8.19"
  }
 },
 "nbformat": 4,
 "nbformat_minor": 2
}
