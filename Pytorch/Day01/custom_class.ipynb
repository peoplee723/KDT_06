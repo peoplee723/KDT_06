{
 "cells": [
  {
   "cell_type": "markdown",
   "metadata": {},
   "source": [
    "#### 사용자 정의 클래스와 상속"
   ]
  },
  {
   "cell_type": "markdown",
   "metadata": {},
   "source": [
    "- 사용자 정의 클래스: 개발자의 필요에 의해 생성한 클래스\n"
   ]
  },
  {
   "cell_type": "code",
   "execution_count": 3,
   "metadata": {},
   "outputs": [],
   "source": [
    "# 이름: Person\n",
    "# 속성: name, age, \n"
   ]
  },
  {
   "cell_type": "code",
   "execution_count": 13,
   "metadata": {},
   "outputs": [],
   "source": [
    "class Person:\n",
    "    # 클래스 변수-> 클래스 공통 속성(메모리 낭비 방지)\n",
    "    # 클래스 변수는 바로 호출 가능\n",
    "    born='대한민국'\n",
    "    \n",
    "    \n",
    "    \n",
    "    #인스턴스를 생성해주는 매서드\n",
    "    # 인스턴스 생성지 자동 호출 (콜백메서드)\n",
    "    def __init__(self, name, age, gender) -> None: \n",
    "        self.name=name\n",
    "        self.age=age\n",
    "        self.gender=gender\n",
    "    \n",
    "    # 인스턴스 메서드\n",
    "    def eat(self, food):\n",
    "        print(f'{self.name}가 {food}를 먹는다')\n",
    "\n",
    "    def sleep(self, where):\n",
    "        print(f'{where}에서 잔다')\n",
    "\n",
    "    # 정적 메소드\n",
    "    @staticmethod\n",
    "    def test(msg):\n",
    "        print(msg)"
   ]
  },
  {
   "cell_type": "code",
   "execution_count": 14,
   "metadata": {},
   "outputs": [],
   "source": [
    "kim=Person('마징가', 32, '남')\n"
   ]
  },
  {
   "cell_type": "code",
   "execution_count": 15,
   "metadata": {},
   "outputs": [],
   "source": [
    "# 소방관 정보 저장 클래스\n",
    "# 이름: Fireman (자식/sub class)\n",
    "# 속성: name, age, gender, group, position\n",
    "# 기능: eat(), sleep(), extinguish()\n",
    "# 부모: Person (super class)"
   ]
  },
  {
   "cell_type": "code",
   "execution_count": 16,
   "metadata": {},
   "outputs": [],
   "source": [
    "class Fireman(Person): #다중상속 가능\n",
    "    def __init__(self, name, age, gender, group, position) -> None:\n",
    "        super().__init__(name, age, gender) #부모 먼저 입력!\n",
    "        self.group=group\n",
    "        self.position=position\n",
    "    # 오버라이딩: 부모 메서드 변경(구현부만 가능)\n",
    "    def eat(self, food):\n",
    "        print(f'{self.name}가 {food}를 데워 먹는다.')"
   ]
  },
  {
   "cell_type": "code",
   "execution_count": 18,
   "metadata": {},
   "outputs": [],
   "source": [
    "park=Fireman('홍길동', 30, '남', '소방관', '팀장')"
   ]
  },
  {
   "cell_type": "code",
   "execution_count": 1,
   "metadata": {},
   "outputs": [
    {
     "ename": "NameError",
     "evalue": "name 'park' is not defined",
     "output_type": "error",
     "traceback": [
      "\u001b[1;31m---------------------------------------------------------------------------\u001b[0m",
      "\u001b[1;31mNameError\u001b[0m                                 Traceback (most recent call last)",
      "Cell \u001b[1;32mIn[1], line 1\u001b[0m\n\u001b[1;32m----> 1\u001b[0m \u001b[43mpark\u001b[49m\u001b[38;5;241m.\u001b[39msleep(\u001b[38;5;124m'\u001b[39m\u001b[38;5;124m방\u001b[39m\u001b[38;5;124m'\u001b[39m)\n\u001b[0;32m      2\u001b[0m park\u001b[38;5;241m.\u001b[39meat(\u001b[38;5;124m'\u001b[39m\u001b[38;5;124m빵\u001b[39m\u001b[38;5;124m'\u001b[39m)\n",
      "\u001b[1;31mNameError\u001b[0m: name 'park' is not defined"
     ]
    }
   ],
   "source": [
    "park.sleep('방')\n",
    "park.eat('빵')"
   ]
  },
  {
   "cell_type": "code",
   "execution_count": null,
   "metadata": {},
   "outputs": [],
   "source": []
  }
 ],
 "metadata": {
  "kernelspec": {
   "display_name": "PYTORCH_38",
   "language": "python",
   "name": "python3"
  },
  "language_info": {
   "codemirror_mode": {
    "name": "ipython",
    "version": 3
   },
   "file_extension": ".py",
   "mimetype": "text/x-python",
   "name": "python",
   "nbconvert_exporter": "python",
   "pygments_lexer": "ipython3",
   "version": "3.8.19"
  }
 },
 "nbformat": 4,
 "nbformat_minor": 2
}
