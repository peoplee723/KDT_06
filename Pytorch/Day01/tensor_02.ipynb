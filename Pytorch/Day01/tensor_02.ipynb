{
 "cells": [
  {
   "cell_type": "markdown",
   "metadata": {},
   "source": [
    "#### Tensor 이해"
   ]
  },
  {
   "cell_type": "code",
   "execution_count": 1,
   "metadata": {},
   "outputs": [],
   "source": [
    "import torch"
   ]
  },
  {
   "cell_type": "markdown",
   "metadata": {},
   "source": [
    "- tensor 생성 [2]"
   ]
  },
  {
   "cell_type": "code",
   "execution_count": 8,
   "metadata": {},
   "outputs": [
    {
     "data": {
      "text/plain": [
       "(tensor([0.7576]),\n",
       " tensor([[0.2793, 0.4031]]),\n",
       " tensor([[[0.7347, 0.0293, 0.7999],\n",
       "          [0.3971, 0.7544, 0.5695]]]))"
      ]
     },
     "execution_count": 8,
     "metadata": {},
     "output_type": "execute_result"
    }
   ],
   "source": [
    "# .rand()\n",
    "# -> 0<= ~ 1< 범위의 임의의 숫자 1개 추출\n",
    "# *size -> 가변인자\n",
    "torch.manual_seed(1)\n",
    "\n",
    "dataTs1=torch.rand(1)           #1d\n",
    "dataTs2=torch.rand(1,2)         #2d\n",
    "dataT3= torch.rand(1,2,3)       #3d\n",
    "dataTs1, dataTs2, dataT3"
   ]
  },
  {
   "cell_type": "code",
   "execution_count": 10,
   "metadata": {},
   "outputs": [
    {
     "data": {
      "text/plain": [
       "(tensor([0.5773]),\n",
       " tensor([[-1.7637,  0.2264]]),\n",
       " tensor([[[-0.2355,  0.3019, -0.2770],\n",
       "          [ 0.4771, -0.1103,  0.2913]]]))"
      ]
     },
     "execution_count": 10,
     "metadata": {},
     "output_type": "execute_result"
    }
   ],
   "source": [
    "# .randn()\n",
    "\n",
    "dataTs1=torch.randn(1)           #1d\n",
    "dataTs2=torch.randn(1,2)         #2d\n",
    "dataT3= torch.randn(1,2,3)       #3d\n",
    "dataTs1, dataTs2, dataT3"
   ]
  },
  {
   "cell_type": "code",
   "execution_count": 15,
   "metadata": {},
   "outputs": [
    {
     "data": {
      "text/plain": [
       "(tensor([[2, 1, 1, 3, 1],\n",
       "         [2, 3, 4, 1, 2],\n",
       "         [4, 2, 1, 3, 1]]),\n",
       " tensor([[32, 25,  2, 36, 33, 33],\n",
       "         [13, 14,  4, 19, 36, 40],\n",
       "         [44, 15, 40, 40, 29,  1],\n",
       "         [19, 35, 42,  1, 36, 24]]))"
      ]
     },
     "execution_count": 15,
     "metadata": {},
     "output_type": "execute_result"
    }
   ],
   "source": [
    "# .randint()\n",
    "\n",
    "data_ts=torch.randint(1,5,(3,5))\n",
    "data_ts1= torch.randint(1,46,(4,6))\n",
    "data_ts, data_ts1"
   ]
  },
  {
   "cell_type": "code",
   "execution_count": null,
   "metadata": {},
   "outputs": [],
   "source": [
    "# .OOOtensor()\n",
    "# - 특정 타입으로 tensor 생성"
   ]
  }
 ],
 "metadata": {
  "kernelspec": {
   "display_name": "PYTORCH_38",
   "language": "python",
   "name": "python3"
  },
  "language_info": {
   "codemirror_mode": {
    "name": "ipython",
    "version": 3
   },
   "file_extension": ".py",
   "mimetype": "text/x-python",
   "name": "python",
   "nbconvert_exporter": "python",
   "pygments_lexer": "ipython3",
   "version": "3.8.19"
  }
 },
 "nbformat": 4,
 "nbformat_minor": 2
}
