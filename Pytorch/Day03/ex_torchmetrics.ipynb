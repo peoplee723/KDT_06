{
 "cells": [
  {
   "cell_type": "markdown",
   "metadata": {},
   "source": [
    "#### Torchmetrics 패키지\n",
    "- pytorch에서 모델 성능평가 기능 제공 패키지\n",
    "- 추가설치 필요\n",
    "    * pip: pip install torchmetrics\n",
    "    * conda: conda install -c conda-forge torchmetrics\n",
    "- 사용법\n",
    "    - 클래스 방식: 인스턴스 생성 후 사용\n",
    "    - 함수 방식: 바로 사용"
   ]
  },
  {
   "cell_type": "markdown",
   "metadata": {},
   "source": [
    "[1] 회귀 성능지표"
   ]
  },
  {
   "cell_type": "code",
   "execution_count": 26,
   "metadata": {},
   "outputs": [],
   "source": [
    "from torchmetrics.functional.regression import r2_score  #함수\n",
    "from torchmetrics.regression import R2Score              #클래스\n",
    "import torch"
   ]
  },
  {
   "cell_type": "code",
   "execution_count": 27,
   "metadata": {},
   "outputs": [
    {
     "data": {
      "text/plain": [
       "tensor(0.9486)"
      ]
     },
     "execution_count": 27,
     "metadata": {},
     "output_type": "execute_result"
    }
   ],
   "source": [
    "# 클래스 방식\n",
    "target= torch.tensor([3,-0.5,2,7])\n",
    "pred= torch.tensor([2.5,0,2,8])\n",
    "\n",
    "\n",
    "R2Score()(pred, target)   #-> 일회성으로도 사용 가능"
   ]
  },
  {
   "cell_type": "code",
   "execution_count": 28,
   "metadata": {},
   "outputs": [],
   "source": [
    "from torchmetrics.functional.regression import r2_score, mean_squared_error, mean_absolute_error\n",
    "from torchmetrics.regression import R2Score, MeanSquaredError, MeanAbsoluteError"
   ]
  },
  {
   "cell_type": "code",
   "execution_count": 29,
   "metadata": {},
   "outputs": [
    {
     "data": {
      "text/plain": [
       "tensor(0.8750)"
      ]
     },
     "execution_count": 29,
     "metadata": {},
     "output_type": "execute_result"
    }
   ],
   "source": [
    "# 함수 방식\n",
    "\n",
    "# 데이터\n",
    "target= torch.tensor([2.5,5.0,4.0,8.0])\n",
    "pred= torch.tensor([3.0,5.0,2.5,7.0])\n",
    "\n",
    "# 오차 계산\n",
    "mean_squared_error(target, pred) #-> 0에 가까울 수록 좋은 모델"
   ]
  },
  {
   "cell_type": "markdown",
   "metadata": {},
   "source": [
    "- 분류(Classification) 성능평가지표\n",
    "    - Accuracy\n",
    "    - Precision\n",
    "    - Recall\n",
    "    - F1-score\n",
    "    - ConfusionMatrix\n",
    "    - Roc-Auc => 의료분야 / 2진분류"
   ]
  },
  {
   "cell_type": "code",
   "execution_count": 30,
   "metadata": {},
   "outputs": [],
   "source": [
    "from torchmetrics.functional.classification import precision, recall, f1_score, confusion_matrix, accuracy, roc, auroc\n",
    "from torchmetrics.classification import Precision, F1Score, Recall, ConfusionMatrix, Accuracy\n",
    "from torchmetrics.classification import BinaryF1Score, BinaryPrecision, ConfusionMatrix"
   ]
  },
  {
   "cell_type": "code",
   "execution_count": 61,
   "metadata": {},
   "outputs": [
    {
     "name": "stdout",
     "output_type": "stream",
     "text": [
      "tensor(0.8571)\n"
     ]
    },
    {
     "data": {
      "image/png": "[encoded data removed]",
      "text/plain": [
       "<Figure size 640x480 with 1 Axes>"
      ]
     },
     "metadata": {},
     "output_type": "display_data"
    }
   ],
   "source": [
    "# 이진 분류 (task=binary)\n",
    "target = torch.tensor([0, 1, 1, 0, 1, 1])\n",
    "preds = torch.tensor([0, 1, 1, 0, 0, 1])\n",
    "f1= F1Score(task=\"binary\")\n",
    "print(f1(preds, target))\n",
    "\n",
    "pb=Precision(task='binary', threshold=0.5) #임계값 조정 가능\n",
    "pb(preds, target)\n",
    "\n",
    "confusion_matrix(preds, target, task='binary')\n",
    "metric= ConfusionMatrix(task='binary')\n",
    "metric.update(preds, target)\n",
    "fig, ax= metric.plot()"
   ]
  },
  {
   "cell_type": "code",
   "execution_count": 56,
   "metadata": {},
   "outputs": [
    {
     "name": "stdout",
     "output_type": "stream",
     "text": [
      "tensor(0.3333)\n",
      "tensor(0.2667)\n"
     ]
    },
    {
     "data": {
      "text/plain": [
       "tensor(0.3333)"
      ]
     },
     "execution_count": 56,
     "metadata": {},
     "output_type": "execute_result"
    }
   ],
   "source": [
    "from torchmetrics.classification import MulticlassF1Score\n",
    "# 다중 분류 (task=multiclass)---> 무조건 num_classes(클래스 개수) 입력해야함!!\n",
    "target = torch.tensor([0, 1, 2, 0, 1, 2])\n",
    "preds = torch.tensor([0, 2, 1, 0, 0, 1])\n",
    "\n",
    "# average='micro' (평균내는 방식의 차이-> 전체 합계 통계)->\n",
    "f1= F1Score(task='multiclass', num_classes=3, average='micro')\n",
    "print(f1(preds, target))\n",
    "\n",
    "# average='macro' (평균내는 방식의 차이-> 클래스별 합계 통계) -> 불균형 클래스일때\n",
    "f1= F1Score(task='multiclass', num_classes=3, average='macro')\n",
    "print(f1(preds, target))\n",
    "\n",
    "pb=Precision(task='multiclass', threshold=0.1, num_classes=3)\n",
    "pb(preds, target)"
   ]
  },
  {
   "cell_type": "code",
   "execution_count": 4,
   "metadata": {},
   "outputs": [
    {
     "data": {
      "text/plain": [
       "[1, 2, 3, 4, 5]"
      ]
     },
     "execution_count": 4,
     "metadata": {},
     "output_type": "execute_result"
    }
   ],
   "source": [
    "from func import Torch_preccesing\n",
    "TS= Torch_preccesing('data')\n",
    "\n",
    "TS.pred= [1,2,3,4,5]\n",
    "TS.pred\n"
   ]
  }
 ],
 "metadata": {
  "kernelspec": {
   "display_name": "PYTORCH_38",
   "language": "python",
   "name": "python3"
  },
  "language_info": {
   "codemirror_mode": {
    "name": "ipython",
    "version": 3
   },
   "file_extension": ".py",
   "mimetype": "text/x-python",
   "name": "python",
   "nbconvert_exporter": "python",
   "pygments_lexer": "ipython3",
   "version": "3.8.19"
  }
 },
 "nbformat": 4,
 "nbformat_minor": 2
}
