{
 "cells": [
  {
   "cell_type": "code",
   "execution_count": 57,
   "metadata": {},
   "outputs": [],
   "source": [
    "import pandas as pd\n",
    "import matplotlib.pyplot as plt\n",
    "from sklearn.preprocessing import LabelEncoder, StandardScaler\n",
    "from sklearn.model_selection import train_test_split\n",
    "\n",
    "import torch\n",
    "import torch.nn as nn\n",
    "import torch.nn.functional as F\n",
    "import torch.optim as optim\n",
    "from torch.utils.data import Dataset, DataLoader\n",
    "from torchinfo import summary"
   ]
  },
  {
   "cell_type": "code",
   "execution_count": 58,
   "metadata": {},
   "outputs": [
    {
     "name": "stdout",
     "output_type": "stream",
     "text": [
      "DEVICE : cpu\n"
     ]
    },
    {
     "data": {
      "text/html": [
       "<div>\n",
       "<style scoped>\n",
       "    .dataframe tbody tr th:only-of-type {\n",
       "        vertical-align: middle;\n",
       "    }\n",
       "\n",
       "    .dataframe tbody tr th {\n",
       "        vertical-align: top;\n",
       "    }\n",
       "\n",
       "    .dataframe thead th {\n",
       "        text-align: right;\n",
       "    }\n",
       "</style>\n",
       "<table border=\"1\" class=\"dataframe\">\n",
       "  <thead>\n",
       "    <tr style=\"text-align: right;\">\n",
       "      <th></th>\n",
       "      <th>sepal.length</th>\n",
       "      <th>sepal.width</th>\n",
       "      <th>petal.length</th>\n",
       "      <th>petal.width</th>\n",
       "      <th>variety</th>\n",
       "    </tr>\n",
       "  </thead>\n",
       "  <tbody>\n",
       "    <tr>\n",
       "      <th>0</th>\n",
       "      <td>5.1</td>\n",
       "      <td>3.5</td>\n",
       "      <td>1.4</td>\n",
       "      <td>0.2</td>\n",
       "      <td>Setosa</td>\n",
       "    </tr>\n",
       "    <tr>\n",
       "      <th>1</th>\n",
       "      <td>4.9</td>\n",
       "      <td>3.0</td>\n",
       "      <td>1.4</td>\n",
       "      <td>0.2</td>\n",
       "      <td>Setosa</td>\n",
       "    </tr>\n",
       "  </tbody>\n",
       "</table>\n",
       "</div>"
      ],
      "text/plain": [
       "   sepal.length  sepal.width  petal.length  petal.width variety\n",
       "0           5.1          3.5           1.4          0.2  Setosa\n",
       "1           4.9          3.0           1.4          0.2  Setosa"
      ]
     },
     "execution_count": 58,
     "metadata": {},
     "output_type": "execute_result"
    }
   ],
   "source": [
    "torch.manual_seed(1) # 시드 설정\n",
    "\n",
    "DEVICE = 'cuda' if torch.cuda.is_available() else 'cpu'\n",
    "print(f'DEVICE : {DEVICE}')\n",
    "\n",
    "DATA_FILE = '../../../Data/iris.csv'\n",
    "\n",
    "irisDF = pd.read_csv(DATA_FILE)\n",
    "irisDF.head(2)"
   ]
  },
  {
   "cell_type": "code",
   "execution_count": 59,
   "metadata": {},
   "outputs": [
    {
     "name": "stdout",
     "output_type": "stream",
     "text": [
      "<class 'pandas.core.frame.DataFrame'>\n",
      "RangeIndex: 150 entries, 0 to 149\n",
      "Data columns (total 5 columns):\n",
      " #   Column        Non-Null Count  Dtype  \n",
      "---  ------        --------------  -----  \n",
      " 0   sepal.length  150 non-null    float64\n",
      " 1   sepal.width   150 non-null    float64\n",
      " 2   petal.length  150 non-null    float64\n",
      " 3   petal.width   150 non-null    float64\n",
      " 4   variety       150 non-null    object \n",
      "dtypes: float64(4), object(1)\n",
      "memory usage: 6.0+ KB\n"
     ]
    }
   ],
   "source": [
    "# 데이터 정보 확인\n",
    "irisDF.info()"
   ]
  },
  {
   "cell_type": "code",
   "execution_count": 60,
   "metadata": {},
   "outputs": [
    {
     "data": {
      "text/plain": [
       "sepal.length    0\n",
       "sepal.width     0\n",
       "petal.length    0\n",
       "petal.width     0\n",
       "variety         0\n",
       "dtype: int64"
      ]
     },
     "execution_count": 60,
     "metadata": {},
     "output_type": "execute_result"
    }
   ],
   "source": [
    "# 데이터 결측값 확인\n",
    "irisDF.isna().sum()"
   ]
  },
  {
   "cell_type": "code",
   "execution_count": 61,
   "metadata": {},
   "outputs": [
    {
     "data": {
      "image/png": "[encoded data removed]",
      "text/plain": [
       "<Figure size 1300x500 with 1 Axes>"
      ]
     },
     "metadata": {},
     "output_type": "display_data"
    }
   ],
   "source": [
    "# 데이터 이상치 확인\n",
    "plt.figure(figsize = (13, 5))\n",
    "plt.boxplot(irisDF.iloc[:,:-1])\n",
    "plt.title('iris dataset boxplot')\n",
    "plt.ylabel('cm')\n",
    "plt.xticks(range(1,5),irisDF.columns[:-1])\n",
    "plt.show()"
   ]
  },
  {
   "cell_type": "code",
   "execution_count": 62,
   "metadata": {},
   "outputs": [],
   "source": [
    "# 피쳐 타겟 분리\n",
    "featureDF = irisDF.iloc[:,:-1]\n",
    "targetDF = irisDF.iloc[:,-1]\n",
    "\n",
    "# 타겟 라벨 인코딩\n",
    "encoder = LabelEncoder()\n",
    "encoder.fit(targetDF)\n",
    "targetDF = pd.DataFrame(encoder.transform(targetDF), columns = ['variety'])"
   ]
  },
  {
   "cell_type": "code",
   "execution_count": 63,
   "metadata": {},
   "outputs": [
    {
     "name": "stdout",
     "output_type": "stream",
     "text": [
      "X_train : (120, 4), y_train : (120, 1)\n",
      "X_test : (30, 4), y_test : (30, 1)\n"
     ]
    }
   ],
   "source": [
    "# 훈련 테스트 분리\n",
    "X_train, X_test, y_train, y_test = train_test_split(featureDF, targetDF, stratify=targetDF,\n",
    "                                                    train_size = 0.8, random_state=42)\n",
    "\n",
    "print(f'X_train : {X_train.shape}, y_train : {y_train.shape}')\n",
    "print(f'X_test : {X_test.shape}, y_test : {y_test.shape}')"
   ]
  },
  {
   "cell_type": "code",
   "execution_count": 64,
   "metadata": {},
   "outputs": [
    {
     "data": {
      "text/html": [
       "<div>\n",
       "<style scoped>\n",
       "    .dataframe tbody tr th:only-of-type {\n",
       "        vertical-align: middle;\n",
       "    }\n",
       "\n",
       "    .dataframe tbody tr th {\n",
       "        vertical-align: top;\n",
       "    }\n",
       "\n",
       "    .dataframe thead th {\n",
       "        text-align: right;\n",
       "    }\n",
       "</style>\n",
       "<table border=\"1\" class=\"dataframe\">\n",
       "  <thead>\n",
       "    <tr style=\"text-align: right;\">\n",
       "      <th></th>\n",
       "      <th>sepal.length</th>\n",
       "      <th>sepal.width</th>\n",
       "      <th>petal.length</th>\n",
       "      <th>petal.width</th>\n",
       "    </tr>\n",
       "  </thead>\n",
       "  <tbody>\n",
       "    <tr>\n",
       "      <th>0</th>\n",
       "      <td>-1.721568</td>\n",
       "      <td>-0.332101</td>\n",
       "      <td>-1.345722</td>\n",
       "      <td>-1.323276</td>\n",
       "    </tr>\n",
       "    <tr>\n",
       "      <th>1</th>\n",
       "      <td>-1.124492</td>\n",
       "      <td>-1.227655</td>\n",
       "      <td>0.414505</td>\n",
       "      <td>0.651763</td>\n",
       "    </tr>\n",
       "  </tbody>\n",
       "</table>\n",
       "</div>"
      ],
      "text/plain": [
       "   sepal.length  sepal.width  petal.length  petal.width\n",
       "0     -1.721568    -0.332101     -1.345722    -1.323276\n",
       "1     -1.124492    -1.227655      0.414505     0.651763"
      ]
     },
     "execution_count": 64,
     "metadata": {},
     "output_type": "execute_result"
    }
   ],
   "source": [
    "# 피쳐 정규화\n",
    "ss = StandardScaler()\n",
    "ss.fit(X_train)\n",
    "X_train_scaled = pd.DataFrame(ss.transform(X_train), columns=X_train.columns)\n",
    "X_test_scaled = pd.DataFrame(ss.transform(X_test), columns=X_test.columns)\n",
    "X_train_scaled.head(2)"
   ]
  },
  {
   "cell_type": "code",
   "execution_count": 65,
   "metadata": {},
   "outputs": [
    {
     "name": "stdout",
     "output_type": "stream",
     "text": [
      "[train] row : 120, feature : 4\n",
      "[test] row : 30, feature : 4\n"
     ]
    }
   ],
   "source": [
    "# 데이터셋 생성\n",
    "from DataSet import CustomDataset\n",
    "\n",
    "train_irisDS = CustomDataset(X_train_scaled, y_train)\n",
    "test_irisDS = CustomDataset(X_test_scaled, y_test)\n",
    "\n",
    "# 데이터셋 속성\n",
    "print(f'[train] row : {train_irisDS.n_rows}, feature : {train_irisDS.n_features}')\n",
    "print(f'[test] row : {test_irisDS.n_rows}, feature : {test_irisDS.n_features}')\n",
    "\n",
    "# 데이터로더 인스턴스 생성 (지정한 배치사이즈 만큼 데이터셋에서 꺼내옴)\n",
    "train_irisDL = DataLoader(train_irisDS, batch_size=10) # batch_size 기본값 : 1\n",
    "test_irisDL = DataLoader(test_irisDS, batch_size=10)"
   ]
  },
  {
   "cell_type": "code",
   "execution_count": 66,
   "metadata": {},
   "outputs": [
    {
     "name": "stdout",
     "output_type": "stream",
     "text": [
      "DeepModel(\n",
      "  (input_layer): Linear(in_features=4, out_features=30, bias=True)\n",
      "  (hidden_layer_list): ModuleList(\n",
      "    (0): Linear(in_features=30, out_features=50, bias=True)\n",
      "    (1): Linear(in_features=50, out_features=70, bias=True)\n",
      "  )\n",
      "  (output_layer): Linear(in_features=70, out_features=3, bias=True)\n",
      ")\n"
     ]
    },
    {
     "data": {
      "text/plain": [
       "=================================================================\n",
       "Layer (type:depth-idx)                   Param #\n",
       "=================================================================\n",
       "DeepModel                                --\n",
       "├─Linear: 1-1                            150\n",
       "├─ModuleList: 1-2                        --\n",
       "│    └─Linear: 2-1                       1,550\n",
       "│    └─Linear: 2-2                       3,570\n",
       "├─Linear: 1-3                            213\n",
       "=================================================================\n",
       "Total params: 5,483\n",
       "Trainable params: 5,483\n",
       "Non-trainable params: 0\n",
       "================================================================="
      ]
     },
     "execution_count": 66,
     "metadata": {},
     "output_type": "execute_result"
    }
   ],
   "source": [
    "# 모델 인스턴스 생성\n",
    "from CustomModel import DeepModel\n",
    "\n",
    "model = DeepModel(input_in=4, output_out=3, hidden_list=[30, 50, 70],\n",
    "                  act_func=F.relu, is_reg=False, is_bin=False)\n",
    "print(model)\n",
    "summary(model)"
   ]
  },
  {
   "cell_type": "code",
   "execution_count": 67,
   "metadata": {},
   "outputs": [
    {
     "name": "stdout",
     "output_type": "stream",
     "text": [
      "tensor([[-1.7216, -0.3321, -1.3457, -1.3233],\n",
      "        [-1.1245, -1.2277,  0.4145,  0.6518],\n",
      "        [ 1.1444, -0.5560,  0.5848,  0.2568],\n",
      "        [-1.1245,  0.1157, -1.2889, -1.4549],\n",
      "        [-0.4080, -1.2277,  0.1306,  0.1251],\n",
      "        [ 0.5473, -1.2277,  0.6984,  0.9151],\n",
      "        [-0.2886, -0.7799,  0.2442,  0.1251],\n",
      "        [ 0.5473, -0.5560,  0.7552,  0.3884],\n",
      "        [ 2.2191, -0.1082,  1.3230,  1.4418],\n",
      "        [ 2.2191,  1.6829,  1.6637,  1.3101]])\n",
      "tensor([[0.],\n",
      "        [2.],\n",
      "        [1.],\n",
      "        [0.],\n",
      "        [1.],\n",
      "        [2.],\n",
      "        [1.],\n",
      "        [2.],\n",
      "        [2.],\n",
      "        [2.]])\n"
     ]
    }
   ],
   "source": [
    "for feature, target in train_irisDL:\n",
    "    print(feature, target, sep='\\n')\n",
    "    break"
   ]
  },
  {
   "cell_type": "code",
   "execution_count": 68,
   "metadata": {},
   "outputs": [],
   "source": [
    "# 옵티마이저 (모델의 가중치와 절편 최적화)\n",
    "adam_optim = optim.Adam(model.parameters(), lr=0.0001)\n",
    "# 가중치, 절편을 전달하고 학습률을 설정"
   ]
  },
  {
   "cell_type": "code",
   "execution_count": 69,
   "metadata": {},
   "outputs": [
    {
     "name": "stdout",
     "output_type": "stream",
     "text": [
      "[Train : 10/300] Loss : 1.0014903247356415\n",
      "[Test  : 10/300] Loss : 0.998203972975413\n",
      "[Train : 20/300] Loss : 0.8210981537898382\n",
      "[Test  : 20/300] Loss : 0.820135215918223\n",
      "[Train : 30/300] Loss : 0.5988548174500465\n",
      "[Test  : 30/300] Loss : 0.605815052986145\n",
      "[Train : 40/300] Loss : 0.44177092363437015\n",
      "[Test  : 40/300] Loss : 0.4625593026479085\n",
      "[Train : 50/300] Loss : 0.344608540336291\n",
      "[Test  : 50/300] Loss : 0.37626763184865314\n",
      "[Train : 60/300] Loss : 0.2788636175294717\n",
      "[Test  : 60/300] Loss : 0.3169928987820943\n",
      "[Train : 70/300] Loss : 0.23073776563008627\n",
      "[Test  : 70/300] Loss : 0.2724187175432841\n",
      "[Train : 80/300] Loss : 0.19255246532460055\n",
      "[Test  : 80/300] Loss : 0.23342899481455484\n",
      "[Train : 90/300] Loss : 0.1601774152368307\n",
      "[Test  : 90/300] Loss : 0.19799799720446268\n",
      "[Train : 100/300] Loss : 0.13330339702467123\n",
      "[Test  : 100/300] Loss : 0.1675696223974228\n",
      "[Train : 110/300] Loss : 0.1125570268680652\n",
      "[Test  : 110/300] Loss : 0.14414954433838525\n",
      "[Train : 120/300] Loss : 0.09686410923798879\n",
      "[Test  : 120/300] Loss : 0.1257054085532824\n",
      "[Train : 130/300] Loss : 0.08501902812470992\n",
      "[Test  : 130/300] Loss : 0.1112632838388284\n",
      "[Train : 140/300] Loss : 0.07610207578788201\n",
      "[Test  : 140/300] Loss : 0.10006848350167274\n",
      "[Train : 150/300] Loss : 0.06915340106934309\n",
      "[Test  : 150/300] Loss : 0.09140822539726894\n",
      "[Train : 160/300] Loss : 0.0637453394010663\n",
      "[Test  : 160/300] Loss : 0.08485060681899388\n",
      "[Train : 170/300] Loss : 0.05921479493069152\n",
      "[Test  : 170/300] Loss : 0.08000138898690541\n",
      "[Train : 180/300] Loss : 0.05563984648324549\n",
      "[Test  : 180/300] Loss : 0.07627494757374127\n",
      "[Train : 190/300] Loss : 0.052614177111536264\n",
      "[Test  : 190/300] Loss : 0.07340090721845627\n",
      "[Train : 200/300] Loss : 0.0500106254282097\n",
      "[Test  : 200/300] Loss : 0.07123405734697978\n",
      "[Train : 210/300] Loss : 0.047841468593105674\n",
      "[Test  : 210/300] Loss : 0.06925617655118306\n",
      "[Train : 220/300] Loss : 0.04587722255382687\n",
      "[Test  : 220/300] Loss : 0.06783443192640941\n",
      "[Train : 230/300] Loss : 0.04418523679487407\n",
      "[Test  : 230/300] Loss : 0.06658079847693443\n",
      "[Train : 240/300] Loss : 0.042690977725821234\n",
      "[Test  : 240/300] Loss : 0.06548093507687251\n",
      "[Train : 250/300] Loss : 0.04134877899195999\n",
      "[Test  : 250/300] Loss : 0.06461860239505768\n",
      "[Train : 260/300] Loss : 0.040124104047815\n",
      "[Test  : 260/300] Loss : 0.06403268997867902\n",
      "[Train : 270/300] Loss : 0.038709245660963155\n",
      "[Test  : 270/300] Loss : 0.0641732042034467\n",
      "[Train : 280/300] Loss : 0.03751323895994574\n",
      "[Test  : 280/300] Loss : 0.06405203541119893\n",
      "[Train : 290/300] Loss : 0.03650099570707729\n",
      "[Test  : 290/300] Loss : 0.06395099560419719\n",
      "[Train : 300/300] Loss : 0.03555174241773784\n",
      "[Test  : 300/300] Loss : 0.06400895739595096\n"
     ]
    }
   ],
   "source": [
    "# 모델 훈련\n",
    "from TorchTrainTest import training, testing\n",
    "EPOCH=300\n",
    "result = training(train_irisDL, test_irisDL, model, adam_optim,\n",
    "                  epoch=EPOCH, is_reg=False, is_bin=False)"
   ]
  },
  {
   "cell_type": "code",
   "execution_count": 70,
   "metadata": {},
   "outputs": [
    {
     "data": {
      "image/png": "[encoded data removed]",
      "text/plain": [
       "<Figure size 640x480 with 1 Axes>"
      ]
     },
     "metadata": {},
     "output_type": "display_data"
    }
   ],
   "source": [
    "plt.plot(range(1, EPOCH+1), result[0], label = 'Train')\n",
    "plt.plot(range(1, EPOCH+1), result[1], label = 'Valid')\n",
    "plt.title('Train & Valid')\n",
    "plt.xlabel('EPOCH')\n",
    "plt.ylabel('Loss')\n",
    "plt.legend()\n",
    "plt.show()"
   ]
  },
  {
   "cell_type": "markdown",
   "metadata": {},
   "source": [
    "> 학습률 : 0.0001, 에포크 : 300일때 좋은 성능을 보이는 것으로 판단됨"
   ]
  }
 ],
 "metadata": {
  "kernelspec": {
   "display_name": "TORCH_38",
   "language": "python",
   "name": "python3"
  },
  "language_info": {
   "codemirror_mode": {
    "name": "ipython",
    "version": 3
   },
   "file_extension": ".py",
   "mimetype": "text/x-python",
   "name": "python",
   "nbconvert_exporter": "python",
   "pygments_lexer": "ipython3",
   "version": "3.8.19"
  }
 },
 "nbformat": 4,
 "nbformat_minor": 2
}
