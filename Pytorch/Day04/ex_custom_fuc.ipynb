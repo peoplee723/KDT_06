{
 "cells": [
  {
   "cell_type": "markdown",
   "metadata": {},
   "source": [
    "#### 사용자 정의 함수 "
   ]
  },
  {
   "cell_type": "markdown",
   "metadata": {},
   "source": [
    "----\n",
    "- 함수기능: 모델 학습 진행 함수\n",
    "- 함수이름: training\n",
    "- 매개변수: 함수 구동시 필요한 재료\n",
    "            - 모델 인스턴스\n",
    "            - 학습데이터셋: 피쳐와 타겟(학습전 Tensor화)  \n",
    "            - 손실함수 인스턴스  \n",
    "            - 최적화 인스턴스  \n",
    "            - 학습횟수: EPOCH  \n",
    "            - 배치크기: BATH_SIZE  \n",
    "            - 배치개수: BATCH_CNT, BATCH_ITER  \n",
    "            - 검증용 데이터셋: 피쳐와 타겟 (검증전 Tensor화)  \n",
    "- 함수결과: 학습시 오포크당 손실값과 성능지표값\n",
    "----"
   ]
  },
  {
   "cell_type": "markdown",
   "metadata": {},
   "source": [
    "---\n",
    "- 함수기능: 모델 학습 진행 함수\n",
    "- 함수이름: epochTraining\n",
    "- 매개변수: 학습을 위한 재료들\n",
    "            - 모델 인스턴스\n",
    "            - 학습용 데이터셋(피쳐, 타겟)\n",
    "            - 손실함수 인스턴스\n",
    "            - 최적화 인스턴스\n",
    "            - 배치크기\n",
    "            - 배치개수\n",
    "- 함수결과: 손실값과 성능지표값\n",
    "---"
   ]
  },
  {
   "cell_type": "code",
   "execution_count": 2,
   "metadata": {},
   "outputs": [],
   "source": [
    "# 모듈 로딩\n",
    "import torch\n",
    "import torch.nn as nn\n",
    "import torch.nn.functional as F\n",
    "import torch.optim as optim\n",
    "from torchmetrics.regression import R2Score\n",
    "from torchmetrics.classification import F1Score\n",
    "\n",
    "# 전역변수 (텐서 저장 및 실행 위치)\n",
    "DEVICE= 'cuda' if torch.cuda.is_available() else 'cpu'\n"
   ]
  },
  {
   "cell_type": "code",
   "execution_count": null,
   "metadata": {},
   "outputs": [],
   "source": []
  },
  {
   "cell_type": "code",
   "execution_count": 3,
   "metadata": {},
   "outputs": [],
   "source": [
    "# 검증 및 테스트 진행 후 손실값과 성능지표 반환\n",
    "def epochTesting(model, feature, target, lossFunc, scoreFunc):\n",
    "    loss_total, score_total=0, 0\n",
    "\n",
    "    # 최적화 기능 비활성화 후 데이터셋 추출 후 학습 진행\n",
    "    with torch.no_grad():\n",
    "        # 데이터셋 추출 및 텐서화\n",
    "\n",
    "        X_val=torch.FloatTensor(feature.values).to(DEVICE)\n",
    "        Y_val=torch.FloatTensor(target.values).reshape(-1,1).to(DEVICE)\n",
    "\n",
    "        # 학습 진행\n",
    "        pre_y=model(X_val).to(DEVICE)\n",
    "\n",
    "        # 손실계산\n",
    "        loss=lossFunc(pre_y, Y_val)\n",
    "        \n",
    "        \n",
    "        # 점수 추출\n",
    "        score= scoreFunc(pre_y, Y_val)\n",
    "        \n",
    "\n",
    "    # 에포크당 손실과 성능지표값 반환 \n",
    "    # 테스트 및 검증 함수 사용\n",
    "    return loss, score"
   ]
  },
  {
   "cell_type": "code",
   "execution_count": null,
   "metadata": {},
   "outputs": [],
   "source": [
    "# 에포크 당 학습 진행 후 손실값과 성능지표값 반환 함수\n",
    "def epochTraining(model, feature, target, lossFunc, optimizer, batch_count, is_regression=True, batch_size=32):\n",
    "    loss_total, score_total=0, 0\n",
    "\n",
    "    # 에포크에서 배치크기만큼 데이터셋 추출 후 학습 진행\n",
    "    for batch in range(batch_count):\n",
    "        # 데이터셋 추출 및 텐서화\n",
    "        start=batch*batch_size\n",
    "        end= start+batch_size\n",
    "\n",
    "        X_train=torch.FloatTensor(feature[start:end].values).to(DEVICE)\n",
    "        Y_train=torch.FloatTensor(target[start:end].values).reshape(-1,1).to(DEVICE)\n",
    "\n",
    "        # 학습 진행\n",
    "        pre_y=model(X_train)\n",
    "\n",
    "        # 손실계산\n",
    "        loss=lossFunc(pre_y, Y_train)\n",
    "        loss_total+=loss\n",
    "        \n",
    "        # 점수 추출\n",
    "        score= R2Score()(pre_y, Y_train) if is_regression else F1Score()(pre_y, Y_train)\n",
    "        score_total+= score\n",
    "\n",
    "        # 최적화 : weight, bias 업데이트\n",
    "        optimizer.zerograd()\n",
    "        loss.backward()\n",
    "        optimizer.step()\n",
    "    # 에포크당 손실과 성능지표값 반환 \n",
    "    # 테스트 및 검증 함수 사용\n",
    "    return loss_total/batch_count, 0"
   ]
  },
  {
   "cell_type": "code",
   "execution_count": 5,
   "metadata": {},
   "outputs": [
    {
     "ename": "TypeError",
     "evalue": "epochTraining() missing 6 required positional arguments: 'model', 'feature', 'target', 'lossFunc', 'optimizer', and 'batch_count'",
     "output_type": "error",
     "traceback": [
      "\u001b[1;31m---------------------------------------------------------------------------\u001b[0m",
      "\u001b[1;31mTypeError\u001b[0m                                 Traceback (most recent call last)",
      "Cell \u001b[1;32mIn[5], line 6\u001b[0m\n\u001b[0;32m      3\u001b[0m TV_loss\u001b[38;5;241m=\u001b[39m{\u001b[38;5;124m'\u001b[39m\u001b[38;5;124mTrain\u001b[39m\u001b[38;5;124m'\u001b[39m:[], \u001b[38;5;124m'\u001b[39m\u001b[38;5;124mVal\u001b[39m\u001b[38;5;124m'\u001b[39m:[]}\n\u001b[0;32m      4\u001b[0m \u001b[38;5;28;01mfor\u001b[39;00m epoch \u001b[38;5;129;01min\u001b[39;00m \u001b[38;5;28mrange\u001b[39m(EPOCH):\n\u001b[0;32m      5\u001b[0m     \u001b[38;5;66;03m# 학습진행\u001b[39;00m\n\u001b[1;32m----> 6\u001b[0m     train_loss, train_score\u001b[38;5;241m=\u001b[39m\u001b[43mepochTraining\u001b[49m\u001b[43m(\u001b[49m\u001b[43m)\u001b[49m\n\u001b[0;32m      7\u001b[0m     \u001b[38;5;66;03m# 검증진행\u001b[39;00m\n\u001b[0;32m      8\u001b[0m     val_loss, val_score\u001b[38;5;241m=\u001b[39mepochTesting()\n",
      "\u001b[1;31mTypeError\u001b[0m: epochTraining() missing 6 required positional arguments: 'model', 'feature', 'target', 'lossFunc', 'optimizer', and 'batch_count'"
     ]
    }
   ],
   "source": [
    "# 학습 진행\n",
    "EPOCH=10\n",
    "TV_loss={'Train':[], 'Val':[]}\n",
    "for epoch in range(EPOCH):\n",
    "    # 학습진행\n",
    "    train_loss, train_score=epochTraining()\n",
    "    # 검증진행\n",
    "    val_loss, val_score=epochTesting()\n",
    "\n",
    "    # 에포크당 학습 및 검증 결과 저장\n",
    "    TV_loss['Train'].append(train_loss)\n",
    "    TV_loss['Train'].append(train_score)\n",
    "\n",
    "    TV_loss['Val'].append(val_loss)\n",
    "    TV_loss['Val'].append(val_score)\n",
    "\n",
    "    # 에포크당 학습 및 검증 결과 출력\n",
    "    print(f'[{epoch}/{EPOCH}]\\n[Train]\\nloss: {train_loss}, Score: {train_score}\\n\\\n",
    "[Val]\\nloss: {val_loss}, score: {val_score}')"
   ]
  }
 ],
 "metadata": {
  "kernelspec": {
   "display_name": "PYTORCH_38",
   "language": "python",
   "name": "python3"
  },
  "language_info": {
   "codemirror_mode": {
    "name": "ipython",
    "version": 3
   },
   "file_extension": ".py",
   "mimetype": "text/x-python",
   "name": "python",
   "nbconvert_exporter": "python",
   "pygments_lexer": "ipython3",
   "version": "3.8.19"
  }
 },
 "nbformat": 4,
 "nbformat_minor": 2
}
