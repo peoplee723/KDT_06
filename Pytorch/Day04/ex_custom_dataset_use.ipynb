{
 "cells": [
  {
   "cell_type": "markdown",
   "metadata": {},
   "source": [
    "#### 사용자 정의 데이터셋과 모델 & 학습\n",
    "- 사용자 정의 데이터셋: iris.csv\n",
    "- DNN 모델: 사용자 정의 모델\n",
    "- DataSet과 DataLoader\n",
    "    - DataSet=> 데이터 전처리, 턴서화 등의 작업 진행\n",
    "    - DataLoader=> Dataset 인스턴스를 사용해서 배치크기 만큼 데이터를 추출함"
   ]
  },
  {
   "cell_type": "code",
   "execution_count": 15,
   "metadata": {},
   "outputs": [],
   "source": [
    "import torch\n",
    "import torch.nn as nn\n",
    "import torch.nn.functional as F\n",
    "import torch.optim as optim\n",
    "from torchmetrics.classification import F1Score\n",
    "from sklearn.model_selection import train_test_split\n",
    "\n",
    "from torch.utils.data import Dataset, DataLoader\n",
    "from torchinfo import summary\n",
    "import pandas as pd\n",
    "from sklearn.preprocessing import LabelEncoder\n"
   ]
  },
  {
   "cell_type": "code",
   "execution_count": 2,
   "metadata": {},
   "outputs": [],
   "source": [
    "DATAFILE='../data/iris.csv'\n",
    "irisDF=pd.read_csv(DATAFILE)\n"
   ]
  },
  {
   "cell_type": "code",
   "execution_count": 3,
   "metadata": {},
   "outputs": [],
   "source": [
    "encoder=LabelEncoder()\n",
    "encoder.fit(irisDF['variety'])\n",
    "irisDF['variety']=encoder.transform(irisDF['variety'])"
   ]
  },
  {
   "cell_type": "code",
   "execution_count": null,
   "metadata": {},
   "outputs": [],
   "source": [
    "X_train, X_test, Y_train, Y_test= train_test_split(irisDF)"
   ]
  },
  {
   "cell_type": "markdown",
   "metadata": {},
   "source": [
    "[2] 사용자 정의 데이터셋 클래스 생성 <hr>"
   ]
  },
  {
   "cell_type": "code",
   "execution_count": 4,
   "metadata": {},
   "outputs": [],
   "source": [
    "# 클래스 목적: 학습용 데이터셋 텐서화 및 전처리\n",
    "# 클래스 이름: CustomDataset\n",
    "# 부모 클래스: torch.utils.data.Dataset\n",
    "# 매개변수: featureDF, TargetDF\n"
   ]
  },
  {
   "cell_type": "code",
   "execution_count": 5,
   "metadata": {},
   "outputs": [],
   "source": [
    "class CustomDataset(Dataset):\n",
    "    def __init__(self, featureDF, targetDF):\n",
    "        super().__init__()\n",
    "        self.featureDF=featureDF\n",
    "        self.targetDF=targetDF\n",
    "        self.n_rows=featureDF.shape[0]\n",
    "        self.n_features=featureDF.shape[1]\n",
    "        \n",
    "\n",
    "    # 데이터의 개수 반환 메서드\n",
    "    def __len__(self):\n",
    "        return self.n_rows\n",
    "    \n",
    "    # 특정 index의 데이터와 타겟 반환 메서드 => Tensor반환!\n",
    "    def __getitem__(self, idx):\n",
    "        featureTS= torch.FloatTensor(self.featureDF.iloc[idx].values)\n",
    "        targetTS= torch.FloatTensor(self.targetDF.iloc[idx].values)\n",
    "        return featureTS, targetTS"
   ]
  },
  {
   "cell_type": "code",
   "execution_count": 6,
   "metadata": {},
   "outputs": [],
   "source": [
    "def convertDataFrame(data_path, exit_header):\n",
    "    ext=data_path.split('.')[-1]\n",
    "    if ext == 'csv':\n",
    "        return pd.read_csv(data_path, header=0 if exit_header else None)\n",
    "    elif ext == 'json':\n",
    "        return pd.read_json(data_path,  header=0 if exit_header else None)\n",
    "    elif ext in ['xlsx', 'xls']:\n",
    "        return pd.read_excel(data_path,  header=0 if exit_header else None)\n",
    "    else:\n",
    "        return pd.read_table(data_path, header=0 if exit_header else None)"
   ]
  },
  {
   "cell_type": "code",
   "execution_count": null,
   "metadata": {},
   "outputs": [],
   "source": []
  },
  {
   "cell_type": "code",
   "execution_count": 7,
   "metadata": {},
   "outputs": [],
   "source": [
    "# 파일기반 데이터셋일 경우\n",
    "# 클래스이름: FileDataset\n",
    "# 매개변수: data_path, \n",
    "# 부모 클래스: utils.data.Dataset\n",
    "# ___________________________________________________________________________________________\n",
    "class FileDataset(Dataset):\n",
    "    def __init__(self, data_path):\n",
    "        super().__init__()\n",
    "        #확장자 추출\n",
    "        dataDF=convertDataFrame(data_path)\n",
    "        self.featuresDF=dataDF.colums[:-1]\n",
    "        self.targetDF= dataDF[dataDF.columns[-1]]\n",
    "        \n",
    "        self.n_features=self.featuresDF.shape[0]\n",
    "        self.n_rows= self.featuresDF.shape[1]\n",
    "\n",
    "\n",
    "    # 데이터의 개수 반환 메서드\n",
    "    def __len__(self):\n",
    "        return self.n_rows\n",
    "    \n",
    "    # 특정 index의 데이터와 타겟 반환 메서드 => Tensor반환!\n",
    "    def __getitem__(self, idx):\n",
    "        featureTS= torch.FloatTensor(self.featureDF.iloc[idx].values)\n",
    "        targetTS= torch.FloatTensor(self.targetDF.iloc[idx].values)\n",
    "        return featureTS, targetTS"
   ]
  },
  {
   "cell_type": "markdown",
   "metadata": {},
   "source": [
    "[3] 데이터셋 인스턴스 생성 <hr>"
   ]
  },
  {
   "cell_type": "code",
   "execution_count": 8,
   "metadata": {},
   "outputs": [
    {
     "name": "stdout",
     "output_type": "stream",
     "text": [
      "     variety\n",
      "0          0\n",
      "1          0\n",
      "2          0\n",
      "3          0\n",
      "4          0\n",
      "..       ...\n",
      "145        2\n",
      "146        2\n",
      "147        2\n",
      "148        2\n",
      "149        2\n",
      "\n",
      "[150 rows x 1 columns] (150, 4)\n"
     ]
    }
   ],
   "source": [
    "featureDF, targetDF= irisDF[irisDF.columns[:-1]], irisDF[[irisDF.columns[-1]]]\n",
    "print(targetDF, featureDF.shape)\n",
    "irisDF= CustomDataset(featureDF, targetDF)"
   ]
  },
  {
   "cell_type": "code",
   "execution_count": 9,
   "metadata": {},
   "outputs": [
    {
     "data": {
      "text/plain": [
       "(4, 150)"
      ]
     },
     "execution_count": 9,
     "metadata": {},
     "output_type": "execute_result"
    }
   ],
   "source": [
    "\n",
    "irisDF.n_features,irisDF.n_rows,"
   ]
  },
  {
   "cell_type": "markdown",
   "metadata": {},
   "source": [
    "[4] 데이터로더 인스턴스 생성\n"
   ]
  },
  {
   "cell_type": "code",
   "execution_count": 10,
   "metadata": {},
   "outputs": [],
   "source": [
    "# 필요한 것: Dataset 인스턴스, batch_size=1(기본)\n",
    "irisDL=DataLoader(irisDF, batch_size=10, shuffle=True)    #iterable"
   ]
  },
  {
   "cell_type": "markdown",
   "metadata": {},
   "source": [
    "[5] 모델 준비"
   ]
  },
  {
   "cell_type": "code",
   "execution_count": 11,
   "metadata": {},
   "outputs": [],
   "source": [
    "# 모델 이름: CustomModel\n",
    "# 부모 클래스: nn.Module\n",
    "# 매개변수: in_in, in_out, h_inout, h_cnt\n",
    "# 모델 구조\n",
    "# - 입력층: 입력 4개,  출력 10개, AF ReLU\n",
    "# - 은닉층: 입력 10개, 출력 30개, AF ReLU\n",
    "# - 출력층: 입력 30개, 출력 1개, AF X, softmax(다중분류)\n",
    "class CustomModel(nn.Module):\n",
    "    def __init__(self):\n",
    "        super().__init__()\n",
    "        self.in_layer= nn.Linear(4,10)\n",
    "        self.hidden_layer= nn.Linear(10,30)\n",
    "        self.out_layer= nn.Linear(30,1)\n",
    "    # 순방향 학습\n",
    "    def forward(self,x):\n",
    "        y= F.relu(self.in_layer(x))\n",
    "        y= F.relu(self.hidden_layer(y))\n",
    "        return self.out_layer(y)\n",
    "    "
   ]
  },
  {
   "cell_type": "code",
   "execution_count": 12,
   "metadata": {},
   "outputs": [
    {
     "data": {
      "text/plain": [
       "==========================================================================================\n",
       "Layer (type:depth-idx)                   Output Shape              Param #\n",
       "==========================================================================================\n",
       "CustomModel                              [2, 1]                    --\n",
       "├─Linear: 1-1                            [2, 10]                   50\n",
       "├─Linear: 1-2                            [2, 30]                   330\n",
       "├─Linear: 1-3                            [2, 1]                    31\n",
       "==========================================================================================\n",
       "Total params: 411\n",
       "Trainable params: 411\n",
       "Non-trainable params: 0\n",
       "Total mult-adds (M): 0.00\n",
       "==========================================================================================\n",
       "Input size (MB): 0.00\n",
       "Forward/backward pass size (MB): 0.00\n",
       "Params size (MB): 0.00\n",
       "Estimated Total Size (MB): 0.00\n",
       "=========================================================================================="
      ]
     },
     "execution_count": 12,
     "metadata": {},
     "output_type": "execute_result"
    }
   ],
   "source": [
    "#모델 인스턴스 생성\n",
    "model= CustomModel()\n",
    "summary(model, input_size=(2,4))\n"
   ]
  },
  {
   "cell_type": "code",
   "execution_count": 14,
   "metadata": {},
   "outputs": [],
   "source": [
    "# 검증\n",
    "def testing(model, X_val, Y_val):\n",
    "    X_val= torch.FloatTensor(X_val.values).to(DEVICE)\n",
    "    Y_val= torch.FloatTensor(Y_val.values).reshape(-1,1).to(DEVICE)\n",
    "    with torch.no_grad():\n",
    "        \n",
    "        pre_y= model(X_val)\n",
    "\n",
    "        loss=nn.CrossEntropyLoss()(pre_y, Y_val)\n",
    "\n",
    "        score=F1Score()(pre_y, Y_val)\n",
    "        return loss, score"
   ]
  },
  {
   "cell_type": "code",
   "execution_count": 48,
   "metadata": {},
   "outputs": [
    {
     "name": "stdout",
     "output_type": "stream",
     "text": [
      "tensor(-0., grad_fn=<DivBackward1>)\n",
      "tensor(-0., grad_fn=<DivBackward1>)\n",
      "tensor(-0., grad_fn=<DivBackward1>)\n",
      "tensor(-0., grad_fn=<DivBackward1>)\n",
      "tensor(-0., grad_fn=<DivBackward1>)\n",
      "tensor(-0., grad_fn=<DivBackward1>)\n",
      "tensor(-0., grad_fn=<DivBackward1>)\n",
      "tensor(-0., grad_fn=<DivBackward1>)\n",
      "tensor(-0., grad_fn=<DivBackward1>)\n",
      "tensor(-0., grad_fn=<DivBackward1>)\n",
      "tensor(-0., grad_fn=<DivBackward1>)\n",
      "tensor(-0., grad_fn=<DivBackward1>)\n",
      "tensor(-0., grad_fn=<DivBackward1>)\n",
      "tensor(-0., grad_fn=<DivBackward1>)\n",
      "tensor(-0., grad_fn=<DivBackward1>)\n"
     ]
    }
   ],
   "source": [
    "# 배치크기만큼 데이터와 타겟 추출해서 학습 진행\n",
    "loss_hist=[]\n",
    "score=[]\n",
    "for dataTS, targetTS in irisDL:  #1에포크\n",
    "    # print(dataTS) #확인용\n",
    "    # 학습\n",
    "    pre_y= model(dataTS)\n",
    "\n",
    "    # 손실계산\n",
    "    loss= nn.CrossEntropyLoss()(pre_y, targetTS)\n",
    "    loss_hist.append(loss)\n",
    "\n",
    "    # 최적화\n",
    "    \n",
    "    \n",
    "    \n",
    "    "
   ]
  },
  {
   "cell_type": "code",
   "execution_count": null,
   "metadata": {},
   "outputs": [],
   "source": []
  }
 ],
 "metadata": {
  "kernelspec": {
   "display_name": "PYTORCH_38",
   "language": "python",
   "name": "python3"
  },
  "language_info": {
   "codemirror_mode": {
    "name": "ipython",
    "version": 3
   },
   "file_extension": ".py",
   "mimetype": "text/x-python",
   "name": "python",
   "nbconvert_exporter": "python",
   "pygments_lexer": "ipython3",
   "version": "3.8.19"
  }
 },
 "nbformat": 4,
 "nbformat_minor": 2
}
