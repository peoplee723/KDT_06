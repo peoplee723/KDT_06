{
 "cells": [
  {
   "cell_type": "markdown",
   "metadata": {},
   "source": [
    "#### 사용자 정의 데이터셋\n",
    "- pytorch에서 딥러닝 시 대량의 데이터 사용에 따른 부하(H/w, s/w) 및 많은 시간 소요에 대한 해결책으로 제시\n",
    "- 대량 데이터셋 전용 처리 모듈 제공\n",
    "- DataSet과 DataLoader\n",
    "    - DataSet=> 데이터 전처리, 턴서화 등의 작업 진행\n",
    "    - DataLoader=> Dataset 인스턴스를 사용해서 배치크기 만큼 데이터를 추출함"
   ]
  },
  {
   "cell_type": "code",
   "execution_count": 17,
   "metadata": {},
   "outputs": [],
   "source": [
    "import torch\n",
    "import torch.nn as nn\n",
    "import torch.nn.functional as F\n",
    "from torch.utils.data import Dataset, DataLoader\n",
    "from torchinfo import summary\n",
    "import pandas as pd\n",
    "from sklearn.preprocessing import LabelEncoder\n"
   ]
  },
  {
   "cell_type": "code",
   "execution_count": 18,
   "metadata": {},
   "outputs": [],
   "source": [
    "DATAFILE='../data/iris.csv'\n",
    "irisDF=pd.read_csv(DATAFILE)\n"
   ]
  },
  {
   "cell_type": "code",
   "execution_count": 19,
   "metadata": {},
   "outputs": [],
   "source": [
    "encoder=LabelEncoder()\n",
    "encoder.fit(irisDF['variety'])\n",
    "irisDF['variety']=encoder.transform(irisDF['variety'])"
   ]
  },
  {
   "cell_type": "markdown",
   "metadata": {},
   "source": [
    "[2] 사용자 정의 데이터셋 클래스 생성 <hr>"
   ]
  },
  {
   "cell_type": "code",
   "execution_count": 20,
   "metadata": {},
   "outputs": [],
   "source": [
    "# 클래스 목적: 학습용 데이터셋 텐서화 및 전처리\n",
    "# 클래스 이름: CustomDataset\n",
    "# 부모 클래스: torch.utils.data.Dataset\n",
    "# 매개변수: featureDF, TargetDF\n"
   ]
  },
  {
   "cell_type": "code",
   "execution_count": 21,
   "metadata": {},
   "outputs": [],
   "source": [
    "class CustomDataset(Dataset):\n",
    "    def __init__(self, featureDF, targetDF):\n",
    "        super().__init__()\n",
    "        self.featureDF=featureDF\n",
    "        self.targetDF=targetDF\n",
    "        self.n_rows=featureDF.shape[0]\n",
    "        self.n_features=featureDF.shape[1]\n",
    "        \n",
    "\n",
    "    # 데이터의 개수 반환 메서드\n",
    "    def __len__(self):\n",
    "        return self.n_rows\n",
    "    \n",
    "    # 특정 index의 데이터와 타겟 반환 메서드 => Tensor반환!\n",
    "    def __getitem__(self, idx):\n",
    "        featureTS= torch.FloatTensor(self.featureDF.iloc[idx].values)\n",
    "        targetTS= torch.FloatTensor(self.targetDF.iloc[idx].values)\n",
    "        return featureTS, targetTS"
   ]
  },
  {
   "cell_type": "code",
   "execution_count": 22,
   "metadata": {},
   "outputs": [],
   "source": [
    "def convertDataFrame(data_path, exit_header):\n",
    "    ext=data_path.split('.')[-1]\n",
    "    if ext == 'csv':\n",
    "        return pd.read_csv(data_path, header=0 if exit_header else None)\n",
    "    elif ext == 'json':\n",
    "        return pd.read_json(data_path,  header=0 if exit_header else None)\n",
    "    elif ext in ['xlsx', 'xls']:\n",
    "        return pd.read_excel(data_path,  header=0 if exit_header else None)\n",
    "    else:\n",
    "        return pd.read_table(data_path, header=0 if exit_header else None)"
   ]
  },
  {
   "cell_type": "code",
   "execution_count": null,
   "metadata": {},
   "outputs": [],
   "source": []
  },
  {
   "cell_type": "code",
   "execution_count": 23,
   "metadata": {},
   "outputs": [],
   "source": [
    "# 파일기반 데이터셋일 경우\n",
    "# 클래스이름: FileDataset\n",
    "# 매개변수: data_path, \n",
    "# 부모 클래스: utils.data.Dataset\n",
    "# ___________________________________________________________________________________________\n",
    "class FileDataset(Dataset):\n",
    "    def __init__(self, data_path):\n",
    "        super().__init__()\n",
    "        #확장자 추출\n",
    "        dataDF=convertDataFrame(data_path)\n",
    "        self.featuresDF=dataDF.colums[:-1]\n",
    "        self.targetDF= dataDF[dataDF.columns[-1]]\n",
    "        \n",
    "        self.n_features=self.featuresDF.shape[0]\n",
    "        self.n_rows= self.featuresDF.shape[1]\n",
    "\n",
    "\n",
    "    # 데이터의 개수 반환 메서드\n",
    "    def __len__(self):\n",
    "        return self.n_rows\n",
    "    \n",
    "    # 특정 index의 데이터와 타겟 반환 메서드 => Tensor반환!\n",
    "    def __getitem__(self, idx):\n",
    "        featureTS= torch.FloatTensor(self.featureDF.iloc[idx].values)\n",
    "        targetTS= torch.FloatTensor(self.targetDF.iloc[idx].values)\n",
    "        return featureTS, targetTS"
   ]
  },
  {
   "cell_type": "markdown",
   "metadata": {},
   "source": [
    "[3] 데이터셋 인스턴스 생성 <hr>"
   ]
  },
  {
   "cell_type": "code",
   "execution_count": 24,
   "metadata": {},
   "outputs": [
    {
     "name": "stdout",
     "output_type": "stream",
     "text": [
      "(150, 1) (150, 4)\n"
     ]
    }
   ],
   "source": [
    "featureDF, targetDF= irisDF[irisDF.columns[:-1]], irisDF[[irisDF.columns[-1]]]\n",
    "print(targetDF.shape, featureDF.shape)\n",
    "irisDF= CustomDataset(featureDF, targetDF)"
   ]
  },
  {
   "cell_type": "code",
   "execution_count": 25,
   "metadata": {},
   "outputs": [
    {
     "data": {
      "text/plain": [
       "(4, 150)"
      ]
     },
     "execution_count": 25,
     "metadata": {},
     "output_type": "execute_result"
    }
   ],
   "source": [
    "\n",
    "irisDF.n_features,irisDF.n_rows,"
   ]
  },
  {
   "cell_type": "markdown",
   "metadata": {},
   "source": [
    "[4] 데이터로더 인스턴스 생성\n"
   ]
  },
  {
   "cell_type": "code",
   "execution_count": 26,
   "metadata": {},
   "outputs": [],
   "source": [
    "# 필요한 것: Dataset 인스턴스, batch_size=1(기본)\n",
    "irisDL=DataLoader(irisDF, batch_size=32)    #iterable"
   ]
  },
  {
   "cell_type": "code",
   "execution_count": 27,
   "metadata": {},
   "outputs": [
    {
     "data": {
      "text/plain": [
       "tensor([[0.],\n",
       "        [0.],\n",
       "        [0.],\n",
       "        [0.],\n",
       "        [0.],\n",
       "        [0.],\n",
       "        [0.],\n",
       "        [0.],\n",
       "        [0.],\n",
       "        [0.],\n",
       "        [0.],\n",
       "        [0.],\n",
       "        [0.],\n",
       "        [0.],\n",
       "        [0.],\n",
       "        [0.],\n",
       "        [0.],\n",
       "        [0.],\n",
       "        [0.],\n",
       "        [0.],\n",
       "        [0.],\n",
       "        [0.],\n",
       "        [0.],\n",
       "        [0.],\n",
       "        [0.],\n",
       "        [0.],\n",
       "        [0.],\n",
       "        [0.],\n",
       "        [0.],\n",
       "        [0.],\n",
       "        [0.],\n",
       "        [0.]])"
      ]
     },
     "execution_count": 27,
     "metadata": {},
     "output_type": "execute_result"
    }
   ],
   "source": [
    "targetTS"
   ]
  },
  {
   "cell_type": "code",
   "execution_count": 28,
   "metadata": {},
   "outputs": [
    {
     "name": "stdout",
     "output_type": "stream",
     "text": [
      "torch.Size([32, 4]) torch.Size([32, 1])\n"
     ]
    }
   ],
   "source": [
    "for dataTS, targetTS in irisDL:\n",
    "    print(dataTS.shape, targetTS.shape)\n",
    "    break"
   ]
  },
  {
   "cell_type": "code",
   "execution_count": null,
   "metadata": {},
   "outputs": [],
   "source": []
  }
 ],
 "metadata": {
  "kernelspec": {
   "display_name": "PYTORCH_38",
   "language": "python",
   "name": "python3"
  },
  "language_info": {
   "codemirror_mode": {
    "name": "ipython",
    "version": 3
   },
   "file_extension": ".py",
   "mimetype": "text/x-python",
   "name": "python",
   "nbconvert_exporter": "python",
   "pygments_lexer": "ipython3",
   "version": "3.8.19"
  }
 },
 "nbformat": 4,
 "nbformat_minor": 2
}
