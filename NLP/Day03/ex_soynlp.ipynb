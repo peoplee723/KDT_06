{
 "cells": [
  {
   "cell_type": "markdown",
   "metadata": {},
   "source": [
    "#### 한국어 형태소 분석기 - soynpl\n",
    "\n",
    "- 비지도학습 기반의 형태소 분석기\n",
    "- 미등록 토큰에 대한 처리가 좋은\n"
   ]
  },
  {
   "cell_type": "markdown",
   "metadata": {},
   "source": [
    "[1]  모듈 로딩 및 데이터 준비<hr>"
   ]
  },
  {
   "cell_type": "code",
   "execution_count": 1,
   "metadata": {},
   "outputs": [],
   "source": [
    "# 모듈 로딩\n",
    "from soynlp import DoublespaceLineCorpus"
   ]
  },
  {
   "cell_type": "code",
   "execution_count": 2,
   "metadata": {},
   "outputs": [],
   "source": [
    "# 데이터 로딩\n",
    "data_filename='../data/2016-10-20.txt'"
   ]
  },
  {
   "cell_type": "code",
   "execution_count": 3,
   "metadata": {},
   "outputs": [
    {
     "data": {
      "text/plain": [
       "(soynlp.utils.utils.DoublespaceLineCorpus, 30091)"
      ]
     },
     "execution_count": 3,
     "metadata": {},
     "output_type": "execute_result"
    }
   ],
   "source": [
    "# 파일에서 데이터 말뭉치(corpus) 생성\n",
    "data_corpus=DoublespaceLineCorpus(data_filename)\n",
    "type(data_corpus), len(data_corpus) #타입, 문서수"
   ]
  },
  {
   "cell_type": "code",
   "execution_count": 4,
   "metadata": {},
   "outputs": [
    {
     "name": "stdout",
     "output_type": "stream",
     "text": [
      "0\n",
      "\n",
      "1\n",
      "19  1990  52 1 22\n",
      "2\n",
      "오패산터널 총격전 용의자 검거 서울 연합뉴스 경찰 관계자들이 19일 오후 서울 강북구 오패산 터널 인근에서 사제 총기를 발사해 경찰을 살해한 용의자 성모씨를 검거하고 있다 성씨는 검거 당시 서바이벌 게임에서 쓰는 방탄조끼에 헬멧까지 착용한 상태였다 독자제공 영상 캡처 연합뉴스  서울 연합뉴스 김은경 기자 사제 총기로 경찰을 살해한 범인 성모 46 씨는 주도면밀했다  경찰에 따르면 성씨는 19일 오후 강북경찰서 인근 부동산 업소 밖에서 부동산업자 이모 67 씨가 나오기를 기다렸다 이씨와는 평소에도 말다툼을 자주 한 것으로 알려졌다  이씨가 나와 걷기 시작하자 성씨는 따라가면서 미리 준비해온 사제 총기를 이씨에게 발사했다 총알이 빗나가면서 이씨는 도망갔다 그 빗나간 총알은 지나가던 행인 71 씨의 배를 스쳤다  성씨는 강북서 인근 치킨집까지 이씨 뒤를 쫓으며 실랑이하다 쓰러뜨린 후 총기와 함께 가져온 망치로 이씨 머리를 때렸다  이 과정에서 오후 6시 20분께 강북구 번동 길 위에서 사람들이 싸우고 있다 총소리가 났다 는 등의 신고가 여러건 들어왔다  5분 후에 성씨의 전자발찌가 훼손됐다는 신고가 보호관찰소 시스템을 통해 들어왔다 성범죄자로 전자발찌를 차고 있던 성씨는 부엌칼로 직접 자신의 발찌를 끊었다  용의자 소지 사제총기 2정 서울 연합뉴스 임헌정 기자 서울 시내에서 폭행 용의자가 현장 조사를 벌이던 경찰관에게 사제총기를 발사해 경찰관이 숨졌다 19일 오후 6시28분 강북구 번동에서 둔기로 맞았다 는 폭행 피해 신고가 접수돼 현장에서 조사하던 강북경찰서 번동파출소 소속 김모 54 경위가 폭행 용의자 성모 45 씨가 쏜 사제총기에 맞고 쓰러진 뒤 병원에 옮겨졌으나 숨졌다 사진은 용의자가 소지한 사제총기  신고를 받고 번동파출소에서 김창호 54 경위 등 경찰들이 오후 6시 29분께 현장으로 출동했다 성씨는 그사이 부동산 앞에 놓아뒀던 가방을 챙겨 오패산 쪽으로 도망간 후였다  김 경위는 오패산 터널 입구 오른쪽의 급경사에서 성씨에게 접근하다가 오후 6시 33분께 풀숲에 숨은 성씨가 허공에 난사한 10여발의 총알 중 일부를 왼쪽 어깨 뒷부분에 맞고 쓰러졌다  김 경위는 구급차가 도착했을 때 이미 의식이 없었고 심폐소생술을 하며 병원으로 옮겨졌으나 총알이 폐를 훼손해 오후 7시 40분께 사망했다  김 경위는 외근용 조끼를 입고 있었으나 총알을 막기에는 역부족이었다  머리에 부상을 입은 이씨도 함께 병원으로 이송됐으나 생명에는 지장이 없는 것으로 알려졌다  성씨는 오패산 터널 밑쪽 숲에서 오후 6시 45분께 잡혔다  총격현장 수색하는 경찰들 서울 연합뉴스 이효석 기자 19일 오후 서울 강북구 오패산 터널 인근에서 경찰들이 폭행 용의자가 사제총기를 발사해 경찰관이 사망한 사건을 조사 하고 있다  총 때문에 쫓던 경관들과 민간인들이 몸을 숨겼는데 인근 신발가게 직원 이모씨가 다가가 성씨를 덮쳤고 이어 현장에 있던 다른 상인들과 경찰이 가세해 체포했다  성씨는 경찰에 붙잡힌 직후 나 자살하려고 한 거다 맞아 죽어도 괜찮다 고 말한 것으로 전해졌다  성씨 자신도 경찰이 발사한 공포탄 1발 실탄 3발 중 실탄 1발을 배에 맞았으나 방탄조끼를 입은 상태여서 부상하지는 않았다  경찰은 인근을 수색해 성씨가 만든 사제총 16정과 칼 7개를 압수했다 실제 폭발할지는 알 수 없는 요구르트병에 무언가를 채워두고 심지를 꽂은 사제 폭탄도 발견됐다  일부는 숲에서 발견됐고 일부는 성씨가 소지한 가방 안에 있었다\n",
      "3\n",
      "테헤란 연합뉴스 강훈상 특파원 이용 승객수 기준 세계 최대 공항인 아랍에미리트 두바이국제공항은 19일 현지시간 이 공항을 이륙하는 모든 항공기의 탑승객은 삼성전자의 갤럭시노트7을 휴대하면 안 된다고 밝혔다  두바이국제공항은 여러 항공 관련 기구의 권고에 따라 안전성에 우려가 있는 스마트폰 갤럭시노트7을 휴대하고 비행기를 타면 안 된다 며 탑승 전 검색 중 발견되면 압수할 계획 이라고 발표했다  공항 측은 갤럭시노트7의 배터리가 폭발 우려가 제기된 만큼 이 제품을 갖고 공항 안으로 들어오지 말라고 이용객에 당부했다  이런 조치는 두바이국제공항 뿐 아니라 신공항인 두바이월드센터에도 적용된다  배터리 폭발문제로 회수된 갤럭시노트7 연합뉴스자료사진\n",
      "4\n",
      "브뤼셀 연합뉴스 김병수 특파원 독일 정부는 19일 원자력발전소를 폐쇄하기로 함에 따라 원자력 발전소 운영자들에게 핵폐기물 처리를 지원하는 펀드에 235억 유로 260억 달러 29조 원 를 지불하도록 하는 계획을 승인했다고 언론들이 보도했다  앞서 독일은 5년 전 일본 후쿠시마 원전사태 이후 오는 2022년까지 원전 17기를 모두 폐쇄하기로 하고 오는 2050년까지 전기생산량의 80 를 재생에너지로 충당하는 것을 목표로 세웠다  이날 내각을 통과한 법안은 원전 운영자들이 원전 해체와 핵폐기물 처리를 위한 포장을 책임지고 정부는 핵폐기물 보관을 책임지도록 했다  독일 경제부는 전력회사들과 공식적인 접촉은 아직 합의되지 않았다고 밝혔다  독일 원자력 발전소 연합뉴스 자료사진\n",
      "5\n",
      "서울 연합뉴스 19일 서울 강북구에서 사제 총기범이 쏜 총탄에 숨진 김창호 54 경위의 생전 모습 김 경위는 의협심 강하고 솔선수범하는 참된 경찰관이었다는 평가를 받는다 2016 10 20 서울 강북경찰서 제공 연합뉴스\n"
     ]
    }
   ],
   "source": [
    "# 5개 내용(문서) 추출\n",
    "for idx, doc in enumerate(data_corpus):\n",
    "    print(f'{idx}\\n{doc}')\n",
    "    if idx==5: break"
   ]
  },
  {
   "cell_type": "markdown",
   "metadata": {},
   "source": [
    "- 단어추출<hr>"
   ]
  },
  {
   "cell_type": "code",
   "execution_count": 5,
   "metadata": {},
   "outputs": [],
   "source": [
    "from soynlp.word import WordExtractor"
   ]
  },
  {
   "cell_type": "code",
   "execution_count": 6,
   "metadata": {},
   "outputs": [],
   "source": [
    "# 인스턴스 생성\n",
    "wordExt=WordExtractor()"
   ]
  },
  {
   "cell_type": "code",
   "execution_count": 7,
   "metadata": {},
   "outputs": [
    {
     "name": "stdout",
     "output_type": "stream",
     "text": [
      "training was done. used memory 0.752 Gb\n"
     ]
    }
   ],
   "source": [
    "# 데이터를 제공해서 말뭉치 생성해야함 -> 학습\n",
    "wordExt.train(data_corpus)"
   ]
  },
  {
   "cell_type": "code",
   "execution_count": 8,
   "metadata": {},
   "outputs": [
    {
     "name": "stdout",
     "output_type": "stream",
     "text": [
      "all cohesion probabilities was computed. # words = 223348\n",
      "all branching entropies was computed # words = 361598\n",
      "all accessor variety was computed # words = 361598\n"
     ]
    }
   ],
   "source": [
    "# 단어추출\n",
    "result= wordExt.extract()\n",
    "\n",
    "\n",
    "# cohension (응집력)\n",
    "# - 문자열을 글자단위로 분리 => 다음 글자가 나올 확률의 누적곱\n",
    "\n",
    "# branching entropy\n",
    "# - 단어를 중간에 끊어서 다음에 나올 글자 예측\n",
    "# + 0에 가까울 수록 예측이 쉽다\n",
    "\n",
    "# accessor Variety\n",
    "# - 특정 문자열 다음에 나올 수 있는 글자 종류 예측\n"
   ]
  },
  {
   "cell_type": "markdown",
   "metadata": {},
   "source": [
    "- 토큰별 점수 확인<hr>"
   ]
  },
  {
   "cell_type": "code",
   "execution_count": 9,
   "metadata": {},
   "outputs": [
    {
     "data": {
      "text/plain": [
       "Scores(cohesion_forward=0.1943363253634125, cohesion_backward=0.07681159420289856, left_branching_entropy=3.165258188202937, right_branching_entropy=0.4251664085353198, left_accessor_variety=157, right_accessor_variety=41, leftside_frequency=4893, rightside_frequency=159)"
      ]
     },
     "execution_count": 9,
     "metadata": {},
     "output_type": "execute_result"
    }
   ],
   "source": [
    "result['연합']"
   ]
  },
  {
   "cell_type": "code",
   "execution_count": 10,
   "metadata": {},
   "outputs": [
    {
     "name": "stdout",
     "output_type": "stream",
     "text": [
      "0.5710254410737682\n",
      "3.892038729521627\n",
      "162\n"
     ]
    }
   ],
   "source": [
    "# 메서드를 통해 원하는 점수 속성값만 반환 가능\n",
    "print(result['연합뉴스'].cohesion_forward)\n",
    "print(result['연합뉴스'].right_branching_entropy)\n",
    "print(result['연합뉴스'].right_accessor_variety)"
   ]
  },
  {
   "cell_type": "markdown",
   "metadata": {},
   "source": [
    "문장의 토큰화<hr>\n",
    "- tokenizer 인스턴스 필요"
   ]
  },
  {
   "cell_type": "code",
   "execution_count": 11,
   "metadata": {},
   "outputs": [],
   "source": [
    "from soynlp.tokenizer import LTokenizer, RegexTokenizer"
   ]
  },
  {
   "cell_type": "code",
   "execution_count": 12,
   "metadata": {},
   "outputs": [
    {
     "data": {
      "text/plain": [
       "['안전성에', '문제있는', '스마트폰을', '휴대하고', '탑승할', '경우에', '압수한다']"
      ]
     },
     "execution_count": 12,
     "metadata": {},
     "output_type": "execute_result"
    }
   ],
   "source": [
    "tokenizer= LTokenizer()\n",
    "\n",
    "# 스코어가 주어지지 않은 경우\n",
    "tokenizer.tokenize(\"안전성에 문제있는 스마트폰을 휴대하고 탑승할 경우에 압수한다\")"
   ]
  },
  {
   "cell_type": "code",
   "execution_count": 15,
   "metadata": {},
   "outputs": [
    {
     "name": "stdout",
     "output_type": "stream",
     "text": [
      "희 Scores(cohesion_forward=0, cohesion_backward=0, left_branching_entropy=4.309349934850443, right_branching_entropy=3.741869066654355, left_accessor_variety=161, right_accessor_variety=179, leftside_frequency=1260, rightside_frequency=2843)\n",
      "밥 Scores(cohesion_forward=0, cohesion_backward=0, left_branching_entropy=3.5317791288372944, right_branching_entropy=3.0730708898003716, left_accessor_variety=55, right_accessor_variety=48, leftside_frequency=318, rightside_frequency=150)\n",
      "을 Scores(cohesion_forward=0, cohesion_backward=0, left_branching_entropy=5.290676413089728, right_branching_entropy=5.425005803779664, left_accessor_variety=927, right_accessor_variety=837, leftside_frequency=719, rightside_frequency=203217)\n",
      "밤 Scores(cohesion_forward=0, cohesion_backward=0, left_branching_entropy=2.8512419457069833, right_branching_entropy=3.1159559900695317, left_accessor_variety=78, right_accessor_variety=83, leftside_frequency=730, rightside_frequency=113)\n",
      "획 Scores(cohesion_forward=0, cohesion_backward=0, left_branching_entropy=2.2095213694450844, right_branching_entropy=3.2962319762473156, left_accessor_variety=32, right_accessor_variety=102, leftside_frequency=346, rightside_frequency=1228)\n",
      "덥 Scores(cohesion_forward=0, cohesion_backward=0, left_branching_entropy=1.7427157678757952, right_branching_entropy=1.4318105907237346, left_accessor_variety=10, right_accessor_variety=5, leftside_frequency=76, rightside_frequency=0)\n",
      "캉 Scores(cohesion_forward=0, cohesion_backward=0, left_branching_entropy=1.3862943611198906, right_branching_entropy=0.7963116401738131, left_accessor_variety=4, right_accessor_variety=3, leftside_frequency=14, rightside_frequency=7)\n",
      "꽁 Scores(cohesion_forward=0, cohesion_backward=0, left_branching_entropy=2.025483221463867, right_branching_entropy=1.4181724138495406, left_accessor_variety=9, right_accessor_variety=6, leftside_frequency=67, rightside_frequency=22)\n",
      "덧 Scores(cohesion_forward=0, cohesion_backward=0, left_branching_entropy=0.9530866719011932, right_branching_entropy=0.43113339542131635, left_accessor_variety=19, right_accessor_variety=13, leftside_frequency=1366, rightside_frequency=67)\n",
      "촬 Scores(cohesion_forward=0, cohesion_backward=0, left_branching_entropy=3.89756594771978, right_branching_entropy=0.007206354046472892, left_accessor_variety=107, right_accessor_variety=2, leftside_frequency=2222, rightside_frequency=0)\n",
      "딱 Scores(cohesion_forward=0, cohesion_backward=0, left_branching_entropy=2.454502477709327, right_branching_entropy=2.294709903279894, left_accessor_variety=37, right_accessor_variety=36, leftside_frequency=299, rightside_frequency=23)\n"
     ]
    }
   ],
   "source": [
    "count=0\n",
    "for w, s in result.items():\n",
    "    print(w, s)\n",
    "    count+=1\n",
    "    if count>10: break"
   ]
  },
  {
   "cell_type": "code",
   "execution_count": 14,
   "metadata": {},
   "outputs": [],
   "source": [
    "scores = {word:score.cohesion_forward for word, score in result.items()}"
   ]
  },
  {
   "cell_type": "code",
   "execution_count": 16,
   "metadata": {},
   "outputs": [],
   "source": [
    "tokenizer=LTokenizer(scores=scores)"
   ]
  },
  {
   "cell_type": "code",
   "execution_count": 17,
   "metadata": {},
   "outputs": [
    {
     "data": {
      "text/plain": [
       "['안전',\n",
       " '성에',\n",
       " '문제',\n",
       " '있는',\n",
       " '스마트폰',\n",
       " '을',\n",
       " '휴대',\n",
       " '하고',\n",
       " '탑승',\n",
       " '할',\n",
       " '경우',\n",
       " '에',\n",
       " '압수',\n",
       " '한다']"
      ]
     },
     "execution_count": 17,
     "metadata": {},
     "output_type": "execute_result"
    }
   ],
   "source": [
    "tokenizer.tokenize(\"안전성에 문제있는 스마트폰을 휴대하고 탑승할 경우에 압수한다\")"
   ]
  }
 ],
 "metadata": {
  "kernelspec": {
   "display_name": "NLP",
   "language": "python",
   "name": "python3"
  },
  "language_info": {
   "codemirror_mode": {
    "name": "ipython",
    "version": 3
   },
   "file_extension": ".py",
   "mimetype": "text/x-python",
   "name": "python",
   "nbconvert_exporter": "python",
   "pygments_lexer": "ipython3",
   "version": "3.8.19"
  }
 },
 "nbformat": 4,
 "nbformat_minor": 2
}
