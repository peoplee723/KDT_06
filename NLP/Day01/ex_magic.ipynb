{
 "cells": [
  {
   "cell_type": "markdown",
   "metadata": {
    "vscode": {
     "languageId": "plaintext"
    }
   },
   "source": [
    "#### 매직코드(Magic_code)\n",
    "- 파이썬 시스템에서 특정 기능을 부여해서 미리 정의해둔 코드들\n",
    "- 종류\n",
    "    - 매직변수: ___ 변수명 __  (예:__ name __)\n",
    "    - 매직메서드: __ 함수명 __"
   ]
  },
  {
   "cell_type": "code",
   "execution_count": 19,
   "metadata": {},
   "outputs": [],
   "source": [
    "from typing import Any\n",
    "\n",
    "\n",
    "class A: #기본적으로 Object클래스를 상속받음 \n",
    "    def __init__(self, value) -> None:\n",
    "        self.value=value\n",
    "\n",
    "    # 인스턴스/객체 호출 시 실행되는 메서드\n",
    "    def __call__(self, data) -> Any:\n",
    "        print('__call__')\n",
    "        return self.value*data"
   ]
  },
  {
   "cell_type": "code",
   "execution_count": 20,
   "metadata": {},
   "outputs": [
    {
     "data": {
      "text/plain": [
       "__main__.A"
      ]
     },
     "execution_count": 20,
     "metadata": {},
     "output_type": "execute_result"
    }
   ],
   "source": [
    "people=A(123)\n",
    "A"
   ]
  },
  {
   "cell_type": "code",
   "execution_count": 23,
   "metadata": {},
   "outputs": [
    {
     "name": "stdout",
     "output_type": "stream",
     "text": [
      "__call__\n",
      "15129\n",
      "__call__\n"
     ]
    },
    {
     "data": {
      "text/plain": [
       "300"
      ]
     },
     "execution_count": 23,
     "metadata": {},
     "output_type": "execute_result"
    }
   ],
   "source": [
    "# 인스턴스 변수명으로 실행\n",
    "print(people(123))\n",
    "A(100)(3)\n"
   ]
  },
  {
   "cell_type": "markdown",
   "metadata": {},
   "source": [
    "#### Generator 살펴보기\n",
    "- 목적: 메모리 효율적 사용을 위해서\n",
    "- 특징: Iterator로써 반복기능 포함\n",
    "- 문법: yield키워드 함께 사용\n"
   ]
  },
  {
   "cell_type": "code",
   "execution_count": 25,
   "metadata": {},
   "outputs": [],
   "source": [
    "# 모듈 로딩\n",
    "import time \n"
   ]
  },
  {
   "cell_type": "code",
   "execution_count": 37,
   "metadata": {},
   "outputs": [],
   "source": [
    "# 사용자 정의 함수\n",
    "# 기능: 데이터 값을 반환하는 기능\n",
    "# 이름: returnData\n",
    "def returnData():\n",
    "    data=[]\n",
    "    for ch in ['apple', 'kiwi', 'orange']:\n",
    "        data.append(ch)\n",
    "        time.sleep(1)\n",
    "    return data"
   ]
  },
  {
   "cell_type": "code",
   "execution_count": 35,
   "metadata": {},
   "outputs": [],
   "source": [
    "# 사용자 정의 함수\n",
    "# 기능: 데이터 값을 반환하는 기능\n",
    "# 이름: yieldData\n",
    "def yieldData():\n",
    "    data=[]\n",
    "    for ch in ['apple', 'kiwi', 'orange']:\n",
    "        data.append(ch)\n",
    "        time.sleep(1)\n",
    "        yield data"
   ]
  },
  {
   "cell_type": "code",
   "execution_count": 46,
   "metadata": {},
   "outputs": [],
   "source": [
    "# 사용자 정의 함수\n",
    "# 기능: 데이터 값을 반환하는 기능\n",
    "# 이름: yieldData\n",
    "def yieldData2():\n",
    "    data= ['apple', 'kiwi', 'orange']\n",
    "    time.sleep(1)\n",
    "    yield from data\n"
   ]
  },
  {
   "cell_type": "code",
   "execution_count": 38,
   "metadata": {},
   "outputs": [
    {
     "data": {
      "text/plain": [
       "['apple', 'kiwi', 'orange']"
      ]
     },
     "execution_count": 38,
     "metadata": {},
     "output_type": "execute_result"
    }
   ],
   "source": [
    "returnData() #전부 다 담은 뒤 한꺼번에 반환"
   ]
  },
  {
   "cell_type": "code",
   "execution_count": 47,
   "metadata": {},
   "outputs": [
    {
     "name": "stdout",
     "output_type": "stream",
     "text": [
      "apple\n",
      "kiwi\n",
      "orange\n"
     ]
    }
   ],
   "source": [
    "for data in yieldData2(): #하나씩 반환\n",
    "    print(data)"
   ]
  },
  {
   "cell_type": "code",
   "execution_count": 49,
   "metadata": {},
   "outputs": [
    {
     "name": "stdout",
     "output_type": "stream",
     "text": [
      "showing info https://raw.githubusercontent.com/nltk/nltk_data/gh-pages/index.xml\n"
     ]
    },
    {
     "data": {
      "text/plain": [
       "True"
      ]
     },
     "execution_count": 49,
     "metadata": {},
     "output_type": "execute_result"
    }
   ],
   "source": [
    "import nltk\n",
    "nltk.__version__\n",
    "# nltk.download()"
   ]
  },
  {
   "cell_type": "code",
   "execution_count": null,
   "metadata": {},
   "outputs": [],
   "source": []
  }
 ],
 "metadata": {
  "kernelspec": {
   "display_name": "NLP",
   "language": "python",
   "name": "python3"
  },
  "language_info": {
   "codemirror_mode": {
    "name": "ipython",
    "version": 3
   },
   "file_extension": ".py",
   "mimetype": "text/x-python",
   "name": "python",
   "nbconvert_exporter": "python",
   "pygments_lexer": "ipython3",
   "version": "3.8.19"
  }
 },
 "nbformat": 4,
 "nbformat_minor": 2
}
